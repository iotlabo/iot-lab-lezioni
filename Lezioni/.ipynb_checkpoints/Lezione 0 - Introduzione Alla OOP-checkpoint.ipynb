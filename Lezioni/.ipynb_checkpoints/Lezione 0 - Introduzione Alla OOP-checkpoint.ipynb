{
 "cells": [
  {
   "cell_type": "markdown",
   "metadata": {},
   "source": [
    "# Introduzione: La programmazione orientata agli oggetti\n",
    "\n",
    "## Linguaggio procedurale ed OO\n",
    "\n",
    "Il materiale qui riportato è stato preso dal seguente sito: http://www.andreaminini.com/informatica/programmazione/programmazione-oggetti-object-oriented\n",
    "\n",
    "<p>La programmazione orientata agli oggetti &egrave; un modo alternativo per affrontare un problema computazionale che riduce il numero di istruzioni nel programma. E' anche indicata con la sigla OO (  Object Oriented )</p>\n",
    "\n",
    "<!-- http://www.andreaminini.com/informatica/programmazione/programmazione-oggetti-object-oriented --><p class=\"codice\"><b>Come funziona la programmazione a oggetti?</b> Nella programmazione procedurale tradizionale devo scrivere tutte le assegnazioni per ogni oggetto (dato).  Nella programmazione a oggetti, invece, mi basta assegnare le propriet&agrave; a una classe. Poi associo ogni oggetto alla classe e l'oggetto eredita automaticamente tutte le propriet&agrave; della classe.<br />\n",
    "\n",
    "<img src=\"http://www.andreaminini.com/data/andreaminini/differenza-programmazione-procedurale-e-orientata-oggetti.gif\" alt=\"la differenza tra la programmazione procedurale e la programmazione orientata agli oggetti\" /></p>\n",
    "\n",
    "<div id=indicearticolo><ul><li><a href=\"#le_classi,_gli_oggetti_e_gli_attributi\" title=\"LE CLASSI, GLI OGGETTI E GLI ATTRIBUTI\">Le classi, gli oggetti e gli attributi</a></li><li><a href=\"#l'ereditariet&agrave;_degli_attributi_e_dei_metodi\" title=\"L'EREDITARIET&AGRAVE; DEGLI ATTRIBUTI E DEI METODI\">L'ereditariet&agrave; degli attributi e dei metodi</a></li><li><a href=\"#un_esempio_pratico\" title=\"UN ESEMPIO PRATICO\">Un esempio pratico</a></li></ul></div><h2>Le classi, gli oggetti e gli attributi</h2>\n",
    "\n",
    "<span class=\"anchor\" id=\"le_classi,_gli_oggetti_e_gli_attributi\"></span><p><b>Cos'&egrave; una classe?</b></p>\n",
    "\n",
    "<p>Una classe &egrave; una famiglia di oggetti che ne definisce le propriet&agrave;.</p>\n",
    "\n",
    "<p>Definisce le caratteristiche generali di un insieme di dati.</p>\n",
    "\n",
    "<!-- http://www.andreaminini.com/informatica/programmazione/programmazione-oggetti-object-oriented --><p><img src=\"http://www.andreaminini.com/data/andreaminini/esempio-classe-oggetti.gif\" alt=\"un esempio di classe e due oggetti\" /></p>\n",
    "\n",
    "<p class=\"codice\"><b>Esempio</b>. La classe dei mammiferi definisce le caratteristiche comuni di tutti gli animali mammiferi.</p>\n",
    "\n",
    "<p><b>Cos'&egrave; un oggetto?</b></p>\n",
    "\n",
    "<p>Un oggetto &egrave; un dato o un'unit&agrave; indipendente di codice utilizzabile in pi&ugrave; programmi diversi.</p>\n",
    "\n",
    "<p>Ogni oggetto pu&ograve; essere assegnato a una o pi&ugrave; classe.</p>\n",
    "\n",
    "<p><img src=\"http://www.andreaminini.com/data/andreaminini/esempio-classe-oggetti-2.gif\" alt=\"un esempio di appartenenza a due classi\" /></p>\n",
    "\n",
    "<p class=\"codice\"><b>Esempio</b>. Il gatto e il cane sono due &quot;oggetti&quot; assegnati alla classe dei mammiferi. Contemporaneamente, possono anche essere assegnati alla classe degli animali carnivori. Vale la pena ricordare che nella programmazione informatica un oggetto &egrave; un dato e pu&ograve; essere qualsiasi cosa materiale o non materiale, vivente o non vivente. Quindi, anche un animale &egrave; un oggetto.</p>\n",
    "\n",
    "<p><b>Cosa sono gli attributi?</b></p>\n",
    "\n",
    "<p>Ogni classe &egrave; costituita da attributi (propriet&agrave;) comuni a tutti gli oggetti appartenenti alla classe.</p>\n",
    "\n",
    "<p>A ogni attributo &egrave; assegnato un valore che pu&ograve; variare da un oggetto a un altro.</p>\n",
    "\n",
    "<p>Per questa ragione sono anche dette <b>variabili-istanza</b>.</p>\n",
    "\n",
    "<p><img src=\"http://www.andreaminini.com/data/andreaminini/esempio-classe-attributi-metodi.gif\" alt=\"esempio classi attributi e metodi\" /></p>\n",
    "\n",
    "<p class=\"codice\"><b>Esempio</b>. La classe delle automobili &egrave; composta dagli attributi &quot;cilindrata&quot;, &quot;alimentazione, &quot;trazione&quot;, &quot;colore&quot;, &quot;peso&quot;, &quot;marca&quot;.  Ogni oggetto appartenente alla classe delle automobili condivide lo stesso elenco di attributi. Tuttavia,  pu&ograve; avere valori diversi assegnati agli attributi. Nell'esempio precedente i due oggetti hanno lo stesso valore soltanto nell'attributo &quot;trazione&quot; mentre negli altri due attributi hanno valori diversi.</p>\n",
    "\n",
    "<p><b>Cosa sono i metodi?</b><br />\n",
    "\n",
    "<br />\n",
    "\n",
    "A ogni classe sono associati anche i metodi.<br />\n",
    "\n",
    "<br />\n",
    "\n",
    "Un metodo &egrave; una funzione che definisce il comportamento degli oggetti.</p>\n",
    "\n",
    "<p class=\"codice\"><b>Esempio</b>. La classe degli esseri viventi &egrave; assegnata ai metodi nasce, muore, si riproduce, ecc. La classe delle automobili ai metodi parcheggiare, trasportare, viaggiare, ecc.</p>\n",
    "\n",
    "<h2>L'ereditariet&agrave; degli attributi e dei metodi</h2>\n",
    "\n",
    "<span class=\"anchor\" id=\"l'ereditariet&agrave;_degli_attributi_e_dei_metodi\"></span><p>Una delle caratteristiche della programmazione a oggetti &egrave; l'ereditariet&agrave;.</p>\n",
    "\n",
    "<p>Gli oggetti appartenenti a una classe ereditano gli attributi e i metodi della classe.</p>\n",
    "\n",
    "<p><img src=\"http://www.andreaminini.com/data/andreaminini/ereditarieta-attributi-metodi-classi-oggetti.gif\" alt=\"l'ereditariet&agrave; degli attributi e dei metodi\" /></p>\n",
    "\n",
    "<p class=\"codice\"><b>A  cosa serve?</b> Grazie all'ereditariet&agrave; &egrave; pi&ugrave; facile definire gli oggetti. Devo solo associare gli oggetti alle classi e aggiungere eventualmente le caratteristiche particolari di ogni singolo oggetto.</p>\n",
    "\n",
    "<p><b>Le sottoclassi e le superclassi<br />\n",
    "\n",
    "</b></p>\n",
    "\n",
    "<p>Anche una classe pu&ograve; appartenere ad altre classi ( dette <i>superclassi</i> ) ed ereditare metodi e attributi.</p>\n",
    "\n",
    "<p>In questo caso &egrave; detta <i>sottoclasse</i>.</p>\n",
    "\n",
    "<p><img src=\"http://www.andreaminini.com/data/andreaminini/superclassi-sottoclassi-esempio.gif\" alt=\"le sottoclassi e le superclassi\" /></p>\n",
    "\n",
    "<p class=\"codice\"><b>Esempio</b>. La classe dei mammiferi &egrave; una sottoclasse degli animali. Eredita dalla  classe degli animali molti attributi e metodi, senza doverli scrivere due volte ( es. durata della vita, riproduzione, ecc. ).</p>\n",
    "\n",
    "<p>L'ereditariet&agrave; caratterizza tutti i linguaggi basati sulla programmazione a oggetti. <br />\n",
    "\n",
    "<br />\n",
    "\n",
    "Possono comunque esserci delle differenze.</p>\n",
    "\n",
    "<p class=\"codice\"><b>Esempio</b>. Il linguaggio C++ ad esempio adotta l'ereditariet&agrave; multipla, ogni classe pu&ograve; avere pi&ugrave; superclassi. Il linguaggio Java, invece, usa l'ereditariet&agrave; singola, ogni classe pu&ograve; avere soltanto una superclasse.</p>\n",
    "\n",
    "Nel caso del python si possono avere più superclassi, \n",
    "\n",
    "<h2>Un esempio pratico</h2>\n",
    "\n",
    "<span class=\"anchor\" id=\"un_esempio_pratico\"></span><p>Creo la <b>classe</b> &quot;mammifero&quot;.</p>\n",
    "\n",
    "<p>Poi definisco una <b>propriet&agrave;</b> ( &quot;genere&quot; ) della classe e gli assegno un valore ( &quot;animale&quot; ).</p>\n",
    "\n",
    "<p class=\"codice\">mammifero.genere=animale</p>\n",
    "\n",
    "<p>Definisco un'altra propriet&agrave; ( &quot;essere-vivente&quot; ) della classe per indicare se si tratta di un essere vivente oppure no.</p>\n",
    "\n",
    "<p class=\"codice\">mammifero.essere-vivente=si</p>\n",
    "\n",
    "<p>A questo punto, apro un'istanza ( &quot;gatto&quot; ) e la associo alla classe ( &quot;mammifero&quot; ).</p>\n",
    "\n",
    "<p class=\"codice\">gatto=mammifero()</p>\n",
    "\n",
    "<p>L'istanza eredita immediatamente tutte le propriet&agrave; della classe a cui &egrave; associata.</p>\n",
    "\n",
    "<p><img src=\"http://www.andreaminini.com/data/andreaminini/programmazione-a-oggetti-esempio.gif\" alt=\"un esempio di programmazione a oggetti\" /></p>\n",
    "\n",
    "<p>Pertanto, se chiedo la propriet&agrave; &quot;genere&quot; dell'oggetto &quot;gatto&quot;,  il programma restituisce &quot;animale&quot;.</p>\n",
    "\n",
    "<p class=\"codice\">gatto.genere=animale<br />\n",
    "\n",
    "gatto.essere-vivente=si</p>\n",
    "\n",
    "<p>Inoltre, se chiedo la propriet&agrave; &quot;essere-vivente&quot; dell'oggetto &quot;gatto&quot;, il programma restituisce &quot;si&quot;.</p>\n",
    "\n",
    "<p>In pratica, l'oggetto &quot;gatto&quot; ha ereditato la propriet&agrave; &quot;genere&quot; e &quot;essere-vivente&quot; dalla classe &quot;mammifero&quot;.</p>\n",
    "\n",
    "<h3>Qual &egrave; il vantaggio del linguaggio a oggetti?</h3>\n",
    "\n",
    "<p>In un linguaggio procedurale avrei dovuto scrivere due istruzioni per associare alla variabile &quot;gatto&quot; le informazioni &quot;mammifero&quot; e &quot;essere vivente&quot;.</p>\n",
    "\n",
    "<p>Con la programmazione a oggetti, invece, &egrave; bastato un solo passaggio.</p>\n",
    "\n",
    "<p class=\"codice\"><b>Nota</b>. Quando gli oggetti sono migliaia e le propriet&agrave; sono centinaia, diventa considerevole il vantaggio del linguaggio a oggetti rispetto a quello procedurale.</p>\n",
    "\n",
    "<p><img src=\"http://www.andreaminini.com/data/andreaminini/programmazione-a-oggetti-esempio-2.gif\" alt=\"lo schema della programmazione per classi, istanze e propriet&agrave;\" /></p>\n",
    "\n",
    "<p><b>Un esempio pratico</b></p>\n",
    "\n",
    "<p>Se dovessi assegnare 10 propriet&agrave; a ogni oggetto, con il linguaggio a oggetti agirei nel seguente modo:</p>\n",
    "\n",
    "- creo una classe\n",
    "- digito le 10 proprietà della classe\n",
    "- associo ogni oggetto alla classe.\n",
    "\n",
    "\n",
    "\n",
    "<p>In questo modo, evito di dover scrivere decine di assegnazioni per ogni singolo oggetto.</p>\n",
    "\n",
    "<p><img src=\"http://www.andreaminini.com/data/andreaminini/vantaggio-linguaggio-programmazione-a-oggetto.gif\" alt=\"il numero delle operazioni di assegnazioni nella programmazione a oggetti e procedurale\" /></p>\n",
    "\n",
    "<p class=\"codice\"><b>Esempio</b>. Se dovessi assegnare 10 propriet&agrave; comuni agli oggetti &ldquo;gatto&rdquo;, &ldquo;cane&rdquo; e &ldquo;cavallo&rdquo;, con il linguaggio procedurale dovrei scrivere 30 assegnazioni (10+10+10). Con il linguaggio orientato agli oggetti ne bastano 13 (10+1+1+1). Quanto pi&ugrave; sono i dati da assegnare, tanto maggiore &egrave; il vantaggio della programmazione a oggetti.</p>        <!-- google_ad_section_end -->\n"
   ]
  },
  {
   "cell_type": "markdown",
   "metadata": {},
   "source": [
    "# Esempio in Python\n",
    "\n",
    "Proviamo ora a vedere un esempio di implementazione in Python della classe Mammifero(). Non spaventatevi se la sintassi è nuova, impareremo più avanti come creare le classi. Questo ci serve solo come esempio\n",
    "\n",
    "## Creazione di un oggetto \"Gatto\" di tipo (classe) \"Mammifero\""
   ]
  },
  {
   "cell_type": "code",
   "execution_count": 82,
   "metadata": {},
   "outputs": [],
   "source": [
    "class Mammifero:\n",
    "    # Variabili di classe: sono le proprietà comuni a tutte le istanze\n",
    "    genere = \"animale\"\n",
    "    essere_vivente = \"si\"\n",
    "    \n",
    "    # Costruttore: operazioni eseguite quando viene creato l'oggetto (istanza)\n",
    "    def __init__(self, nome, ha_pelo, ha_coda, verso):\n",
    "        self.nome = nome\n",
    "        self.ha_pelo = ha_pelo\n",
    "        self.ha_coda = ha_coda\n",
    "        self.verso = verso\n",
    "        self.vivo = \"no\"\n",
    "        \n",
    "    # Definisco i metodi per il Mammifero (associati all'istanza)\n",
    "    def nascita(self):\n",
    "        self.vivo = \"si\"\n",
    "        print(\"È nato un nuovo {0} di nome '{1}'\".format(self.genere, self.nome))\n",
    "    def morte(self):\n",
    "        self.vivo = \"no\"\n",
    "        print(\"R.I.P. {0} di nome '{1}.\".format(self.genere, self.nome))\n",
    "    def stato_vita(self):\n",
    "        if self.vivo == \"si\":\n",
    "            print(\"È vivo!\")\n",
    "        else:\n",
    "            print(\"È morto!\")\n",
    "    def fai_verso(self):\n",
    "        print(\"{}: <<< {} >>>\".format(self.nome, self.verso))"
   ]
  },
  {
   "cell_type": "markdown",
   "metadata": {},
   "source": [
    "Adesso che abbiamo la classe, proviamo a creare un nuovo oggetto, ovvero una istanza della classe Mammifero a cui viene associato un nome. Questo oggetto avrà delle proprietà (attributi) comuni a tutti gli altri oggetti di tipo Mammifero ed altre proprietà che saranno esclusive della singola istanza (e che quindi la caratterizzano). Quando viene creato l'oggetto spesso vengono inizializzate alcune di queste proprietà: si tratta di variabili di istanza.\n",
    "**Proviamo a creare un GATTO!**"
   ]
  },
  {
   "cell_type": "code",
   "execution_count": 83,
   "metadata": {},
   "outputs": [],
   "source": [
    "gatto = Mammifero(nome=\"Micio Mao\", ha_pelo=\"si\", ha_coda=\"si\", verso=\"miaooooooo\")"
   ]
  },
  {
   "cell_type": "markdown",
   "metadata": {},
   "source": [
    "Vediamo che tipo di oggetto abbiamo creato:"
   ]
  },
  {
   "cell_type": "code",
   "execution_count": 84,
   "metadata": {},
   "outputs": [
    {
     "name": "stdout",
     "output_type": "stream",
     "text": [
      "<__main__.Mammifero object at 0x0000016DFD1605C0>\n"
     ]
    }
   ],
   "source": [
    "print(gatto)"
   ]
  },
  {
   "cell_type": "markdown",
   "metadata": {},
   "source": [
    "Nel nostro modello di animale il gatto deve ancora nascere, infatti se interroghiamo il metodo `stato_vita()` dell'oggetto"
   ]
  },
  {
   "cell_type": "code",
   "execution_count": 85,
   "metadata": {},
   "outputs": [
    {
     "name": "stdout",
     "output_type": "stream",
     "text": [
      "È morto!\n"
     ]
    }
   ],
   "source": [
    "gatto.stato_vita()"
   ]
  },
  {
   "cell_type": "markdown",
   "metadata": {},
   "source": [
    "Facciamo nascere il gatto e verifichiamo le sue proprietà"
   ]
  },
  {
   "cell_type": "code",
   "execution_count": 86,
   "metadata": {},
   "outputs": [
    {
     "name": "stdout",
     "output_type": "stream",
     "text": [
      "È nato un nuovo animale di nome 'Micio Mao'\n",
      "È vivo!\n",
      "Il genere del gatto è: animale\n",
      "È un essere vivente? si\n",
      "Ha il pelo? si\n",
      "Ha la coda? si\n"
     ]
    }
   ],
   "source": [
    "gatto.nascita()\n",
    "gatto.stato_vita()\n",
    "#Variabili comuni a tutti gli animali\n",
    "print(\"Il genere del gatto è: \" + gatto.genere)\n",
    "print(\"È un essere vivente? \" + gatto.essere_vivente)\n",
    "#Variabili di istanza\n",
    "print(\"Ha il pelo? \" + gatto.ha_pelo)\n",
    "print(\"Ha la coda? \" + gatto.ha_coda)"
   ]
  },
  {
   "cell_type": "markdown",
   "metadata": {},
   "source": [
    "Facciamo fare al gatto il suo verso!"
   ]
  },
  {
   "cell_type": "code",
   "execution_count": 87,
   "metadata": {},
   "outputs": [
    {
     "name": "stdout",
     "output_type": "stream",
     "text": [
      "Micio Mao: <<< miaooooooo >>>\n"
     ]
    }
   ],
   "source": [
    "gatto.fai_verso()"
   ]
  },
  {
   "cell_type": "markdown",
   "metadata": {},
   "source": [
    "Supponiamo ora di avere un altro gatto, Felix, creiamolo!"
   ]
  },
  {
   "cell_type": "code",
   "execution_count": 88,
   "metadata": {},
   "outputs": [
    {
     "name": "stdout",
     "output_type": "stream",
     "text": [
      "<__main__.Mammifero object at 0x0000016DFD177208>\n",
      "È nato un nuovo animale di nome 'Felix'\n",
      "È vivo!\n",
      "Ha il pelo? si\n",
      "Ha la coda? si\n"
     ]
    }
   ],
   "source": [
    "un_altro_gatto = Mammifero(nome=\"Felix\", ha_pelo=\"si\", ha_coda=\"si\", verso=\"miaooooooo\")\n",
    "print(un_altro_gatto)\n",
    "un_altro_gatto.nascita()\n",
    "un_altro_gatto.stato_vita()\n",
    "print(\"Ha il pelo? \" + un_altro_gatto.ha_pelo)\n",
    "print(\"Ha la coda? \" + un_altro_gatto.ha_coda)"
   ]
  },
  {
   "cell_type": "markdown",
   "metadata": {},
   "source": [
    "Supponiamo che a causa di un incidente il gatto rimanga senza coda e vogliamo aggiornare la sua istanza, basta cambiare la sua variabile di istanza `ha_coda`"
   ]
  },
  {
   "cell_type": "code",
   "execution_count": 89,
   "metadata": {},
   "outputs": [],
   "source": [
    "un_altro_gatto.ha_coda = \"no\""
   ]
  },
  {
   "cell_type": "markdown",
   "metadata": {},
   "source": [
    "Se ora confrontiamo i due gatti, possiamo vedere che il primo ha la coda, il secondo no. Si noti che la locazione di memoria non è cambiata, l'istanza di Felix è la stessa creata poco fa"
   ]
  },
  {
   "cell_type": "code",
   "execution_count": 90,
   "metadata": {},
   "outputs": [
    {
     "name": "stdout",
     "output_type": "stream",
     "text": [
      "Micio Mao - <__main__.Mammifero object at 0x0000016DFD1605C0>\n",
      "Ha la coda? si\n",
      "Felix - <__main__.Mammifero object at 0x0000016DFD177208>\n",
      "Ha la coda? no\n"
     ]
    }
   ],
   "source": [
    "print(gatto.nome + \" - \" + str(gatto))\n",
    "print(\"Ha la coda? \" + gatto.ha_coda)\n",
    "print(un_altro_gatto.nome + \" - \" + str(un_altro_gatto))\n",
    "print(\"Ha la coda? \" + un_altro_gatto.ha_coda)"
   ]
  },
  {
   "cell_type": "markdown",
   "metadata": {},
   "source": [
    "Chiamiamo il metodo `morte()` dei nostri mammiferi"
   ]
  },
  {
   "cell_type": "code",
   "execution_count": 91,
   "metadata": {},
   "outputs": [
    {
     "name": "stdout",
     "output_type": "stream",
     "text": [
      "R.I.P. animale di nome 'Micio Mao.\n",
      "R.I.P. animale di nome 'Felix.\n"
     ]
    }
   ],
   "source": [
    "gatto.morte()\n",
    "un_altro_gatto.morte()"
   ]
  },
  {
   "cell_type": "markdown",
   "metadata": {},
   "source": [
    "## Creazione di una classe \"Uomo\" che estende \"Mammifero\"\n",
    "\n",
    "Possiamo creare una classe Uomo() che eredita dalla classe Mammifero() tutte le peculiarità e ne aggiunge altre. Questo in OOP si chiama ereditarietà. Il nostro Uomo non è più solo un animale."
   ]
  },
  {
   "cell_type": "code",
   "execution_count": null,
   "metadata": {},
   "outputs": [],
   "source": [
    "class Uomo(Mammifero):\n",
    "    # Sovrascrivo il genere, non siamo più semplici animali\n",
    "    genere = \"Homo Sapiens\"\n",
    "    \n",
    "    # Definisco il costruttore, inizializzo le variabili della sovra-classe e quelle della classe \n",
    "    def __init__(self, nome, colore_pelle, colore_capelli, lingua_parlata):\n",
    "        super().__init__(nome, ha_pelo=\"no\", ha_coda=\"no\", verso=\"bla bla bla\")\n",
    "        self.colore_pelle = colore_pelle\n",
    "        self.colore_capelli = colore_capelli\n",
    "        self.lingua_parlata = lingua_parlata\n",
    "        \n",
    "    # Un metodo specifico dell'Uomo\n",
    "    def info_uomo(self):\n",
    "        print(\"{0} è un {1} con la pelle di colore {2}, i capelli di colore {3} e parla {4}.\".format(self.nome, \\\n",
    "            self.genere, self.colore_pelle, self.colore_capelli, self.lingua_parlata))\n",
    "        "
   ]
  },
  {
   "cell_type": "markdown",
   "metadata": {},
   "source": [
    "Creiamo il nostro uomo"
   ]
  },
  {
   "cell_type": "code",
   "execution_count": 92,
   "metadata": {},
   "outputs": [
    {
     "name": "stdout",
     "output_type": "stream",
     "text": [
      "<__main__.Uomo object at 0x0000016DFD125160>\n"
     ]
    }
   ],
   "source": [
    "vicino_di_casa = Uomo(\"Marcolino\", \"bianco\", \"castano\", \"italiano\")\n",
    "print(vicino_di_casa)"
   ]
  },
  {
   "cell_type": "markdown",
   "metadata": {},
   "source": [
    "Possiamo vedere che esistono gli stessi metodi e le stesse proprietà degli animali, usate anche per i gatti. Infatti Uomo eredita (estende) Mammifero. Rispetto a mammifero la property `genere` è stata sovrascritta, nella teoria della programmazione orientata agli oggetti questa azione prende il nome di *propery overriding*."
   ]
  },
  {
   "cell_type": "code",
   "execution_count": 93,
   "metadata": {},
   "outputs": [
    {
     "name": "stdout",
     "output_type": "stream",
     "text": [
      "È nato un nuovo Homo Sapiens di nome 'Marcolino'\n",
      "È vivo!\n",
      "Il genere è: Homo Sapiens\n",
      "È un essere vivente? si\n",
      "Ha il pelo? no\n",
      "Ha la coda? no\n",
      "Marcolino: <<< bla bla bla >>>\n"
     ]
    }
   ],
   "source": [
    "vicino_di_casa.nascita()\n",
    "vicino_di_casa.stato_vita()\n",
    "#Variabili comuni a tutti gli animali\n",
    "print(\"Il genere è: \" + vicino_di_casa.genere)\n",
    "print(\"È un essere vivente? \" + vicino_di_casa.essere_vivente)\n",
    "#Variabili di istanza\n",
    "print(\"Ha il pelo? \" + vicino_di_casa.ha_pelo)\n",
    "print(\"Ha la coda? \" + vicino_di_casa.ha_coda)\n",
    "vicino_di_casa.fai_verso()"
   ]
  },
  {
   "cell_type": "markdown",
   "metadata": {},
   "source": [
    "Ma essendo un Uomo ha anche il metodo proprio della sua classe"
   ]
  },
  {
   "cell_type": "code",
   "execution_count": 95,
   "metadata": {},
   "outputs": [
    {
     "name": "stdout",
     "output_type": "stream",
     "text": [
      "Marcolino è un Homo Sapiens con la pelle di colore bianco, i capelli di colore castano e parla italiano.\n"
     ]
    }
   ],
   "source": [
    "vicino_di_casa.info_uomo()"
   ]
  },
  {
   "cell_type": "markdown",
   "metadata": {},
   "source": [
    "Se proviamo a chiamare un metodo descritto in Uomo su un oggetto gatto descritto da Mammifero, otteniamo un errore:"
   ]
  },
  {
   "cell_type": "code",
   "execution_count": 96,
   "metadata": {},
   "outputs": [
    {
     "ename": "AttributeError",
     "evalue": "'Mammifero' object has no attribute 'info_uomo'",
     "output_type": "error",
     "traceback": [
      "\u001b[1;31m---------------------------------------------------------------------------\u001b[0m",
      "\u001b[1;31mAttributeError\u001b[0m                            Traceback (most recent call last)",
      "\u001b[1;32m<ipython-input-96-6062dd9d77f6>\u001b[0m in \u001b[0;36m<module>\u001b[1;34m()\u001b[0m\n\u001b[1;32m----> 1\u001b[1;33m \u001b[0mgatto\u001b[0m\u001b[1;33m.\u001b[0m\u001b[0minfo_uomo\u001b[0m\u001b[1;33m(\u001b[0m\u001b[1;33m)\u001b[0m\u001b[1;33m\u001b[0m\u001b[0m\n\u001b[0m",
      "\u001b[1;31mAttributeError\u001b[0m: 'Mammifero' object has no attribute 'info_uomo'"
     ]
    }
   ],
   "source": [
    "gatto.info_uomo()"
   ]
  },
  {
   "cell_type": "markdown",
   "metadata": {},
   "source": [
    "## Conclusioni\n",
    "\n",
    "Per adesso è tutto, torneremo sulle classi più avanti e proveremo a costruirne una come esercizio dopo aver visto le basi del linguaggio Python: variabili, strutture, cicli, funzioni... Con questi elementi riusciremo a capire meglio la sintassi usata qui sopra. Importante per ora è aver capito **la filosofia della Object Oriented Programming**"
   ]
  },
  {
   "cell_type": "code",
   "execution_count": 97,
   "metadata": {},
   "outputs": [
    {
     "name": "stdout",
     "output_type": "stream",
     "text": [
      "R.I.P. Homo Sapiens di nome 'Marcolino''.\n"
     ]
    }
   ],
   "source": [
    "vicino_di_casa.morte()"
   ]
  }
 ],
 "metadata": {
  "kernelspec": {
   "display_name": "Python 3",
   "language": "python",
   "name": "python3"
  },
  "language_info": {
   "codemirror_mode": {
    "name": "ipython",
    "version": 3
   },
   "file_extension": ".py",
   "mimetype": "text/x-python",
   "name": "python",
   "nbconvert_exporter": "python",
   "pygments_lexer": "ipython3",
   "version": "3.6.6"
  }
 },
 "nbformat": 4,
 "nbformat_minor": 2
}
