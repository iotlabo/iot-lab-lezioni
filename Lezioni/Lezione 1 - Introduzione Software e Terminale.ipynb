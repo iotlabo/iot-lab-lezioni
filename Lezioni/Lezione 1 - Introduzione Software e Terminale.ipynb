{
 "cells": [
  {
   "cell_type": "markdown",
   "metadata": {},
   "source": [
    "# Introduzione al Software usato e uso della shell\n",
    "\n",
    "## Pacchetto software Portable\n",
    "\n",
    "Se non lo avete già fatto scaricate il pacchetto software sul vostro computer, estraetelo in Documenti e create un collegamento sul desktop alla cartella appena estratta. Non cancellate o spostate i files in essa contenuti. I link funzionano solo se aperti da quella cartella.\n",
    "**Per scaricare il software cliccate [QUI](https://bit.ly/2Sa9e0z)**\n",
    "\n",
    "*** \n",
    "\n",
    "In questa lezione vedremo come utilizzare il pacchetto software a vostra disposizione in laboratorio per sperimentare con Python. Quando passeremo alla Raspberry avremo a disposizione degli strumenti analoghi (se non uguali, simili in funzionalità ed interfaccia). I tre \"tools\" fondamentali per il nostro corso, ed anche per un programmatore python e/o un data scientist, sono:\n",
    "- Un **terminale** per l'esecuzione dei comandi da tastiera\n",
    "- Un **ambiente interattivo REPL**, come quello che stiamo usando per le lezioni, per test, analisi del codice, realizzazione di report\n",
    "- Un **editor di codice o IDE** per la scrittura di codice su file e la realizzazione di progetti complessi, composti da più files, non necessariamente tutti in linguaggio python\n",
    "\n",
    "Il software che stiamo usando per questa lezione, **Jupyter Lab**, include tutti e tre i tools infatti ha a disposizione un terminale, l'ambiente interattivo è questo dove stiamo scrivendo codice Python, e presenta un editor di testo/codice, sebbene non sia molto evoluto come un vero [IDE](https://it.wikipedia.org/wiki/Integrated_development_environment) per programmatori multilinguaggio. Una funziona mancante nell'editor è infatti l'auto-completamento del codice ed i suggerimenti mentre si scrive, disponibili solo nei \"blocchi\" interattivi (premento i tasti **TAB** e **SHIFT+TAB**).\n",
    "Nel pacchetto software portable (non richiede installazione) che avete scaricato sui vostri computer sono contenuti:\n",
    "\n",
    "- **Jupyter Lab**, che useremo per il corso Python Base\n",
    "- **Visual Studio Code**, un editor di codice completo e multi-linguaggio, con completamento del codice e correttore ortografico. Lo potete usare per creare dei files python non interattivi oppure dei progetti complessi (più files) dove le funzioni interattive non vengono usate e dove è necessario un approfondito **debug** del codice. Magari nel corso lo apriremo solo qualche volta, ma è a vostra disposizione se volete provare da soli\n",
    "- **Spyder**, un IDE semplicistico che integra anche una console [REPL (Read Eval Print Loop)](https://it.wikipedia.org/wiki/Read%E2%80%93eval%E2%80%93print_loop) interattiva, molto più semplificata rispetto a Jupyter. Questo software è leggero e usato per matematica/analisi dati dalla comunità scientifica\n",
    "- **Bash Shell Emulator (Cmder)**, un terminale compatibile con i comandi **bash**, tipicamente utilizzati nei sistemi Linux, anche se il recente Windows Power Shell ne adotta alcuni. Ci sono diversi tipi di terminali, Windows 7, 8, 10 ne ha a disposizione due già installati, ma per avvicinarci un pochino a quello che sarà l'ambiente delle Raspberry (Linux) il pacchetto software è stato configurato con un terminale visivamente simile a quello di serie su un sistema Linux, che sfrutta appunto comandi in linguaggio BASH\n",
    "- Altri tools ereditati da WinPython, ambiente portable di sviluppo Python su cui si basa il pacchetto a vostra disposizione\n",
    "\n",
    "---"
   ]
  },
  {
   "cell_type": "markdown",
   "metadata": {},
   "source": [
    "> TASKS DELLA LEZIONE:\n",
    "  - [ ] Aprire Jupyter Lab, individuare gli elementi base (navigatore file, terminale, editor), prenderci familiarità per seguire la lezione, collegamento al GitHub del corso, salvataggio files in locale per la modifica\n",
    "  - [ ] Vedere i Terminali disponibili su Windows, provare ad aprirli e confrontarli con Cmder\n",
    "  - [ ] Provare Con Cmder alcuni comandi di uso comune che vedremo, per spostarsi tra le cartelle, copiare files, eseguire codice python\n",
    "  - [ ] Differenza tra codice interattivo e file usando la lezione introduttiva sugli oggetti come esempio\n",
    "  - [ ] Aprire VS Code ed individuare gli elementi fondamentali di qualsiasi IDE: Pannello Files/Cartelle, Terminale Integrato, Editor. Proveremo ad aprire un file python ed eseguirlo direttamente\n",
    "  "
   ]
  },
  {
   "cell_type": "markdown",
   "metadata": {},
   "source": [
    "## Funzioni di Jupyter Lab utili per iniziare\n",
    "\n",
    "Jupyter Lab è composto da:\n",
    "- File Explorer\n",
    "- GitHub Explorer\n",
    "- Barra Estensioni\n",
    "- Menu Principale \n",
    "- Interprete a Celle Funzionali\n",
    "- Editor di testo\n",
    "\n",
    "Ogni Cella in un file Jupyter può contenere:\n",
    "- Testo formattato in linguaggio HTML o in linguaggio [Markdown](https://www.makeuseof.com/tag/printable-markdown-cheat-sheet/), lo stesso usato su forum e blog online\n",
    "- Codice di programmazione Python\n",
    "- Codice di altro tipo (ad esempio comandi BASH) se specificato all'inizio della cella usando i \"Jupyter Magics\"\n",
    "- Testo grezzo, non formattato\n",
    "Il tipo della cella è selezionabile dal menu a tendina. \n",
    "\n",
    "Sono disponibili anche scorciatoie da tastiera per le operazioni comuni, [QUI](https://www.cheatography.com/weidadeyue/cheat-sheets/jupyter-notebook/pdf/) è disponibile un elenco. In sintesi:\n",
    "- ESC esce dalla dalla modalità \"edita cella\"\n",
    "- INVIO entra in modalità \"edita cella\" per la cella selezionata\n",
    "- Con le frecce ci si può spostare tra le celle\n",
    "- B crea una nuova cella vuota sotto, A la crea sopra\n",
    "- D D  (premere due volte D) elimina la cella selezionata\n",
    "- Selezionata una cella NON in modalità \"edita cella\": Y cambia il tipo in \"Codice\", M cambia il tipo in \"Markdown\"\n",
    "- Per eseguire il contenuto della cella, quando si è in modalità \"edita cella\": SHIFT+INVIO  oppure  CTRL+INVIO. La prima opzione crea una nuova cella Codice sotto se non ne esiste una, aperta in edit mode.\n",
    "\n",
    "Per la sintassi del linguaggio Markdown vedere questo link: https://www.makeuseof.com/tag/printable-markdown-cheat-sheet/"
   ]
  },
  {
   "cell_type": "markdown",
   "metadata": {},
   "source": [
    "## Scaricare le lezioni da GitHub: il comando git\n",
    "\n",
    "L'estensione GitHub di Jupyter permette di visualizzare le lezioni, eseguirle e fare veloci test di codice python **che non richiedano l'accesso in scrittura al filesystem**. Per poter lavorare sui files ed avere completo accesso a tutte le funzioni previste nelle lezioni, come la lezione di oggi, **è necessario scaricare in locale il GIT delle lezioni**\n",
    "\n",
    "Per scaricare il pacchetto di lezioni in locale usiamo il comando git nel terminale di Jupyterlab. In futuro vedremo meglio git, per ora limitatevi ad un copia e incolla del comando!\n",
    "\n",
    "```sh\n",
    "git clone https://github.com/iotlabo/iot-lab-lezioni.git\n",
    "```\n",
    "\n",
    "In futuro, quando avremo già la cartella delle lezioni creata, per poterla aggiornare e scaricare i nuovi contenuti in locale basta spostarsi in tale directory (`cd iot-lab-lezioni`) ed eseguire il comando\n",
    "\n",
    "```sh\n",
    "git reset --hard \n",
    "```\n",
    "\n",
    "**Attenzione:** I files che avete modificato senza cambiarci il nome verranno cancellati e sovrascritti con quelli presenti sul git. Se volete modificare dei files e mantenere le modifiche in locale, salvateli con nome ed aggiungete `_VostroNome` alla fine del nome del file. \n",
    "\n",
    "L'indirizzo del git delle lezioni si trova [QUI](https://github.com/iotlabo/iot-lab-lezioni/) e le lezioni sono consultabili anche da casa collegandosi al sito"
   ]
  },
  {
   "cell_type": "markdown",
   "metadata": {},
   "source": [
    "## Comandi utili BASH\n",
    "\n",
    "A [questo link](https://learncodethehardway.org/unix/bash_cheat_sheet.pdf) è possibile trovare un elenco di comandi utili in Linux, molti di questi comandi sono specifici per macchine Linux, ma a noi interessano solo i comandi principali di uso comune nei terminali: impareremo a spostarci da una directory all'altra, visualizzare il contenuto di una directory, creare una cartella, spostare, copiare, rinominare, cancellare un file/cartella, visualizzare i processi attivi... \n",
    "Più avanti nel corso, quando lavoreremo con le Raspberry, faremo anche una veloce introduzione a Linux ed all'hardware disponibile sulla Raspberry, ma dal punto di vista pratico potrete usare il terminale per spostarvi tra files e cartelle esattamente come vedremo oggi.\n",
    "> Il tasto TAB nei terminali permette l'autocompletamento di comandi e percorsi! Un doppio TAB presenta le opzioni disponibili\n",
    "\n",
    "Il BASH è un **linguaggio di scripting** a tutti gli effetti, ovvero sono disponibili costritti IF, cicli WHILE, variabili... Per poter eseguire procedure ed automatismi che coinvolgono files, cartelle ed applicazioni. Per chi volesse approfondirne la sintassi ecco un [LINK](https://devhints.io/bash). I files con estensione \".sh\" sono degli script che contengono codice in linguaggio BASH, analogamente ai files \".bat\" di Windows che contengono codice in linguaggio CMD (o ai files \".ps\" che contengono codice nel linguaggio Windows Power Shell\".\n",
    "\n",
    "> Jupyter Lab ha un terminale integrato, nel nostro pacchetto software è stato configurato per essere la shell Bash anzichè CMD (il terminale di default su Windows, detto anche Command Prompt). Jupyter è anche in grado di eseguire comandi shell direttamente dei blocchi di codice, ma dobbiamo specificare che quel blocco non è codice Python. **Per eseguire dei comandi nella shell bash è sufficinete mettere come prima riga nella cella il comando `%%sh`. Ogni cella è come se fosse un terminale che viene aperto ad inizio cella e chiuso alla fine. I vari comandi verranno mostrati con questo sistema ma voi siete invitati a provarli nel terminale direttamente!**\n",
    "\n",
    "> Per fare operazioni di questo tipo Jupyter mette a disposizione dei \"comandi speciali\" e dei \"descrittori di cella\" che eseguono particolari operazioni all'interno di Jupyter o definiscono un comportamento alternativo per una singola cella. Questi comandi sono chiamati [**Jupyter Magics**](https://ipython.readthedocs.io/en/stable/interactive/magics.html), vanno sempre messi come primo comando in una cella di codice ed iniziano con il carattere **%**. Per la lista dei Magics disponibili eseguire una cella con `%lsmagic`."
   ]
  },
  {
   "cell_type": "markdown",
   "metadata": {},
   "source": [
    "Vediamo la directory corrente, detta anche working directory, con il comando **`pwd`**"
   ]
  },
  {
   "cell_type": "code",
   "execution_count": 111,
   "metadata": {},
   "outputs": [
    {
     "name": "stdout",
     "output_type": "stream",
     "text": [
      "/e/IOTLab Developer Portable Alpha050218/IOTLab Developer Portable/DevApps_Portable/notebooks/GitHub/Lezioni\n"
     ]
    }
   ],
   "source": [
    "%%sh\n",
    "pwd"
   ]
  },
  {
   "cell_type": "markdown",
   "metadata": {},
   "source": [
    "Vediamo il contenuto della directory con **`ls`** oppure **`ls -alh`** per mostrare tutti i dettagli, compresi i files nascosti, in una tabella leggibile, incluse le dimensioni dei files"
   ]
  },
  {
   "cell_type": "code",
   "execution_count": 112,
   "metadata": {},
   "outputs": [
    {
     "name": "stdout",
     "output_type": "stream",
     "text": [
      "Lezione 0 - Introduzione Alla OOP.ipynb\n",
      "Lezione 1 - Introduzione Software e Terminale.ipynb\n",
      "Lezione 2 - Introduzione al Python.ipynb\n",
      "data\n",
      "images\n"
     ]
    }
   ],
   "source": [
    "%%sh\n",
    "ls"
   ]
  },
  {
   "cell_type": "code",
   "execution_count": 120,
   "metadata": {},
   "outputs": [
    {
     "name": "stdout",
     "output_type": "stream",
     "text": [
      "total 768K\n",
      "drwxr-xr-x 1 ruky8 197609   0 Feb 10 22:01 .\n",
      "drwxr-xr-x 1 ruky8 197609   0 Feb 10 21:13 ..\n",
      "drwxr-xr-x 1 ruky8 197609   0 Feb 10 22:01 .ipynb_checkpoints\n",
      "-rw-r--r-- 1 ruky8 197609 24K Feb 11 17:21 Lezione 0 - Introduzione Alla OOP.ipynb\n",
      "-rw-r--r-- 1 ruky8 197609 37K Feb 11 21:54 Lezione 1 - Introduzione Software e Terminale.ipynb\n",
      "-rw-r--r-- 1 ruky8 197609 79K Feb 11 20:43 Lezione 2 - Introduzione al Python.ipynb\n",
      "drwxr-xr-x 1 ruky8 197609   0 Feb 11 18:42 data\n",
      "drwxr-xr-x 1 ruky8 197609   0 Feb 10 22:01 images\n"
     ]
    }
   ],
   "source": [
    "%%sh\n",
    "ls -alh"
   ]
  },
  {
   "cell_type": "markdown",
   "metadata": {},
   "source": [
    "Proviamo a spostarci nella directory `data`, per farlo dobbiamo usare il comando **`cd`**, che permette di spostarsi nel filesystem usando path relativi ed anche path assoluti. Ecco alcuni esempi"
   ]
  },
  {
   "cell_type": "code",
   "execution_count": 121,
   "metadata": {},
   "outputs": [
    {
     "name": "stdout",
     "output_type": "stream",
     "text": [
      "/e/IOTLab Developer Portable Alpha050218/IOTLab Developer Portable/DevApps_Portable/notebooks/GitHub/Lezioni/data\n"
     ]
    }
   ],
   "source": [
    "%%sh\n",
    "# Mi sposto in data\n",
    "cd data\n",
    "# Verifico dove sono con pwd\n",
    "pwd"
   ]
  },
  {
   "cell_type": "markdown",
   "metadata": {},
   "source": [
    "Per tornare indietro, ovvero andare alla directory superiore, si deve usare il path **`..`**"
   ]
  },
  {
   "cell_type": "code",
   "execution_count": 123,
   "metadata": {},
   "outputs": [
    {
     "name": "stdout",
     "output_type": "stream",
     "text": [
      "/e/IOTLab Developer Portable Alpha050218/IOTLab Developer Portable/DevApps_Portable/notebooks/GitHub/Lezioni/data\n",
      "Torno Alla cartella Lezioni...\n",
      "/e/IOTLab Developer Portable Alpha050218/IOTLab Developer Portable/DevApps_Portable/notebooks/GitHub/Lezioni\n"
     ]
    }
   ],
   "source": [
    "%%sh\n",
    "cd data\n",
    "pwd\n",
    "# Echo è come un print()\n",
    "echo \"Torno Alla cartella Lezioni...\"\n",
    "# Torno nella cartella \"Lezioni\"\n",
    "cd ..\n",
    "# Controllo dove sono\n",
    "pwd"
   ]
  },
  {
   "cell_type": "markdown",
   "metadata": {},
   "source": [
    "Altri esempi nell'uso di `cd` sono i seguenti (**NB: questi path sono validi solo sul computer del docente, dipendono dalla cartella dove è stato scaricato Jupyter**)"
   ]
  },
  {
   "cell_type": "code",
   "execution_count": 124,
   "metadata": {},
   "outputs": [
    {
     "name": "stdout",
     "output_type": "stream",
     "text": [
      "/e/IOTLab Developer Portable Alpha050218/IOTLab Developer Portable\n",
      "Vado in data\n",
      "/e/IOTLab Developer Portable Alpha050218/IOTLab Developer Portable/DevApps_Portable/notebooks/GitHub/Lezioni/data\n",
      "Vado alla cartella images\n",
      "/e/IOTLab Developer Portable Alpha050218/IOTLab Developer Portable/DevApps_Portable/notebooks/GitHub/Lezioni/images\n"
     ]
    }
   ],
   "source": [
    "%%sh\n",
    "# posizionamento assoluto con path intero (quando ci sono spazi nel path usare le \"\")\n",
    "cd \"/e/IOTLab Developer Portable Alpha050218/IOTLab Developer Portable\"\n",
    "pwd\n",
    "echo \"Vado in data\"\n",
    "cd \"DevApps_Portable/notebooks/GitHub/Lezioni/data\"\n",
    "pwd\n",
    "echo \"Vado alla cartella images\"\n",
    "cd ../images\n",
    "pwd"
   ]
  },
  {
   "cell_type": "markdown",
   "metadata": {},
   "source": [
    "Vediamo ora come creare una cartella ed un file vuoto all'interno di essa, scrivere delle righe di testo senza aprire il file e leggerlo nel terminale"
   ]
  },
  {
   "cell_type": "code",
   "execution_count": 129,
   "metadata": {},
   "outputs": [
    {
     "name": "stdout",
     "output_type": "stream",
     "text": [
      "...Visualizzo file e cartelle...\n",
      "Lezione0_code.py\n",
      "una_cartella\n",
      "...Creo il file...\n",
      "total 0\n",
      "drwxr-xr-x 1 ruky8 197609 0 Feb 11 22:17 .\n",
      "drwxr-xr-x 1 ruky8 197609 0 Feb 11 18:42 ..\n",
      "-rw-r--r-- 1 ruky8 197609 0 Feb 11  2019 un_file.txt\n",
      "...Contenuto del file...\n"
     ]
    },
    {
     "name": "stderr",
     "output_type": "stream",
     "text": [
      "mkdir: cannot create directory 'una_cartella': File exists\n"
     ]
    }
   ],
   "source": [
    "%%sh\n",
    "cd data\n",
    "# Creo una cartella\n",
    "mkdir una_cartella\n",
    "# visualizzo i files e le cartelle\n",
    "echo \"...Visualizzo file e cartelle...\"\n",
    "ls\n",
    "# Entro nella cartella creata\n",
    "cd una_cartella\n",
    "# creo un file vuoto\n",
    "echo \"...Creo il file...\"\n",
    "touch un_file.txt\n",
    "# Listo i files\n",
    "ls -alh\n",
    "# leggo il file e stampo a schermo il contenuto\n",
    "echo \"...Contenuto del file...\"\n",
    "cat un_file.txt"
   ]
  },
  {
   "cell_type": "code",
   "execution_count": 141,
   "metadata": {},
   "outputs": [
    {
     "name": "stdout",
     "output_type": "stream",
     "text": [
      "...Scrivo il file...\n",
      "...Visualizzo il conteuto del file...\n",
      "Questa e' la prima riga del file\n",
      "Questa e' la seconda riga\n",
      "...Sovrascrivo il file con una nuova prima riga...\n",
      "...Visualizzo il conteuto del file...\n",
      "Una nuova prima riga\n",
      "aggiungo al file l'output del comando ls -alh\n",
      "...Visualizzo il conteuto del file...\n",
      "Una nuova prima riga\n",
      "total 256K\n",
      "drwxr-xr-x 1 ruky8 197609  0 Feb 11 22:17 .\n",
      "drwxr-xr-x 1 ruky8 197609  0 Feb 11 18:42 ..\n",
      "-rw-r--r-- 1 ruky8 197609 21 Feb 11  2019 un_file.txt\n",
      "...Cancello il file sovrascrivendo con una riga vuota...\n"
     ]
    }
   ],
   "source": [
    "%%sh\n",
    "cd data/una_cartella\n",
    "\n",
    "echo \"...Scrivo il file...\"\n",
    "# Si noti che > sovrascrive il file, mentre >> aggiunge senza sovrascrivere\n",
    "echo \"Questa e' la prima riga del file\" > un_file.txt\n",
    "echo \"Questa e' la seconda riga\" >> un_file.txt\n",
    "echo \"...Visualizzo il conteuto del file...\"\n",
    "cat un_file.txt\n",
    "echo \"...Sovrascrivo il file con una nuova prima riga...\"\n",
    "echo \"Una nuova prima riga\" > un_file.txt\n",
    "echo \"...Visualizzo il conteuto del file...\"\n",
    "cat un_file.txt\n",
    "echo \"aggiungo al file l'output del comando ls -alh\"\n",
    "ls -alh >> un_file.txt\n",
    "echo \"...Visualizzo il conteuto del file...\"\n",
    "cat un_file.txt\n",
    "echo \"...Cancello il file sovrascrivendo con una riga vuota...\"\n",
    "echo \"\" > un_file.txt"
   ]
  },
  {
   "cell_type": "markdown",
   "metadata": {},
   "source": [
    "Vediamo ora come spostare e rinominare un file: si usa il comando **`mv`** in entrambi i casi. Per copiare invece si usa il comando **`cp`**"
   ]
  },
  {
   "cell_type": "code",
   "execution_count": 146,
   "metadata": {},
   "outputs": [
    {
     "name": "stdout",
     "output_type": "stream",
     "text": [
      "...rinomino il file in test.txt...\n",
      "total 256K\n",
      "drwxr-xr-x 1 ruky8 197609 0 Feb 11 22:17 .\n",
      "drwxr-xr-x 1 ruky8 197609 0 Feb 11 18:42 ..\n",
      "-rw-r--r-- 1 ruky8 197609 1 Feb 11 22:34 test.txt\n",
      "Faccio due copie del file, una nella stessa cartella (cambiando il nome) ed una alla cartella superiore (mantenendo lo stesso nome)\n",
      "...Visualizzo il contenuto delle directory...\n",
      "total 512K\n",
      "drwxr-xr-x 1 ruky8 197609 0 Feb 11 22:17 .\n",
      "drwxr-xr-x 1 ruky8 197609 0 Feb 11 18:42 ..\n",
      "-rw-r--r-- 1 ruky8 197609 1 Feb 11  2019 copia_test.txt\n",
      "-rw-r--r-- 1 ruky8 197609 1 Feb 11 22:34 test.txt\n",
      "/e/IOTLab Developer Portable Alpha050218/IOTLab Developer Portable/DevApps_Portable/notebooks/GitHub/Lezioni/data\n",
      "total 512K\n",
      "drwxr-xr-x 1 ruky8 197609    0 Feb 11 18:42 .\n",
      "drwxr-xr-x 1 ruky8 197609    0 Feb 10 22:01 ..\n",
      "drwxr-xr-x 1 ruky8 197609    0 Feb 11 18:42 .ipynb_checkpoints\n",
      "-rw-r--r-- 1 ruky8 197609 3.1K Feb 11 18:46 Lezione0_code.py\n",
      "-rw-r--r-- 1 ruky8 197609    1 Feb 11  2019 test.txt\n",
      "drwxr-xr-x 1 ruky8 197609    0 Feb 11 22:17 una_cartella\n"
     ]
    }
   ],
   "source": [
    "%%sh\n",
    "cd data/una_cartella\n",
    "\n",
    "echo \"...rinomino il file in test.txt...\"\n",
    "mv un_file.txt test.txt\n",
    "ls -alh\n",
    "echo \"Faccio due copie del file, una nella stessa cartella (cambiando il nome) ed una alla cartella superiore (mantenendo lo stesso nome)\"\n",
    "cp test.txt copia_test.txt\n",
    "cp test.txt ..\n",
    "echo \"...Visualizzo il contenuto delle directory...\"\n",
    "ls -alh\n",
    "cd ..\n",
    "pwd\n",
    "ls -alh"
   ]
  },
  {
   "cell_type": "markdown",
   "metadata": {},
   "source": [
    "Infine manca ancora un comando, quello per eliminare files e cartelle. Per cancellare files e cartelle si usa **`rm`** per i files e **`rm -R`** (rimozione Ricorsiva) per le cartelle. Gruppi di files possono essere rimossi in contemporanea usando i caratteri Jolly, ad esempio per eliminare tutti i files con estensione .txt si può scrivere `rm *.txt`. Per rimuovere una CARTELLA VUOTA su può usare anche il comando `rmdir`."
   ]
  },
  {
   "cell_type": "code",
   "execution_count": 12,
   "metadata": {},
   "outputs": [],
   "source": [
    "%%sh\n",
    "rm data/test.txt\n",
    "rm -R data/una_cartella/\n",
    "cd data\n",
    "ls -alh"
   ]
  },
  {
   "cell_type": "markdown",
   "metadata": {},
   "source": [
    "Altri comandi utili per il terminale, sono quelli per comprimere/decomprimere una cartella:\n",
    "```sh\n",
    "#per comprimere una cartella e metterla in un archivio tar.gz (formato fompresso zippato usato sui sistemi Linux)\n",
    "tar -zcvf my_archive.tar.gz folder/\n",
    "#per decomprimere un file nella posizione corrente\n",
    "tar -zcvf my_archive.tar.gz\n",
    "#per decomprimere in una posizione specifica\n",
    "tar -zcvf my_archive.tar.gz Documents/\n",
    "```\n",
    "Anzichè tar.gz è possibile usare **zip** se installato nel sistema (nel nostro caso lo è) per creare un comune file zip:\n",
    "```sh\n",
    "#comprime una cartella e tuttol il suo contenuto in un file zip\n",
    "zip -r my_archive.zip folder/ \n",
    "#decomprime il file zip nella posizione corrente\n",
    "unzip my_archive.zip \n",
    "#decomprime il file in una posizione specificata\n",
    "unzip my_archive.zip -d Documents/\n",
    "```\n",
    "\n",
    "Per mostrare i processi in un sistema Linux si usa ad esempio il comando `ps -a` mentre per terminare forzatamente un processo viene usato il comando `kill -9 <PID>`. \n",
    "> Questi comandi funzionano anche nel terminale Jupyter ma sono poco utili in quanto, a causa dei permessi di sistema di Windows, non è permesso interagire con i processi di tutto il sistema, ma solo quelli creati all'interno di Jupyter"
   ]
  },
  {
   "cell_type": "markdown",
   "metadata": {},
   "source": [
    "## Eseguire programmi\n",
    "\n",
    "Uno script .sh oppure un eseguibile (in Windows può essere un file .exe) contenuti nella directory corrente possono essere eseguiti nel terminale anteponendo `./` al loro nome. Ad esempio uno script `my_script.sh` viene eseguito digitando\n",
    "```sh\n",
    "./my_script.sh\n",
    "```\n",
    "I comandi ed i programmi installati vengono eseguiti semplicemente invocando il loro nome, come nel caso dell'**interprete python** installato nel sistema. Per **eseguire** un file contenete codice Python è sufficiente scrivere\n",
    "```sh\n",
    "python nome_file.py\n",
    "```\n",
    "Nel caso in cui nel sistema è dotato di più versioni di python bisogna essere sicuri di usare la versione corretta per eseguire il nostro codice: programmi scritti per una versione recente dell'interprete potrebbero non funzionare con una versione più vecchia. È il caso di Python 2 e Python 3. Anche tra Python 3.5, 3.6 e 3.7 ci sono lievi differenze. Noi impareremo il **python 3.5**, su Linux però vengono installati sia Python 2 che 3, il primo associato al comando `python` ed il secondo associato al comando `python3` (salvo cambiamenti). Per eseguire con python 3 si deve specificare:\n",
    "```sh\n",
    "python3 nome_file.py\n",
    "```\n",
    "Per sapere la versione di python usata ed il relativo gestore pacchetti (vedremo più avanti cosa sono i pacchetti) si usano i comandi:\n",
    "```sh\n",
    "python -V\n",
    "python -m pip -V\n",
    "python3 -V\n",
    "python3 -m pip -V\n",
    "```\n",
    "**Non preoccupatevi, all'interno del terminale di Jupyter il comando `python` sarà sempre una versione 3 (3.5 o 3.6)**"
   ]
  },
  {
   "cell_type": "code",
   "execution_count": 1,
   "metadata": {},
   "outputs": [
    {
     "name": "stdout",
     "output_type": "stream",
     "text": [
      "Python 3.6.6\n",
      "pip 18.0 from E:\\IOTLab Developer Portable Alpha050218\\IOTLab Developer Portable\\DevApps_Portable\\python-3.6.6.amd64\\lib\\site-packages\\pip (python 3.6)\n"
     ]
    }
   ],
   "source": [
    "%%sh\n",
    "python -V\n",
    "python -m pip -V"
   ]
  },
  {
   "cell_type": "markdown",
   "metadata": {},
   "source": [
    "Per eseguire l'interprete REPL di Python, eseguite **IN UN TERMINALE** (NON con i Jupyter Magics) solo il comando `python` (o `python3` se è il caso). Per uscire dall'interprete premere `CTRL+Z e poi Invio` oppure eseguire il comando `exit()`.\n",
    "```sh\n",
    "python\n",
    ">>> exit()\n",
    "```"
   ]
  },
  {
   "cell_type": "code",
   "execution_count": 2,
   "metadata": {},
   "outputs": [
    {
     "name": "stdout",
     "output_type": "stream",
     "text": [
      "3.6.6 (v3.6.6:4cf1f54eb7, Jun 27 2018, 03:37:03) [MSC v.1900 64 bit (AMD64)]\n"
     ]
    }
   ],
   "source": [
    "# Per vedere la versone all'interno di un interprete\n",
    "import sys\n",
    "print(sys.version)"
   ]
  },
  {
   "cell_type": "markdown",
   "metadata": {},
   "source": [
    "## Eseguire codice Python da file\n",
    "\n",
    "Il codice usato nella lezione introduttiva sugli oggetti è stato copiato in un unico file Python per dimostrare la differenza tra **esecuzione diretta** ed esecuzione **interattiva**. Il file è il seguente (NB: abbiamo usato un Jupyter Magic per leggere un file e rappresentarlo con la sintassi colorata)"
   ]
  },
  {
   "cell_type": "code",
   "execution_count": 52,
   "metadata": {},
   "outputs": [
    {
     "data": {
      "text/plain": [
       "\u001b[1;32mclass\u001b[0m \u001b[0mMammifero\u001b[0m\u001b[1;33m:\u001b[0m\u001b[1;33m\n",
       "\u001b[0m    \u001b[1;31m# Variabili di classe: sono le proprietà comuni a tutte le istanze\u001b[0m\u001b[1;33m\n",
       "\u001b[0m    \u001b[0mgenere\u001b[0m \u001b[1;33m=\u001b[0m \u001b[1;34m\"animale\"\u001b[0m\u001b[1;33m\n",
       "\u001b[0m    \u001b[0messere_vivente\u001b[0m \u001b[1;33m=\u001b[0m \u001b[1;34m\"si\"\u001b[0m\u001b[1;33m\n",
       "\u001b[0m    \u001b[1;33m\n",
       "\u001b[0m    \u001b[1;31m# Costruttore: operazioni eseguite quando viene creato l'oggetto (istanza)\u001b[0m\u001b[1;33m\n",
       "\u001b[0m    \u001b[1;32mdef\u001b[0m \u001b[0m__init__\u001b[0m\u001b[1;33m(\u001b[0m\u001b[0mself\u001b[0m\u001b[1;33m,\u001b[0m \u001b[0mnome\u001b[0m\u001b[1;33m,\u001b[0m \u001b[0mha_pelo\u001b[0m\u001b[1;33m,\u001b[0m \u001b[0mha_coda\u001b[0m\u001b[1;33m,\u001b[0m \u001b[0mverso\u001b[0m\u001b[1;33m)\u001b[0m\u001b[1;33m:\u001b[0m\u001b[1;33m\n",
       "\u001b[0m        \u001b[0mself\u001b[0m\u001b[1;33m.\u001b[0m\u001b[0mnome\u001b[0m \u001b[1;33m=\u001b[0m \u001b[0mnome\u001b[0m\u001b[1;33m\n",
       "\u001b[0m        \u001b[0mself\u001b[0m\u001b[1;33m.\u001b[0m\u001b[0mha_pelo\u001b[0m \u001b[1;33m=\u001b[0m \u001b[0mha_pelo\u001b[0m\u001b[1;33m\n",
       "\u001b[0m        \u001b[0mself\u001b[0m\u001b[1;33m.\u001b[0m\u001b[0mha_coda\u001b[0m \u001b[1;33m=\u001b[0m \u001b[0mha_coda\u001b[0m\u001b[1;33m\n",
       "\u001b[0m        \u001b[0mself\u001b[0m\u001b[1;33m.\u001b[0m\u001b[0mverso\u001b[0m \u001b[1;33m=\u001b[0m \u001b[0mverso\u001b[0m\u001b[1;33m\n",
       "\u001b[0m        \u001b[0mself\u001b[0m\u001b[1;33m.\u001b[0m\u001b[0mvivo\u001b[0m \u001b[1;33m=\u001b[0m \u001b[1;34m\"no\"\u001b[0m\u001b[1;33m\n",
       "\u001b[0m        \u001b[1;33m\n",
       "\u001b[0m    \u001b[1;31m# Definisco i metodi per il Mammifero (associati all'istanza)\u001b[0m\u001b[1;33m\n",
       "\u001b[0m    \u001b[1;32mdef\u001b[0m \u001b[0mnascita\u001b[0m\u001b[1;33m(\u001b[0m\u001b[0mself\u001b[0m\u001b[1;33m)\u001b[0m\u001b[1;33m:\u001b[0m\u001b[1;33m\n",
       "\u001b[0m        \u001b[0mself\u001b[0m\u001b[1;33m.\u001b[0m\u001b[0mvivo\u001b[0m \u001b[1;33m=\u001b[0m \u001b[1;34m\"si\"\u001b[0m\u001b[1;33m\n",
       "\u001b[0m        \u001b[0mprint\u001b[0m\u001b[1;33m(\u001b[0m\u001b[1;34m\"È nato un nuovo {0} di nome '{1}'\"\u001b[0m\u001b[1;33m.\u001b[0m\u001b[0mformat\u001b[0m\u001b[1;33m(\u001b[0m\u001b[0mself\u001b[0m\u001b[1;33m.\u001b[0m\u001b[0mgenere\u001b[0m\u001b[1;33m,\u001b[0m \u001b[0mself\u001b[0m\u001b[1;33m.\u001b[0m\u001b[0mnome\u001b[0m\u001b[1;33m)\u001b[0m\u001b[1;33m)\u001b[0m\u001b[1;33m\n",
       "\u001b[0m    \u001b[1;32mdef\u001b[0m \u001b[0mmorte\u001b[0m\u001b[1;33m(\u001b[0m\u001b[0mself\u001b[0m\u001b[1;33m)\u001b[0m\u001b[1;33m:\u001b[0m\u001b[1;33m\n",
       "\u001b[0m        \u001b[0mself\u001b[0m\u001b[1;33m.\u001b[0m\u001b[0mvivo\u001b[0m \u001b[1;33m=\u001b[0m \u001b[1;34m\"no\"\u001b[0m\u001b[1;33m\n",
       "\u001b[0m        \u001b[0mprint\u001b[0m\u001b[1;33m(\u001b[0m\u001b[1;34m\"R.I.P. {0} di nome '{1}.\"\u001b[0m\u001b[1;33m.\u001b[0m\u001b[0mformat\u001b[0m\u001b[1;33m(\u001b[0m\u001b[0mself\u001b[0m\u001b[1;33m.\u001b[0m\u001b[0mgenere\u001b[0m\u001b[1;33m,\u001b[0m \u001b[0mself\u001b[0m\u001b[1;33m.\u001b[0m\u001b[0mnome\u001b[0m\u001b[1;33m)\u001b[0m\u001b[1;33m)\u001b[0m\u001b[1;33m\n",
       "\u001b[0m    \u001b[1;32mdef\u001b[0m \u001b[0mstato_vita\u001b[0m\u001b[1;33m(\u001b[0m\u001b[0mself\u001b[0m\u001b[1;33m)\u001b[0m\u001b[1;33m:\u001b[0m\u001b[1;33m\n",
       "\u001b[0m        \u001b[1;32mif\u001b[0m \u001b[0mself\u001b[0m\u001b[1;33m.\u001b[0m\u001b[0mvivo\u001b[0m \u001b[1;33m==\u001b[0m \u001b[1;34m\"si\"\u001b[0m\u001b[1;33m:\u001b[0m\u001b[1;33m\n",
       "\u001b[0m            \u001b[0mprint\u001b[0m\u001b[1;33m(\u001b[0m\u001b[1;34m\"È vivo!\"\u001b[0m\u001b[1;33m)\u001b[0m\u001b[1;33m\n",
       "\u001b[0m        \u001b[1;32melse\u001b[0m\u001b[1;33m:\u001b[0m\u001b[1;33m\n",
       "\u001b[0m            \u001b[0mprint\u001b[0m\u001b[1;33m(\u001b[0m\u001b[1;34m\"È morto!\"\u001b[0m\u001b[1;33m)\u001b[0m\u001b[1;33m\n",
       "\u001b[0m    \u001b[1;32mdef\u001b[0m \u001b[0mfai_verso\u001b[0m\u001b[1;33m(\u001b[0m\u001b[0mself\u001b[0m\u001b[1;33m)\u001b[0m\u001b[1;33m:\u001b[0m\u001b[1;33m\n",
       "\u001b[0m        \u001b[0mprint\u001b[0m\u001b[1;33m(\u001b[0m\u001b[1;34m\"{}: <<< {} >>>\"\u001b[0m\u001b[1;33m.\u001b[0m\u001b[0mformat\u001b[0m\u001b[1;33m(\u001b[0m\u001b[0mself\u001b[0m\u001b[1;33m.\u001b[0m\u001b[0mnome\u001b[0m\u001b[1;33m,\u001b[0m \u001b[0mself\u001b[0m\u001b[1;33m.\u001b[0m\u001b[0mverso\u001b[0m\u001b[1;33m)\u001b[0m\u001b[1;33m)\u001b[0m\u001b[1;33m\n",
       "\u001b[0m        \u001b[1;33m\n",
       "\u001b[0m\u001b[0mgatto\u001b[0m \u001b[1;33m=\u001b[0m \u001b[0mMammifero\u001b[0m\u001b[1;33m(\u001b[0m\u001b[0mnome\u001b[0m\u001b[1;33m=\u001b[0m\u001b[1;34m\"Micio Mao\"\u001b[0m\u001b[1;33m,\u001b[0m \u001b[0mha_pelo\u001b[0m\u001b[1;33m=\u001b[0m\u001b[1;34m\"si\"\u001b[0m\u001b[1;33m,\u001b[0m \u001b[0mha_coda\u001b[0m\u001b[1;33m=\u001b[0m\u001b[1;34m\"si\"\u001b[0m\u001b[1;33m,\u001b[0m \u001b[0mverso\u001b[0m\u001b[1;33m=\u001b[0m\u001b[1;34m\"miaooooooo\"\u001b[0m\u001b[1;33m)\u001b[0m\u001b[1;33m\n",
       "\u001b[0m\u001b[1;33m\n",
       "\u001b[0m\u001b[0mprint\u001b[0m\u001b[1;33m(\u001b[0m\u001b[0mgatto\u001b[0m\u001b[1;33m)\u001b[0m\u001b[1;33m\n",
       "\u001b[0m\u001b[1;33m\n",
       "\u001b[0m\u001b[0mgatto\u001b[0m\u001b[1;33m.\u001b[0m\u001b[0mstato_vita\u001b[0m\u001b[1;33m(\u001b[0m\u001b[1;33m)\u001b[0m\u001b[1;33m\n",
       "\u001b[0m\u001b[0mgatto\u001b[0m\u001b[1;33m.\u001b[0m\u001b[0mnascita\u001b[0m\u001b[1;33m(\u001b[0m\u001b[1;33m)\u001b[0m\u001b[1;33m\n",
       "\u001b[0m\u001b[0mgatto\u001b[0m\u001b[1;33m.\u001b[0m\u001b[0mstato_vita\u001b[0m\u001b[1;33m(\u001b[0m\u001b[1;33m)\u001b[0m\u001b[1;33m\n",
       "\u001b[0m\u001b[1;31m#Variabili comuni a tutti gli animali\u001b[0m\u001b[1;33m\n",
       "\u001b[0m\u001b[0mprint\u001b[0m\u001b[1;33m(\u001b[0m\u001b[1;34m\"Il genere del gatto è: \"\u001b[0m \u001b[1;33m+\u001b[0m \u001b[0mgatto\u001b[0m\u001b[1;33m.\u001b[0m\u001b[0mgenere\u001b[0m\u001b[1;33m)\u001b[0m\u001b[1;33m\n",
       "\u001b[0m\u001b[0mprint\u001b[0m\u001b[1;33m(\u001b[0m\u001b[1;34m\"È un essere vivente? \"\u001b[0m \u001b[1;33m+\u001b[0m \u001b[0mgatto\u001b[0m\u001b[1;33m.\u001b[0m\u001b[0messere_vivente\u001b[0m\u001b[1;33m)\u001b[0m\u001b[1;33m\n",
       "\u001b[0m\u001b[1;31m#Variabili di istanza\u001b[0m\u001b[1;33m\n",
       "\u001b[0m\u001b[0mprint\u001b[0m\u001b[1;33m(\u001b[0m\u001b[1;34m\"Ha il pelo? \"\u001b[0m \u001b[1;33m+\u001b[0m \u001b[0mgatto\u001b[0m\u001b[1;33m.\u001b[0m\u001b[0mha_pelo\u001b[0m\u001b[1;33m)\u001b[0m\u001b[1;33m\n",
       "\u001b[0m\u001b[0mprint\u001b[0m\u001b[1;33m(\u001b[0m\u001b[1;34m\"Ha la coda? \"\u001b[0m \u001b[1;33m+\u001b[0m \u001b[0mgatto\u001b[0m\u001b[1;33m.\u001b[0m\u001b[0mha_coda\u001b[0m\u001b[1;33m)\u001b[0m\u001b[1;33m\n",
       "\u001b[0m\u001b[0mgatto\u001b[0m\u001b[1;33m.\u001b[0m\u001b[0mfai_verso\u001b[0m\u001b[1;33m(\u001b[0m\u001b[1;33m)\u001b[0m\u001b[1;33m\n",
       "\u001b[0m\u001b[1;33m\n",
       "\u001b[0m\u001b[0mun_altro_gatto\u001b[0m \u001b[1;33m=\u001b[0m \u001b[0mMammifero\u001b[0m\u001b[1;33m(\u001b[0m\u001b[0mnome\u001b[0m\u001b[1;33m=\u001b[0m\u001b[1;34m\"Felix\"\u001b[0m\u001b[1;33m,\u001b[0m \u001b[0mha_pelo\u001b[0m\u001b[1;33m=\u001b[0m\u001b[1;34m\"si\"\u001b[0m\u001b[1;33m,\u001b[0m \u001b[0mha_coda\u001b[0m\u001b[1;33m=\u001b[0m\u001b[1;34m\"si\"\u001b[0m\u001b[1;33m,\u001b[0m \u001b[0mverso\u001b[0m\u001b[1;33m=\u001b[0m\u001b[1;34m\"miaooooooo\"\u001b[0m\u001b[1;33m)\u001b[0m\u001b[1;33m\n",
       "\u001b[0m\u001b[0mprint\u001b[0m\u001b[1;33m(\u001b[0m\u001b[0mun_altro_gatto\u001b[0m\u001b[1;33m)\u001b[0m\u001b[1;33m\n",
       "\u001b[0m\u001b[0mun_altro_gatto\u001b[0m\u001b[1;33m.\u001b[0m\u001b[0mnascita\u001b[0m\u001b[1;33m(\u001b[0m\u001b[1;33m)\u001b[0m\u001b[1;33m\n",
       "\u001b[0m\u001b[0mun_altro_gatto\u001b[0m\u001b[1;33m.\u001b[0m\u001b[0mstato_vita\u001b[0m\u001b[1;33m(\u001b[0m\u001b[1;33m)\u001b[0m\u001b[1;33m\n",
       "\u001b[0m\u001b[0mprint\u001b[0m\u001b[1;33m(\u001b[0m\u001b[1;34m\"Ha il pelo? \"\u001b[0m \u001b[1;33m+\u001b[0m \u001b[0mun_altro_gatto\u001b[0m\u001b[1;33m.\u001b[0m\u001b[0mha_pelo\u001b[0m\u001b[1;33m)\u001b[0m\u001b[1;33m\n",
       "\u001b[0m\u001b[0mprint\u001b[0m\u001b[1;33m(\u001b[0m\u001b[1;34m\"Ha la coda? \"\u001b[0m \u001b[1;33m+\u001b[0m \u001b[0mun_altro_gatto\u001b[0m\u001b[1;33m.\u001b[0m\u001b[0mha_coda\u001b[0m\u001b[1;33m)\u001b[0m\u001b[1;33m\n",
       "\u001b[0m\u001b[1;33m\n",
       "\u001b[0m\u001b[0mun_altro_gatto\u001b[0m\u001b[1;33m.\u001b[0m\u001b[0mha_coda\u001b[0m \u001b[1;33m=\u001b[0m \u001b[1;34m\"no\"\u001b[0m\u001b[1;33m\n",
       "\u001b[0m\u001b[1;33m\n",
       "\u001b[0m\u001b[0mprint\u001b[0m\u001b[1;33m(\u001b[0m\u001b[0mgatto\u001b[0m\u001b[1;33m.\u001b[0m\u001b[0mnome\u001b[0m \u001b[1;33m+\u001b[0m \u001b[1;34m\" - \"\u001b[0m \u001b[1;33m+\u001b[0m \u001b[0mstr\u001b[0m\u001b[1;33m(\u001b[0m\u001b[0mgatto\u001b[0m\u001b[1;33m)\u001b[0m\u001b[1;33m)\u001b[0m\u001b[1;33m\n",
       "\u001b[0m\u001b[0mprint\u001b[0m\u001b[1;33m(\u001b[0m\u001b[1;34m\"Ha la coda? \"\u001b[0m \u001b[1;33m+\u001b[0m \u001b[0mgatto\u001b[0m\u001b[1;33m.\u001b[0m\u001b[0mha_coda\u001b[0m\u001b[1;33m)\u001b[0m\u001b[1;33m\n",
       "\u001b[0m\u001b[0mprint\u001b[0m\u001b[1;33m(\u001b[0m\u001b[0mun_altro_gatto\u001b[0m\u001b[1;33m.\u001b[0m\u001b[0mnome\u001b[0m \u001b[1;33m+\u001b[0m \u001b[1;34m\" - \"\u001b[0m \u001b[1;33m+\u001b[0m \u001b[0mstr\u001b[0m\u001b[1;33m(\u001b[0m\u001b[0mun_altro_gatto\u001b[0m\u001b[1;33m)\u001b[0m\u001b[1;33m)\u001b[0m\u001b[1;33m\n",
       "\u001b[0m\u001b[0mprint\u001b[0m\u001b[1;33m(\u001b[0m\u001b[1;34m\"Ha la coda? \"\u001b[0m \u001b[1;33m+\u001b[0m \u001b[0mun_altro_gatto\u001b[0m\u001b[1;33m.\u001b[0m\u001b[0mha_coda\u001b[0m\u001b[1;33m)\u001b[0m\u001b[1;33m\n",
       "\u001b[0m\u001b[1;33m\n",
       "\u001b[0m\u001b[0mgatto\u001b[0m\u001b[1;33m.\u001b[0m\u001b[0mmorte\u001b[0m\u001b[1;33m(\u001b[0m\u001b[1;33m)\u001b[0m\u001b[1;33m\n",
       "\u001b[0m\u001b[0mun_altro_gatto\u001b[0m\u001b[1;33m.\u001b[0m\u001b[0mmorte\u001b[0m\u001b[1;33m(\u001b[0m\u001b[1;33m)\u001b[0m\u001b[1;33m\n",
       "\u001b[0m\u001b[1;33m\n",
       "\u001b[0m\u001b[1;32mclass\u001b[0m \u001b[0mUomo\u001b[0m\u001b[1;33m(\u001b[0m\u001b[0mMammifero\u001b[0m\u001b[1;33m)\u001b[0m\u001b[1;33m:\u001b[0m\u001b[1;33m\n",
       "\u001b[0m    \u001b[1;31m# Sovrascrivo il genere, non siamo più semplici animali\u001b[0m\u001b[1;33m\n",
       "\u001b[0m    \u001b[0mgenere\u001b[0m \u001b[1;33m=\u001b[0m \u001b[1;34m\"Homo Sapiens\"\u001b[0m\u001b[1;33m\n",
       "\u001b[0m    \u001b[1;33m\n",
       "\u001b[0m    \u001b[1;31m# Definisco il costruttore, inizializzo le variabili della sovra-classe e quelle della classe \u001b[0m\u001b[1;33m\n",
       "\u001b[0m    \u001b[1;32mdef\u001b[0m \u001b[0m__init__\u001b[0m\u001b[1;33m(\u001b[0m\u001b[0mself\u001b[0m\u001b[1;33m,\u001b[0m \u001b[0mnome\u001b[0m\u001b[1;33m,\u001b[0m \u001b[0mcolore_pelle\u001b[0m\u001b[1;33m,\u001b[0m \u001b[0mcolore_capelli\u001b[0m\u001b[1;33m,\u001b[0m \u001b[0mlingua_parlata\u001b[0m\u001b[1;33m)\u001b[0m\u001b[1;33m:\u001b[0m\u001b[1;33m\n",
       "\u001b[0m        \u001b[0msuper\u001b[0m\u001b[1;33m(\u001b[0m\u001b[1;33m)\u001b[0m\u001b[1;33m.\u001b[0m\u001b[0m__init__\u001b[0m\u001b[1;33m(\u001b[0m\u001b[0mnome\u001b[0m\u001b[1;33m,\u001b[0m \u001b[0mha_pelo\u001b[0m\u001b[1;33m=\u001b[0m\u001b[1;34m\"no\"\u001b[0m\u001b[1;33m,\u001b[0m \u001b[0mha_coda\u001b[0m\u001b[1;33m=\u001b[0m\u001b[1;34m\"no\"\u001b[0m\u001b[1;33m,\u001b[0m \u001b[0mverso\u001b[0m\u001b[1;33m=\u001b[0m\u001b[1;34m\"bla bla bla\"\u001b[0m\u001b[1;33m)\u001b[0m\u001b[1;33m\n",
       "\u001b[0m        \u001b[0mself\u001b[0m\u001b[1;33m.\u001b[0m\u001b[0mcolore_pelle\u001b[0m \u001b[1;33m=\u001b[0m \u001b[0mcolore_pelle\u001b[0m\u001b[1;33m\n",
       "\u001b[0m        \u001b[0mself\u001b[0m\u001b[1;33m.\u001b[0m\u001b[0mcolore_capelli\u001b[0m \u001b[1;33m=\u001b[0m \u001b[0mcolore_capelli\u001b[0m\u001b[1;33m\n",
       "\u001b[0m        \u001b[0mself\u001b[0m\u001b[1;33m.\u001b[0m\u001b[0mlingua_parlata\u001b[0m \u001b[1;33m=\u001b[0m \u001b[0mlingua_parlata\u001b[0m\u001b[1;33m\n",
       "\u001b[0m        \u001b[1;33m\n",
       "\u001b[0m    \u001b[1;31m# Un metodo specifico dell'Uomo\u001b[0m\u001b[1;33m\n",
       "\u001b[0m    \u001b[1;32mdef\u001b[0m \u001b[0minfo_uomo\u001b[0m\u001b[1;33m(\u001b[0m\u001b[0mself\u001b[0m\u001b[1;33m)\u001b[0m\u001b[1;33m:\u001b[0m\u001b[1;33m\n",
       "\u001b[0m        \u001b[0mprint\u001b[0m\u001b[1;33m(\u001b[0m\u001b[1;34m\"{0} è un {1} con la pelle di colore {2}, i capelli di colore {3} e parla {4}.\"\u001b[0m\u001b[1;33m.\u001b[0m\u001b[0mformat\u001b[0m\u001b[1;33m(\u001b[0m\u001b[0mself\u001b[0m\u001b[1;33m.\u001b[0m\u001b[0mnome\u001b[0m\u001b[1;33m,\u001b[0m \\\n",
       "            \u001b[0mself\u001b[0m\u001b[1;33m.\u001b[0m\u001b[0mgenere\u001b[0m\u001b[1;33m,\u001b[0m \u001b[0mself\u001b[0m\u001b[1;33m.\u001b[0m\u001b[0mcolore_pelle\u001b[0m\u001b[1;33m,\u001b[0m \u001b[0mself\u001b[0m\u001b[1;33m.\u001b[0m\u001b[0mcolore_capelli\u001b[0m\u001b[1;33m,\u001b[0m \u001b[0mself\u001b[0m\u001b[1;33m.\u001b[0m\u001b[0mlingua_parlata\u001b[0m\u001b[1;33m)\u001b[0m\u001b[1;33m)\u001b[0m\u001b[1;33m\n",
       "\u001b[0m        \u001b[1;33m\n",
       "\u001b[0m        \u001b[1;33m\n",
       "\u001b[0m\u001b[0mvicino_di_casa\u001b[0m \u001b[1;33m=\u001b[0m \u001b[0mUomo\u001b[0m\u001b[1;33m(\u001b[0m\u001b[1;34m\"Marcolino\"\u001b[0m\u001b[1;33m,\u001b[0m \u001b[1;34m\"bianco\"\u001b[0m\u001b[1;33m,\u001b[0m \u001b[1;34m\"castano\"\u001b[0m\u001b[1;33m,\u001b[0m \u001b[1;34m\"italiano\"\u001b[0m\u001b[1;33m)\u001b[0m\u001b[1;33m\n",
       "\u001b[0m\u001b[0mprint\u001b[0m\u001b[1;33m(\u001b[0m\u001b[0mvicino_di_casa\u001b[0m\u001b[1;33m)\u001b[0m\u001b[1;33m\n",
       "\u001b[0m\u001b[1;33m\n",
       "\u001b[0m\u001b[0mvicino_di_casa\u001b[0m\u001b[1;33m.\u001b[0m\u001b[0mnascita\u001b[0m\u001b[1;33m(\u001b[0m\u001b[1;33m)\u001b[0m\u001b[1;33m\n",
       "\u001b[0m\u001b[0mvicino_di_casa\u001b[0m\u001b[1;33m.\u001b[0m\u001b[0mstato_vita\u001b[0m\u001b[1;33m(\u001b[0m\u001b[1;33m)\u001b[0m\u001b[1;33m\n",
       "\u001b[0m\u001b[1;31m#Variabili comuni a tutti gli animali\u001b[0m\u001b[1;33m\n",
       "\u001b[0m\u001b[0mprint\u001b[0m\u001b[1;33m(\u001b[0m\u001b[1;34m\"Il genere è: \"\u001b[0m \u001b[1;33m+\u001b[0m \u001b[0mvicino_di_casa\u001b[0m\u001b[1;33m.\u001b[0m\u001b[0mgenere\u001b[0m\u001b[1;33m)\u001b[0m\u001b[1;33m\n",
       "\u001b[0m\u001b[0mprint\u001b[0m\u001b[1;33m(\u001b[0m\u001b[1;34m\"È un essere vivente? \"\u001b[0m \u001b[1;33m+\u001b[0m \u001b[0mvicino_di_casa\u001b[0m\u001b[1;33m.\u001b[0m\u001b[0messere_vivente\u001b[0m\u001b[1;33m)\u001b[0m\u001b[1;33m\n",
       "\u001b[0m\u001b[1;31m#Variabili di istanza\u001b[0m\u001b[1;33m\n",
       "\u001b[0m\u001b[0mprint\u001b[0m\u001b[1;33m(\u001b[0m\u001b[1;34m\"Ha il pelo? \"\u001b[0m \u001b[1;33m+\u001b[0m \u001b[0mvicino_di_casa\u001b[0m\u001b[1;33m.\u001b[0m\u001b[0mha_pelo\u001b[0m\u001b[1;33m)\u001b[0m\u001b[1;33m\n",
       "\u001b[0m\u001b[0mprint\u001b[0m\u001b[1;33m(\u001b[0m\u001b[1;34m\"Ha la coda? \"\u001b[0m \u001b[1;33m+\u001b[0m \u001b[0mvicino_di_casa\u001b[0m\u001b[1;33m.\u001b[0m\u001b[0mha_coda\u001b[0m\u001b[1;33m)\u001b[0m\u001b[1;33m\n",
       "\u001b[0m\u001b[0mvicino_di_casa\u001b[0m\u001b[1;33m.\u001b[0m\u001b[0mfai_verso\u001b[0m\u001b[1;33m(\u001b[0m\u001b[1;33m)\u001b[0m\u001b[1;33m\n",
       "\u001b[0m\u001b[1;33m\n",
       "\u001b[0m\u001b[0mvicino_di_casa\u001b[0m\u001b[1;33m.\u001b[0m\u001b[0minfo_uomo\u001b[0m\u001b[1;33m(\u001b[0m\u001b[1;33m)\u001b[0m\u001b[1;33m\n",
       "\u001b[0m\u001b[1;33m\n",
       "\u001b[0m\u001b[0mvicino_di_casa\u001b[0m\u001b[1;33m.\u001b[0m\u001b[0mmorte\u001b[0m\u001b[1;33m(\u001b[0m\u001b[1;33m)\u001b[0m\u001b[1;33m\u001b[0m\u001b[0m\n"
      ]
     },
     "metadata": {},
     "output_type": "display_data"
    }
   ],
   "source": [
    "%pycat data/Lezione0_code.py"
   ]
  },
  {
   "cell_type": "markdown",
   "metadata": {},
   "source": [
    "Proviamo a scaricare quel file o crearne uno con lo stesso contenuto usando l'editor di testo ed eseguiamolo nel terminale. Il risultato dovrebbe essere più o meno il seguente (in questo caso il file è stato richiamato per l'esecuzione all'interno di Jupyter Lab, ma usando un processo separato `-p`)"
   ]
  },
  {
   "cell_type": "code",
   "execution_count": 10,
   "metadata": {},
   "outputs": [
    {
     "name": "stdin",
     "output_type": "stream",
     "text": [
      "ciao test\n"
     ]
    },
    {
     "name": "stdout",
     "output_type": "stream",
     "text": [
      "<__main__.Mammifero object at 0x0000017B6079B710>\n",
      "È morto!\n",
      "È nato un nuovo animale di nome 'Micio Mao'\n",
      "È vivo!\n",
      "Il genere del gatto è: animale\n",
      "È un essere vivente? si\n",
      "Ha il pelo? si\n",
      "Ha la coda? si\n",
      "Micio Mao: <<< miaooooooo >>>\n",
      "<__main__.Mammifero object at 0x0000017B6079A278>\n",
      "È nato un nuovo animale di nome 'Felix'\n",
      "È vivo!\n",
      "Ha il pelo? si\n",
      "Ha la coda? si\n",
      "Micio Mao - <__main__.Mammifero object at 0x0000017B6079B710>\n",
      "Ha la coda? si\n",
      "Felix - <__main__.Mammifero object at 0x0000017B6079A278>\n",
      "Ha la coda? no\n",
      "R.I.P. animale di nome 'Micio Mao.\n",
      "R.I.P. animale di nome 'Felix.\n",
      "<__main__.Uomo object at 0x0000017B5F5B4550>\n",
      "È nato un nuovo Homo Sapiens di nome 'Marcolino'\n",
      "È vivo!\n",
      "Il genere è: Homo Sapiens\n",
      "È un essere vivente? si\n",
      "Ha il pelo? no\n",
      "Ha la coda? no\n",
      "Marcolino: <<< bla bla bla >>>\n",
      "Marcolino è un Homo Sapiens con la pelle di colore bianco, i capelli di colore castano e parla italiano.\n",
      "R.I.P. Homo Sapiens di nome 'Marcolino.\n",
      " "
     ]
    },
    {
     "data": {
      "text/plain": [
       "         1949 function calls (1938 primitive calls) in 2.199 seconds\n",
       "\n",
       "   Ordered by: internal time\n",
       "\n",
       "   ncalls  tottime  percall  cumtime  percall filename:lineno(function)\n",
       "        2    2.182    1.091    2.183    1.091 socket.py:441(recv_multipart)\n",
       "       72    0.004    0.000    0.004    0.000 socket.py:334(send)\n",
       "        1    0.002    0.002    0.002    0.002 {built-in method builtins.compile}\n",
       "       75    0.001    0.000    0.001    0.000 {method 'acquire' of '_thread.lock' objects}\n",
       "        1    0.001    0.001    2.198    2.198 py3compat.py:184(execfile)\n",
       "       60    0.001    0.000    0.006    0.000 iostream.py:382(write)\n",
       "       65    0.001    0.000    0.005    0.000 iostream.py:195(schedule)\n",
       "        2    0.000    0.000    0.000    0.000 {built-in method io.open}\n",
       "       67    0.000    0.000    0.001    0.000 threading.py:1104(is_alive)\n",
       "       30    0.000    0.000    0.006    0.000 {built-in method builtins.print}\n",
       "        1    0.000    0.000    0.000    0.000 {built-in method nt.stat}\n",
       "        2    0.000    0.000    0.000    0.000 {built-in method builtins.__build_class__}\n",
       "       13    0.000    0.000    0.000    0.000 _parser.py:83(get_token)\n",
       "        1    0.000    0.000    2.195    2.195 Lezione0_code.py:1(<module>)\n",
       "        1    0.000    0.000    2.199    2.199 interactiveshell.py:2481(safe_execfile)\n",
       "       60    0.000    0.000    0.000    0.000 iostream.py:307(_is_master_process)\n",
       "      2/1    0.000    0.000    2.199    2.199 {built-in method builtins.exec}\n",
       "        4    0.000    0.000    0.000    0.000 encoder.py:304(iterencode)\n",
       "        1    0.000    0.000    0.001    0.001 _parser.py:668(_parse)\n",
       "       67    0.000    0.000    0.000    0.000 threading.py:1062(_wait_for_tstate_lock)\n",
       "      174    0.000    0.000    0.000    0.000 {built-in method builtins.isinstance}\n",
       "       36    0.000    0.000    0.000    0.000 traitlets.py:545(__get__)\n",
       "        1    0.000    0.000    0.000    0.000 {method 'read' of '_io.BufferedReader' objects}\n",
       "        1    0.000    0.000    0.002    0.002 session.py:881(deserialize)\n",
       "       65    0.000    0.000    0.000    0.000 iostream.py:93(_event_pipe)\n",
       "        4    0.000    0.000    0.000    0.000 decoder.py:376(raw_decode)\n",
       "       27    0.000    0.000    0.000    0.000 encoder.py:38(encode_basestring)\n",
       "        1    0.000    0.000    2.189    2.189 kernelbase.py:707(_input_request)\n",
       "        2    0.000    0.000    0.000    0.000 _parser.py:877(_parse_numeric_token)\n",
       "        1    0.000    0.000    0.001    0.001 <frozen importlib._bootstrap>:870(_find_spec)\n",
       "      2/1    0.000    0.000    0.001    0.001 <frozen importlib._bootstrap>:966(_find_and_load)\n",
       "        4    0.000    0.000    0.000    0.000 {method 'replace' of 'datetime.datetime' objects}\n",
       "       36    0.000    0.000    0.000    0.000 traitlets.py:526(get)\n",
       "        3    0.000    0.000    0.000    0.000 _parser.py:433(append)\n",
       "       10    0.000    0.000    0.000    0.000 {method 'format' of 'str' objects}\n",
       "        4    0.000    0.000    0.001    0.000 __init__.py:282(dumps)\n",
       "       14    0.000    0.000    0.000    0.000 {method 'match' of '_sre.SRE_Pattern' objects}\n",
       "       61    0.000    0.000    0.000    0.000 {built-in method nt.getpid}\n",
       "        8    0.000    0.000    0.000    0.000 {built-in method _thread.allocate_lock}\n",
       "        2    0.000    0.000    0.002    0.001 iostream.py:334(flush)\n",
       "        1    0.000    0.000    0.002    0.002 session.py:657(send)\n",
       "      3/1    0.000    0.000    0.000    0.000 jsonutil.py:109(json_clean)\n",
       "      8/2    0.000    0.000    0.002    0.001 jsonutil.py:62(extract_dates)\n",
       "       60    0.000    0.000    0.000    0.000 iostream.py:320(_schedule_flush)\n",
       "       27    0.000    0.000    0.000    0.000 {method 'sub' of '_sre.SRE_Pattern' objects}\n",
       "        2    0.000    0.000    0.001    0.001 threading.py:533(wait)\n",
       "        1    0.000    0.000    0.000    0.000 adapter.py:368(adapt)\n",
       "        2    0.000    0.000    0.000    0.000 session.py:583(sign)\n",
       "        2    0.000    0.000    0.000    0.000 <frozen importlib._bootstrap>:157(_get_module_lock)\n",
       "        2    0.000    0.000    0.000    0.000 threading.py:215(__init__)\n",
       "       67    0.000    0.000    0.000    0.000 threading.py:506(is_set)\n",
       "        1    0.000    0.000    0.000    0.000 <frozen importlib._bootstrap_external>:1233(find_spec)\n",
       "        3    0.000    0.000    0.000    0.000 _parser.py:1242(_to_decimal)\n",
       "        1    0.000    0.000    0.000    0.000 ntpath.py:472(normpath)\n",
       "       31    0.000    0.000    0.000    0.000 _parser.py:214(isnum)\n",
       "        2    0.000    0.000    0.000    0.000 {method 'isoformat' of 'datetime.datetime' objects}\n",
       "        2    0.000    0.000    0.000    0.000 hmac.py:95(copy)\n",
       "        4    0.000    0.000    0.000    0.000 jsonapi.py:47(loads)\n",
       "        2    0.000    0.000    0.001    0.001 threading.py:263(wait)\n",
       "        1    0.000    0.000    0.001    0.001 session.py:598(serialize)\n",
       "       14    0.000    0.000    0.000    0.000 {method 'isalpha' of 'str' objects}\n",
       "       67    0.000    0.000    0.000    0.000 {method 'append' of 'collections.deque' objects}\n",
       "        4    0.000    0.000    0.000    0.000 decoder.py:363(decode)\n",
       "        1    0.000    0.000    0.001    0.001 _parser.py:577(parse)\n",
       "        6    0.000    0.000    0.000    0.000 {method 'encode' of 'str' objects}\n",
       "        5    0.000    0.000    0.000    0.000 <frozen importlib._bootstrap_external>:57(_path_join)\n",
       "        1    0.000    0.000    0.000    0.000 <frozen importlib._bootstrap_external>:1117(_get_spec)\n",
       "        4    0.000    0.000    0.000    0.000 encoder.py:141(__init__)\n",
       "        4    0.000    0.000    0.000    0.000 encoder.py:275(encode)\n",
       "        1    0.000    0.000    0.000    0.000 socket.py:394(send_multipart)\n",
       "        1    0.000    0.000    0.001    0.001 _parser.py:205(split)\n",
       "       51    0.000    0.000    0.000    0.000 {built-in method builtins.len}\n",
       "        1    0.000    0.000    0.000    0.000 session.py:857(_add_digest)\n",
       "       13    0.000    0.000    0.000    0.000 {built-in method builtins.hasattr}\n",
       "        1    0.000    0.000    0.000    0.000 {built-in method builtins.sum}\n",
       "        4    0.000    0.000    0.001    0.000 jsonapi.py:31(dumps)\n",
       "      2/1    0.000    0.000    0.001    0.001 <frozen importlib._bootstrap>:936(_find_and_load_unlocked)\n",
       "       13    0.000    0.000    0.000    0.000 _parser.py:195(__next__)\n",
       "        2    0.000    0.000    0.000    0.000 ntpath.py:122(splitdrive)\n",
       "        4    0.000    0.000    0.000    0.000 abc.py:180(__instancecheck__)\n",
       "        3    0.000    0.000    0.000    0.000 _parser.py:342(hms)\n",
       "        1    0.000    0.000    2.184    2.184 session.py:786(recv)\n",
       "       28    0.000    0.000    0.000    0.000 {method 'read' of '_io.StringIO' objects}\n",
       "        1    0.000    0.000    0.000    0.000 _parser.py:1169(_build_tzaware)\n",
       "        1    0.000    0.000    0.000    0.000 _parser.py:1112(_parsems)\n",
       "        2    0.000    0.000    0.000    0.000 _parser.py:1058(_could_be_tzname)\n",
       "        1    0.000    0.000    0.000    0.000 ntpath.py:200(split)\n",
       "       19    0.000    0.000    0.000    0.000 {method 'append' of 'list' objects}\n",
       "       10    0.000    0.000    0.000    0.000 {method 'update' of '_hashlib.HASH' objects}\n",
       "        1    0.000    0.000    0.000    0.000 syspathcontext.py:55(__exit__)\n",
       "        1    0.000    0.000    0.000    0.000 _parser.py:1209(_build_naive)\n",
       "        1    0.000    0.000    2.189    2.189 kernelbase.py:690(raw_input)\n",
       "        4    0.000    0.000    0.000    0.000 session.py:105(<lambda>)\n",
       "        4    0.000    0.000    0.000    0.000 __init__.py:464(loads)\n",
       "        1    0.000    0.000    0.000    0.000 session.py:820(feed_identities)\n",
       "       35    0.000    0.000    0.000    0.000 {method 'isdigit' of 'str' objects}\n",
       "        2    0.000    0.000    0.000    0.000 <frozen importlib._bootstrap>:416(parent)\n",
       "        1    0.000    0.000    0.000    0.000 ntpath.py:309(expanduser)\n",
       "        1    0.000    0.000    0.000    0.000 _parser.py:62(__init__)\n",
       "       14    0.000    0.000    0.000    0.000 _parser.py:209(isword)\n",
       "        7    0.000    0.000    0.000    0.000 <frozen importlib._bootstrap>:847(__exit__)\n",
       "        3    0.000    0.000    0.000    0.000 py3compat.py:188(iteritems)\n",
       "        3    0.000    0.000    0.000    0.000 _parser.py:335(month)\n",
       "        2    0.000    0.000    0.000    0.000 _parser.py:1008(_find_hms_idx)\n",
       "        3    0.000    0.000    0.000    0.000 Lezione0_code.py:16(nascita)\n",
       "        1    0.000    0.000    0.000    0.000 _parser.py:479(resolve_ymd)\n",
       "        2    0.000    0.000    0.000    0.000 jsonutil.py:87(date_default)\n",
       "        6    0.000    0.000    0.000    0.000 {method 'copy' of '_hashlib.HASH' objects}\n",
       "        4    0.000    0.000    0.000    0.000 <frozen importlib._bootstrap>:861(_find_spec_legacy)\n",
       "        6    0.000    0.000    0.001    0.000 jsonutil.py:47(parse_date)\n",
       "        2    0.000    0.000    0.000    0.000 <frozen importlib._bootstrap>:78(acquire)\n",
       "        8    0.000    0.000    0.000    0.000 _weakrefset.py:70(__contains__)\n",
       "        4    0.000    0.000    0.001    0.000 session.py:102(<lambda>)\n",
       "        6    0.000    0.000    0.000    0.000 {method 'decode' of 'bytes' objects}\n",
       "       20    0.000    0.000    0.000    0.000 {built-in method builtins.getattr}\n",
       "        2    0.000    0.000    0.000    0.000 threading.py:242(__exit__)\n",
       "        3    0.000    0.000    0.000    0.000 Lezione0_code.py:8(__init__)\n",
       "        3    0.000    0.000    0.001    0.000 Lezione0_code.py:19(morte)\n",
       "        1    0.000    0.000    0.000    0.000 Lezione0_code.py:2(Mammifero)\n",
       "        1    0.000    0.000    0.000    0.000 session.py:564(msg)\n",
       "       11    0.000    0.000    0.000    0.000 {method 'join' of 'str' objects}\n",
       "        2    0.000    0.000    0.000    0.000 threading.py:498(__init__)\n",
       "        3    0.000    0.000    0.000    0.000 session.py:132(<genexpr>)\n",
       "        4    0.000    0.000    0.000    0.000 <frozen importlib._bootstrap>:997(_handle_fromlist)\n",
       "        7    0.000    0.000    0.000    0.000 {method 'pop' of 'list' objects}\n",
       "        2    0.000    0.000    0.000    0.000 <frozen importlib._bootstrap>:103(release)\n",
       "        1    0.000    0.000    0.000    0.000 _parser.py:227(__init__)\n",
       "        2    0.000    0.000    0.000    0.000 <frozen importlib._bootstrap>:143(__init__)\n",
       "        1    0.000    0.000    0.000    0.000 {built-in method _locale._getdefaultlocale}\n",
       "        8    0.000    0.000    0.000    0.000 hmac.py:90(update)\n",
       "        1    0.000    0.000    0.000    0.000 _parser.py:400(__init__)\n",
       "        1    0.000    0.000    0.000    0.000 error.py:26(__init__)\n",
       "       13    0.000    0.000    0.000    0.000 _parser.py:240(<genexpr>)\n",
       "        2    0.000    0.000    0.000    0.000 <frozen importlib._bootstrap>:58(__init__)\n",
       "        3    0.000    0.000    0.000    0.000 {method 'split' of 'str' objects}\n",
       "        5    0.000    0.000    0.000    0.000 <frozen importlib._bootstrap_external>:59(<listcomp>)\n",
       "        2    0.000    0.000    0.000    0.000 cp1252.py:11(encode)\n",
       "        1    0.000    0.000    0.000    0.000 session.py:169(utcnow)\n",
       "        2    0.000    0.000    0.000    0.000 hmac.py:108(_current)\n",
       "        1    0.000    0.000    0.000    0.000 Lezione0_code.py:67(__init__)\n",
       "        1    0.000    0.000    0.000    0.000 syspathcontext.py:48(__enter__)\n",
       "        1    0.000    0.000    0.000    0.000 session.py:121(new_id)\n",
       "        2    0.000    0.000    0.000    0.000 _parser.py:328(weekday)\n",
       "        2    0.000    0.000    0.000    0.000 _parser.py:348(ampm)\n",
       "        1    0.000    0.000    0.000    0.000 error.py:100(__init__)\n",
       "        4    0.000    0.000    0.001    0.000 Lezione0_code.py:22(stato_vita)\n",
       "        1    0.000    0.000    0.000    0.000 {built-in method nt.urandom}\n",
       "        1    0.000    0.000    0.000    0.000 ntpath.py:539(abspath)\n",
       "        1    0.000    0.000    0.000    0.000 session.py:561(msg_header)\n",
       "       12    0.000    0.000    0.000    0.000 {method 'lower' of 'str' objects}\n",
       "        2    0.000    0.000    0.000    0.000 {built-in method _codecs.charmap_encode}\n",
       "        2    0.000    0.000    0.000    0.000 hmac.py:127(hexdigest)\n",
       "        5    0.000    0.000    0.000    0.000 {method 'replace' of 'str' objects}\n",
       "       12    0.000    0.000    0.000    0.000 {built-in method builtins.setattr}\n",
       "        2    0.000    0.000    0.000    0.000 <frozen importlib._bootstrap>:147(__enter__)\n",
       "        1    0.000    0.000    0.000    0.000 __init__.py:23(find_module)\n",
       "        2    0.000    0.000    0.000    0.000 Lezione0_code.py:27(fai_verso)\n",
       "        1    0.000    0.000    0.000    0.000 _bootlocale.py:11(getpreferredencoding)\n",
       "        1    0.000    0.000    0.000    0.000 _parser.py:239(__len__)\n",
       "        1    0.000    0.000    0.000    0.000 Lezione0_code.py:74(info_uomo)\n",
       "        2    0.000    0.000    0.000    0.000 {method 'digest' of '_hashlib.HASH' objects}\n",
       "       11    0.000    0.000    0.000    0.000 {method 'rstrip' of 'str' objects}\n",
       "        2    0.000    0.000    0.000    0.000 <frozen importlib._bootstrap>:176(cb)\n",
       "        1    0.000    0.000    0.000    0.000 {built-in method nt._getfullpathname}\n",
       "        8    0.000    0.000    0.000    0.000 {method 'get' of 'dict' objects}\n",
       "        1    0.000    0.000    0.000    0.000 {built-in method now}\n",
       "        7    0.000    0.000    0.000    0.000 <frozen importlib._bootstrap>:843(__enter__)\n",
       "        1    0.000    0.000    0.001    0.001 _parser.py:1258(parse)\n",
       "        5    0.000    0.000    0.000    0.000 <frozen importlib._bootstrap>:222(_verbose_message)\n",
       "        2    0.000    0.000    0.000    0.000 _parser.py:325(jump)\n",
       "        5    0.000    0.000    0.000    0.000 {method 'rpartition' of 'str' objects}\n",
       "        2    0.000    0.000    0.000    0.000 threading.py:239(__enter__)\n",
       "        4    0.000    0.000    0.000    0.000 _parser.py:219(isspace)\n",
       "        1    0.000    0.000    0.000    0.000 session.py:236(msg_header)\n",
       "        1    0.000    0.000    0.000    0.000 _parser.py:1100(_parse_min_sec)\n",
       "        1    0.000    0.000    2.199    2.199 <string>:1(<module>)\n",
       "        2    0.000    0.000    0.000    0.000 {method 'hexdigest' of '_hashlib.HASH' objects}\n",
       "        1    0.000    0.000    0.001    0.001 {built-in method builtins.__import__}\n",
       "        2    0.000    0.000    0.000    0.000 py3compat.py:19(encode)\n",
       "        1    0.000    0.000    0.000    0.000 builtin_trap.py:46(__exit__)\n",
       "        1    0.000    0.000    0.000    0.000 Lezione0_code.py:62(Uomo)\n",
       "        8    0.000    0.000    0.000    0.000 {method 'end' of '_sre.SRE_Match' objects}\n",
       "        2    0.000    0.000    0.000    0.000 threading.py:248(_release_save)\n",
       "        2    0.000    0.000    0.000    0.000 threading.py:251(_acquire_restore)\n",
       "        3    0.000    0.000    0.000    0.000 jsonutil.py:34(_ensure_tzinfo)\n",
       "        1    0.000    0.000    0.000    0.000 _parser.py:386(validate)\n",
       "        3    0.000    0.000    0.000    0.000 six.py:184(find_module)\n",
       "        1    0.000    0.000    0.000    0.000 {built-in method builtins.all}\n",
       "        1    0.000    0.000    0.001    0.001 <frozen importlib._bootstrap>:211(_call_with_frames_removed)\n",
       "        1    0.000    0.000    0.000    0.000 <frozen importlib._bootstrap_external>:75(_path_stat)\n",
       "        2    0.000    0.000    0.000    0.000 _parser.py:1063(<genexpr>)\n",
       "        2    0.000    0.000    0.000    0.000 {method 'count' of 'str' objects}\n",
       "       11    0.000    0.000    0.000    0.000 {built-in method _imp.release_lock}\n",
       "        2    0.000    0.000    0.000    0.000 <frozen importlib._bootstrap>:151(__exit__)\n",
       "        1    0.000    0.000    0.000    0.000 <frozen importlib._bootstrap_external>:1149(find_spec)\n",
       "        1    0.000    0.000    0.000    0.000 session.py:739(<listcomp>)\n",
       "       11    0.000    0.000    0.000    0.000 {built-in method _imp.acquire_lock}\n",
       "        1    0.000    0.000    0.000    0.000 {built-in method builtins.locals}\n",
       "        1    0.000    0.000    0.000    0.000 {built-in method utcnow}\n",
       "        1    0.000    0.000    0.000    0.000 <frozen importlib._bootstrap>:780(find_spec)\n",
       "        6    0.000    0.000    0.000    0.000 {built-in method nt.fspath}\n",
       "        4    0.000    0.000    0.000    0.000 {method 'clear' of 'dict' objects}\n",
       "        1    0.000    0.000    0.000    0.000 _parser.py:360(tzoffset)\n",
       "        1    0.000    0.000    0.000    0.000 {method 'index' of 'list' objects}\n",
       "        3    0.000    0.000    0.000    0.000 {built-in method builtins.iter}\n",
       "        2    0.000    0.000    0.000    0.000 threading.py:254(_is_owned)\n",
       "        2    0.000    0.000    0.000    0.000 {built-in method __new__ of type object at 0x00000000523FC3F0}\n",
       "        3    0.000    0.000    0.000    0.000 {method 'startswith' of 'str' objects}\n",
       "        2    0.000    0.000    0.000    0.000 {built-in method binascii.b2a_hex}\n",
       "        3    0.000    0.000    0.000    0.000 {method 'is_finite' of 'decimal.Decimal' objects}\n",
       "        1    0.000    0.000    0.000    0.000 <frozen importlib._bootstrap>:369(__init__)\n",
       "        1    0.000    0.000    0.000    0.000 codecs.py:259(__init__)\n",
       "        1    0.000    0.000    0.000    0.000 ntpath.py:241(dirname)\n",
       "        1    0.000    0.000    0.000    0.000 builtin_trap.py:39(__enter__)\n",
       "        1    0.000    0.000    0.000    0.000 _parser.py:487(<dictcomp>)\n",
       "        1    0.000    0.000    0.000    0.000 {method 'ljust' of 'str' objects}\n",
       "        4    0.000    0.000    0.000    0.000 {method 'isspace' of 'str' objects}\n",
       "        1    0.000    0.000    0.000    0.000 {built-in method builtins.max}\n",
       "        1    0.000    0.000    0.000    0.000 <frozen importlib._bootstrap_external>:37(_relax_case)\n",
       "        1    0.000    0.000    0.000    0.000 <frozen importlib._bootstrap_external>:1080(_path_importer_cache)\n",
       "        2    0.000    0.000    0.000    0.000 {method '__enter__' of '_thread.lock' objects}\n",
       "        3    0.000    0.000    0.000    0.000 {method 'items' of 'dict' objects}\n",
       "        1    0.000    0.000    0.000    0.000 {built-in method _operator._compare_digest}\n",
       "        4    0.000    0.000    0.000    0.000 {built-in method builtins.ord}\n",
       "        1    0.000    0.000    0.000    0.000 session.py:509(msg_id)\n",
       "        1    0.000    0.000    0.000    0.000 _factories.py:9(__call__)\n",
       "        4    0.000    0.000    0.000    0.000 {built-in method _thread.get_ident}\n",
       "        1    0.000    0.000    0.000    0.000 {method 'insert' of 'list' objects}\n",
       "        3    0.000    0.000    0.000    0.000 {method 'extend' of 'list' objects}\n",
       "        1    0.000    0.000    0.000    0.000 {method 'remove' of 'list' objects}\n",
       "        1    0.000    0.000    0.000    0.000 ntpath.py:34(_get_bothseps)\n",
       "        1    0.000    0.000    0.000    0.000 session.py:242(extract_header)\n",
       "        2    0.000    0.000    0.000    0.000 {method '__exit__' of '_thread.lock' objects}\n",
       "        1    0.000    0.000    0.000    0.000 {method 'lstrip' of 'str' objects}\n",
       "        1    0.000    0.000    0.000    0.000 syspathcontext.py:45(__init__)\n",
       "        1    0.000    0.000    0.000    0.000 session.py:936(<listcomp>)\n",
       "        1    0.000    0.000    0.000    0.000 _parser.py:407(has_year)\n",
       "        1    0.000    0.000    0.000    0.000 {method 'add' of 'set' objects}\n",
       "        2    0.000    0.000    0.000    0.000 {built-in method _imp.lock_held}\n",
       "        1    0.000    0.000    0.000    0.000 {built-in method _imp.is_frozen}\n",
       "        1    0.000    0.000    0.000    0.000 {method 'copy' of 'dict' objects}\n",
       "        1    0.000    0.000    0.000    0.000 {method 'partition' of 'str' objects}\n",
       "        1    0.000    0.000    0.000    0.000 py3compat.py:12(no_code)\n",
       "        1    0.000    0.000    0.000    0.000 _parser.py:366(convertyear)\n",
       "        1    0.000    0.000    0.000    0.000 tz.py:69(utcoffset)\n",
       "        1    0.000    0.000    0.000    0.000 {built-in method builtins.callable}\n",
       "        1    0.000    0.000    0.000    0.000 {method 'disable' of '_lsprof.Profiler' objects}\n",
       "        1    0.000    0.000    0.000    0.000 <frozen importlib._bootstrap>:707(find_spec)\n",
       "        2    0.000    0.000    0.000    0.000 {method 'release' of '_thread.lock' objects}\n",
       "        1    0.000    0.000    0.000    0.000 _parser.py:192(__iter__)"
      ]
     },
     "metadata": {},
     "output_type": "display_data"
    }
   ],
   "source": [
    "%run -p data/Lezione0_code.py"
   ]
  },
  {
   "cell_type": "markdown",
   "metadata": {},
   "source": [
    "Un Jupyter magic interessante è quello che permette di trasferire il contenuto della cella direttamente in un file:\n",
    "```python\n",
    "# Sovrascrive file già esistente\n",
    "%%writefile percorso/nome_file.py\n",
    "# Aggiunge il testo della cella in fondo ad un file esistente (append)\n",
    "%%writefile -a percorso/nome_file.py\n",
    "```\n",
    "Ecco un esempio:"
   ]
  },
  {
   "cell_type": "code",
   "execution_count": 3,
   "metadata": {},
   "outputs": [
    {
     "name": "stdout",
     "output_type": "stream",
     "text": [
      "Writing data/esempio_write_dacella.py\n"
     ]
    }
   ],
   "source": [
    "%%writefile data/esempio_write_dacella.py\n",
    "print(\"Questo è un file!\")"
   ]
  },
  {
   "cell_type": "markdown",
   "metadata": {},
   "source": [
    "Proviamo ora a visualizzarlo ed eseguirlo!"
   ]
  },
  {
   "cell_type": "code",
   "execution_count": 6,
   "metadata": {},
   "outputs": [
    {
     "data": {
      "text/plain": [
       "\u001b[0mprint\u001b[0m\u001b[1;33m(\u001b[0m\u001b[1;34m\"Questo è un file!\"\u001b[0m\u001b[1;33m)\u001b[0m\u001b[1;33m\u001b[0m\u001b[0m\n"
      ]
     },
     "metadata": {},
     "output_type": "display_data"
    }
   ],
   "source": [
    "%pycat data/esempio_write_dacella.py"
   ]
  },
  {
   "cell_type": "code",
   "execution_count": 8,
   "metadata": {},
   "outputs": [
    {
     "name": "stdout",
     "output_type": "stream",
     "text": [
      "Questo è un file!\n"
     ]
    }
   ],
   "source": [
    "%run data/esempio_write_dacella.py"
   ]
  }
 ],
 "metadata": {
  "kernelspec": {
   "display_name": "Python 3",
   "language": "python",
   "name": "python3"
  },
  "language_info": {
   "codemirror_mode": {
    "name": "ipython",
    "version": 3
   },
   "file_extension": ".py",
   "mimetype": "text/x-python",
   "name": "python",
   "nbconvert_exporter": "python",
   "pygments_lexer": "ipython3",
   "version": "3.6.6"
  }
 },
 "nbformat": 4,
 "nbformat_minor": 2
}
