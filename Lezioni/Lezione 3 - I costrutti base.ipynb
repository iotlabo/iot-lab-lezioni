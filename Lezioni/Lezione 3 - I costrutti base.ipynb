{
 "cells": [
  {
   "cell_type": "markdown",
   "metadata": {},
   "source": [
    "# Lezione 3 - Altri elementi base, I costrutti/cicli principali\n",
    "\n",
    "In questa lezione vedremo velocemente i tipi di oggetti base del linguaggio Python che ci mancano: **float**, per i calcoli in virgola mobile, **complex** per i numeri complessi e **bool** per i booleani. Accenneremo anche a **byte** e **bytearrays**, che per certi versi assimigliano alle stringhe.  \n",
    "Parlare dei numeri a virgola mobile ci permetterà di accennare alle librerie, in particolare la **libreria math** per i calcoli matematici e la **libreria time** che contiene strumenti utili per tempi/date.  \n",
    "Parlare dei numeri booleani ci permetterà di introdurre le relazioni logiche (AND, OR, NOT) ed i risultati di operazioni di confronto (maggiore, minore, uguale...), strumenti utilizzati per i cicli **if...elif...else**.  \n",
    "Parleremo infine dei **cicli While** e dei **cicli For** con una variabile contatore intera (nel caso specifico dell'oggetto **range**)."
   ]
  },
  {
   "cell_type": "markdown",
   "metadata": {},
   "source": [
    "## Altri elementi utili su print() ed input()\n",
    "\n",
    "### Diversi modi di formattare le stringhe\n",
    "Abbiamo visto che con **print()** si possono stampare a schermo **stringhe** o oggetti che implementano il metodo magico **__str__()**. Abbiamo parlato di formattazione del testo ed abbiamo visto due modi per stampare a schermo messaggi ben formattati:\n",
    "- Concatenando stringhe con `+`, eventualmente convertendo a stringa i valori numerici (o altri oggetti) con `str()`\n",
    "- Usando l'operatore di formattazione `%` con i relativi modificatori  \n",
    "\n",
    "Questi due metodi sono molto efficienti al punto di vista computazionale, ma hanno delle limitazioni:\n",
    "- La concatenazione non è molto leggibile e poco compatta dal punto di vista del coding style\n",
    "- L'operatore di formattazione ha dei limiti su ciò che può visualizzare (ad esempio l'espressione binaria) e NON permette di decidere l'ordine con cui visualizzare i dati senza cambiare anche l'ordine delle variabili nella tuple"
   ]
  },
  {
   "cell_type": "code",
   "execution_count": 5,
   "metadata": {},
   "outputs": [
    {
     "name": "stdout",
     "output_type": "stream",
     "text": [
      "Questo oggetto: 5 È un numero intero!\n",
      "Questo oggetto: 5 È un numero intero!\n",
      "Questo oggetto: 5 È un numero intero! - Questo oggetto: 76 È un numero intero!\n",
      "Questo oggetto: 5 È un numero intero! - Questo oggetto: 76 È un numero intero!\n"
     ]
    }
   ],
   "source": [
    "stringa1 = \"Questo oggetto: \"\n",
    "numero = 5\n",
    "numero2 = 76\n",
    "stringa2 = \" È un numero intero!\"\n",
    "\n",
    "# primo modo: concatenare le stringhe\n",
    "print(stringa1 + str(numero) + stringa2)\n",
    "# secondo modo: operatore %\n",
    "print(\"%s%d%s\" % (stringa1, numero, stringa2))\n",
    "\n",
    "# se voglio stampare un messaggio utilizzando una variabile più volte\n",
    "print(stringa1 + str(numero) + stringa2 + \" - \" + stringa1 + str(numero2) + stringa2)\n",
    "print(\"%s%d%s - %s%d%s\" % (stringa1, numero, stringa2, stringa1, numero2, stringa2))"
   ]
  },
  {
   "cell_type": "markdown",
   "metadata": {},
   "source": [
    "Per formattare una stringa con possibilità di riutilizzare variabili già passate come argomento, decidendone arbitrariamente la posizione viene spesso utilizzato il **metodo format()** delle stringhe. Sebbene meno efficiente, viene utilizzato perchè permette di scrivere codice più leggibile ed effettuare operazioni non consentite con gli altri metodi. Anche con questo sistema sono disponibili dei modificatori per esprimere i numeri in diversi formati.  \n",
    "[Documentazione di *format()*](https://www.programiz.com/python-programming/methods/string/format)\n",
    "\n",
    "<div style=\"text-align:center\"><img width=\"500px\" src=\"images/python-format-positional-argument.jpg\"><img width=\"500px\" src=\"images/python-format-keyword-argument.jpg\"></div>\n"
   ]
  },
  {
   "cell_type": "code",
   "execution_count": 6,
   "metadata": {},
   "outputs": [
    {
     "name": "stdout",
     "output_type": "stream",
     "text": [
      "Questo oggetto: 5 (=0b00000101) È un numero intero! - Questo oggetto: 76 (=0b01001100) È un numero intero!\n",
      "Questo oggetto: 5 (=0b00000101) È un numero intero! - Questo oggetto: 76 (=0b01001100) È un numero intero!\n"
     ]
    }
   ],
   "source": [
    "# Terzo metodo: Uso di Format\n",
    "stringa_formattata = \"{0}{1} (=0b{1:08b}){2} - {0}{3} (=0b{3:08b}){2}\".format(stringa1, numero, stringa2, numero2)\n",
    "print(stringa_formattata)\n",
    "\n",
    "# Assegnando del nomi alle variabili\n",
    "stringa_formattata = \"{str1}{n1} (=0b{n1:08b}){str2} - {str1}{n2} (=0b{n2:08b}){str2}\".format(str1=stringa1, str2=stringa2, n1=numero, n2=numero2)\n",
    "print(stringa_formattata)"
   ]
  },
  {
   "cell_type": "markdown",
   "metadata": {},
   "source": [
    "Noi stiamo imparando il **Python 3.5** perchè è quello al momento usato nei dispositivi embedded e sulla Raspberry (ultima versione disponibile nativamente su Raspbian). I metodi visti di formattazione delle stringhe sono compatibili con qualsiasi versione di Python 3.x e salvo casi particolari (leggere sempre la documentazione ufficiale di classi e librerie) anche tutto il resto del codice che state imparando.  \n",
    "In **Python 3.6** è stato introdotto un nuovo sistema di formattazione stringhe che è il più efficiente ed al contempo offre una sintassi semplice e pulita come nel caso di format(), **le f string**. Sul vostro PC è installato Python 3.6, compatibile con le novità introdotte dalla versione 3.0 alla 3.6 (e quindi anche il Python 3.5)., possiamo quindi provare anche questo tipo di formattazione molto usato nelle nuove applicazioni Python ma non retrocompatibile."
   ]
  },
  {
   "cell_type": "code",
   "execution_count": 7,
   "metadata": {},
   "outputs": [
    {
     "name": "stdout",
     "output_type": "stream",
     "text": [
      "Questo oggetto: 5 (=0b00000101) È un numero intero! - Questo oggetto: 76 (=0b01001100) È un numero intero!\n",
      "I numeri sono: 5 e 76\n"
     ]
    }
   ],
   "source": [
    "# Python 3.6: metodo f-string - Rispetto a format() si usano le variabili direttamente\n",
    "stringa_formattata = f\"{stringa1}{numero} (=0b{numero:08b}){stringa2} - {stringa1}{numero2} (=0b{numero2:08b}){stringa2}\"\n",
    "print(stringa_formattata)\n",
    "print(f\"I numeri sono: {numero} e {numero2}\")"
   ]
  },
  {
   "cell_type": "markdown",
   "metadata": {},
   "source": [
    "### Fare il parsing dei dati inseriti dall'utente\n",
    "Abbiamo visto che per chiedere dati all'utente si usa **input()**, che restituisce sempre una stringa. Spesso ci viene chiesto di effettuare il *parsing* dei dati inseriti, ovvero di estrapolare dalla stringa le informazioni: numeri, che possono essere decimali, float, con notazione esponenziale, stringhe, date... Utilizzando solo input() le cose non sono semplici se vi sono dati diversi tutti nella stessa stringa, ad esempio:  \n",
    "\n",
    "*\"Daniele, Rucatti, 29/10/1987, 1.77\"*  \n",
    "\n",
    "Le opzioni che abbiamo a disposizione sono:\n",
    "- Chiedere all'utente di inserire un dato per volta, nell'esempio sopra servono almeno 4 input(). Per ogni dato acquisito fare un *type cast* per convertirlo nel formato voluto. Molte funzioni come *int()* e *float()* supportano la conversione di stringhe espresse in diversi formati numerici, lo stesso per alcune librerie di base come *time* per operare sulle date.\n",
    "- Prendere un dato unico, che deve essere inserito in modo preciso, senza spazi di troppo o caratteri mancanti, quindi utilizzare lo splitting della stringa usando un delimitatore noto (ad esempio la virgola) e la tecnica dello *string slicing* per dividere la stringa in eventuali pezzi. Procedere quindi ad effettuare il parsing come nel punto precedente\n",
    "- Usare le regular expression, potentissime ma difficili dal punto di vista della sintassi (https://docs.python.org/3/library/re.html#simulating-scanf). Non vedremo questo metodo.\n",
    "- Usare librerie dedicate per il parsing delle stringhe come [**parse**](https://pypi.org/project/parse/) e [**scanf**](https://pypi.org/project/scanf/). Queste sono librerie mantenute da sviluppatori terzi, non fanno parte della dotazione ufficiale di python e vanno quindi installate. Per l'utilizzo delle librerie si veda la relativa documentazione. Qui verrà accennato l'uso di *scanf*, che implementa le stesse funzionalità si *sscanf* nel C. Per funzioni più avanzate si veda la più completa *parse*.\n",
    "> Per installare una libreria eseguire nel terminale `pip install nomelibreria` (eseguire poi un restart del kernel di Jupyter)"
   ]
  },
  {
   "cell_type": "code",
   "execution_count": 8,
   "metadata": {},
   "outputs": [
    {
     "name": "stdin",
     "output_type": "stream",
     "text": [
      "Inserire il Nome:  d\n",
      "Inserire il Cognome:  j\n",
      "Inserire il giorno del compleanno:  9\n",
      "Inserire il mese del compleanno:  9\n",
      "Inserire l'anno del compleanno:  9\n",
      "Inserire l'altezza in metri:  9\n"
     ]
    },
    {
     "name": "stdout",
     "output_type": "stream",
     "text": [
      "Dati Inseriti: ('d', 'j', 9, 9, 9, 9.0)\n"
     ]
    }
   ],
   "source": [
    "# Esempio chiedendo i dati singolarmente\n",
    "nome = input(\"Inserire il Nome: \")\n",
    "cognome = input(\"Inserire il Cognome: \")\n",
    "giorno_compleanno = int(input(\"Inserire il giorno del compleanno: \"))\n",
    "mese_compleanno = int(input(\"Inserire il mese del compleanno: \"))\n",
    "anno_compleanno = int(input(\"Inserire l'anno del compleanno: \"))\n",
    "altezza = float(input(\"Inserire l'altezza in metri: \"))\n",
    "print(\"Dati Inseriti: \" + str((nome, cognome, giorno_compleanno, mese_compleanno, anno_compleanno, altezza)))"
   ]
  },
  {
   "cell_type": "code",
   "execution_count": 9,
   "metadata": {},
   "outputs": [
    {
     "name": "stdin",
     "output_type": "stream",
     "text": [
      "Inserire i dati nella forma: 'Nome, Cognome, DD/MM/YYYY, 1.7':  ii\n"
     ]
    },
    {
     "ename": "IndexError",
     "evalue": "list index out of range",
     "output_type": "error",
     "traceback": [
      "\u001b[1;31m---------------------------------------------------------------------------\u001b[0m",
      "\u001b[1;31mIndexError\u001b[0m                                Traceback (most recent call last)",
      "\u001b[1;32m<ipython-input-9-b9a6e5f42dbb>\u001b[0m in \u001b[0;36m<module>\u001b[1;34m()\u001b[0m\n\u001b[0;32m      4\u001b[0m \u001b[1;33m\u001b[0m\u001b[0m\n\u001b[0;32m      5\u001b[0m \u001b[0mnome\u001b[0m \u001b[1;33m=\u001b[0m \u001b[0msplitted\u001b[0m\u001b[1;33m[\u001b[0m\u001b[1;36m0\u001b[0m\u001b[1;33m]\u001b[0m\u001b[1;33m.\u001b[0m\u001b[0mstrip\u001b[0m\u001b[1;33m(\u001b[0m\u001b[1;33m)\u001b[0m\u001b[1;33m\u001b[0m\u001b[0m\n\u001b[1;32m----> 6\u001b[1;33m \u001b[0mcognome\u001b[0m \u001b[1;33m=\u001b[0m \u001b[0msplitted\u001b[0m\u001b[1;33m[\u001b[0m\u001b[1;36m1\u001b[0m\u001b[1;33m]\u001b[0m\u001b[1;33m.\u001b[0m\u001b[0mstrip\u001b[0m\u001b[1;33m(\u001b[0m\u001b[1;33m)\u001b[0m\u001b[1;33m\u001b[0m\u001b[0m\n\u001b[0m\u001b[0;32m      7\u001b[0m \u001b[0mgiorno_compleanno\u001b[0m \u001b[1;33m=\u001b[0m \u001b[0mint\u001b[0m\u001b[1;33m(\u001b[0m\u001b[0msplitted\u001b[0m\u001b[1;33m[\u001b[0m\u001b[1;36m2\u001b[0m\u001b[1;33m]\u001b[0m\u001b[1;33m.\u001b[0m\u001b[0mstrip\u001b[0m\u001b[1;33m(\u001b[0m\u001b[1;33m)\u001b[0m\u001b[1;33m[\u001b[0m\u001b[1;36m0\u001b[0m\u001b[1;33m:\u001b[0m\u001b[1;36m2\u001b[0m\u001b[1;33m]\u001b[0m\u001b[1;33m)\u001b[0m\u001b[1;33m\u001b[0m\u001b[0m\n\u001b[0;32m      8\u001b[0m \u001b[0mmese_compleanno\u001b[0m \u001b[1;33m=\u001b[0m \u001b[0mint\u001b[0m\u001b[1;33m(\u001b[0m\u001b[0msplitted\u001b[0m\u001b[1;33m[\u001b[0m\u001b[1;36m2\u001b[0m\u001b[1;33m]\u001b[0m\u001b[1;33m.\u001b[0m\u001b[0mstrip\u001b[0m\u001b[1;33m(\u001b[0m\u001b[1;33m)\u001b[0m\u001b[1;33m[\u001b[0m\u001b[1;36m3\u001b[0m\u001b[1;33m:\u001b[0m\u001b[1;36m5\u001b[0m\u001b[1;33m]\u001b[0m\u001b[1;33m)\u001b[0m\u001b[1;33m\u001b[0m\u001b[0m\n",
      "\u001b[1;31mIndexError\u001b[0m: list index out of range"
     ]
    }
   ],
   "source": [
    "# Esempio con lo splitting (necessario usare le liste)\n",
    "str_in = input(\"Inserire i dati nella forma: 'Nome, Cognome, DD/MM/YYYY, 1.7': \")\n",
    "splitted = str_in.split(',')\n",
    "\n",
    "nome = splitted[0].strip()\n",
    "cognome = splitted[1].strip()\n",
    "giorno_compleanno = int(splitted[2].strip()[0:2])\n",
    "mese_compleanno = int(splitted[2].strip()[3:5])\n",
    "anno_compleanno = int(splitted[2].strip()[6:])\n",
    "altezza = float(splitted[3].strip())\n",
    "\n",
    "print(\"Dati Inseriti: \" + str((nome, cognome, giorno_compleanno, mese_compleanno, anno_compleanno, altezza)))"
   ]
  },
  {
   "cell_type": "code",
   "execution_count": null,
   "metadata": {},
   "outputs": [],
   "source": [
    "# Esempio con scanf\n",
    "from scanf import scanf\n",
    "str_in = input(\"Inserire i dati nella forma: 'Nome, Cognome, DD/MM/YYYY, 1.7': \")\n",
    "elements = scanf(\"%s, %s, %d/%d/%d, %f\", str_in)\n",
    "\n",
    "nome = elements[0]\n",
    "cognome = elements[1]\n",
    "giorno_compleanno = elements[2]\n",
    "mese_compleanno = elements[3]\n",
    "anno_compleanno = elements[4]\n",
    "altezza = elements[5]\n",
    "\n",
    "print(\"Dati Inseriti: \" + str((nome, cognome, giorno_compleanno, mese_compleanno, anno_compleanno, altezza)))"
   ]
  },
  {
   "cell_type": "markdown",
   "metadata": {},
   "source": [
    "## Gli offetti float\n",
    "\n",
    "Float è l'oggetto usato per rappresentare i numeri in virgola mobile. In Python esiste solo float, a differenza di altri linguaggi dove esistono numeri con diverso grado di precisione (float e double) ed è un numero **a virgola mobile da 64bit**. In Python un numero float può essere compreso tra `2.2250738585072014e-308` e `1.7976931348623157e+308` (il segno può essere positivo o negativo). Un numero maggiore del valore massimo viene considerato infinito (con relativo segno), esistono quindi anche i numeri +Inf e -Inf in Python, definiti come: `float(\"inf\")` e `float(\"-inf\")`. Se si cerca di esprimere un numero più piccolo del minimo si perde precisione, fino al valore `5e-324`, sotto il quale un float è considerato zero.\n",
    "\n",
    "<div style=\"text-align:center\"><img width=\"550px\" src=\"images/927px-IEEE_754_Double_Floating_Point_Format.svg.png\"></div>"
   ]
  },
  {
   "cell_type": "code",
   "execution_count": null,
   "metadata": {},
   "outputs": [],
   "source": [
    "a = 1.797693134862316e+308\n",
    "print(a)"
   ]
  },
  {
   "cell_type": "markdown",
   "metadata": {},
   "source": [
    "Per definire un numero float è sufficiente inserire il numero con il `.`, ad esempio se scriviamo 5 sarà un int, se scriviamo **5.0** sarà un float. Con questo sistema possiamo forzare Python ad usare uno o l'altro tipo di oggetto quando definiamo delle costanti"
   ]
  },
  {
   "cell_type": "code",
   "execution_count": null,
   "metadata": {},
   "outputs": [],
   "source": [
    "un_intero = 5\n",
    "un_float = 5.6\n",
    "print(un_intero)\n",
    "print(un_float)"
   ]
  },
  {
   "cell_type": "markdown",
   "metadata": {},
   "source": [
    "Se effettuiamo una operazione tra interi e float, il risultato sarà sempre un float, a meno che non effettuiamo un type-cast ad intero: in questo caso **la parte decimale viene TONCATA**, per arrotondare all'intero più vicino bisogna utilizzare la funzione matematica built-in **round()** che esegue l'arrotondamento secondo le regole classiche (all'intero successivo se >= X.5 altrimenti all'intero precedente)"
   ]
  },
  {
   "cell_type": "code",
   "execution_count": null,
   "metadata": {},
   "outputs": [],
   "source": [
    "risultato = un_intero + un_float\n",
    "print(\"il risultato è: \" + str(risultato))\n",
    "risultato_intero = int(risultato)\n",
    "print(\"type-casting a intero: \" + str(risultato_intero))\n",
    "risultato_arrotondato = round(risultato)\n",
    "print(\"arrotondamento a intero: \" + str(risultato_arrotondato))"
   ]
  },
  {
   "cell_type": "markdown",
   "metadata": {},
   "source": [
    "Se effettuiamo una qualsiasi operazione tra interi, il risultato è sempre intero **tranne nel caso della divisione standard `/`**, dove python automaticamente converte il risultato in float. Per forzare la divisione intera, con risultato int, python mette a disposizione l'operatore `//`, già utilizzato nella lezione precedente"
   ]
  },
  {
   "cell_type": "code",
   "execution_count": null,
   "metadata": {},
   "outputs": [],
   "source": [
    "a = 12\n",
    "b = 7\n",
    "# Divisione standard (float)\n",
    "c = a / b\n",
    "print(\"a / b = \" + str(c))\n",
    "print(type(c))\n",
    "# Divisione intera\n",
    "c = a // b\n",
    "print(\"a // b = \" + str(c))\n",
    "print(type(c))"
   ]
  },
  {
   "cell_type": "markdown",
   "metadata": {},
   "source": [
    "**Ricordatevi: quando fate confronti utilizzando i numeri float NON usate mai l'uguaglianza stretta (==), usate le disuguaglianze (>, <, >=, <=) per definire un range per il confronto quando userete i costrutti if**. Se per qualche motivo due numeri differiscono per una quantità anche infinitesimale, vengono considerati due numeri diversi"
   ]
  },
  {
   "cell_type": "code",
   "execution_count": null,
   "metadata": {},
   "outputs": [],
   "source": [
    "# Esempio di due numeri praticamente identici ma diversi\n",
    "a = 10.5\n",
    "b = 10.50000000000001\n",
    "print(a)\n",
    "print(b)\n",
    "is_a_equal_b = (a == b)\n",
    "print(\"a == b ? {}\".format(is_a_equal_b))"
   ]
  },
  {
   "cell_type": "markdown",
   "metadata": {},
   "source": [
    "Un caso come quello riportato si può ottenere ad esempio quando `b` è il risultato di una serie di operazioni con numeri float. **A causa della precisione finita (16 cifre) dei numeri in virgola mobile**, numeri con infinite cifre dopo la virgola (come il pi greco) non sono rappresentabili correttamente, i risultati delle operazioni con la virgola possono quindi essere approssimati.  \n",
    "Per evitare errori uno dei modi corretti per verificare se due numeri float sono uguali è quello di definire un **intervallo di confidenza $\\epsilon$** entro il quale considerare uguali i due numeri ed effettuare il confronto sul valore assoluto (`abs()`) della loro differenza $$|a-b| \\leq \\epsilon$$"
   ]
  },
  {
   "cell_type": "code",
   "execution_count": null,
   "metadata": {},
   "outputs": [],
   "source": [
    "epsilon = 0.00001   # definisco un epsilon\n",
    "print(a)\n",
    "print(b)\n",
    "is_a_equal_b = (abs(a-b) <= epsilon)\n",
    "print(\"a == b ? {}\".format(is_a_equal_b))"
   ]
  },
  {
   "cell_type": "markdown",
   "metadata": {},
   "source": [
    "## La libreria matematica\n",
    "\n",
    "Anche se non abbiamo parlato delle **librerie in Python** dal punto di vista teorico, possiamo dire ai fini pratici che è possibile importare codice (classi, funzioni...) contenuto in files esterni organizzati in librerie/moduli. Possiamo creare delle librerie con il nostro codice se stiamo lavorando ad un progetto grosso, composto da molti files. Allo stesso modo possiamo sfruttare librerie realizzate da altri per aggiungere funzionalità ai nostri programmi. Python dispone di un buon numero di librerie built-in, come ad esempio quella di sistema **sys** che ogni tanto abbiamo usato e quella matematica **math** che introduciamo ora. Per importare una libreria per intero si usa l'istruzione `import nome_libreria`"
   ]
  },
  {
   "cell_type": "code",
   "execution_count": null,
   "metadata": {},
   "outputs": [],
   "source": [
    "import math"
   ]
  },
  {
   "cell_type": "markdown",
   "metadata": {},
   "source": [
    "Possiamo provare a vedere con la funzione autocompletamento di Jupyter quali funzioni abbiamo a disposizione, scrivendo `math.` e premendo TAB. Scelta una funzione premiamo SHIFT+TAB per vederne la descrizione. Abbiamo a disposizione anche delle costanti, come il pi-greco ed il numero di nepero (e)"
   ]
  },
  {
   "cell_type": "code",
   "execution_count": null,
   "metadata": {},
   "outputs": [],
   "source": [
    "print(math.pi)\n",
    "print(math.e)"
   ]
  },
  {
   "cell_type": "markdown",
   "metadata": {},
   "source": [
    "Nella libreria matematica abbiamo per esempio le funzioni trigonometriche, seno, coseno, tangente. Assieme a queste ultime sono utili le funzioni di conversione da angoli in gradi e radianti"
   ]
  },
  {
   "cell_type": "code",
   "execution_count": null,
   "metadata": {},
   "outputs": [],
   "source": [
    "a = 30\n",
    "a_rad = math.radians(a)\n",
    "coseno = math.cos(a_rad)\n",
    "seno = math.sin(a_rad)\n",
    "tangente = math.tan(a_rad)\n",
    "# Si noti che è stato usato %.3f per stampare numeri float limitati a 3 cifre dopo la virgola\n",
    "print(\"Dato a = %d gradi: cos(a) = %.3f  sin(a) = %.3f  tg(a) = %.3f\" % (a, coseno, seno, tangente))"
   ]
  },
  {
   "cell_type": "markdown",
   "metadata": {},
   "source": [
    "> **APPROFONDIMENTO:** Ecco un interessante esempio che sfrutta alcune funzioni di Jupyter Lab (che vi ricordo essere molto usato per il calcolo scientifico) per disegnare grafici e/o forme geometriche direttamente nella pagina della nota. In questo esempio possiamo vedere l'uso di altre librerie: **matplotlib** per la realizzazione di grafici e **Ipython.display** per le funzioni display (output della cella) di Jupyter Lab. Sfruttando le funzioni combinate delle due librerie ed il calcolo trigonometrico possiamo realizzare l'animazione di una lancetta di un orologio. "
   ]
  },
  {
   "cell_type": "code",
   "execution_count": null,
   "metadata": {},
   "outputs": [],
   "source": [
    "%matplotlib inline\n",
    "from matplotlib import pyplot as plt\n",
    "from IPython.display import display, clear_output   #Used for animation\n",
    "\n",
    "# Set the figure size\n",
    "fig = plt.figure()\n",
    "fig.set_dpi(100)\n",
    "fig.set_size_inches(4, 4)\n",
    "\n",
    "# Create the axis without ticks (axis labels)\n",
    "ax = plt.axes(xlim=(-10, 10), ylim=(-10, 10))\n",
    "plt.xticks([])\n",
    "plt.yticks([])\n",
    "\n",
    "# Create an arrow in initial position\n",
    "arrow_len = 8\n",
    "arrow = plt.Arrow(0, 0, 0, 0, 2)\n",
    "drawn_arrow = ax.add_patch(arrow)\n",
    "# Animate Arrow Clock\n",
    "for angle in range(90, 90-361, -5):\n",
    "    dx = arrow_len*math.cos(math.radians(angle))\n",
    "    dy = arrow_len*math.sin(math.radians(angle))\n",
    "    #create the new arrow\n",
    "    drawn_arrow.remove()\n",
    "    arrow = plt.Arrow(0, 0, dx, dy, 2)\n",
    "    drawn_arrow = ax.add_patch(arrow)\n",
    "    # Clear the output and display the plot\n",
    "    display(fig)\n",
    "    clear_output(wait=True)"
   ]
  },
  {
   "cell_type": "markdown",
   "metadata": {},
   "source": [
    "> **APPROFONDIMENTO:** Un altro interessante esempio di grafico matematico. Se siete interessati ad usare Python per risolvere gli esercizi di matematica, in internet ci sono moltissimi esempi sull'uso della libreria matplotlib, spesso spiegati utilizzando proprio Jupyter. Nel codice seguente sono state utilizzate le **Liste** e la tecnica della **List Comprehension** per creare gli array relativi agli assi x ed y del grafico. Per fare grafici matematici si lavora sempre con array e matrici numeriche, esiste una libreria che offre strumenti pensati proprio per questo: la libreria **numpy** per il calcolo numerico scientifico. Con questa libreria la sintassi diventa più snella, vengono introdotti degli oggetti per lavorare su array/matrici senza la necessità di ricorrere alla list comprehension."
   ]
  },
  {
   "cell_type": "code",
   "execution_count": null,
   "metadata": {},
   "outputs": [],
   "source": [
    "%matplotlib inline\n",
    "from matplotlib import pyplot as plt\n",
    "x_steps = 1000\n",
    "x_scale = [x*4*math.pi/x_steps for x in range(0, x_steps + 1)]\n",
    "y_scale = [math.cos(x) for x in x_scale]\n",
    "y2_scale = [math.sin(x) for x in x_scale]\n",
    "plt.plot(x_scale, y_scale, x_scale, y2_scale)\n",
    "plt.xlabel('x values from 0 to 4pi')\n",
    "plt.ylabel('cos(x) and sin(x)')\n",
    "plt.title('Plot of cos and sin from 0 to 4pi')\n",
    "plt.legend(['cos(x)', 'sin(x)'])\n",
    "plt.grid()\n",
    "plt.show()"
   ]
  },
  {
   "cell_type": "markdown",
   "metadata": {},
   "source": [
    "Altre funzioni della libreria matematica sono i logaritmi, gli esponenziali, le funzioni di arrotondamento (per eccesso e per difetto) dei numeri decimali e molte altre:\n",
    "- Esponenziale `math.exp()`\n",
    "- Logaritmo `math.log()`\n",
    "- Radice quadrata `math.sqrt()`\n",
    "- Elevamento a potenza `math.pow()`\n",
    "- Logaritmo base 10 `math.log10()`\n",
    "- Arrotondamento intero per eccesso `math.ceil()`\n",
    "- Arrotondamento intero per difetto `math.floor()`"
   ]
  },
  {
   "cell_type": "markdown",
   "metadata": {},
   "source": [
    "Una funzione interessante della libreria matematica **introdotta nella versione di Python 3.5** (nelle versioni precedenti non è presente!) è **isclose()** che permette di **verificare se due numeri float sono uguali**, con la possibilità di definire una tolleranza sia relativa che assoluta. **Di default (se non vengono specificati altri argomenti) la tolleranza usata è relativa e pari a $10^{-9}\\cdot\\text{max}(a,b)$**, che tiene quindi conto della grandezza dei numeri stessi. Si può comunque definire una tolleranza assoluta se si vuole avere una elevata precisione anche nel confronto di numeri grandi (definendo una *epsilon*)"
   ]
  },
  {
   "cell_type": "code",
   "execution_count": null,
   "metadata": {},
   "outputs": [],
   "source": [
    "a = 100000.5\n",
    "b = 100000.50001\n",
    "print(\"a = {} , b = {}\".format(a,b))\n",
    "# Uguaglianza con tolleranza relativa di default (10^-9)\n",
    "print(\"Solo tolleranza relativa: a == b ? {}\".format(math.isclose(a, b)))\n",
    "# Uguaglianza con tolleranza assoluta\n",
    "epsilon = 0.000001   # definisco un epsilon\n",
    "print(\"Solo Tolleranza assoluta: a == b ? {}\".format(math.isclose(a, b, rel_tol=0, abs_tol=epsilon)))"
   ]
  },
  {
   "cell_type": "markdown",
   "metadata": {},
   "source": [
    "## La libreria **time**\n",
    "\n",
    "[Questa libreria](https://docs.python.org/3/library/time.html) è molto utile per lavorare con date e orari, in particolare è utile per **sapere l'ora e la data corrente**, per calcolare il tempo di esecuzione di un programma e per **mettere in pausa il programma per un certo tempo**. Quest'ultima funzionalità può essere utile per aumentare l'interattività dei nostri porgrammi, e può rappresentare una necessità nel caso in cui python sia usato per generare segnali elettrici. Si pensi ad esempio al comando di un LED in un pannello di controllo che deve eseguire un certo numero di lampeggi, veloci o lenti, per segnalare un malfunzionamento...  \n",
    "\n",
    "Per fare operazioni con le ore e con le date (somme e differenze di date, fusi orari...) vi è la libreria **datetime**, per consultare la relativa documentazione fare click [QUI](https://docs.python.org/3/library/datetime.html#module-datetime).\n",
    "\n",
    "> **Per i volenterosi:** Provate a risolvere l'esercizio della precedente lezione utilizzando la libreria datetime per il calcolo esatto dell'età. In questo caso chiedete all'utente di inserire la data di nascita esatta (anno, mese e giorno) ed eseguire il calcolo considerando la data attuale! Se volete fate il calcolo esatto anche con anni, mesi e giorni esprimendo il valore con la virgola."
   ]
  },
  {
   "cell_type": "code",
   "execution_count": null,
   "metadata": {
    "cell_type": "solution"
   },
   "outputs": [],
   "source": [
    "import time, datetime\n",
    "input_string = input(\"Inserire la data di nascita nel formato YYYY-MM-DD: \")\n",
    "# Leggo la data di nascita\n",
    "birth_day = datetime.datetime(int(input_string[0:4]), int(input_string[5:7]), int(input_string[8:10]))\n",
    "# Leggo il giorno/ora corrente\n",
    "today = datetime.datetime.now()\n",
    "# Determino la data del mio compleanno di quest'anno. Mi interessa sapere quando è stato il\n",
    "# mio ultimo compleanno, quindi confronto la data del compleanno di quest'anno con la data attuale\n",
    "# Se il compleanno di quest'anno deve ancora arrivare, considero il compleanno dell'anno precedente\n",
    "my_birthday_thisyear = datetime.datetime(today.year, birth_day.month, birth_day.day)\n",
    "last_birthday = my_birthday_thisyear\n",
    "if last_birthday > today:\n",
    "    last_birthday = datetime.datetime(today.year-1, birth_day.month, birth_day.day)\n",
    "# Intervallo temporale (precisione secondi) tra oggi ed il prossimo compleanno\n",
    "timedelta_to_next_birthday = datetime.datetime(last_birthday.year+1, birth_day.month, birth_day.day) - last_birthday\n",
    "# Calcolo l'età in anni: la parte intera è costituita dagli anni già compiuti, a cui viene sommata una \n",
    "# parte frazionaria (tra 0 e 1) proporzionale al tempo passato dal mio ultimo compleanno\n",
    "years = last_birthday.year - birth_day.year + (today - last_birthday) / timedelta_to_next_birthday\n",
    "# Età in mesi, considerando 12 mesi per ogni anno\n",
    "months = years * 12\n",
    "# Per il calcolo delle restanti quantità mi serve sapere l'esatta età in secondi, considerando anche\n",
    "# il fatto che esistono anni bisestili. Uso quindi direttamente la differenza tra oggetti datetime\n",
    "timedelta_from_birthday = today - birth_day\n",
    "# Calcolo i microsecondi, unità più piccola con cui voglio rappresentare l'età. Sommo le componenti restituite\n",
    "# dall'oggetto timedelta (giorni e secondi), converto in microsecondi e sommo l'eccedenza in microsecondi\n",
    "# (che non viene inclusa negli oggetti timedelta, si veda la documentazione)\n",
    "microseconds = (timedelta_from_birthday.days * (24*60*60) + timedelta_from_birthday.seconds) * (10**6) + today.microsecond\n",
    "# Calcolo le altre forme per l'età, in virgola mobile. La precisione è in microsecondi\n",
    "milliseconds = microseconds / 1000\n",
    "seconds = milliseconds / 1000\n",
    "minutes = seconds / 60\n",
    "hours = minutes / 60\n",
    "days = hours / 24\n",
    "weeks = days / 7\n",
    "# Visualizzo le età opportunamente formattate, limitando i numeri float alla 3 cifra dopo la virgola\n",
    "print(\"Età in anni: %.7f\" % years)\n",
    "print(\"Età in mesi: %.3f\" % months)\n",
    "print(\"Età in settimane: %.3f\" % weeks)\n",
    "print(\"Età in giorni: %.3f\" % days)\n",
    "print(\"Età in ore: %.3f\" % hours)\n",
    "print(\"Età in minuti: %.3f\" % minutes)\n",
    "print(\"Età in secondi: %.3f\" % seconds)\n",
    "print(\"Età in millisecondi: %.3f\" % milliseconds)\n",
    "print(\"Età in microsecondi: %d\" % microseconds)"
   ]
  },
  {
   "cell_type": "code",
   "execution_count": null,
   "metadata": {},
   "outputs": [],
   "source": [
    "import time"
   ]
  },
  {
   "cell_type": "markdown",
   "metadata": {},
   "source": [
    "Vediamo alcune funzioni legate al tempo corrente. la funzione *time()* ad esempio restituisce l'ora e data corrente in **secondi** a partire dall'inizio dell'epoca, ovvero il 1 gennaio 1970. La funzione *ctime()* converte il valore in secondi nella rappresentazione testuale (stringa) della data e dell'ora. Se non viene passato un valore in secondi, automaticamente viene usato il valore corrente."
   ]
  },
  {
   "cell_type": "code",
   "execution_count": null,
   "metadata": {},
   "outputs": [],
   "source": [
    "time.gmtime(0)"
   ]
  },
  {
   "cell_type": "code",
   "execution_count": null,
   "metadata": {},
   "outputs": [],
   "source": [
    "# Ora/data corrente in ms\n",
    "current_time = time.time()\n",
    "print(current_time)\n",
    "\n",
    "# Ora/Data locale, conversione da secondi\n",
    "date_and_time = time.ctime(current_time)\n",
    "print(date_and_time)"
   ]
  },
  {
   "cell_type": "code",
   "execution_count": null,
   "metadata": {},
   "outputs": [],
   "source": [
    "# Restituisce un oggetto struct_time (non è altro che una Named Tuple)\n",
    "# contenente data ed ora locali\n",
    "struct_date_time = time.localtime()\n",
    "print(struct_date_time)\n",
    "# Formattazione stringa con solamente l'ora\n",
    "hour_string = time.strftime(\"%H:%M:%S\")\n",
    "# Formattazione stringa con solamente la data, nell'ordine Italiano\n",
    "date_string = time.strftime(\"%d-%m-%Y\")\n",
    "print(\"Ora corrente: %s\" % hour_string)\n",
    "print(\"Data corrente (ITA): %s\" % date_string)"
   ]
  },
  {
   "cell_type": "code",
   "execution_count": null,
   "metadata": {},
   "outputs": [],
   "source": [
    "# converte una stringa (formattata) in un oggetto struct_time\n",
    "stringa = \"Date: 18/07/2018 - Time: 15:42\"\n",
    "when = time.strptime(stringa, \"Date: %d/%m/%Y - Time: %H:%M\")\n",
    "print(when)\n",
    "\n",
    "# Accedo agli elementi di struct_time. Essendo una Named Tuple\n",
    "# Posso accedere con il nome o con l'indice\n",
    "print(\"Anno: \" + str(when.tm_year) + \" - Giorno: \" + str(when[2]) + \" - Mese: \" + str(when.tm_mon))"
   ]
  },
  {
   "cell_type": "markdown",
   "metadata": {},
   "source": [
    "Una delle funzioni più utili della libreria time quando si intendono eseguire automatismi è la funzione **sleep()** che permette di mettere in pausa il programma per un periodo di tempo espresso in secondi (ma può essere anche un numero con la virgola inferiore al secondo)"
   ]
  },
  {
   "cell_type": "code",
   "execution_count": null,
   "metadata": {},
   "outputs": [],
   "source": [
    "# Visualizzo delle stringhe con ritardo di 1.5 secondi\n",
    "print(\"La prima stringa\")\n",
    "time.sleep(1.5)\n",
    "print(\"Questa frase compare dopo!\")\n",
    "time.sleep(1.5)\n",
    "print(\"Siamo a 3 secondi!\")"
   ]
  },
  {
   "cell_type": "code",
   "execution_count": null,
   "metadata": {
    "cell_type": "hint"
   },
   "outputs": [],
   "source": [
    "# Posso usare la libreria Output di Jupyter (funziona solo in Jupyter)\n",
    "# per visualizzare i messaggi sulla stessa linea, andando a cancellare\n",
    "# di volta in volta l'output precedente. Nel caso \n",
    "from IPython.display import clear_output \n",
    "print(\"La prima stringa\")\n",
    "time.sleep(1.5)\n",
    "clear_output(wait=True)\n",
    "print(\"Questa frase compare dopo!\")\n",
    "time.sleep(1.5)\n",
    "clear_output(wait=True)\n",
    "print(\"Siamo a 3 secondi!\")\n",
    "\n",
    "# Per fare la stessa cosa nei terminali (windows e linux), si può usare:\n",
    "# import os\n",
    "# os.system('cls' if os.name == 'nt' else 'clear')"
   ]
  },
  {
   "cell_type": "markdown",
   "metadata": {},
   "source": [
    "# I numeri complessi"
   ]
  },
  {
   "cell_type": "markdown",
   "metadata": {},
   "source": [
    "Il linguaggio Python supporta nativamente anche i numeri complessi, potete quindi utilizzarlo come strumento per risolvere, ad esempio, problemi di elettrotecnica con i fasori, dove vengono utilizzati i numeri complessi. La classe che descrive i numeri complessi in Python è **complex()**, i numeri complessi sono composti da una parte reale ed una immaginaria i cui valori possono essere interi (descritti da int) o numeri in virgola mobile (descritti da float).  \n",
    "Qualsiasi numero in cui compaia una parte immaginaria per Python è immaginario, ad esempio:"
   ]
  },
  {
   "cell_type": "code",
   "execution_count": null,
   "metadata": {},
   "outputs": [],
   "source": [
    "# Numero complesso con parti real ed imag float\n",
    "complesso1 = 12.5+23.6j\n",
    "print(complesso1)\n",
    "print(type(complesso1))\n",
    "# Numero complesso con parti real ed imag int\n",
    "complesso2 = -6+8j\n",
    "print(complesso2)\n",
    "print(type(complesso2))\n",
    "# Numero complesso con parte solo immaginaria\n",
    "complesso3 = 8j\n",
    "print(complesso3)\n",
    "print(type(complesso3))\n",
    "# Numero complesso con parte solo reale\n",
    "complesso4 = 1+0j\n",
    "print(complesso4)\n",
    "print(type(complesso4))"
   ]
  },
  {
   "cell_type": "markdown",
   "metadata": {},
   "source": [
    "Un numero puo' essere convertito in complesso usando il costruttore della classe complex per effettuare il type casting, ad esempio per convertire un intero in un numero complesso possiamo usare"
   ]
  },
  {
   "cell_type": "code",
   "execution_count": null,
   "metadata": {},
   "outputs": [],
   "source": [
    "un_intero = 23\n",
    "complesso5 = complex(un_intero)\n",
    "print(complesso5)"
   ]
  },
  {
   "cell_type": "markdown",
   "metadata": {},
   "source": [
    "Le operazioni matematiche tradizionali sono definite anche con i numeri complessi (`+ - * / abs()`), inoltre ogni oggetto di tipo complex offre due attributi, **real** ed **imag** per estrarre le parti reale ed immaginaria ed il metodo **conjugate()** per generare il coniugato (numero complesso con parte immaginaria negata). Ricordiamo che i complex sono NOT mutable come gli altri tipi numerici e quindi questo metodo restituisce un nuovo oggetto."
   ]
  },
  {
   "cell_type": "code",
   "execution_count": null,
   "metadata": {},
   "outputs": [],
   "source": [
    "print(\"Parte reale: {} - Parte immaginaria: {} - Coniugato: {}\".format(complesso1.real, complesso1.imag, complesso1.conjugate()))"
   ]
  },
  {
   "cell_type": "code",
   "execution_count": null,
   "metadata": {},
   "outputs": [],
   "source": [
    "# Alcune operazioni con i complessi:\n",
    "print(abs(complesso1))    # Restituisce il modulo\n",
    "print(complesso1 + complesso2)\n",
    "print(complesso1 / complesso2)"
   ]
  },
  {
   "cell_type": "markdown",
   "metadata": {},
   "source": [
    "Python mette a disposizione una **libreria matematica built-in** per i calcoli con i numeri complessi: **cmath**. In *cmath* troviamo funzioni analoghe a quelle contenute nella libreria *math*, ma per i numeri complessi. Ad esempio le funzioni goniometriche, esponenziali, logaritmi... E la funzione **isclose()** per verificare se due numeri complessi sono uguali, disponibile da Python 3.5.  \n",
    "Tre funzioni utili della libreria per i calcoli con i numeri complessi sono:\n",
    "- **phase()** che restituisce la fase del numero complesso (angolo tra i fasori), compreso tra $-\\pi$ e $\\pi$ (radianti)\n",
    "- **polar()** che restituisce la coppia (valore assoluto, fase) del numero complesso, ovvero le sue coordinate polari\n",
    "- **rect()** che converte la rappresentazione polare del numero complesso (valore assoluto e fase) nella sua versione cartesiana, ovvero la rappresentazione nella forma classica $\\text{Re}+\\text{Im}\\cdot j$\n",
    "\n",
    "<div style=\"text-align:center\"><img width=\"350px\" src=\"images/dalla-forma-esponenziale-alla-forma-cartesiana.png\"></div>"
   ]
  },
  {
   "cell_type": "code",
   "execution_count": null,
   "metadata": {},
   "outputs": [],
   "source": [
    "import cmath\n",
    "print(\"Numero complesso: \" + str(complesso1))\n",
    "complesso1_polar = cmath.polar(complesso1)\n",
    "print(\"Coordinate Polari: \" + str(complesso1_polar))\n",
    "print(\"Sfaso di pi radianti\")\n",
    "complesso1_polar_pi = (complesso1_polar[0], complesso1_polar[1] + cmath.pi)\n",
    "print(\"Ottengo le coordinate Polari: \" + str(complesso1_polar_pi))\n",
    "print(\"Rappresentazione cartesiana: \" + str(cmath.rect(complesso1_polar_pi[0], complesso1_polar_pi[1])))"
   ]
  },
  {
   "cell_type": "markdown",
   "metadata": {},
   "source": [
    "## Numeri Booleani\n",
    "\n",
    "In Python vi è la classe **bool** che descrive oggetti di tipo booleano, ovvero in grado di assumere solo i valori **True** e **False**. Per Python **True** (con la T maiuscola) e **False** (con la F maiuscola) sono due oggetti, il primo corrisponde alla condizione VERO la seconda alla condizione FALSO. La classe bool è una sottoclasse di int."
   ]
  },
  {
   "cell_type": "code",
   "execution_count": null,
   "metadata": {},
   "outputs": [],
   "source": [
    "vero = True\n",
    "falso = False\n",
    "print(type(vero))\n",
    "print(type(falso))"
   ]
  },
  {
   "cell_type": "markdown",
   "metadata": {},
   "source": [
    "Possiamo sempre convertire un bool in una stringa o in un intero. La conversione in stringa è \"True\" o \"False\", mentre la conversione in intero 1 oppure 0. Dato che la classe bool estende la classe int (ridefinendo alcune cose, come ad esempio il metodo *`__str__()`*) sono disponibili tutte le operazioni matematiche degli interi, come l'addizione, la sottrazione..."
   ]
  },
  {
   "cell_type": "code",
   "execution_count": null,
   "metadata": {},
   "outputs": [],
   "source": [
    "print(str(vero))\n",
    "print(int(vero))\n",
    "print(str(falso))\n",
    "print(int(falso))"
   ]
  },
  {
   "cell_type": "markdown",
   "metadata": {},
   "source": [
    "Se abbiamo un numero intero possiamo convertirlo in un booleano usando **bool()**: uno 0 diventa False, mentre qualsiasi altro numero, positivo o negativo, diventa True."
   ]
  },
  {
   "cell_type": "code",
   "execution_count": null,
   "metadata": {},
   "outputs": [],
   "source": [
    "esito = bool(0)\n",
    "print(esito)\n",
    "esito = bool(5)\n",
    "print(esito)"
   ]
  },
  {
   "cell_type": "markdown",
   "metadata": {},
   "source": [
    "I bool sono fondamentali in Python perchè **il risultato di qualsiasi operazione di confronto è un bool**. Tra i bool sono definite anche le operazioni booleane, come ad esempio **or**, **and**, **not**, da non confondere con gli operatori logici tra bit (& | ^ ~) di cui abbiamo parlato quando abbiamo fatto gli oggetti int. Ecco alcuni esempi:"
   ]
  },
  {
   "cell_type": "code",
   "execution_count": null,
   "metadata": {},
   "outputs": [],
   "source": [
    "# Maggiore, Minore, Maggiore-Uguale, Minore-Uguale: >  <  >=  <=\n",
    "# Uguale e Diverso:  ==   !=\n",
    "print(5 > 8)\n",
    "print(10 > 8)\n",
    "print(5 <= 5)\n",
    "print(3 < 9)\n",
    "print(5 == 3)\n",
    "print(5 != 3)"
   ]
  },
  {
   "cell_type": "code",
   "execution_count": null,
   "metadata": {},
   "outputs": [],
   "source": [
    "# operatore OR: Il risultato è True se almeno uno dei due termini è True\n",
    "print(True or False)\n",
    "print(True or True)\n",
    "# operatore AND: il risultato è True se entrambi i termini sono True\n",
    "print(True and False)\n",
    "print(True and True)\n",
    "# operatore NOT: nega il bool\n",
    "print(not True)"
   ]
  },
  {
   "cell_type": "markdown",
   "metadata": {},
   "source": [
    "Utilizzando gli operatori booleani è possibile definire qualsiasi condizione complessa:"
   ]
  },
  {
   "cell_type": "code",
   "execution_count": null,
   "metadata": {},
   "outputs": [],
   "source": [
    "a = 5\n",
    "b = 8\n",
    "c = 23\n",
    "esito = (a > b) or ((c >= b) and (b > a)) or (not (a - 3 > 0))\n",
    "print(esito)"
   ]
  },
  {
   "cell_type": "markdown",
   "metadata": {},
   "source": [
    "Anche i bool sono numeri e possono essere confrontati tra loro. Ad esempio si può definire una XOR (OR Esclusiva), che vale True quando i due termini sono diversi e False quando sono uguali, in questo modo:"
   ]
  },
  {
   "cell_type": "code",
   "execution_count": null,
   "metadata": {},
   "outputs": [],
   "source": [
    "bool_a = True\n",
    "bool_b = False\n",
    "exor = bool_a != bool_b\n",
    "print(\"A xor B = \" + str(exor))"
   ]
  },
  {
   "cell_type": "markdown",
   "metadata": {},
   "source": [
    "> **APPROFONDIMENTO**: Gli operatori **or** e **and** possono essere utilizzati anche con oggetti diversi dai bool, in questo caso il funzionamento è il seguente:\n",
    "- Il primo termine viene convertito in bool (type cast) e valutato. Se si hanno già elementi sufficienti per trarre una conclusione sul risultato viene restituito il primo termine nella sua forma originale (es. se era un int viene restituito un int, se era già un bool viene restituito un bool)\n",
    "  - Ad esempio con **or** se il primo termine viene valutato True è sufficiente per concludere che il risultato sarà True, non serve valutare il secondo termine\n",
    "  - Ad esempio con **and** se il primo termine viene valutato False è sufficiente per concludere che il risultato sarà False, non serve valutare il secondo termine\n",
    "- Se non è possibile trarre una conclusione sul risultato, viene restituito il secondo termine nella sua forma originale\n",
    "- Ogni oggetto può essere convertito in bool (esiste un dunder method che definisce come avviene la conversione). per i tipi standard di Python:\n",
    "  - Una stringa vuota è False, altrimenti è True\n",
    "  - Un intero 0 è False, altrimenti è True\n",
    "  - Una Lista vuota è False, altrimenti è True\n",
    "  - Una Tuple, un Set o un Dictionary si comportano come la Lista\n",
    "  - Un `None` (riferimento nullo) è False, altrimenti viene valutato l'oggetto passato. Se si tratta di un oggetto descritto da una classe realizzata da noi che **non** implementa il metodo `__bool__()` viene restituito True, altrimenti viene restituito ciò che restituisce tale metodo"
   ]
  },
  {
   "cell_type": "code",
   "execution_count": null,
   "metadata": {},
   "outputs": [],
   "source": [
    "# Esempio: come vengono convertiti in bool diversi oggetti\n",
    "print(bool(\"\"))\n",
    "print(bool([]))\n",
    "print(bool({}))\n",
    "print(bool(()))"
   ]
  },
  {
   "cell_type": "code",
   "execution_count": null,
   "metadata": {},
   "outputs": [],
   "source": [
    "class myclass1():\n",
    "    def __init__(self):\n",
    "        pass   # comando per non fare niente, non esegue istruzioni\n",
    "    \n",
    "class myclass2():\n",
    "    def __init__(self, text):\n",
    "        self.text = text\n",
    "    def __bool__(self):\n",
    "        return (self.text == \"ciao\")    # Ritorna True solo se l'oggetto è inizializzato a \"ciao\"\n",
    "\n",
    "oggetto = None\n",
    "print(bool(oggetto)) \n",
    "oggetto = myclass1()\n",
    "print(bool(oggetto)) \n",
    "oggetto = myclass2(\"\")\n",
    "print(bool(oggetto)) \n",
    "oggetto = myclass2(\"ciao\")\n",
    "print(bool(oggetto)) "
   ]
  },
  {
   "cell_type": "code",
   "execution_count": null,
   "metadata": {},
   "outputs": [],
   "source": [
    "# Esempio di uso dell'operatore or con oggetti di tipo diverso\n",
    "print(True or \"ciao\")\n",
    "print(False or \"ciao\")\n",
    "print(\"\" or \"ciao\")\n",
    "print(\"mondo\" or \"ciao\")\n",
    "print(0 or \"ciao\")\n",
    "print(1 or \"ciao\")"
   ]
  },
  {
   "cell_type": "code",
   "execution_count": null,
   "metadata": {},
   "outputs": [],
   "source": [
    "# Un caso pratico d'uso di or con oggetti diversi: valore di default quando l'input è una stringa nulla\n",
    "input_default = 15\n",
    "numero = int(input(\"Inserire il numero richiesto [default {}]\".format(input_default)) or input_default)\n",
    "print(\"Il numero inserito è {}\".format(numero))"
   ]
  },
  {
   "cell_type": "markdown",
   "metadata": {},
   "source": [
    "## Il costrutto **if - elif - else**\n",
    "In Python è possibile eseguire una porzione di codice se una condizione è vera, altrimenti eseguirne un'altra: viene usato il cosiddetto costrutto if, presente in praticamente tutti i linguaggi di programmazione. La sintassi è la seguente:\n",
    "```python\n",
    "if condizione:\n",
    "    ### Codice eseguito se bool(condizione) viene valutata True\n",
    "    pass\n",
    "elif condizione2:\n",
    "    ### Codice eseguito se la precedente condizione non si è verificata e se bool(condizione2) viene valutata True\n",
    "    pass\n",
    "elif condizioneN:\n",
    "    ### Codice eseguito se TUTTE le precedenti condizioni non si sono verificate e se bool(condizioneN) viene valutata True\n",
    "    pass\n",
    "else:\n",
    "    ### Codice eseguito se TUTTE le precedenti condizioni non si sono verificate\n",
    "    pass\n",
    "```\n",
    "Le parti **elif** ed **else** del costrutto **sono opzionali**, se non sono presenti infatti Python si limita a verificare la condizione principale, se è True viene eseguito il relativo codice, se è False il ciclo termina e il programma va avanti con l'istruzione successiva al costrutto if. Se si vogliono verificare più condizioni mutuamente esclusive si possono usare gli **elif**, per eseguire semplicemente delle operazioni differenti quando *condizione* non è verificata si usa un costrutto **if-else**\n",
    "> **Ricordate che:** In python si usano le **indentazioni per dividere i blocchi di codice**, allo stesso modo in cui in C si usano le parentesi graffe {}. **Per indentare il codice si usano le TABULAZIONI** e non gli spazi. In Python le intestazioni che definiscono i blocchi di un costrutto terminano sempre con i **due punti :**, a capo segue il blocco di codice indentato. Nel caso di **costrutti if annidiati** è importante verificare che le indentazioni siano corrette\n",
    "\n",
    "```python\n",
    "### Istruzioni\n",
    "### Precedenti \n",
    "### Al costrutto\n",
    "if condizione:\n",
    "    ### Codice eseguito se bool(condizione) viene valutata True\n",
    "    if condizione2:\n",
    "        ## Codice eseguito se condizione è True e condizione2 è True\n",
    "        if condizione3:\n",
    "            ## Codice eseguito se condizione è True, condizione2 è True e condizione3 è True\n",
    "            pass\n",
    "    else:\n",
    "        ## Codice eseguito se condizione è True e condizione2 è False \n",
    "        pass\n",
    "else:\n",
    "    ### Codice eseguito se condizione è False\n",
    "    if condizione2:\n",
    "        ## Codice eseguito se condizione è False e condizione2 è True\n",
    "        if condizione3:\n",
    "            ## Codice eseguito se condizione è False, condizione2 è True e condizione3 è True\n",
    "            pass\n",
    "        elif condizione4:\n",
    "            ## Codice eseguito se condizione è False, condizione2 è True, condizione3 è False e condizione4 è True\n",
    "            pass\n",
    "        else:\n",
    "            ## Codice eseguito se condizione è False, condizione2 è True, condizione3 è False e condizione4 è False\n",
    "            pass\n",
    "    else:\n",
    "        ## Codice eseguito se condizione è False e condizione2 è False \n",
    "        pass\n",
    "### Istruzioni\n",
    "### Successive \n",
    "### Al costrutto\n",
    "```\n",
    "> L'istruzione **pass** in Python viene utilizzata per indicare che non deve essere eseguita alcuna operazione. Python non ammette blocchi di codice senza codice, quindi dopo una intestazione di un costrutto (dopo i \":\") non si può lasciare una riga vuota. Per indicare che nulla viene eseguito di deve scrivere pass, altrimenti viene generata una eccezione. \n",
    ">> Si può usare pass anche quando si sta scrivendo un programma complesso e si \"vuole lasciare indietro\" l'implementazione di una parte di codice, ad esempio quando si definiscono funzioni e metodi."
   ]
  },
  {
   "cell_type": "code",
   "execution_count": null,
   "metadata": {},
   "outputs": [],
   "source": [
    "# Esempio con il costrutto if\n",
    "temperatura = float(input(\"Inserisci la temperatura odierna e ti dirò che penso: \"))\n",
    "if temperatura < 0:\n",
    "    print(\"Siamo sotto zero...\")\n",
    "    if temperatura < -20:\n",
    "        print(\"Ciao statua di ghiaccio!\")\n",
    "    elif temperatura < -10:\n",
    "        print(\"Non si può sopravvivere per molto così! Ma sognando una spiaggia soleggiata puoi mitigare gli effetti del freddo!\")\n",
    "    else:\n",
    "        print(\"Spero che tu abbbia una bella giacca pesante, sciarpa e berretto!\")\n",
    "elif temperatura == 0:\n",
    "    print(\"Forse oggi viene da nevicare, brrrr....\")\n",
    "else:\n",
    "    if temperatura > 5:\n",
    "        pass\n",
    "    if temperatura < 10:\n",
    "        print(\"Fa freddino, ma sopportabile se non tira molto vento!\")\n",
    "    else:\n",
    "        if temperatura < 20:\n",
    "            print(\"La primavera si avvicina! O forse l'autunno?\")\n",
    "        elif temperatura >= 20 and temperatura < 30:\n",
    "            print(\"Questo è il mio clima ideale! Andiamo a fare una passeggiata?\")\n",
    "        else:\n",
    "            print(\"Siamo in estate! Ci vuole un gelato!\")\n",
    "        if temperatura > 40:\n",
    "            print(\"Ti scioglierai e ti dovrò raccogliere con un cucchiaino!\")\n",
    "casa = input(\"Sei dentro casa? [si] \").strip().lower() or \"si\"\n",
    "if casa == \"si\":\n",
    "    if temperatura < 20:\n",
    "        print(\"Spero che tu abbia il riscaldamento!\")\n",
    "    elif temperatura > 30:\n",
    "        print(\"Spero che tu abbia il condizionatore!\")\n",
    "    else:\n",
    "        print(\"Puoi aprire la finestra, c'è un'ottima temperatura fuori!\")\n",
    "else:\n",
    "    if casa != \"no\":\n",
    "        print(\"Lo prendo per un no...\")\n",
    "    if temperatura < 20:\n",
    "        print(\"Spero che tu abbia il giusto abbigliamento per stare al caldo...\")\n",
    "    elif temperatura > 30:\n",
    "        print(\"Potresti sentire l'esigenza ti toglierti anche la pelle!\")\n",
    "    else:\n",
    "        print(\"Buona passeggiata!\")"
   ]
  },
  {
   "cell_type": "markdown",
   "metadata": {},
   "source": [
    "In Python esiste anche il **costrutto if in-line**, utile se si vuole assegnare ad una variabile un oggetto piuttosto che un altro al verificarsi di una condizione. La sintassi è:\n",
    "```python\n",
    "oggetto = espressione1 if condizione else espressione2\n",
    "```\n",
    "Se *condizione* è True viene eseguita *espressione1* ed assegnato il risultato ad *oggetto*, altrimenti viene eseguita *espressione2* ed assegnato il risultato ad *oggetto*. In questo caso deve essere sempre presente sia l'if che l'else."
   ]
  },
  {
   "cell_type": "code",
   "execution_count": null,
   "metadata": {},
   "outputs": [],
   "source": [
    "condizione_esterna = \"Giornata Calda\" if temperatura > 20 else \"Giornata Fredda\"\n",
    "print(condizione_esterna)"
   ]
  },
  {
   "cell_type": "markdown",
   "metadata": {},
   "source": [
    "## Il ciclo While\n",
    "Il Ciclo While è il ciclo condizionato che Python mette a disposizione: tutto il codice racchiuso da questo ciclo viene eseguito continuamente fintanto che la condizione indicata risulta True. Il ciclo While ha la seguente sintassi:\n",
    "```python\n",
    "while condizione:\n",
    "    ### Codice eseguito finchè condizione è True\n",
    "    pass\n",
    "```\n",
    "**L'espressione utilizzata come condizione deve poter cambiare nel corso dell'esecuzione del ciclo altrimenti il ciclo diventa infinito**, questo cambiamento può avvenire per due motivi:\n",
    "- Le operazioni eseguite dal ciclo stesso causano una modifica della condizione, permettendo quindi l'uscita dal ciclo\n",
    "- La condizione viene modificata da un fenomeno esterno al ciclo:\n",
    "  - Esempio: potrebbe essere il valore misurato da un sensore, o lo stato di un pin, la lettura di una variabile esterna tramite API, la richiesta di un dato in input...\n",
    "  - Esempio: potrebbe essere il valore di una variabile scritta da un processo che viene eseguito in parallelo al ciclo While (applicazione multithread utilizzando le librerie threading)\n",
    "Se la condizione del ciclo è legata a una variabile che viene modificata dall'interno del ciclo stesso, **tale variabile deve necessariamente essere inizializzata prima del ciclo**, altrimenti si ottiene un errore del tipo \"variabile not defined\". L'impiego più semplice del ciclo While si ha nella realizzazione di contatori ed accumulatori: il ciclo può volutamente terminare **dopo un numero finito di iterazioni oppure dopo un numero indefinito**.  \n",
    "Ad esempio un ciclo While che conta da 0 a 10 si programma nel seguente modo:"
   ]
  },
  {
   "cell_type": "code",
   "execution_count": null,
   "metadata": {},
   "outputs": [],
   "source": [
    "counter = 0    # Definisco la variabile del contatore e la inizializzo\n",
    "while counter < 11:    # Il miociclo termina quando counter < 11\n",
    "    print(counter)\n",
    "    counter += 1       # Incremento di uno il contatore\n",
    "print(\"END!\")"
   ]
  },
  {
   "cell_type": "markdown",
   "metadata": {},
   "source": [
    "> **Osservazione:** Nel Python i cicli For sono diversi rispetto al C. Nel C/C++ ed anche in altri linguaggi è possibile definire delle operazioni arbitrarie sulla variabile di ciclo ed una condizione di verifica arbitraria per decidere la terminazione del ciclo. Ad esempio si può utilizzare una variabile di tipo double ed incrementarla di 0.5 ad ogni iterazione:  \n",
    "> ```C\n",
    "> for (double i = 0; i < 10; i += 0.5) {\n",
    ">     //Istruzioni\n",
    ">     printf(\"%f\\n\", i);\n",
    "> }\n",
    "> ```\n",
    "> Nel Python i cicli For, come vedremo, non hanno questa struttura: sono pensati per scansionare iterables non per incrementare variabili numeriche secondo condizioni particolari. Per questi compiti in Python si usano direttamente i cicli While, tranne nel caso semplice di **enumerazione da N ad M con step P** dove Python mette a disposizione un oggetto (**range**) che rende l'operazione più semplice da eseguire con i cicli For.\n",
    "> L'esempio in C si traduce nel codice Python:\n",
    "> ```python\n",
    "> i = 0.0    # è un float\n",
    "> while i < 10:\n",
    ">     # Istruzioni\n",
    ">     print(i)\n",
    ">     i += 0.5\n",
    "> ```"
   ]
  },
  {
   "cell_type": "markdown",
   "metadata": {},
   "source": [
    "Vediamo adesso un **esempio dove il ciclo While viene eseguito un numero indefinito di volte**. È il caso della richiesta di immissione di una serie di dati da parte dell'utente, senza sapere a priori quanti dati l'utente intende immettere.  \n",
    "Realizziamo un sommatore, ovvero un programma che presenta la somma dei numeri inseriti. La condizione di terminazione è data dall'input nullo"
   ]
  },
  {
   "cell_type": "code",
   "execution_count": null,
   "metadata": {},
   "outputs": [],
   "source": [
    "somma = 0.0    #inizializzo la variabile somma\n",
    "dato_in = input(\"Inserire un numero: \")    #prima richiesta\n",
    "while dato_in:    #finchè dato_in è True, ovvero non nullo (ricordo che le stringhe nulle \"\" vengono valutate False)\n",
    "    somma_old = somma\n",
    "    somma += float(dato_in)\n",
    "    print(\"somma = {} + {} = {}\".format(somma_old, float(dato_in), somma))\n",
    "    dato_in = input(\"Inserire un numero: \")    #richieste successive (indefinite)\n",
    "print(\"Fine Inserimento. La somma complessiva è: \" + str(somma))"
   ]
  },
  {
   "cell_type": "markdown",
   "metadata": {},
   "source": [
    "Nel prossimo esempio vediamo il **caso in cui la condizione del ciclo While viene modificata da un thread eseguito in parallelo al ciclo**. In questo caso viene definita una funzione `generate_stop()` che imposta a False la condizione `do_while` del ciclo dopo 5 secondi dall'inizio dell'esecuzione del codice. Nel frattempo il ciclo viene eseguito in quanto `do_while` è inizializzata a True."
   ]
  },
  {
   "cell_type": "code",
   "execution_count": null,
   "metadata": {},
   "outputs": [],
   "source": [
    "from threading import Thread\n",
    "import time\n",
    "do_while = True    # Inizializza la condizione a True\n",
    "timeout = 5        # Durata timeout 5 secondi\n",
    "\n",
    "# Funzione associata al Thread parallelo\n",
    "def generate_stop():\n",
    "    global do_while, timeout\n",
    "    print(\"Thread parallelo avviato, termina in {} secondi\".format(timeout))\n",
    "    time.sleep(timeout)\n",
    "    do_while = False\n",
    "    print(\"Thread parallelo terminato\")\n",
    "\n",
    "# Avvia il thread parallelo\n",
    "parallel_thread = Thread(target=generate_stop)\n",
    "parallel_thread.start()\n",
    "\n",
    "# Ciclo While\n",
    "iterazioni = 0\n",
    "while do_while:\n",
    "    iterazioni += 1\n",
    "    print(\"Eseguo il ciclo While. Iterazione #\" + str(iterazioni))\n",
    "    time.sleep(0.5)\n",
    "print(\"Ciclo While Terminato\")"
   ]
  },
  {
   "cell_type": "markdown",
   "metadata": {},
   "source": [
    "**Un ciclo infinito** in Python si realizza con un ciclo While impostando la condizione a True. Un ciclo infinito potrebbe essere utilizzato per realizzare ad esempio un sistema di controllo ad anello chiuso (es. termostato). Generalmente l'unico modo di interrompere un ciclo infinito è il verificarsi di una eccezione, il codice posto dopo un ciclo infinito non viene mai eseguito a meno che non venga effettuata una gestione ottimale delle eccezioni (senza la quale il programma crasha a seguito dell'errore).\n",
    "```python\n",
    "while True:\n",
    "    ### Codice eseguito all'infinito\n",
    "    pass\n",
    "```\n",
    "Un ciclo While **può essere interrotto manualmente dall'interno usando l'istruzione break** (anche i cicli infiniti). Viene utilizzato un costrutto if per determinare in quali condizioni il ciclo debba essere interrotto manualmente. Vediamo di seguito l'esempio del contatore da 0 a 10 realizzato per mezzo di un ciclo infinito con interruzione manuale:\n",
    "```python\n",
    "while True:\n",
    "    ### Codice eseguito fino al verificarsi della condizione di uscita\n",
    "    if condizione:\n",
    "        break    \n",
    "```"
   ]
  },
  {
   "cell_type": "code",
   "execution_count": null,
   "metadata": {},
   "outputs": [],
   "source": [
    "counter = 0\n",
    "while True:    # Ciclo infinito\n",
    "    print(counter)\n",
    "    if counter == 10:    # Al verificarsi della condizione interrompo manualmente con break\n",
    "        break\n",
    "    counter += 1\n",
    "print(\"END!\")"
   ]
  },
  {
   "cell_type": "markdown",
   "metadata": {},
   "source": [
    "L'esempio del sommatore diventa:"
   ]
  },
  {
   "cell_type": "code",
   "execution_count": null,
   "metadata": {},
   "outputs": [],
   "source": [
    "somma = 0.0    #inizializzo la variabile somma\n",
    "while True:\n",
    "    dato_in = input(\"Inserire un numero: \")    #richieste successive (indefinite)\n",
    "    if dato_in == \"\":\n",
    "        break\n",
    "    somma_old = somma\n",
    "    somma += float(dato_in)\n",
    "    print(\"somma = {} + {} = {}\".format(somma_old, float(dato_in), somma)) \n",
    "print(\"Fine Inserimento. La somma complessiva è: \" + str(somma))"
   ]
  },
  {
   "cell_type": "markdown",
   "metadata": {},
   "source": [
    "Esiste anche una istruzione denominata **continue** che causa l'interruzione dell'iterazione corrente, ovvero salta tutte le istruzioni che seguono e inizia una nuova iterazione. Quando si usa questa istruzione bisogna sempre verificare che la condizione venga aggiornata nel modo corretto per evitare comportamenti non desiderati del ciclo (esempio: trasformare un ciclo finito in infinito). Ecco un esempio dove si usa *continue* per realizzare un contatore che stampa solo i numeri pari"
   ]
  },
  {
   "cell_type": "code",
   "execution_count": null,
   "metadata": {},
   "outputs": [],
   "source": [
    "counter = 0\n",
    "while True:    # Ciclo infinito\n",
    "    if counter % 2 == 1:    # Se il contatore è dispari... \n",
    "        counter += 1        #...mi limito a passare al numero successivo...\n",
    "        continue            #...e termino l'iterazione corrente\n",
    "    print(counter)\n",
    "    if counter == 10:    # Al verificarsi della condizione interrompo manualmente con break\n",
    "        break\n",
    "    counter += 1\n",
    "print(\"END!\")"
   ]
  },
  {
   "cell_type": "markdown",
   "metadata": {},
   "source": [
    "## Esercizio: Fibonacci con i cicli While\n",
    "Data la definizione di **successione di Fibonacci**: https://it.wikipedia.org/wiki/Successione_di_Fibonacci\n",
    "Si richiede la realizzazione dei seguenti **3 programmi**, scrivendo ogni programma in un singolo blocco Jupyter (mi raccomando, tenete ordinato, ben formattato e documentato il vostro foglio degli esercizi):\n",
    "1. Usando un ciclo While, scrivere un programma che: \n",
    "  - **Chieda** all'utente un indice N>1\n",
    "  - **Visualizzi** i primi N numeri di Fibonacci, stampandoli a schermo con opportuna formattazione, ovvero indicando l'indice N ed il numero ottenuto dall'algoritmo, Fib(N) \n",
    "  - **Provare**, usando quanto imparato finora (While, stringhe, string slicing), a stampare a schermo il numero di Fibonacci con il separatore \"'\" per le migliaia. Ad esempio stampare `102'334'155` anziche `102334155`.\n",
    "2. Usando un ciclo While, scrivere un programma che realizzi una Fibonacci App dotata di menu interattivo. Il programma deve: \n",
    "  - **Chiedere Inizialmente** un indice N>1 con cui calcolare il primo numero di Fibonacci Fib(N)\n",
    "  - **Visualizzare un Menu testuale** (nel nostro caso il menu può essere costituito anche da una sola domanda) che permetta di:\n",
    "    - **Chiedere** all'utente **se** visualizzare **il prossimo numero di Fibonacci Fin(N+1)** (*ben formattato come nel punto precedente*), partendo dal precedente N salvato in una variabile. Il programma in questo caso ha delle variabili che memorizzano lo **\"stato\" di un processo** (l'algoritmo iterativo di Fibonacci) e costituisce un **Sistema con Memoria** \n",
    "    - **Dare la possibilità** all'utente di cambiare l'indice N\n",
    "    - **Prevedere come opzione di default** la visualizzazione del Fibonacci successivo, se l'utente non inserisce una risposta e preme semplicemente invio\n",
    "    - **Terminare il programma** se l'utente non vuole visualizzare alcun numero successivo\n",
    "    - **Il menu deve essere realizzato usando una singola istruzione input()**\n",
    "    > Un esempio di richiesta potrebbe essere:  \n",
    "    > `'Per visualizzare il prossimo numero di Fibonacci digitare \"si\", per uscire dal programma digitare \"no\", per visualizzare il numero di fibonacci di indice N inserire semplicemente il numero intero [default: \"si\"]: '`  \n",
    "    > Ricordatevi di far fronte anche ad eventuali errori di digitazione (spazi, maiuscole) in modo da garantire il corretto riconoscimento del comando. Il comando NON deve essere *case sensitive*\n",
    "3. **Copiare** il codice della lezione che realizza un *thread parallelo per interrompere il ciclo While dopo un certo tempo*. **Modificarlo** in modo che:\n",
    "  - **Venga chiesto** inizialmente all'utente per **quanti secondi** eseguire il programma\n",
    "  - **Venga stampato** (ben formattato come nei casi precedenti) un numero di Fibonacci **ogni 0.75 secondi** per la durata impostata, partendo dal numero di indice N indicato\n",
    "  - **Il programma termini** grazie al thread parallelo dopo il tempo di esecuzione specificato\n",
    "Scrivete i tre programmi rispettando l'ordine con cui vengono richiesti nella consegna"
   ]
  },
  {
   "cell_type": "markdown",
   "metadata": {},
   "source": [
    "## Richiamo su iterable, sequence ed iterator\n",
    "\n",
    "<br>\n",
    "<div style=\"text-align:center\"><img width=\"700px\" src=\"images/Iterables-schema.png\"></div>\n",
    "<br>\n",
    "\n",
    "Ricordiamo che:\n",
    "- Tutti gli **iterable** sono **scansionabili elemento per elemento**, ma in un ordine **non necessariamente definito**\n",
    "- Le **sequence** sono un **sottoinsieme** degli iterable e pertanto sono ANCHE iterable\n",
    "- Le sequence hanno elementi dotati di **indice numerato** (da 0 a `len()`) e vengono scansionate secondo un **ordine crescente**\n",
    "- Da ogni iterable, quindi anche dalle sequence, **può essere generato un iterator**. Esso è una sorta di \"scansionatore\" dell'oggetto **di partenza** e dispone di un metodo `next()` che restituisce uno per uno gli elementi dell'iterable\n",
    "- Gli iterator tengono in **memoria** la posizione e **non sono resettabili**. Raggiunta la fine dell'iterable **lanciano una eccezione**. \n",
    "- NOTA: Siccome gli iterator fanno riferimento all'iterable da cui sono originati, possiamo incappare in errori o comportamenti anomali se modifichiamo l'iterable nel mentre viene scansionato attraverso uno dei suoi iterator\n",
    "- Gli iterator di sequence mantengono l'ordine degli elementi definito dalla sequence\n",
    "\n",
    "Ricordiamo anche che:\n",
    "- Gli oggetti possono anche essere catalogati come **mutable** o **not mutable**, quindi esistono iterable mutable ed iterable not mutable\n",
    "- Tra le sequenze importanti ricordiamo: le liste (**list**) che sono mutable ed i **tuple** che sono not mutable. Questi oggetti sono anche **contenitori** ovvero memorizzano elementi che possono essere oggetti di qualsiasi tipo, anche contenitori a loro volta. Liste e tuple **sostituiscono il concetto di array del C**, possiamo vedere list come array dinamici, mentre tuple come array costanti e non modificabili\n",
    "- Tra gli iterable generici (non sequenze quindi) sono importanti i **set**, che rappresentano i classici insiemi (quelli dei diagrammi di Venn) ed i **dictionary**, che sono dei tipi particolari di insiemi in cui ad ogni elemento è associata una chiave univoca (che può essere un intero, una stringa, un float) ed un valore (che può essere un qualsiasi oggetto)\n",
    "- L'**oggetto range** è un altro iterable (una sequence in realtà) molto usato: esso genera una sequenza ordinata di numeri interi (ad esempio da 0 ad N escluso) utilizzabile dai cicli For per operazioni basate sugli indici. *L'oggetto range assomiglia all'oggetto slice usato con le stringhe, ma quest'ultimo NON è un iterable!*\n",
    "\n",
    "> In Python possiamo creare delle classi nostre, esse possono avere anche le caratteristiche di iterable o sequence e restituire iteratori: è sufficiente utilizzare opportuni metodi magici. Ad esempio `__getitem__(self, i)` permette di restituire l'elemento associato ad un indice i. Il metodo deve generare (**raise**) una eccezione `IndexError()` quando viene inserito un indice non valido (ad esempio oltre il massimo consentito). Per ottenere un iterable si deve definire anche `__len__(self)`, metodo magico che deve restituire il numero di elementi della sequenza. Una classe che definisce entrambi i metodi è una sequenza, è iterabile ed è possibile ricavarne un iteratore.  \n",
    "Esistono metodi magici anche per definire iterable che non sono sequenze, ad esempio `__next__(self)`, che deve restituire l'elemento successivo e generare l'eccezione `StopIteration()` quando non sono più disponibili elementi da scansionare. Le eccezioni sono anch'esse oggetti, descritti da apposite classi, e contengono informazioni relative all'errore.  \n",
    "> **Questo sarà più chiaro quando faremo le nostre prime classi**\n",
    "\n",
    "## I Cicli For\n",
    "\n",
    "In Python il ciclo For è un costrutto che permette di **scansionare elemento per elemento** un qualsiasi **oggetto iterable** (quindi anche una **sequence**) o un qualsiasi oggetto **iterator**. Nel costrutto viene definita una variabile che **esiste solo all'interno del ciclo For**: ad ogni iterazione la variabile contiene il **riferimento ad un elemento** dell'iterable (o dell'iterable a cui è associato l'iterator, nel caso di iterator) non considerato nelle precedenti iterazioni, fino a che tutti gli elementi non sono stati presi in considerazione (salvo interruzione manuale del ciclo con **break**).  \n",
    "**Gli elementi non vengono presi con un ordine determinato, a meno che non si tratti di sequenze, dove ogni elemento è numerato con un indice.**  \n",
    "Riassumendo:\n",
    "- I cicli For si applicano solo ad **Iterable** ed **Iterator**\n",
    "- Nel caso di sequenze gli elementi vengono scansionati dal primo all'ultimo seguendo gli indici in ordine crescente\n",
    "- Nel caso di NON-sequenze (set, dict) non vi è un ordine garantito, ma gli elementi vengono scansionati tutti \n",
    "- Nel caso di iterator, essi vengono \"consumati\" dal ciclo, in quanto non resettabili\n",
    "\n",
    "La sintassi di un ciclo For è la seguente (analoga per un iterator):\n",
    "```python\n",
    "for variabile in iterable:\n",
    "    # Istruzioni eseguite ad ogni iterazione, per ogni elemento contenuto in iterable\n",
    "    # variabile contiene, ad ogni iterazione, il riferimento ad un nuovo elemento di iterable\n",
    "    pass\n",
    "```\n",
    "\n",
    "L'oggetto **range** è una sequenza di numeri interi e può essere usata per creare dei cicli For che vanno **da un intero N ad un intero M (ESCLUSO) con strep intero S**. Per creare la sequenza basta costruire l'oggetto passando i parametri richiesti (S è opzionale, se non specificato vale 1):\n",
    "```python\n",
    "oggetto_range = range(N, M, S)\n",
    "```\n",
    "Ad esempio:\n",
    "```python\n",
    "# sequenza di numeri da 0 a 10 (11 è escluso)\n",
    "oggetto_range = range(0, 11)\n",
    "```\n",
    "L'oggetto si può applicare direttamente ad un ciclo For con la seguente sintassi:\n",
    "```python\n",
    "for variabile in range(N, M, S):\n",
    "    # Istruzioni eseguite ad ogni iterazione, per ogni elemento contenuto in range()\n",
    "    # variabile contiene, ad ogni iterazione, il riferimento ad un intero, da N ad M con step S\n",
    "    pass\n",
    "```\n",
    "\n",
    "Un ciclo di questo tipo può ovviamente essere realizzato anche con un While. **Un For può sempre essere trasformato in un While equivalente! Perdendo però in leggibilità del codice!**\n",
    "\n",
    "> OSSERVAZIONE: In realtà, nel caso degli iterable generici, il ciclo For dietro le quinte crea un iterator a partire dall'iterable che gli viene passato ed usa quello per eseguire la scansione degli elementi. Questo iterator nasce e muore con il ciclo For. Nel caso particolare in cui l'iterable è una sequenza, dietro le quinte il For crea un oggetto range, che nasce e muore con il ciclo, e restituisce l'elemento i-esimo."
   ]
  },
  {
   "cell_type": "markdown",
   "metadata": {},
   "source": [
    "### Esempio di ciclo For con le stringhe\n",
    "Le stringhe sono sequenze, quindi sono iterable ed è possibile scansionarle con un For. Gli elementi delle stringhe sono i caratteri (ovvero stringhe di lunghezza unitaria) e sono numerati dal primo all'ultimo con indici che vanno da `0` a `len() - 1`"
   ]
  },
  {
   "cell_type": "code",
   "execution_count": null,
   "metadata": {},
   "outputs": [],
   "source": [
    "stringa = \"Ciao e di nuovo Ciao\"\n",
    "# La stringa è una sequenza infatti i caratteri sono accessibili con un indice\n",
    "print(\"Il carattere all'indice 5 è \" + stringa[5])\n",
    "print(\"Il numero di elementi dell'iterable (stringa) è: %d\" % len(stringa))"
   ]
  },
  {
   "cell_type": "code",
   "execution_count": null,
   "metadata": {},
   "outputs": [],
   "source": [
    "# Il ciclo For indirizza ad ogni iterazione un elemento (carattere) dell'iterable (stringa)\n",
    "for carattere in stringa:\n",
    "    print(carattere)"
   ]
  },
  {
   "cell_type": "markdown",
   "metadata": {},
   "source": [
    "### Esempio di ciclo For con **range()**\n",
    "Proviamo ora a fare un ciclo for che utilizza l'oggetto range per stampare a schermo i numeri interi contenuti nel range"
   ]
  },
  {
   "cell_type": "code",
   "execution_count": null,
   "metadata": {},
   "outputs": [],
   "source": [
    "start = 3\n",
    "stop = 17   # escluso!\n",
    "for i in range(start, stop):\n",
    "    print(i)"
   ]
  },
  {
   "cell_type": "markdown",
   "metadata": {},
   "source": [
    "Si possono anche stampare gli indici in ordine inverso utilizzando uno step negativo"
   ]
  },
  {
   "cell_type": "code",
   "execution_count": null,
   "metadata": {},
   "outputs": [],
   "source": [
    "for i in range(17, 3, -1):\n",
    "    print(i)"
   ]
  },
  {
   "cell_type": "markdown",
   "metadata": {},
   "source": [
    "Proviamo ora ad utilizzare la variabile intera di ciclo `i` per **indicizzare** gli elementi di una stringa (accedendo ai singoli caratteri della sequenza con la notazione `[]`)"
   ]
  },
  {
   "cell_type": "code",
   "execution_count": null,
   "metadata": {},
   "outputs": [],
   "source": [
    "for i in range(17, 3, -1):\n",
    "    print(stringa[i])"
   ]
  },
  {
   "cell_type": "markdown",
   "metadata": {},
   "source": [
    "### Ciclo For a più variabili ed uso di **enumerate()**\n",
    "\n",
    "A volte ci può capitare di eseguire un ciclo For su oggetti iterable i cui **singoli elementi** sono **list** o **tuple** di dimensione costante P (esempio tutti tuple composti da 3 elementi): in questo caso **è possibile** associare nomi di variabile diversi per ogni posizione del tuple (la tripletta nel nostro esempio) direttamente nell'intestazione del ciclo For. Se La sintassi è la seguente:\n",
    "```python\n",
    "for var1, var2, ... varP in iterable:\n",
    "    # Istruzioni eseguite ad ogni iterazione, per ogni elemento contenuto in iterable, \n",
    "    # dove gli elementi sono tutti tuple (o liste) di dimensione (len) P\n",
    "    # var1, var2, .... varP sono i riferimenti agli elementi del tuple (lista)\n",
    "    pass\n",
    "```\n",
    "Anche se li abbiamo solo accennati, vediamo un esempio che utilizza come iterable un **set** (si definisce con `{}`), che ricordiamo essere un oggetto iterable NON dotato di indici e quindi con gli elementi non necessariamente ordinati secondo l'ordine di inserimento. Ogni elemento del set è un **tuple** (si definisce con `()`) composto da 3 elementi di tipo stringa"
   ]
  },
  {
   "cell_type": "code",
   "execution_count": null,
   "metadata": {},
   "outputs": [],
   "source": [
    "# Definisco dei tuple coerenti: ogni tuple è una tripletta con un nome, un cognome ed una città \n",
    "tup1 = (\"Mario\", \"Rossi\", \"Trento\")\n",
    "tup2 = (\"Matteo\", \"Bianchi\", \"Bolzano\")\n",
    "tup3 = (\"Lorenzo\", \"Verdi\", \"Roma\")\n",
    "tup4 = (\"Antonio\", \"Gialli\", \"Palermo\")\n",
    "# Creo un set (cioè un insieme) composto dai 4 tuple. L'insieme è un iterable (ma non una sequenza)\n",
    "insieme = {tup1, tup2, tup3, tup4}\n",
    "\n",
    "print(\"Il set contiene {} elementi\".format(len(insieme)))\n",
    "\n",
    "for nome, cognome, città in insieme:\n",
    "    print(\"Nome: {}, Cognome: {}, Città: {}\".format(nome, cognome, città))"
   ]
  },
  {
   "cell_type": "markdown",
   "metadata": {},
   "source": [
    "Supponiamo ora di voler accedere direttamente ai tuple, in questo caso ci basterà utilizzare il classico ciclo ad una variabile"
   ]
  },
  {
   "cell_type": "code",
   "execution_count": null,
   "metadata": {},
   "outputs": [],
   "source": [
    "for tup in insieme:\n",
    "    print(tup)"
   ]
  },
  {
   "cell_type": "markdown",
   "metadata": {},
   "source": [
    "Nel caso volessimo esplicitamente estrarre solo i nomi, dobbiamo far capire a Python che siamo interessati solo agli elementi di indice 0 dei tuple"
   ]
  },
  {
   "cell_type": "markdown",
   "metadata": {},
   "source": [
    "A volte vogliamo associare agli elementi di un iterable un indice intero mentre li scansioniamo con il ciclo For, ovvero vogliamo avere anche l'**indice dell'iterazione corrente** (un contatore), **come se eseguissimo in parallelo un for con oggetto range da 0 a len(iterable)**. Si può fare tutto con un unico ciclo a due variabili utilizzando la **funzione built-in `enumerate()`**. \n",
    "\n",
    "La funzione enumerate() crea una sequenza i cui elementi sono tuple composti da 2 elementi (coppie):\n",
    "- Un indice, da 0 a len(iterable)\n",
    "- Un elemento dell'iterable\n",
    "\n",
    "Vediamo questo esempio che stampa a schermo i carateri di una stringa numerandoli:"
   ]
  },
  {
   "cell_type": "code",
   "execution_count": null,
   "metadata": {},
   "outputs": [],
   "source": [
    "for indice, carattere in enumerate(stringa):\n",
    "    print(\"stringa[{}] = {}\".format(indice, carattere))"
   ]
  },
  {
   "cell_type": "markdown",
   "metadata": {},
   "source": [
    "Nel caso delle stringhe o di altre sequenze numerate abbiamo visto che si può tranquillamente usare l'oggetto range e poi accedere agli elementi della sequenza attraverso la variabile di ciclo. I due metodi sono equivalenti, è una questione principalmente estetica. Nel caso però di iterable generici come i set ed i dictionary, non vi sono indici associati agli elementi. A volte si ha l'esigenza di \"numerare al volo gli elementi\" per eseguire qualche operazione, come ad esempio una stampa a schermo numerata: in questo caso:\n",
    "- Si può convertire il set in una sequenza, ad esempio una lista, ed eseguire il For con un oggetto range accedendo agli elementi della lista\n",
    "- Si può usare `enumerate()`\n",
    "  - Con `enumerate()` si può anche specificare il valore di start da usare per la sequenza (di default è appunto 0)"
   ]
  },
  {
   "cell_type": "code",
   "execution_count": null,
   "metadata": {},
   "outputs": [],
   "source": [
    "for indice, tup in enumerate(insieme, 1):\n",
    "    print(\"Elemento {}. {}\".format(indice, tup))"
   ]
  },
  {
   "cell_type": "code",
   "execution_count": null,
   "metadata": {},
   "outputs": [],
   "source": [
    "lista_insieme = list(insieme)   # Converto il set (di tuple) in una lista (di tuple)\n",
    "for indice in range(0, len(lista_insieme)):\n",
    "    print(\"Elemento {}. {}\".format(indice+1, lista_insieme[indice]))"
   ]
  },
  {
   "cell_type": "markdown",
   "metadata": {},
   "source": [
    "### Esempio di cicli For e While con un iteratore\n",
    "Prendiamo ad esempio una stringa, possiamo generare un iteratore a partire da qualsiasi iterable, quindi anche la stringa. Proviamo a creare un iteratore ed applicare il ciclo for su di esso"
   ]
  },
  {
   "cell_type": "code",
   "execution_count": null,
   "metadata": {},
   "outputs": [],
   "source": [
    "it = iter(stringa)\n",
    "\n",
    "for carattere in it:\n",
    "    print(carattere, end=\" \")"
   ]
  },
  {
   "cell_type": "markdown",
   "metadata": {},
   "source": [
    "Se ora proviamo a chiamare di nuovo il for sullo stesso iteratore, non otteniamo risultati in quanto l'iteratore è già esaurito, abbiamo scansionato TUTTO l'iteratore con il precedente For:"
   ]
  },
  {
   "cell_type": "code",
   "execution_count": null,
   "metadata": {},
   "outputs": [],
   "source": [
    "for carattere in it:\n",
    "    print(carattere, end=\" \")"
   ]
  },
  {
   "cell_type": "markdown",
   "metadata": {},
   "source": [
    "Infatti se provo a chiamare next() ottengo una eccezione di tipo *StopIteration*"
   ]
  },
  {
   "cell_type": "code",
   "execution_count": null,
   "metadata": {},
   "outputs": [],
   "source": [
    "print(next(it))"
   ]
  },
  {
   "cell_type": "markdown",
   "metadata": {},
   "source": [
    "L'iteratore non si può resettare, bisogna necessariamente crearne un altro. Lo si può sempre associare alla stessa variabile"
   ]
  },
  {
   "cell_type": "code",
   "execution_count": null,
   "metadata": {},
   "outputs": [],
   "source": [
    "# Ri-creo l'iteratore\n",
    "it = iter(stringa)"
   ]
  },
  {
   "cell_type": "markdown",
   "metadata": {},
   "source": [
    "Supponiamo ora di voler convertire il ciclo For in un ciclo While usando l'iteratore: usiamo un ciclo infinito e gestiamo l'eccezione con il costrutto **try...except**, terminandolo manualmente con break **(vedremo meglio il costrutto try...except nelle prossime lezioni)**. Dobbiamo seguire questa strada in quanto, ipotizzando di avere a disposizione solo l'iteratore, non sappiamo il numero di elementi dell'iterable ad esso associato: non è possibile chiamare *len()* sugli iteratori, solo sugli iterable."
   ]
  },
  {
   "cell_type": "code",
   "execution_count": null,
   "metadata": {},
   "outputs": [],
   "source": [
    "while True:\n",
    "    try:\n",
    "        carattere = next(it)\n",
    "    except StopIteration:\n",
    "        break  \n",
    "    print(carattere, end=\" \")"
   ]
  },
  {
   "cell_type": "markdown",
   "metadata": {},
   "source": [
    "### Esempio di ciclo For con continue e break\n",
    "Anche i cicli For come i cicli While si possono **interrompere forzatamente (prima della fine naturale)** con il comando **break**. Con il comando **continue** invece terminiamo forzatamente solo l'iterazione corrente, saltando direttamente alla successiva.  \n",
    "Nell'esempio che segue facciamo un ciclo For che scansiona tutti gli elementi della stringa e si ferma forzatamente se trova la lettera \"v\", terminando l'intero For:"
   ]
  },
  {
   "cell_type": "code",
   "execution_count": null,
   "metadata": {},
   "outputs": [],
   "source": [
    "for indice, carattere in enumerate(stringa):\n",
    "    print(\"stringa[{}] = {}\".format(indice, carattere))\n",
    "    if stringa[indice] == \"v\":\n",
    "        break"
   ]
  },
  {
   "cell_type": "markdown",
   "metadata": {},
   "source": [
    "Nel seguente esempio si utilizza **continue** per stampare solo i caratteri relativi ad indici pari. L'istruzione passa direttamente all'iterazione successiva quando l'indice è dispari, saltando la funzione *print()*"
   ]
  },
  {
   "cell_type": "code",
   "execution_count": null,
   "metadata": {},
   "outputs": [],
   "source": [
    "for indice, carattere in enumerate(stringa):\n",
    "    if indice % 2:   # True quando il resto di indice // 2 è maggiore di 0, ovvero quando il numero è dispari\n",
    "        continue\n",
    "    print(\"stringa[{}] = {}\".format(indice, carattere))"
   ]
  },
  {
   "cell_type": "markdown",
   "metadata": {},
   "source": [
    "## Esercizio: il cifrario di Vigenère per inviare messaggi segreti tra studenti\n",
    "Realizzare un cifratore/decifratore di stringhe per inviare messaggi segreti tra studenti, utilizzando il [**cifrario di Vigenère**](https://it.wikipedia.org/wiki/Cifrario_di_Vigen%C3%A8re): \n",
    "> Pubblicato nel 1586, il cifrario di Blaise de Vigenère fu ritenuto per secoli inattaccabile, godendo di una fama in buona parte immeritata essendo molto più debole di altri cifrari polialfabetici precedenti, quali il disco cifrante dell'Alberti, o le cifre del Bellaso. Una fama che è durata per molti anni anche dopo la scoperta del primo metodo di crittanalisi da parte di Charles Babbage, e la successiva formalizzazione da parte del maggiore Friedrich Kasiski: il Metodo Kasiski del 1863.  \n",
    "> Il metodo si può considerare una generalizzazione del cifrario di Giulio Cesare; invece di spostare sempre dello stesso numero di posti la lettera da cifrare, questa viene spostata di un numero di posti variabile ma ripetuto, determinato in base ad una parola chiave, da concordarsi tra mittente e destinatario.\n",
    "> Gilbert S. Vernam, partendo da una ennesima reinvenzione del cifrario di Vigenère, arrivò poi negli anni venti ad incorporare queste nozioni nel suo cifrario e Claude Shannon nel 1949 portò una dimostrazione matematica di come un cifrario con tali caratteristiche (chiave generata da un RNG, lunga almeno quanto il testo, mai riutilizzata: One Time Pad) sia teoricamente inattaccabile (cifrario perfetto). È di questo tipo il noto cifrario di Vernam, usato come base di alcune macchine cifranti e anche sulla famosa linea rossa tra Mosca e Washington.\n",
    "\n",
    "In questo tipo di cifrario si ha un testo in chiaro: ad esempio \"RAPPORTOIMMEDIATO\"  \n",
    "Ed una password, detta verme: ad esempio \"VERME\"\n",
    "La versione criptata del testo in chiaro si ottiene \"sommando\" il testo in chiaro con la password, lettera per lettera, ripetendo la password per tutta la lunghezza del testo in chiaro. L'operazione di decifratura si esegue effettuando l'operazio opposta, ovvero \"sottraendo\". Per spiegare questo concetto facciamo un esempio semplificato supponendo di aver numerato le lettere dell'alfabeto con degli indici (A=0, B=1, C=2, ..., Z=25) e di considerare solo le lettere dell'alfabeto (non i numeri, spazi e punteggiatura), ripartendo a contare da A (0) quando quando si ottiene un indice maggiore di 25. Allora possiamo cifrare il testo nel seguente modo:  \n",
    "\n",
    "| Posizione Lettera | 0 | 1 | 2 | 3 | 4 | 5 | 6 | 7 | 8 | 9 | 10 | 11 | 12 | 13 | 14 | 15 | 16 |\n",
    "| :-- | :-: | :-: | :-: | :-: | :-: | :-: | :-: | :-: | :-: | :-: | :-: | :-: | :-: | :-: | :-: | :-: | :-: |\n",
    "| Testo in Chiaro | R | A | P | P | O | R | T | O | I | M | M | E | D | I | A | T | O |\n",
    "| Indici Testo in Chiaro | 17 | 0 | 15 | 15 | 14 | 17 | 19 | 14 | 8 | 12 | 12 | 4 | 3 | 8 | 0 | 19 | 14 |\n",
    "| Password concatenata | V | E | R | M | E | V | E | R | M | E | V | E | R | M | E | V | E |\n",
    "| Indici Password | 21 | 4 | 17 | 12 | 4 | 21 | 4 | 17 | 12 | 4 | 21 | 4 | 17 | 12 | 4 | 21 | 4 |  \n",
    "| Somma Indici | 38 | 4 | 32 | 27 | 18 | 38 | 23 | 31 | 20 | 16 | 33 | 8 | 20 | 20 | 4 | 40 | 18 |  \n",
    "| modulo-26 | 12 | 4 | 6 | 1 | 18 | 12 | 23 | 5 | 20 | 16 | 7 | 8 | 20 | 20 | 4 | 14 | 18 | \n",
    "| Testo Cifrato | M | E | G | B | S | M | X | F | U | Q | H | I | U | U | E | O | S |  \n",
    "\n",
    "Ogni carattere in un computer è associato ad un numero intero: attualmente lo standard che definisce questa associazione è l'[**Unicode**](https://en.wikipedia.org/wiki/List_of_Unicode_characters), che permette di rappresentare anche simboli e caratteri stranieri. Possiamo quindi applicare la cifratura di Vigenère **utilizzando direttamente al numero Unicode associato ad ogni carattere, includendo anche numeri, spazi e punteggiatura**. In Python per ottenere il valore (int) Unicode associato ad un carattere (stringa di lunghezza unitaria) si utilizza la funzione built-in **`ord()`**, mentre per convertire un intero in un carattere (secondo la conversione Unicode) si usa la funzione built-in **`chr()`**.  \n",
    "Sapendo questo, scrivere un programma interattivo per scrivere/leggere messaggi segreti: Il programma deve presentare un menu infinito all'utente:\n",
    "- Se l'utente inserisce \"c\":\n",
    "  - Il programma deve chiedere all'utente di inserire una password per la cifratura\n",
    "  - Il programma deve chiedere all'utente di inserire un testo da cifrare \n",
    "  - Il programma deve stampare a schermo il testo criptato\n",
    "- Se l'utente inserisce \"d\":\n",
    "  - Il programma deve chiedere all'utente di inserire il testo da decifrare\n",
    "  - Il programma deve chiedere all'utente di inserire la password di decifratura\n",
    "  - Se viene inserita una password sbagliata, deve essere richiesto all'utente di inserire la password nuovamente, per un massimo di 3 volte. Dopodichè il programma deve far ritorno al menu di selezione infinito\n",
    "  - Il programma deve stampare a schermo il testo decriptato, in caso di password corretta\n",
    "- Se l'utente inserisce \"e\":\n",
    "   - Il programma deve congedarsi, uscire dal menu infinito e quindi terminare il programma\n"
   ]
  },
  {
   "cell_type": "markdown",
   "metadata": {
    "cell_type": "hint"
   },
   "source": [
    "> HINT: Come fare per verificare se la password di deficrazione è corretta? Un suggerimento è quello di inserire la password alla fine del testo da cifrare (concatenazione), quindi cifrare il testo con la password stessa. Quando si vuole verificare la correttezza della password sul testo cifrato, è sufficiente decifrare il testo con la password di decifrazione inserita dall'utente e poi verificare se essa corrisponde alla sua versione decifrata. In caso positivo presentare il testo risultante, rimuovendo la password che era stata aggiunta in fondo al testo."
   ]
  },
  {
   "cell_type": "code",
   "execution_count": null,
   "metadata": {},
   "outputs": [],
   "source": [
    "# Esempio di uso ord() e chr()\n",
    "carattere = \"c\"\n",
    "carattere2 = \"a\"\n",
    "\n",
    "carattere_unicode = ord(carattere)\n",
    "print(carattere_unicode, end=\" - \")\n",
    "print(chr(carattere_unicode))\n",
    "\n",
    "carattere2_unicode = ord(carattere2)\n",
    "print(carattere2_unicode, end=\" - \")\n",
    "print(chr(carattere2_unicode))\n",
    "\n",
    "somma_unicode = carattere_unicode + carattere2_unicode\n",
    "print(\"{} + {} = {}\".format(carattere_unicode, carattere2_unicode, somma_unicode), end=\" - \")\n",
    "print(chr(somma_unicode))"
   ]
  },
  {
   "cell_type": "markdown",
   "metadata": {},
   "source": [
    "### Invio di messaggi tra un PC e l'altro usando il protocollo MQTT\n",
    "Ora che avete realizzato un programma che cifra i messaggi, potete integrarne le caratteristiche in una vera chat che manda messaggi da un utente all'altro sulla rete dei PC della classe. L'invio dei messaggi avverrà utilizzando il [**protocollo MQTT**](https://it.wikipedia.org/wiki/MQTT), che utilizza come server centrale il PC del docente per smistare i messaggi delle varie chat. MQTT si basa sul concetto di **canale**, similmente ai canali televisivi, ai canali Youtube...\n",
    "\n",
    "<div style=\"text-align:center\"><img width=\"600px\" src=\"images/MQTT Broker nw.png\"></div>\n",
    "\n",
    "- Se un dispositivo client **si sintonizza su un canale (topic)**, ogni messaggio che compare nel canale viene scaricato. Il funzionamento è simile a Youtube: quando sottoscriviamo un canale (**subscribe**) riceviamo in automatico (**funzione di callback**) gli aggiornamenti relativi a quel canale se un altro utente pubblica un nuovo contenuto (**messaggio**). MQTT può sintonizzarsi anche su canali ancora da creare, come un televisore che si sintonizza su un canale per il quale il segnale è assente.\n",
    "- Se un dispositivo client **invia un messaggio ad un canale** (se il canale non esiste viene creato), questo messaggio viene reso disponibile a tutti i **subscribers**\n",
    "- Il **broker MQTT** è il server che si occupa di gestire i canali ed inviare ai partecipanti (subscribers) i messaggi che vengono inviati ai canali sottoscritti. Per noi è la sede delle poste.\n",
    "MQTT permette di creare canali e sottocanali, similmente a come su un PC vengono create cartelle e sottocartelle. Ci si può quindi sottoscrivere ad un canale e decidere se ricevere anche gli aggiornamenti relativi agli eventuali canali sotto di lui. Ogni canale in MQTT è indirizzato da un **topic** ovvero l'indirizzo (path) del canale:\n",
    "- Supponiamo di avere i seguenti canali \"sensori/cucina/temperatura1\" e \"sensori/cucina/temperatura2\"\n",
    "- Allora \"temperatura1\" e \"temperatura2\" sono sottocanali del canale \"cucina\" che a sua volta è sottocanale di \"sensori\"\n",
    "- Se sottoscriviamo il cananle \"sensori/cucina/temperatura1\" riceviamo solo gli aggiornamenti della temperatura relativa al sensore \"temperatura1\" della cucina\n",
    "- Se sottoscriviamo il canale \"sensori/cucina/#\" riceveremo gli aggiornamenti di entrambi i sensori. Nel messaggio che riceviamo è incluso l'indirizzo del canale che ha originato il messaggio, quindi possiamo sempre individuare il mittente del messaggio\n",
    "- Se sottoscrivoamo \"sensori/#\" otteniamo aggiornamenti anche da eventuali altre stanze che possono essere aggiunte in futuro\n",
    "- Quando riveciamo un messaggio da un canale a cui siamo iscritti, viene chiamata una funzione detta **di callback** che si occupa di processare il messaggio ricevuto (aggiornamento proveniente da uno dei topic)\n",
    "Per usare MQTT per creare una chat tra studenti è sufficiente definire **un nickname** (noi) e conoscere il **nickname del destinatario**:\n",
    "- Noi dovremo sottoscrivere al canale \"chat/nostro_nickname/#\", che comprende quindi anche tutti i sottocanali associati al nostro canale\n",
    "- Gli altri per mandarci un messaggio dovranno pubblicare sul canale \"chat/nostro_nickname/loro_nickname\". In questo modo creano dei sottocanali (sotto nostro_nickname) a cui noi siamo sintonizzati\n",
    "- Ogni volta che compare un messaggio il nostro programma lo scaricherà ed assieme al messaggio ci sarà anche l'indirizzo del canale di partenza, ovvero il nome di chi ci ha mandato il messaggio!\n",
    "- Ad esempio se sono \"matteo\" e sto inviando un messaggio a \"luca\", farò un **publish(\"chat/luca/matteo\", \"Ciao Luca! Come stai?\")**. Luca sarà sottoscritto a **subscribe(\"chat/luca/#\")** ed appena il messaggio di matteo compare nel sottocanale vine chiamata la funzione di **callback** di gestione messaggi, che recupera messaggio ed il mittente \"matteo\" (dal nome del sottocanale). Ovviamente \"luca\" per rispondere a \"matteo\" deve avere una configurazione speculare.\n",
    "\n",
    "**Per inviare messaggi tra studenti vi viene messa a disposizione una libreria personalizzata composta da una Classe realizzata appositamente per questo esercizio. La Classe a sua volta sfrutta la libreria paho-mqtt**. La libreria paho non fa parte della dotazione di Python e va installata a parte, aprite quindi un terminale da Jupyter ed installatela con il comando `pip install paho-mqtt` dopodichè riavviate il kernel (Kernel -> Restart Kernel)  \n",
    "\n",
    "La Classe per la comunicazione tra studenti si trova nella sottocartella *data*, il seguente codice mostra come importarla e creare un oggetto da utilizzare per **l'invio dei messaggi**. Il *broker_ip* è l'indirizzo IP del PC del docente, che vi verrà comunicato a lezione. Il vostro nickname è *nickname*. **Creare un nuovo file Jupyter chiamato \"Invia Messaggio\"** ed assicurarsi che nel posto dove lo salvate esista una sottocartella chiamata \"data\" (se non esiste createla), nella quale sia stato copiato il file \"ChatStudenti.py\" fornito."
   ]
  },
  {
   "cell_type": "code",
   "execution_count": null,
   "metadata": {},
   "outputs": [],
   "source": [
    "from data.ChatStudenti import ChatStudente\n",
    "\n",
    "broker_ip = \"127.0.0.1\"\n",
    "nickname = \"matteo\"\n",
    "\n",
    "chat = ChatStudente(broker_ip, nickname)\n",
    "\n",
    "destinatario = input(\"Inserisci il nickname del destinatario: \")\n",
    "messaggio = input(\"inserisci il messaggio da inviare: \")\n",
    "\n",
    "chat.inviaMessaggio(destinatario, messaggio)"
   ]
  },
  {
   "cell_type": "markdown",
   "metadata": {},
   "source": [
    "Se volete avere in Jupyter una barra input più larga per l'immissione del testo eseguite **prima** il seguente codice"
   ]
  },
  {
   "cell_type": "code",
   "execution_count": null,
   "metadata": {},
   "outputs": [],
   "source": [
    "from IPython.display import HTML\n",
    "HTML(\"\"\"\n",
    "<style>\n",
    ".jp-Stdin-input {\n",
    "    width: 80% !important;\n",
    "}\n",
    "</style>\n",
    "\"\"\")"
   ]
  },
  {
   "cell_type": "markdown",
   "metadata": {},
   "source": [
    "**Creare un nuovo file Jupyter chiamato \"Ricevitore Messaggi\"** ed assicurarsi che venga salvato nella stessa cartella dove avete salvato quello per inviare i messaggi. In questo modo potete aprire due notebook, una a sinistra per iniare i messaggi ed una a destra per riceverli, eseguendoli come programmi separati"
   ]
  },
  {
   "cell_type": "code",
   "execution_count": null,
   "metadata": {},
   "outputs": [],
   "source": [
    "from data.ChatStudenti import ChatStudente\n",
    "\n",
    "broker_ip = \"127.0.0.1\"\n",
    "nickname = \"matteo\"\n",
    "chat = ChatStudente(broker_ip, nickname)\n",
    "\n",
    "def gestore_messaggi(mittente, messaggio):\n",
    "    print(messaggio)\n",
    "\n",
    "try:\n",
    "    chat.avviaRicevitore(gestore_messaggi)\n",
    "except KeyboardInterrupt:\n",
    "    print(\"\\nEsco dal Subscriber...\")"
   ]
  },
  {
   "cell_type": "markdown",
   "metadata": {},
   "source": [
    "All'interno della funzione **gestore_messaggi()** potete inserire il vostro codice che elabora il messaggio ricevuto.  \n",
    "\n",
    "**Ecco quello che vi resta da fare per completare l'invio di messaggi crittati tra studenti:**\n",
    "- Creare i **due notebook separati per inviare e ricevere messaggi** e testarne il funzionamento\n",
    "- **Modificare** i due notebook utilizzando il codice realizzato per il **cifrario di Vigenère** in modo che l'utente possa inviare un messaggio cifrato (scegliendo una password), ricevere un messaggio cifrato con la possibilità di decodificarlo inserendo una password a seguito della ricezione (va verificata anche la correttezza della password per 3 volte). Ovvero\n",
    "  - Il **programma di invio** deve avere un menu infinito. **Inserendo \"i\"** viene chiesto il **nickname del destinatario**, il **messaggio** e di inserire una **password per criptare** il testo (più o meno come avveniva inserendo \"c\" con il programma di Vigenère). Se l'utente non inserisce alcuna password deve essere inviato il **testo in chiaro**, altrimenti il testo crittografato. **Premendo \"e\"** il programma deve uscire dal menu e terminare\n",
    "  - Il **programma di ricezione** deve ricevere i messaggi e visualizzarli, dopodichè chiedere all'utente di **inserire l'eventuale password** per la decrittazione. Se l'utente preme semplicemente invio non si esegue alcuna ulteriore operazione, se invece viene inserita una password si deve procedere alla **verifica della stessa** ed alla **visualizzazione del testo decriptato** (come nell'esercizio di Vigenère).\n",
    "- **Provare ad inviarvi messaggi segreti criptati** scegliendo il vostro nick e comunicandolo ad un compagno, assieme alla password che userete per inviargli i messaggi!"
   ]
  },
  {
   "cell_type": "markdown",
   "metadata": {},
   "source": [
    "## If **in** e If **is**\n",
    "In Python si può usare la parola chiave **in** per verificare se un elemento è contenuto in una collezione (che sia una stringa, una lista, un set...). La seguente sintassi restituisce un risultato bool, ovvero True o False:\n",
    "```python\n",
    "esito = elemento in collezione\n",
    "```\n",
    "Possiamo quindi creare un costrutto che esegue delle operazioni se l'elemento cercato è presente:\n",
    "```python\n",
    "if elemento in collezione:\n",
    "    pass\n",
    "else:\n",
    "    pass\n",
    "```\n",
    "Ad esempio con le stringhe (sono una sequenza, ovvero un iterable ovvero una collezione) possiamo verificare velocemente se è presente un carattere o meno, anzi possiamo verificare se sono presenti addirittura delle sottostringhe in questo caso. Si possono utilizzare anche gli operatori and, or, not per creare condizioni complesse: "
   ]
  },
  {
   "cell_type": "code",
   "execution_count": 10,
   "metadata": {},
   "outputs": [
    {
     "name": "stdout",
     "output_type": "stream",
     "text": [
      "True\n",
      "False\n",
      "True\n",
      "True\n",
      "la sottostringa mondo è contenuta nella stringa data\n"
     ]
    }
   ],
   "source": [
    "# Esempio con le stringhe\n",
    "stringa = \"ciao mondo\"\n",
    "print(\"c\" in stringa)\n",
    "print(\"s\" in stringa)\n",
    "print(\"mon\" in stringa)\n",
    "print(\"mon\" and \"ia\" in stringa)\n",
    "if \"mondo\" in stringa:\n",
    "    print(\"la sottostringa mondo è contenuta nella stringa data\")"
   ]
  },
  {
   "cell_type": "code",
   "execution_count": 11,
   "metadata": {},
   "outputs": [
    {
     "name": "stdout",
     "output_type": "stream",
     "text": [
      "False\n",
      "True\n",
      "True\n",
      "la lista contiene un oggetto bool dal valore True\n"
     ]
    }
   ],
   "source": [
    "# Esempio con le liste\n",
    "lista = [1, 2, \"ciao\", True]\n",
    "print(7 in lista)\n",
    "print(2 in lista)\n",
    "print(\"ciao\" and 2 in lista and 7 not in lista)\n",
    "if True in lista:\n",
    "    print(\"la lista contiene un oggetto bool dal valore True\")"
   ]
  },
  {
   "cell_type": "markdown",
   "metadata": {},
   "source": [
    "In Python si usa la parola chiave **is** per verificare se un oggetto è uguale ad un altro dal punto di vista della locazione in memoria e non del contenuto. In pratica `is` confronta gli `id()` dei due oggetti e restituisce True se sono uguali. Ricordiamo che Python esegue anche delle ottimizzazioni di memoria nel caso di interi minori di 256 (ed anche i bool) e su molte stringhe. Gli oggetti creati da classi complesse invece sono sempre distinti"
   ]
  },
  {
   "cell_type": "code",
   "execution_count": 12,
   "metadata": {},
   "outputs": [
    {
     "name": "stdout",
     "output_type": "stream",
     "text": [
      "False\n"
     ]
    }
   ],
   "source": [
    "# Esempio con due numeri interi non ottimizzati\n",
    "a = 666\n",
    "b = 666\n",
    "print(a is b)"
   ]
  },
  {
   "cell_type": "code",
   "execution_count": null,
   "metadata": {},
   "outputs": [],
   "source": [
    "# Esempio con due numeri interi ottimizzati\n",
    "a = 47\n",
    "b = 47\n",
    "print(a is b)"
   ]
  },
  {
   "cell_type": "code",
   "execution_count": null,
   "metadata": {},
   "outputs": [],
   "source": [
    "print(True is True)\n",
    "print(\"ciao\" is \"ciao\")"
   ]
  },
  {
   "cell_type": "markdown",
   "metadata": {},
   "source": [
    "Anche in questo caso è possibile utilizzare un costrutto if dedicato:\n",
    "```python\n",
    "if riferimentoA is riferimentoB:\n",
    "    pass\n",
    "else:\n",
    "    pass\n",
    "```"
   ]
  }
 ],
 "metadata": {
  "kernelspec": {
   "display_name": "Python 3",
   "language": "python",
   "name": "python3"
  },
  "language_info": {
   "codemirror_mode": {
    "name": "ipython",
    "version": 3
   },
   "file_extension": ".py",
   "mimetype": "text/x-python",
   "name": "python",
   "nbconvert_exporter": "python",
   "pygments_lexer": "ipython3",
   "version": "3.6.6"
  }
 },
 "nbformat": 4,
 "nbformat_minor": 2
}
