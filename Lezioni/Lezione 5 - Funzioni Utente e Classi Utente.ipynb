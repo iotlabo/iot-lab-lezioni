{
 "cells": [
  {
   "cell_type": "markdown",
   "metadata": {},
   "source": [
    "# Funzioni Utente e Classi Utente\n",
    "\n",
    "In questa lezione vedremo come realizzare le **funzioni utente**, poi passeremo alle **classi utente**, ovvero le Classi che descrivono oggetti pensati da noi e non già integrati nel Python (come ad esempio str, int, float, list, set, dict, ...). Abbiamo già visto nelle scorse lezioni alcune funzioni (che vengono definite con **def**) ed anche alcune classi (che vengono definite con **class**): \n",
    "- La funzione di ordinamento personalizzato era una funzione\n",
    "- Il Thread parallelo usato con i cicli While era una funzione\n",
    "- Gli oggetti di tipo Studente erano implementati dalla classe Studente\n",
    "- Nella prima lezione avevamo definito una classe Mammifero ed una classe Persona\n",
    "- ....  \n",
    "\n",
    "All'interno di una classe possiamo definire attributi e metodi. In Python gli **attributi sono rappresentati da variabili**, che sono **riferimenti ad oggetti** (ovvero istanze di qualche Classe). I **metodi sono invece delle funzioni** legate alla specifica Classe. Quando si parla di Classi **le funzioni vengono chiamate metodi e le variabili attributi**. Vedremo che ci sono attributi e metodi **di istanza**, **di classse** e **statici**.  \n",
    "Possiamo iniziare a descrivere formalmente la sintassi per funzioni e classi, ripercorrendo alcuni esempi fatti nelle precedenti lezioni ed introducendone di nuovi. "
   ]
  },
  {
   "cell_type": "markdown",
   "metadata": {},
   "source": [
    "## Le Funzioni\n",
    "\n",
    "Una funzione è **un oggetto di tipo callable** che **può accettare degli argomenti** e **può ritornare degli oggetti**. Abbiamo già avuto modo di utilizzare funzioni che il linguaggio ci mette a disposizione, ad esempio **print()** è una funzione, **sorted()** è una funzione, **cos()** e **sin()** della libreria matematica sono funzioni... A volte abbiamo usato qualcosa che abbiamo *semplicemente* chiamato funzione, ma che in realtà è un **costruttore di una classe, ovvero un metodo**, ad esempio **str()**, **int()**, eccetera, usati per il type casting. Abbiamo anche usato dei metodi, ad esempio quelli associati alle stringhe, alle liste, ai dizionari...\n",
    "\n",
    "Per **chiamare una funzione** basta quindi semplicemente scrivere il **nome della funzione seguita da `()`**, senza spazi. Se la funzione accetta degli **argomenti** (in modo analogo alle funzioni matematiche), essi vanno passati separati da virgole **all'interno delle parentesi**. È importante l'ordine con cui vengono passati gli argomenti, a meno che non si faccia riferimento ad un particolare argomento usando il suo **nome**. Se vengono utilizzati entrambi i modi di passare gli argomenti, **prima vanno definiti gli argomenti posizionali, partendo dal primo** e **dopo vanno definiti quelli nominativi**, che saranno quindi tutti a destra. In una funzione inoltre vi possono essere **argomenti obbligatori** ed **argomenti facoltativi**: vedremo come è possibile definire dei valori di devault per i parametri facoltativi du una funzione utente.\n",
    "\n",
    "- Esempio di una funzione che NON prende argomenti e NON restituisce risultati: una funzione di questo tipo semplicemente esegue una porzione di codice\n",
    "\n",
    "```python\n",
    "funzione()\n",
    "```\n",
    "\n",
    "- Esempio di una funzione che riceve degli argomenti ma NON restituise risultati: una funzione di questo tipo esegue del codice il cui funzionamento dipende da una serie di parametri\n",
    "\n",
    "```python\n",
    "funzione(arg_pos1, arg_pos2, .... , arg_nom1=val1, arg_nom2=val2, ...)\n",
    "```\n",
    "\n",
    "- Esempio di una funzione che riceve degli argomeni e restituisce dei risultati: una funzione di questo tipo esegue del codice che produce un risultato dipendente dai parametri passati\n",
    "\n",
    "```python\n",
    "oggetto_restituito = funzione(arg_pos1, arg_pos2, .... , arg_nom1=val1, arg_nom2=val2, ...)\n",
    "```\n",
    "\n",
    "- Possiamo avere anche una funzione che non riceve parametri ma restituisce comunque qualcosa che viene generato al suo interno. Per fare un esempio, si pensi alla funzione *random()* della libreria *random* che restituisce un nuovo numero random tra 0 e 1\n",
    "\n",
    "```python\n",
    "oggetto_restituito = funzione()\n",
    "```\n"
   ]
  },
  {
   "cell_type": "code",
   "execution_count": 13,
   "metadata": {},
   "outputs": [
    {
     "name": "stdout",
     "output_type": "stream",
     "text": [
      "<class 'builtin_function_or_method'>\n",
      "\n",
      "Ciao Mondo\n"
     ]
    }
   ],
   "source": [
    "# Vediamo la funzione built-in print()\n",
    "print(type(print))\n",
    "print()   # riga vuota quando non si passa alcun argomento\n",
    "print(\"Ciao Mondo\")"
   ]
  },
  {
   "cell_type": "code",
   "execution_count": 18,
   "metadata": {},
   "outputs": [
    {
     "name": "stdout",
     "output_type": "stream",
     "text": [
      "<class 'builtin_function_or_method'>\n"
     ]
    }
   ],
   "source": [
    "# Vediamo un metodo, ad esempio append() delle liste\n",
    "lista = list()\n",
    "print(type(lista.append))"
   ]
  },
  {
   "cell_type": "markdown",
   "metadata": {},
   "source": [
    "### Definizione di una funzione, argomenti e parametri, variabili locali e globali\n",
    "Per definire una funzione su usa la parola chiave **def** seguita dal nome della funzione e dagli eventuali parametri, nell'ordine con cui vanno inseriti. Per ritornare un oggetto si usa la parola chiave **return**. A differenza di altri linguaggi come il C **non è necessario definire il tipo di dato ritornato a priori**: \n",
    "- se scriviamo semplicemente *return* la funzione viene interrotta, senza restituire niente. Si può quindi usare `return` per terminare forzatamente una funzione (analogia con *break* usato nei cicli)\n",
    "- Se non intendiamo ritornare niente e non è necessario interrompere manualmente la funzione, possiamo omettere il *return*. La funzione in questo caso termina quando giunge alla sua ultima riga di codice\n",
    "- se scriviamo `return oggetto`, la funzione termina e viene restituito l'oggetto specificato\n",
    "\n",
    "> Di solito si usa il termine *argomenti* per i riferimenti passati quando si chiama una funzione, ed il termine *parametri* quando si definiscono i nomi dei riferimenti usati all'interno della funzione.\n",
    "\n",
    "**NOTA:** tutti gli argomenti vengono passati **per riferimento** in Python, a differenza di altri linguaggi dove esiste anche il passaggio per valore. Ricordiamo che in Python tutto è un oggetto e le variabili sono tutte puntatori (riferimenti).\n",
    "\n",
    "Una funzione va **sempre definita prima di poterla usare**, ovvero bisogna assicurarsi che prima di chiamarla sia stato creato il relativo oggetto callable, operazione che avviene quando viene eseguita la riga di codice `def funzione()`.\n",
    "\n",
    "La sintassi usata per la definizione di una funzione utente è la seguente:\n",
    "\n",
    "```python\n",
    "def funzione(par1, par2, par3, ....):\n",
    "    # ............\n",
    "    # ............\n",
    "    return oggetto\n",
    "```\n",
    "\n",
    "> Dato che la funzione è un costrutto che racchiude un blocco di codice, l'intestazione termina con i due punti `:` ed il codice appartenente alla funzione viene indentato.\n",
    "\n",
    "**NOTA:** i nomi usati come parametri hanno validità **solo all'interno della funzione stessa**. Se all'esterno della funzione esistono variabili aventi lo stesso nome dei parametri, Python dà priorità ai parametri locali.\n",
    "\n",
    "Vediamo un esempi odi una funzione usata solo per racchiudere un blocco di codice. Le funzioni sono utili per evitare il copia&incolla nei nostri programmi."
   ]
  },
  {
   "cell_type": "code",
   "execution_count": 22,
   "metadata": {},
   "outputs": [
    {
     "name": "stdout",
     "output_type": "stream",
     "text": [
      "<class 'function'>\n",
      "Ciao\n",
      "Ciao\n"
     ]
    }
   ],
   "source": [
    "import time\n",
    "\n",
    "# Esempio funzione senza parametri e senza valore di ritorno\n",
    "def stampa_ciao():\n",
    "    time.sleep(1)\n",
    "    print(\"Ciao\")\n",
    "    time.sleep(1)\n",
    "    print(\"Ciao\")\n",
    "    \n",
    "# Visualizzo il tipo\n",
    "print(type(stampa_ciao))\n",
    "# Chiamo la funzione\n",
    "stampa_ciao()"
   ]
  },
  {
   "cell_type": "markdown",
   "metadata": {},
   "source": [
    "Vediamo una funzione con due parametri. Quando chiamiamo la funzione dobbiamo passare gli argomenti con il giusto ordine! Prima il nome e poi il cognome. "
   ]
  },
  {
   "cell_type": "code",
   "execution_count": 21,
   "metadata": {},
   "outputs": [
    {
     "name": "stdout",
     "output_type": "stream",
     "text": [
      "Il nome completo è: Luca Neri\n"
     ]
    }
   ],
   "source": [
    "# Esempio funzione con parametri, ma senza valore di ritorno\n",
    "# nome e cognome sono argomenti della funzione\n",
    "def stampa_nome_cognome(nome, cognome):\n",
    "    print(\"Il nome completo è: {} {}\".format(nome, cognome))\n",
    "    \n",
    "# Chiamo la funzione\n",
    "stampa_nome_cognome(\"Luca\", \"Neri\")"
   ]
  },
  {
   "cell_type": "markdown",
   "metadata": {},
   "source": [
    "Vediamo che la cosa funziona anche se abbiamo nel codice principali variabili con lo stesso nome dei parametri. Quando nella funzione facciamo il print con format e **cerchiamo di ACCEDERE IN LETTURA** alle variabili `nome` e `cognome`, Python prima **cerca se esistono delle variabili locali aventi quei nomi a cui accedere**. Se esistono usa quelle, altrimenti cerca tra le **variabili globali**, ovvero quelle dichiarate fuori dalla funzione, nel programma principale.\n",
    "\n",
    "> Si definiscono **variabili locali** quelle definite/create all'interno della funzione stessa (compresa l'intestazione). Si definiscono **variabili globali** le variabili accessibili da tutto il programma."
   ]
  },
  {
   "cell_type": "code",
   "execution_count": 24,
   "metadata": {},
   "outputs": [
    {
     "name": "stdout",
     "output_type": "stream",
     "text": [
      "Il nome completo è: Luca Neri\n"
     ]
    }
   ],
   "source": [
    "# nome e cognome qui sono variabili globali, ma dentro la funzione vengono definite\n",
    "# due variabili locali aventi lo stesso nome. Le due \"versioni\" non interferiscono\n",
    "nome = \"Pippo\"\n",
    "cognome = \"Rossi\"\n",
    "stampa_nome_cognome(\"Luca\", \"Neri\")"
   ]
  },
  {
   "cell_type": "markdown",
   "metadata": {},
   "source": [
    "Per capire il funzionamento delle variabili locali e globali consideriamo il seguente esempio, dove viene utilizzata una variabile globale per rappresentare il numero di volte che viene utilizzata la funzione *stampa_nome_cognome_()* che andiamo a **ridefinire**\n",
    "\n",
    "> Quando definiamo una funzione che è già stata precedentemente definita, la nuova definizione sostituisce la vecchia.\n",
    "\n",
    "> Essendo le funzioni considerate come oggetti, possiamo definire una funzione all'interno di un'altra funzione. In questo caso tale funzione avrà validità solo all'interno della funzione che la contiene. **Si ricorda il concetto di *scope* di una variabile**, ovvero il \"dominio di esistenza."
   ]
  },
  {
   "cell_type": "code",
   "execution_count": 64,
   "metadata": {},
   "outputs": [
    {
     "name": "stdout",
     "output_type": "stream",
     "text": [
      "[Sun Apr  7 21:24:53 2019] Il nome completo è: Matteo Bianchi\n",
      "La funzione è stata chiamata 1 volte\n",
      "[Sun Apr  7 21:24:53 2019] Il nome completo è: Giacomo Verdi\n",
      "La funzione è stata chiamata 2 volte\n",
      "[Sun Apr  7 21:24:53 2019] Il nome completo è: Pippo Rossi\n",
      "La funzione è stata chiamata 3 volte\n"
     ]
    }
   ],
   "source": [
    "# Supponiamo di avere delle variabili globali:\n",
    "nome = \"Pippo\"\n",
    "cognome = \"Rossi\"\n",
    "conteggio_stampe = 0\n",
    "\n",
    "def stampa_nome_cognome(nome, cognome):\n",
    "    variabile_locale = time.asctime()   # questa variabile locale contiene data/ora ed esiste solo nella funzione\n",
    "    def stampa_qualcosa(qualcosa):    # questa è una funzione locale che vive solo dentro stampa_nome_cognome\n",
    "        print(qualcosa)\n",
    "    # anche nome e cognome sono variabili locali (ed hanno precedenza rispetto a quelle globali)\n",
    "    print(\"[{}] Il nome completo è: {} {}\".format(variabile_locale, nome, cognome))\n",
    "    # conteggio_stampe non esiste tra le variabili locali, python la cerca tra quelle globali\n",
    "    stampa_qualcosa(\"La funzione è stata chiamata {} volte\".format(conteggio_stampe))\n",
    "    \n",
    "conteggio_stampe += 1\n",
    "stampa_nome_cognome(\"Matteo\", \"Bianchi\")\n",
    "conteggio_stampe += 1\n",
    "stampa_nome_cognome(\"Giacomo\", \"Verdi\")\n",
    "conteggio_stampe += 1\n",
    "stampa_nome_cognome(nome, cognome)"
   ]
  },
  {
   "cell_type": "code",
   "execution_count": 25,
   "metadata": {},
   "outputs": [
    {
     "ename": "NameError",
     "evalue": "name 'variabile_locale' is not defined",
     "output_type": "error",
     "traceback": [
      "\u001b[1;31m---------------------------------------------------------------------------\u001b[0m",
      "\u001b[1;31mNameError\u001b[0m                                 Traceback (most recent call last)",
      "\u001b[1;32m<ipython-input-25-1d61fb5fcefc>\u001b[0m in \u001b[0;36m<module>\u001b[1;34m()\u001b[0m\n\u001b[0;32m      1\u001b[0m \u001b[1;31m# Se proviamo ad accedere a variabile_locale fuori dalla funzione...\u001b[0m\u001b[1;33m\u001b[0m\u001b[1;33m\u001b[0m\u001b[0m\n\u001b[1;32m----> 2\u001b[1;33m \u001b[0mprint\u001b[0m\u001b[1;33m(\u001b[0m\u001b[0mvariabile_locale\u001b[0m\u001b[1;33m)\u001b[0m\u001b[1;33m\u001b[0m\u001b[0m\n\u001b[0m",
      "\u001b[1;31mNameError\u001b[0m: name 'variabile_locale' is not defined"
     ]
    }
   ],
   "source": [
    "# Se proviamo ad accedere a variabile_locale fuori dalla funzione... Ovvero fuori dal suo scope...\n",
    "print(variabile_locale)"
   ]
  },
  {
   "cell_type": "markdown",
   "metadata": {},
   "source": [
    "Se proviamo **a modificare** la variabile `conteggio_stampe` **dall'interno della funzione** otteniamo un errore oppure un comportamento sbagliato della funzione: il discorso fatto sull'accesso alle variabili globali quando non ne esiste una locale con quel nome, **vale solo IN LETTURA**. Quando proviamo ad accedere a quella variabile **in SCRITTURA** stiamo in realtà **creando una variabile locale (avente lo stesso nome di quella globale)**"
   ]
  },
  {
   "cell_type": "code",
   "execution_count": 31,
   "metadata": {},
   "outputs": [
    {
     "name": "stdout",
     "output_type": "stream",
     "text": [
      "[Sun Apr  7 20:07:12 2019] Il nome completo è: Matteo Bianchi\n"
     ]
    },
    {
     "ename": "UnboundLocalError",
     "evalue": "local variable 'conteggio_stampe' referenced before assignment",
     "output_type": "error",
     "traceback": [
      "\u001b[1;31m---------------------------------------------------------------------------\u001b[0m",
      "\u001b[1;31mUnboundLocalError\u001b[0m                         Traceback (most recent call last)",
      "\u001b[1;32m<ipython-input-31-ca8ab19f21f2>\u001b[0m in \u001b[0;36m<module>\u001b[1;34m()\u001b[0m\n\u001b[0;32m     12\u001b[0m \u001b[1;33m\u001b[0m\u001b[0m\n\u001b[0;32m     13\u001b[0m \u001b[1;33m\u001b[0m\u001b[0m\n\u001b[1;32m---> 14\u001b[1;33m \u001b[0mstampa_nome_cognome\u001b[0m\u001b[1;33m(\u001b[0m\u001b[1;34m\"Matteo\"\u001b[0m\u001b[1;33m,\u001b[0m \u001b[1;34m\"Bianchi\"\u001b[0m\u001b[1;33m)\u001b[0m\u001b[1;33m\u001b[0m\u001b[0m\n\u001b[0m\u001b[0;32m     15\u001b[0m \u001b[0mstampa_nome_cognome\u001b[0m\u001b[1;33m(\u001b[0m\u001b[1;34m\"Giacomo\"\u001b[0m\u001b[1;33m,\u001b[0m \u001b[1;34m\"Verdi\"\u001b[0m\u001b[1;33m)\u001b[0m\u001b[1;33m\u001b[0m\u001b[0m\n\u001b[0;32m     16\u001b[0m \u001b[0mstampa_nome_cognome\u001b[0m\u001b[1;33m(\u001b[0m\u001b[0mnome\u001b[0m\u001b[1;33m,\u001b[0m \u001b[0mcognome\u001b[0m\u001b[1;33m)\u001b[0m\u001b[1;33m\u001b[0m\u001b[0m\n",
      "\u001b[1;32m<ipython-input-31-ca8ab19f21f2>\u001b[0m in \u001b[0;36mstampa_nome_cognome\u001b[1;34m(nome, cognome)\u001b[0m\n\u001b[0;32m      8\u001b[0m     \u001b[1;31m# anche nome e cognome sono variabili locali (ed hanno precedenza rispetto a quelle globali)\u001b[0m\u001b[1;33m\u001b[0m\u001b[1;33m\u001b[0m\u001b[0m\n\u001b[0;32m      9\u001b[0m     \u001b[0mprint\u001b[0m\u001b[1;33m(\u001b[0m\u001b[1;34m\"[{}] Il nome completo è: {} {}\"\u001b[0m\u001b[1;33m.\u001b[0m\u001b[0mformat\u001b[0m\u001b[1;33m(\u001b[0m\u001b[0mvariabile_locale\u001b[0m\u001b[1;33m,\u001b[0m \u001b[0mnome\u001b[0m\u001b[1;33m,\u001b[0m \u001b[0mcognome\u001b[0m\u001b[1;33m)\u001b[0m\u001b[1;33m)\u001b[0m\u001b[1;33m\u001b[0m\u001b[0m\n\u001b[1;32m---> 10\u001b[1;33m     \u001b[0mconteggio_stampe\u001b[0m \u001b[1;33m+=\u001b[0m \u001b[1;36m1\u001b[0m\u001b[1;33m\u001b[0m\u001b[0m\n\u001b[0m\u001b[0;32m     11\u001b[0m     \u001b[0mprint\u001b[0m\u001b[1;33m(\u001b[0m\u001b[1;34m\"La funzione è stata chiamata {} volte\"\u001b[0m\u001b[1;33m.\u001b[0m\u001b[0mformat\u001b[0m\u001b[1;33m(\u001b[0m\u001b[0mconteggio_stampe\u001b[0m\u001b[1;33m)\u001b[0m\u001b[1;33m)\u001b[0m\u001b[1;33m\u001b[0m\u001b[0m\n\u001b[0;32m     12\u001b[0m \u001b[1;33m\u001b[0m\u001b[0m\n",
      "\u001b[1;31mUnboundLocalError\u001b[0m: local variable 'conteggio_stampe' referenced before assignment"
     ]
    }
   ],
   "source": [
    "# Supponiamo di avere delle variabili globali:\n",
    "nome = \"Pippo\"\n",
    "cognome = \"Rossi\"\n",
    "conteggio_stampe = 0\n",
    "\n",
    "def stampa_nome_cognome(nome, cognome):\n",
    "    variabile_locale = time.asctime()   # questa variabile locale contiene data/ora ed esiste solo nella funzione\n",
    "    # anche nome e cognome sono variabili locali (ed hanno precedenza rispetto a quelle globali)\n",
    "    print(\"[{}] Il nome completo è: {} {}\".format(variabile_locale, nome, cognome))\n",
    "    conteggio_stampe += 1\n",
    "    print(\"La funzione è stata chiamata {} volte\".format(conteggio_stampe))\n",
    "    \n",
    "\n",
    "stampa_nome_cognome(\"Matteo\", \"Bianchi\")\n",
    "stampa_nome_cognome(\"Giacomo\", \"Verdi\")\n",
    "stampa_nome_cognome(nome, cognome)"
   ]
  },
  {
   "cell_type": "markdown",
   "metadata": {},
   "source": [
    "Per poter **accedere in scrittura** oppure **creare una variabile globale** dall'**interno di una funzione** dobbiamo specificare che il nome utilizzato è da considerarsi variabile globale, usando la parola chiave **global**. In questo caso Python va esplicitamente a cercare tale variabile tra quelle globali, anche in scrittura (assegnazione riferimenti). "
   ]
  },
  {
   "cell_type": "code",
   "execution_count": 37,
   "metadata": {},
   "outputs": [
    {
     "name": "stdout",
     "output_type": "stream",
     "text": [
      "[Sun Apr  7 20:16:11 2019] Il nome completo è: Matteo Bianchi\n",
      "La funzione è stata chiamata 1 volte\n",
      "[Sun Apr  7 20:16:11 2019] Il nome completo è: Giacomo Verdi\n",
      "La funzione è stata chiamata 2 volte\n",
      "[Sun Apr  7 20:16:11 2019] Il nome completo è: Pippo Rossi\n",
      "La funzione è stata chiamata 3 volte\n"
     ]
    }
   ],
   "source": [
    "# Supponiamo di avere delle variabili globali:\n",
    "nome = \"Pippo\"\n",
    "cognome = \"Rossi\"\n",
    "conteggio_stampe = 0\n",
    "\n",
    "def stampa_nome_cognome(nome, cognome):\n",
    "    # Dichiaro che conteggio_stampe è una variabile globale\n",
    "    global conteggio_stampe\n",
    "    variabile_locale = time.asctime()   # questa variabile locale contiene data/ora ed esiste solo nella funzione\n",
    "    # anche nome e cognome sono variabili locali (ed hanno precedenza rispetto a quelle globali)\n",
    "    print(\"[{}] Il nome completo è: {} {}\".format(variabile_locale, nome, cognome))\n",
    "    conteggio_stampe += 1\n",
    "    print(\"La funzione è stata chiamata {} volte\".format(conteggio_stampe))\n",
    "    \n",
    "\n",
    "stampa_nome_cognome(\"Matteo\", \"Bianchi\")\n",
    "stampa_nome_cognome(\"Giacomo\", \"Verdi\")\n",
    "stampa_nome_cognome(nome, cognome)"
   ]
  },
  {
   "cell_type": "code",
   "execution_count": 38,
   "metadata": {},
   "outputs": [
    {
     "name": "stdout",
     "output_type": "stream",
     "text": [
      "Ciao Ciao!\n"
     ]
    }
   ],
   "source": [
    "def crea_variabile_globale(oggetto):\n",
    "    # Creo una variabile globale contenente il riferimento passato come parametro\n",
    "    global variabile_globale\n",
    "    variabile_globale = oggetto\n",
    "    \n",
    "crea_variabile_globale(\"Ciao Ciao!\")\n",
    "\n",
    "# In questo punto del codice la variabile è stata creata. \n",
    "# La creazione è avvenuta all'interno della funzione\n",
    "\n",
    "print(variabile_globale)"
   ]
  },
  {
   "cell_type": "markdown",
   "metadata": {},
   "source": [
    "Di solito si identificano le variabili globali all'inizio di una funzione, ma è possibile farlo anche nel mezzo del codice, importante è che venga fatto prima di usare i relativi nomi di variabile. Se si definisce un nome variabile come *global*, lo stesso nome **non può essere stato utilizzato precedentemente come variabile locale**, altrimenti si ottiene un errore. Questo vale anche per i nomi dei parametri, essendo anch'essi variabili locali."
   ]
  },
  {
   "cell_type": "code",
   "execution_count": 33,
   "metadata": {},
   "outputs": [
    {
     "ename": "SyntaxError",
     "evalue": "name 'nome' is parameter and global (<ipython-input-33-117befdd58f1>, line 2)",
     "output_type": "error",
     "traceback": [
      "\u001b[1;36m  File \u001b[1;32m\"<ipython-input-33-117befdd58f1>\"\u001b[1;36m, line \u001b[1;32m2\u001b[0m\n\u001b[1;33m    global nome, cognome\u001b[0m\n\u001b[1;37m    ^\u001b[0m\n\u001b[1;31mSyntaxError\u001b[0m\u001b[1;31m:\u001b[0m name 'nome' is parameter and global\n"
     ]
    }
   ],
   "source": [
    "def stampa_nome_cognome(nome, cognome):\n",
    "    global nome, cognome"
   ]
  },
  {
   "cell_type": "code",
   "execution_count": 34,
   "metadata": {},
   "outputs": [
    {
     "ename": "SyntaxError",
     "evalue": "name 'variabile_locale' is assigned to before global declaration (<ipython-input-34-2dbc47ce826b>, line 3)",
     "output_type": "error",
     "traceback": [
      "\u001b[1;36m  File \u001b[1;32m\"<ipython-input-34-2dbc47ce826b>\"\u001b[1;36m, line \u001b[1;32m3\u001b[0m\n\u001b[1;33m    global variabile_locale\u001b[0m\n\u001b[1;37m    ^\u001b[0m\n\u001b[1;31mSyntaxError\u001b[0m\u001b[1;31m:\u001b[0m name 'variabile_locale' is assigned to before global declaration\n"
     ]
    }
   ],
   "source": [
    "def stampa_nome_cognome(nome, cognome):\n",
    "    variabile_locale = time.asctime() \n",
    "    global variabile_locale"
   ]
  },
  {
   "cell_type": "markdown",
   "metadata": {},
   "source": [
    "Le variabili globali in genere non vengono scritte dall'interno delle funzioni, **non è una pratica molto consigliata perchè può portare ad errori**: si pensi ad esempio al caso di due funzioni che vengono eseguite in parallelo (threads) e provano a scrivere simultaneamente valori differenti, nel mentre vi sono altre funzioni che cercano di leggere la variabile. Non è possibile determinare il valore che assumerà la variabile e quale valore verrà letto. Per operazioni di questo tipo sono necessari dei **sincronismi imposti**. Quando però si è sicuri di quello che si sta facendo, le variabili globali risultano comode, come nel contatore dell'esempio precedente. \n",
    "\n",
    "Quando si vuole passare un dato ad una funzione è molto meglio passarlo tramite argomenti, quando si vuole ritornare un dato è molto meglio usare *return*. Un'altra possibilità per avere una **memoria esterna alla funzione** è quella di utilizzare una **collezione mutable** (list, set, dictionary...) passata alla funzione come argomento. Essendo la collezione mutable, è possibile modificarla conoscendone il riferimento e le modifiche si ripercuotono sull'oggetto oroginale senza necessità di efinire variabili globali o ritornare valori.  \n",
    "**Questo tipo di funzioni effettuano delle modifiche in-place sui dati passati come argomento** e quindi non serve che ritornino valori. Al termine della funzione l'oggetto di partenza avrà il contnuto modificato e tale modifica sarà direttamente accessibile a tutto il programma (ovunque viene utilizzato l'oggetto in questione)."
   ]
  },
  {
   "cell_type": "code",
   "execution_count": 48,
   "metadata": {},
   "outputs": [
    {
     "name": "stdout",
     "output_type": "stream",
     "text": [
      "[{'timestamp': 'Sun Apr  7 20:43:07 2019', 'nome_completo': 'Matteo Bianchi'}]\n",
      "\n",
      "[{'timestamp': 'Sun Apr  7 20:43:07 2019', 'nome_completo': 'Matteo Bianchi'}, {'timestamp': 'Sun Apr  7 20:43:07 2019', 'nome_completo': 'Giacomo Verdi'}]\n",
      "\n",
      "[{'timestamp': 'Sun Apr  7 20:43:07 2019', 'nome_completo': 'Matteo Bianchi'}, {'timestamp': 'Sun Apr  7 20:43:07 2019', 'nome_completo': 'Giacomo Verdi'}, {'timestamp': 'Sun Apr  7 20:43:07 2019', 'nome_completo': 'Franco Blu'}]\n",
      "\n"
     ]
    }
   ],
   "source": [
    "lista_persone = []\n",
    "\n",
    "def aggiungi_nome_cognome(nome, cognome, lista):\n",
    "    variabile_locale = time.asctime()\n",
    "    # Creo un dizionario\n",
    "    persona = dict()\n",
    "    persona[\"timestamp\"] = variabile_locale\n",
    "    persona[\"nome_completo\"] = \"{} {}\".format(nome, cognome)\n",
    "    # Aggiungo il dizionario alla lista passata. Tale lista verrà modificata!\n",
    "    lista.append(persona)\n",
    "    \n",
    "\n",
    "aggiungi_nome_cognome(\"Matteo\", \"Bianchi\", lista_persone)\n",
    "print(lista_persone, end=\"\\n\\n\")\n",
    "aggiungi_nome_cognome(\"Giacomo\", \"Verdi\", lista_persone)\n",
    "print(lista_persone, end=\"\\n\\n\")\n",
    "aggiungi_nome_cognome(\"Franco\", \"Blu\", lista_persone)\n",
    "print(lista_persone, end=\"\\n\\n\")"
   ]
  },
  {
   "cell_type": "markdown",
   "metadata": {},
   "source": [
    "Quando si vuole ritornare **un nuovo oggetto** si deve utilizzare **return**. È il caso in cui si vuole ritornare un oggetto, ad esempio una stringa o un intero che essendo *not mutable* richiedono sempre la creazione di un nuovo oggetto (creazione che avviene all'interno della funzione stessa). Si pensi per esempio al caso in cui si vuole effettuare una operazione matematica su dei dati passati come argomenti.  \n",
    "Può anche essere il caso in cui si ritorna un nuovo **oggetto mutable**, si pensi ad esempio ad una funzione che filtra una lista di dati e ritrona una nuova lista contenente il risultato del filtraggio. La lista viene generata all'interno della funzione, quindi il suo riferimento viene ritornato con *return*.\n",
    "\n",
    "**NB:** quando viene chiamato **return** la funzione termina (similmente al break dei cicli While e For) e restituisce l'oggetto (se specificato)"
   ]
  },
  {
   "cell_type": "code",
   "execution_count": 56,
   "metadata": {},
   "outputs": [
    {
     "name": "stdout",
     "output_type": "stream",
     "text": [
      "CALDAIA ACCESA\n"
     ]
    }
   ],
   "source": [
    "# La funzione ritorna la stringa \"caldaia accesa\" se temperatura < setpoint\n",
    "# Altrimenti ritorna \"caldaia spenta\". Se il setpoint è minore di 10 gradi\n",
    "# ritorna None (nessun riferimento), che può essere usato per segnalare un problema\n",
    "def termostato(temperatura, setpoint):\n",
    "    if setpoint < 10:\n",
    "        return None\n",
    "    if temperatura < setpoint:\n",
    "        return \"caldaia accesa\"\n",
    "    else:\n",
    "        return \"caldaia spenta\"\n",
    "\n",
    "# Eseguo la funzione del termostato\n",
    "caldaia = termostato(18, 25)\n",
    "\n",
    "if caldaia:    #NB: None viene valutato False, qualsiasi cosa non nulla viene valutata True\n",
    "    print(caldaia.upper())\n",
    "else:\n",
    "    print(\"Errore nell'impostazione del termostato!\")"
   ]
  },
  {
   "cell_type": "markdown",
   "metadata": {},
   "source": [
    "Usare semplicemente **return senza oggetto** esce dalla funzione e non restituisce nessun riferimento: **è la stessa cosa di ritornare None!** \n",
    "\n",
    "> Quindi le funzioni che non ritornano niente **in realtà ritornano None**, che viene cestinato in quanto non viene passato ad alcuna variabile\n",
    "\n",
    "**NOTA:** Anche la generazione di un errore (**raise**) causa l'interruzione forzata della funzione, ma in modo più \"brutale\". L'errore si propaga alla funzione chiamante (livello superiore), se non viene gestito (costrutto try...except) causa l'interruzione anche di quest'ultima funzione e si propaga al livello superiore, fino al raggiungimento del livello più alto (che causa il termine dell'intero programma)"
   ]
  },
  {
   "cell_type": "code",
   "execution_count": 61,
   "metadata": {},
   "outputs": [
    {
     "name": "stdout",
     "output_type": "stream",
     "text": [
      "Errore nell'impostazione del termostato!\n",
      "None\n"
     ]
    }
   ],
   "source": [
    "# La funzione ritorna la stringa \"caldaia accesa\" se temperatura < setpoint\n",
    "# Altrimenti ritorna \"caldaia spenta\". Se il setpoint è minore di 10 gradi\n",
    "# ritorna None (nessun riferimento), che può essere usato per segnalare un problema\n",
    "def termostato(temperatura, setpoint):\n",
    "    if setpoint < 10:\n",
    "        return    # Agisce \"come un break\" (ritorna implicitamente None)\n",
    "    if temperatura < setpoint:\n",
    "        return \"caldaia accesa\"\n",
    "    else:\n",
    "        return \"caldaia spenta\"\n",
    "\n",
    "# Eseguo la funzione del termostato\n",
    "caldaia = termostato(18, 5)\n",
    "\n",
    "if caldaia:    #NB: None viene valutato False, qualsiasi cosa non nulla viene valutata True\n",
    "    print(caldaia.upper())\n",
    "else:\n",
    "    print(\"Errore nell'impostazione del termostato!\")\n",
    "    print(caldaia)"
   ]
  },
  {
   "cell_type": "markdown",
   "metadata": {},
   "source": [
    "**OSSERVAZIONE:** Se una funzione ritorna dei dati, non è obbligatorio assegnarli ad una variabile! Possiamo anche decidere di ignorare l'oggetto di ritorno e volutamente cestinarlo. Ad esempio questo può essere fatto quando il valore di ritorno sia una informazione opzionale o supplementare che in quel momento non ci interessa salvare o verificare.\n",
    "\n",
    "Prendiamo per esempio *input()*: volendo possiamo usarlo solo per bloccare il programma e non considerare il testo inserito dall'utente, nonostante la funzione lo ritorni"
   ]
  },
  {
   "cell_type": "code",
   "execution_count": 63,
   "metadata": {},
   "outputs": [
    {
     "name": "stdout",
     "output_type": "stream",
     "text": [
      "Il programma stamperà i numeri da 1 a 10\n"
     ]
    },
    {
     "name": "stdin",
     "output_type": "stream",
     "text": [
      "Premere invio per continuare l'esecuzione \n"
     ]
    },
    {
     "name": "stdout",
     "output_type": "stream",
     "text": [
      "1  2  3  4  5  6  7  8  9  10  "
     ]
    }
   ],
   "source": [
    "print(\"Il programma stamperà i numeri da 1 a 10\")\n",
    "input(\"Premere invio per continuare l'esecuzione\")    # Il carattere invio (ed eventuali altri inseriti) non vengono salvati\n",
    "for i in range(1, 11):\n",
    "    print(i, end=\"  \")"
   ]
  },
  {
   "cell_type": "markdown",
   "metadata": {},
   "source": [
    "Essendo il Python un linguaggio con **tipizzazione dinamica**, non è necessario specificare il tipo degli argomenti/parametri. Possiamo passare anche delle stringhe alla stessa funzione di prima. Sarà compito del programmatore fare gli adeguati controlli ed impedire all'utente di inserire i dati sbagliati. Di solito si informa l'utente utilizzando:\n",
    "- Una **documentazione chiara** di ciò che fa la funzione e quali dati si aspetta in input, quali invece sono gli output\n",
    "- L'uso della tecnica del **type hinting**, che permette di definire il tipo dei dati ma solo per uso \"come suggerimento\" da parte degli editor di codice Python. Non impedisce l'esecuzione del codice se viene fornito il dato sbagliato (esempio int piuttosto che str)\n",
    "- **Controllo sul tipo** di dato e **generazione di una eccezione** se qualcosa non è corretto"
   ]
  },
  {
   "cell_type": "code",
   "execution_count": 65,
   "metadata": {},
   "outputs": [
    {
     "ename": "TypeError",
     "evalue": "'<' not supported between instances of 'str' and 'int'",
     "output_type": "error",
     "traceback": [
      "\u001b[1;31m---------------------------------------------------------------------------\u001b[0m",
      "\u001b[1;31mTypeError\u001b[0m                                 Traceback (most recent call last)",
      "\u001b[1;32m<ipython-input-65-5d2c285a5407>\u001b[0m in \u001b[0;36m<module>\u001b[1;34m()\u001b[0m\n\u001b[1;32m----> 1\u001b[1;33m \u001b[0mcaldaia\u001b[0m \u001b[1;33m=\u001b[0m \u001b[0mtermostato\u001b[0m\u001b[1;33m(\u001b[0m\u001b[1;34m\"18\"\u001b[0m\u001b[1;33m,\u001b[0m \u001b[1;34m\"5\"\u001b[0m\u001b[1;33m)\u001b[0m\u001b[1;33m\u001b[0m\u001b[0m\n\u001b[0m",
      "\u001b[1;32m<ipython-input-61-0069ad65b9e0>\u001b[0m in \u001b[0;36mtermostato\u001b[1;34m(temperatura, setpoint)\u001b[0m\n\u001b[0;32m      3\u001b[0m \u001b[1;31m# ritorna None (nessun riferimento), che può essere usato per segnalare un problema\u001b[0m\u001b[1;33m\u001b[0m\u001b[1;33m\u001b[0m\u001b[0m\n\u001b[0;32m      4\u001b[0m \u001b[1;32mdef\u001b[0m \u001b[0mtermostato\u001b[0m\u001b[1;33m(\u001b[0m\u001b[0mtemperatura\u001b[0m\u001b[1;33m,\u001b[0m \u001b[0msetpoint\u001b[0m\u001b[1;33m)\u001b[0m\u001b[1;33m:\u001b[0m\u001b[1;33m\u001b[0m\u001b[0m\n\u001b[1;32m----> 5\u001b[1;33m     \u001b[1;32mif\u001b[0m \u001b[0msetpoint\u001b[0m \u001b[1;33m<\u001b[0m \u001b[1;36m10\u001b[0m\u001b[1;33m:\u001b[0m\u001b[1;33m\u001b[0m\u001b[0m\n\u001b[0m\u001b[0;32m      6\u001b[0m         \u001b[1;32mreturn\u001b[0m\u001b[1;33m\u001b[0m\u001b[0m\n\u001b[0;32m      7\u001b[0m     \u001b[1;32mif\u001b[0m \u001b[0mtemperatura\u001b[0m \u001b[1;33m<\u001b[0m \u001b[0msetpoint\u001b[0m\u001b[1;33m:\u001b[0m\u001b[1;33m\u001b[0m\u001b[0m\n",
      "\u001b[1;31mTypeError\u001b[0m: '<' not supported between instances of 'str' and 'int'"
     ]
    }
   ],
   "source": [
    "caldaia = termostato(\"18\", \"5\")"
   ]
  },
  {
   "cell_type": "markdown",
   "metadata": {},
   "source": [
    "Possiamo usare **isinstance()** per verificare il tipo dell'oggetto passato come argomento e **raise** per generare una eccezione, ad esempio possiamo una delle eccezioni standard del linguaggio Python: quella che fa al caso nostro è *TypeError*, di norma usata per segnalare errori di tipo, mentre *ValueError* è usata per segnalare errori di valore. Ritorneremo sulle eccezioni e loro gestione dopo aver trattato le Classi Utente."
   ]
  },
  {
   "cell_type": "code",
   "execution_count": 66,
   "metadata": {},
   "outputs": [],
   "source": [
    "def termostato(temperatura, setpoint):\n",
    "    if not isinstance(temperatura, int):\n",
    "        raise TypeError(\"temperatura deve essere un intero\")\n",
    "    if not isinstance(setpoint, int):\n",
    "        raise TypeError(\"setpoint deve essere un intero\")\n",
    "    if setpoint < 10:\n",
    "        raise ValueError(\"setpoint deve essere >= 10\")\n",
    "    if temperatura < setpoint:\n",
    "        return \"caldaia accesa\"\n",
    "    else:\n",
    "        return \"caldaia spenta\""
   ]
  },
  {
   "cell_type": "code",
   "execution_count": 67,
   "metadata": {},
   "outputs": [
    {
     "ename": "TypeError",
     "evalue": "temperatura deve essere un intero",
     "output_type": "error",
     "traceback": [
      "\u001b[1;31m---------------------------------------------------------------------------\u001b[0m",
      "\u001b[1;31mTypeError\u001b[0m                                 Traceback (most recent call last)",
      "\u001b[1;32m<ipython-input-67-5d2c285a5407>\u001b[0m in \u001b[0;36m<module>\u001b[1;34m()\u001b[0m\n\u001b[1;32m----> 1\u001b[1;33m \u001b[0mcaldaia\u001b[0m \u001b[1;33m=\u001b[0m \u001b[0mtermostato\u001b[0m\u001b[1;33m(\u001b[0m\u001b[1;34m\"18\"\u001b[0m\u001b[1;33m,\u001b[0m \u001b[1;34m\"5\"\u001b[0m\u001b[1;33m)\u001b[0m\u001b[1;33m\u001b[0m\u001b[0m\n\u001b[0m",
      "\u001b[1;32m<ipython-input-66-6d9da8aaea2d>\u001b[0m in \u001b[0;36mtermostato\u001b[1;34m(temperatura, setpoint)\u001b[0m\n\u001b[0;32m      1\u001b[0m \u001b[1;32mdef\u001b[0m \u001b[0mtermostato\u001b[0m\u001b[1;33m(\u001b[0m\u001b[0mtemperatura\u001b[0m\u001b[1;33m,\u001b[0m \u001b[0msetpoint\u001b[0m\u001b[1;33m)\u001b[0m\u001b[1;33m:\u001b[0m\u001b[1;33m\u001b[0m\u001b[0m\n\u001b[0;32m      2\u001b[0m     \u001b[1;32mif\u001b[0m \u001b[1;32mnot\u001b[0m \u001b[0misinstance\u001b[0m\u001b[1;33m(\u001b[0m\u001b[0mtemperatura\u001b[0m\u001b[1;33m,\u001b[0m \u001b[0mint\u001b[0m\u001b[1;33m)\u001b[0m\u001b[1;33m:\u001b[0m\u001b[1;33m\u001b[0m\u001b[0m\n\u001b[1;32m----> 3\u001b[1;33m         \u001b[1;32mraise\u001b[0m \u001b[0mTypeError\u001b[0m\u001b[1;33m(\u001b[0m\u001b[1;34m\"temperatura deve essere un intero\"\u001b[0m\u001b[1;33m)\u001b[0m\u001b[1;33m\u001b[0m\u001b[0m\n\u001b[0m\u001b[0;32m      4\u001b[0m     \u001b[1;32mif\u001b[0m \u001b[1;32mnot\u001b[0m \u001b[0misinstance\u001b[0m\u001b[1;33m(\u001b[0m\u001b[0msetpoint\u001b[0m\u001b[1;33m,\u001b[0m \u001b[0mint\u001b[0m\u001b[1;33m)\u001b[0m\u001b[1;33m:\u001b[0m\u001b[1;33m\u001b[0m\u001b[0m\n\u001b[0;32m      5\u001b[0m         \u001b[1;32mraise\u001b[0m \u001b[0mTypeError\u001b[0m\u001b[1;33m(\u001b[0m\u001b[1;34m\"setpoint deve essere un intero\"\u001b[0m\u001b[1;33m)\u001b[0m\u001b[1;33m\u001b[0m\u001b[0m\n",
      "\u001b[1;31mTypeError\u001b[0m: temperatura deve essere un intero"
     ]
    }
   ],
   "source": [
    "caldaia = termostato(\"18\", \"5\")"
   ]
  },
  {
   "cell_type": "code",
   "execution_count": 68,
   "metadata": {},
   "outputs": [
    {
     "ename": "ValueError",
     "evalue": "setpoint deve essere >= 10",
     "output_type": "error",
     "traceback": [
      "\u001b[1;31m---------------------------------------------------------------------------\u001b[0m",
      "\u001b[1;31mValueError\u001b[0m                                Traceback (most recent call last)",
      "\u001b[1;32m<ipython-input-68-7993a3b89fb4>\u001b[0m in \u001b[0;36m<module>\u001b[1;34m()\u001b[0m\n\u001b[1;32m----> 1\u001b[1;33m \u001b[0mcaldaia\u001b[0m \u001b[1;33m=\u001b[0m \u001b[0mtermostato\u001b[0m\u001b[1;33m(\u001b[0m\u001b[1;36m18\u001b[0m\u001b[1;33m,\u001b[0m \u001b[1;36m5\u001b[0m\u001b[1;33m)\u001b[0m\u001b[1;33m\u001b[0m\u001b[0m\n\u001b[0m",
      "\u001b[1;32m<ipython-input-66-6d9da8aaea2d>\u001b[0m in \u001b[0;36mtermostato\u001b[1;34m(temperatura, setpoint)\u001b[0m\n\u001b[0;32m      5\u001b[0m         \u001b[1;32mraise\u001b[0m \u001b[0mTypeError\u001b[0m\u001b[1;33m(\u001b[0m\u001b[1;34m\"setpoint deve essere un intero\"\u001b[0m\u001b[1;33m)\u001b[0m\u001b[1;33m\u001b[0m\u001b[0m\n\u001b[0;32m      6\u001b[0m     \u001b[1;32mif\u001b[0m \u001b[0msetpoint\u001b[0m \u001b[1;33m<\u001b[0m \u001b[1;36m10\u001b[0m\u001b[1;33m:\u001b[0m\u001b[1;33m\u001b[0m\u001b[0m\n\u001b[1;32m----> 7\u001b[1;33m         \u001b[1;32mraise\u001b[0m \u001b[0mValueError\u001b[0m\u001b[1;33m(\u001b[0m\u001b[1;34m\"setpoint deve essere >= 10\"\u001b[0m\u001b[1;33m)\u001b[0m\u001b[1;33m\u001b[0m\u001b[0m\n\u001b[0m\u001b[0;32m      8\u001b[0m     \u001b[1;32mif\u001b[0m \u001b[0mtemperatura\u001b[0m \u001b[1;33m<\u001b[0m \u001b[0msetpoint\u001b[0m\u001b[1;33m:\u001b[0m\u001b[1;33m\u001b[0m\u001b[0m\n\u001b[0;32m      9\u001b[0m         \u001b[1;32mreturn\u001b[0m \u001b[1;34m\"caldaia accesa\"\u001b[0m\u001b[1;33m\u001b[0m\u001b[0m\n",
      "\u001b[1;31mValueError\u001b[0m: setpoint deve essere >= 10"
     ]
    }
   ],
   "source": [
    "caldaia = termostato(18, 5)"
   ]
  },
  {
   "cell_type": "markdown",
   "metadata": {},
   "source": [
    "Usando la **gestione delle eccezioni**, l'esempio visto precedentemente si può riscrivere usando *try...except* per gestire le eccezioni (approccio *chiedere il perdono*) anzichè verificare con un if se il dato che voglio passare alla funzione è corretto prima di chiamarla (approccio *chiedere il permesso*). Il seguente esempio mostra una anticipazione relativa al costrutto *try...except* che verrà trattato più avanti"
   ]
  },
  {
   "cell_type": "code",
   "execution_count": 75,
   "metadata": {},
   "outputs": [
    {
     "name": "stdout",
     "output_type": "stream",
     "text": [
      "Errore nell'impostazione del termostato: setpoint deve essere >= 10\n"
     ]
    }
   ],
   "source": [
    "# Applico la filosofia python zen \"chiedere il perdono, non il permesso\" usando try...catch\n",
    "try:\n",
    "    caldaia = termostato(18, 5)\n",
    "    print(caldaia.upper())\n",
    "except ValueError as e:\n",
    "    print(\"Errore nell'impostazione del termostato: \" + str(e))\n",
    "except TypeError as e:\n",
    "    print(\"Errore: {}\".format(e))"
   ]
  },
  {
   "cell_type": "markdown",
   "metadata": {},
   "source": [
    "### Le funzioni con output multivariabile\n",
    "Le funzioni possono ritornare una **tuple di oggetti** (o una **list**) anzichè un oggetto singolo. In questo caso si parla di funzioni con output multivariabile in quanto possono essere estratte le singole variabili con la sintassi:\n",
    "\n",
    "```python\n",
    "out1, out2, out3, ... = funzione(arg1, arg2, ... )\n",
    "```\n",
    "\n",
    "Se la funzione ritorna una tuple (o una lista) composta da 3 elementi, si dovranno utilizzare tre variabili per estrarre in un colpo solo i tre elementi ritornati. Utilizzando una sola variabile si ottiene l'oggetto collezione (tuple o lista). Non è invece possibile estrarre solo due elementi su 3, a meno di non ignorarli esplicitamente"
   ]
  },
  {
   "cell_type": "code",
   "execution_count": 76,
   "metadata": {},
   "outputs": [],
   "source": [
    "numeri = [1, 8, 5, 3, 9, 4]\n",
    "\n",
    "def min_max_sum(lista_numeri):\n",
    "    minimo = min(lista_numeri)\n",
    "    massimo = max(lista_numeri)\n",
    "    somma = sum(lista_numeri)\n",
    "    return (minimo, massimo, somma)"
   ]
  },
  {
   "cell_type": "code",
   "execution_count": 82,
   "metadata": {},
   "outputs": [
    {
     "name": "stdout",
     "output_type": "stream",
     "text": [
      "(1, 9, 30)\n",
      "somma: 30\n"
     ]
    }
   ],
   "source": [
    "# Ottengo la tuple intera se uso una singola variabile\n",
    "tuple_ritornata = min_max_sum(numeri)\n",
    "print(tuple_ritornata)\n",
    "\n",
    "# Posso comunque accedere a un singolo elemento nota la posizione nella tuple\n",
    "print(\"somma: %d\" % min_max_sum(numeri)[2])"
   ]
  },
  {
   "cell_type": "code",
   "execution_count": 81,
   "metadata": {},
   "outputs": [
    {
     "name": "stdout",
     "output_type": "stream",
     "text": [
      "minimo: 1  -  massimo: 9  -  somma: 30\n"
     ]
    }
   ],
   "source": [
    "# Estrazione valori di ritorno nel caso multivariabile\n",
    "numero_min, numero_max, somma_numeri = min_max_sum(numeri)\n",
    "print(\"minimo: {}  -  massimo: {}  -  somma: {}\".format(numero_min, numero_max, somma_numeri))"
   ]
  },
  {
   "cell_type": "markdown",
   "metadata": {},
   "source": [
    "Le funzioni multivariabile possono essere usate anche con i cicli For multivariabile. È ad esempio il caso della funzione built-in *enumerate()* già vista. Il discorso vale anche per le funzioni utente."
   ]
  },
  {
   "cell_type": "markdown",
   "metadata": {},
   "source": [
    "### Gli argomenti opzionali ed i parametri di default"
   ]
  },
  {
   "cell_type": "markdown",
   "metadata": {},
   "source": [
    "Abbiamo visto che **si possono passare gli argomenti usando il nome anzichè la posizione**: questa pratica risulta **molto comoda nel caso di argomenti opzionali**:\n",
    "- Si passano gli argomenti \"caratterizzanti\" per la funzione considerata, usando di solito la posizione\n",
    "- Se gli argomenti facoltativi sono immediatamente dopo quelli obbligatori ed è necessario passarli tutti, si può ancora usare il passaggio posizionale\n",
    "- Nel caso in cui vi siano diversi argomenti opzionali e/o l'argomento opzionale di interesse non sia immediatamente successivo a quello/i obbligatorio/i è necessario passare l'argomento usando il suo nome, ovvero il **nome del parametro** (quello usato nella definizione della funzione)  \n",
    "\n",
    "Ad esempio si può avere, nel caso in cui i primi due argomenti siano obbligatori e ve ne siano altri di facoltativi che è necessario utilizzare per questa chiamata:\n",
    "\n",
    "```python\n",
    "oggetto_restituito = funzione(arg_obb1, arg_obb2, arg_fac1=val1, arg_fac2=val2)\n",
    "```\n",
    "\n",
    "> NB: Una funzione può avere anche tutti i parametri opzionali, come già visto. Per esempio *print()*. Abbiamo visto anche un altro parametro opzionale di print chiamato con il nome *end*, che permette di impostare il carattere di fine riga. In questo caso il primo argomento (che è opzionale ma è quello caratterizzante della funzione) lo passiamo in modo posizionale, mentre *end* viene passato con il suo nome\n",
    ">```python\n",
    "># Carattere finale stringa vuota, evita che print() vada a capo (caso default)\n",
    ">print(\"La stringa da stampare\", end=\"\")\n",
    ">```\n",
    "\n",
    "Ma come si fa a definire parametri opzionali nelle funzioni? E come fare ad assegnare un valore di default quando non vengono passati argomenti relativi a parametri opzionali?  \n",
    "**È sufficiente assegnare il valore di default quando si definiscono i parametri della funzione. I nomi dei parametri sono quelli che vanno usati quando si passano gi argomenti per nome.**  \n",
    "\n",
    "```python\n",
    "def funzione(par_obb1, par_obb2, ..., par_fac1=val_def1, par_fac2=val_def2, ... )\n",
    "```\n",
    "\n",
    "Cerchiamo di capire con questo esempio:"
   ]
  },
  {
   "cell_type": "code",
   "execution_count": 112,
   "metadata": {},
   "outputs": [],
   "source": [
    "lista_nomi_completi = [\n",
    "    \"Marco Rossi\",\n",
    "    \"Luca Neri\",\n",
    "    \"Lorenza Gialli\",\n",
    "    \"Martina Rosa\",\n",
    "    \"Mirko Indaco\",\n",
    "    \"Matteo Rossi\",\n",
    "    \"Marco Blu\",\n",
    "    \"Francesca Verde\"\n",
    "]\n",
    "\n",
    "# La funzione separa nomi e cognomi restituendo due liste separate, una con i nomi ed\n",
    "# una con i cognomi. Opzionalmente è possibile ordinare le liste in ordine alfabetico\n",
    "# oppure ottenere dei set anzichè delle liste. È anche possibile filtrare le liste/set e\n",
    "# rimuovere le persone il cui nome (o cognome) è oltre una certa lettera dell'alfabeto\n",
    "def separa_nomi_cognomi(lista_in, filtro_nome=None, filtro_cognome=None, ordina_nomi=False, ordina_cognomi=False, to_set=False):\n",
    "    # Genero le due NUOVE liste (operazioni obbligatorie caratterizzanti della funzione)\n",
    "    lista_nomi = [nome_completo.split(\" \")[0] for nome_completo in lista_in]\n",
    "    lista_cognomi = [nome_completo.split(\" \")[1] for nome_completo in lista_in]\n",
    "    # Verifico se sono stati passati i due argomenti opzionali relativi al filtraggio a partire da una lettera\n",
    "    # Se gli argomenti vengono passati saranno stringhe contenenti un carattere e non il valore di default None\n",
    "    # questo tipo di if valuta a False anche il caso in cui viene passata una stringa vuota \"\"\n",
    "    if filtro_nome:\n",
    "        lista_nomi = [nome for nome in lista_nomi if nome[0].capitalize() <= filtro_nome[0].capitalize()]\n",
    "    if filtro_cognome:\n",
    "        lista_cognomi = [cognome for cognome in lista_cognomi if cognome[0].capitalize() <= filtro_cognome[0].capitalize()]\n",
    "    # Verifico se ordinare nomi e cognomi, in caso ordino in-place. Operazione che va fatta \n",
    "    # solo se non devo convertire a set (sarebbe una operazione superflua in questo caso)\n",
    "    if ordina_nomi and not to_set:\n",
    "        lista_nomi.sort()\n",
    "    if ordina_cognomi and not to_set:\n",
    "        lista_cognomi.sort()\n",
    "    # Restituisco un tuple di due elementi contenente le due liste o i due set se l'opzione se è True\n",
    "    return (lista_nomi, lista_cognomi) if not to_set else (set(lista_nomi), set(lista_cognomi))"
   ]
  },
  {
   "cell_type": "markdown",
   "metadata": {},
   "source": [
    "Vediamo ora diversi modi con cui chiamare la funzione utilizzando l'argomento obbligatorio (nome parametro *lista_in*) ed i vari argomenti facoltativi"
   ]
  },
  {
   "cell_type": "code",
   "execution_count": 113,
   "metadata": {},
   "outputs": [
    {
     "name": "stdout",
     "output_type": "stream",
     "text": [
      "['Marco', 'Luca', 'Lorenza', 'Martina', 'Mirko', 'Matteo', 'Marco', 'Francesca']\n",
      "['Rossi', 'Neri', 'Gialli', 'Rosa', 'Indaco', 'Rossi', 'Blu', 'Verde']\n"
     ]
    }
   ],
   "source": [
    "nomi, cognomi = separa_nomi_cognomi(lista_nomi_completi)\n",
    "print(nomi)\n",
    "print(cognomi)"
   ]
  },
  {
   "cell_type": "code",
   "execution_count": 114,
   "metadata": {},
   "outputs": [
    {
     "name": "stdout",
     "output_type": "stream",
     "text": [
      "['Luca', 'Lorenza', 'Francesca']\n",
      "['Neri', 'Gialli', 'Indaco', 'Blu']\n"
     ]
    }
   ],
   "source": [
    "nomi, cognomi = separa_nomi_cognomi(lista_nomi_completi, \"L\", \"Q\")\n",
    "print(nomi)\n",
    "print(cognomi)"
   ]
  },
  {
   "cell_type": "code",
   "execution_count": 115,
   "metadata": {},
   "outputs": [
    {
     "name": "stdout",
     "output_type": "stream",
     "text": [
      "['Blu', 'Gialli', 'Indaco', 'Neri']\n"
     ]
    }
   ],
   "source": [
    "cognomi = separa_nomi_cognomi(lista_nomi_completi, filtro_cognome=\"Q\", ordina_cognomi=True)[1]\n",
    "print(cognomi)"
   ]
  },
  {
   "cell_type": "code",
   "execution_count": 116,
   "metadata": {},
   "outputs": [
    {
     "name": "stdout",
     "output_type": "stream",
     "text": [
      "{'Blu', 'Neri', 'Indaco', 'Gialli'}\n"
     ]
    }
   ],
   "source": [
    "cognomi = separa_nomi_cognomi(lista_nomi_completi, filtro_cognome=\"Q\", to_set=True)[1]\n",
    "print(cognomi)"
   ]
  },
  {
   "cell_type": "code",
   "execution_count": 117,
   "metadata": {},
   "outputs": [
    {
     "name": "stdout",
     "output_type": "stream",
     "text": [
      "{'Mirko', 'Martina', 'Lorenza', 'Marco', 'Luca', 'Matteo', 'Francesca'}\n"
     ]
    }
   ],
   "source": [
    "nomi = separa_nomi_cognomi(lista_nomi_completi, to_set=True)[0]\n",
    "print(nomi)"
   ]
  },
  {
   "cell_type": "code",
   "execution_count": 119,
   "metadata": {},
   "outputs": [
    {
     "name": "stdout",
     "output_type": "stream",
     "text": [
      "['Marco', 'Luca', 'Lorenza', 'Martina', 'Mirko', 'Matteo', 'Marco', 'Francesca']\n"
     ]
    }
   ],
   "source": [
    "nomi = separa_nomi_cognomi(lista_in=lista_nomi_completi)[0]\n",
    "print(nomi)"
   ]
  },
  {
   "cell_type": "markdown",
   "metadata": {},
   "source": [
    "### Le funzioni Ricorsive"
   ]
  },
  {
   "cell_type": "markdown",
   "metadata": {},
   "source": [
    "In Python si possono eseguire anche [funzioni ricorsive](https://it.wikipedia.org/wiki/Algoritmo_ricorsivo): in matematica una funzione è detta ricorsiva se per calcolare il risultato di tale funzione è necessario applicare la funzione stessa. Una algoritmo ricorsivo si compone sempre di due parti:\n",
    "- **Un passo ricorsivo**, che coinvolge una o più chiamate alla funzione ricorsiva stessa\n",
    "- **Un passo costante**, costituito da una o più **condizioni \"di uscita\"** che ritornano un valore noto (e non una chiamata ricorsiva)  \n",
    "\n",
    "Spesso alcuni algoritmi vengono in modo più naturale se scritti in forma ricorsiva (è molto usata per alcuni algoritmi di ricerca, come ad esempio la ricerca binaria). La differenza tra una scrittura iterativa ed una ricorsiva è il modo in cui viene utilizzata la memoria: in una funzione iterativa si hanno parecchie iterazioni e quindi la criticità risiede nella quantità di memoria Heap disponibile (out of memory). Nel caso delle funzioni ricorsive si hanno parecchie chiamate a funzione e quindi la criticità risiede nella memoria Stack disponibile (stack overflow).\n",
    "\n",
    "Uno degli algoritmi ricorsivi più noti è il [Fibonacci](https://it.wikipedia.org/wiki/Successione_di_Fibonacci). Nelle scorse lezioni lo abbiamo implementato in modo **iterativo**, sfruttando un ciclo (While o For). Un algoritmo ricorsivo si può sempre trasformare in iterativo, anche se a volte la conversione non è così semplice ed immediata. **Un algoritmo iterativo ha sempre bisogno di \"elementi di memoria\"**, nel caso di fibonacci la memoria è costituita dai due ultimi numeri di Fibonacci Fib(n) e Fib(n-1) calcolati ad ogni passo. Inoltre per effettuare l'operazione iterativa è necessario utilizzare anche una variabile temporanea."
   ]
  },
  {
   "cell_type": "code",
   "execution_count": 124,
   "metadata": {},
   "outputs": [
    {
     "name": "stdin",
     "output_type": "stream",
     "text": [
      "inserisci l'indice n:  3\n"
     ]
    },
    {
     "name": "stdout",
     "output_type": "stream",
     "text": [
      "Fib(3) = 2\n"
     ]
    }
   ],
   "source": [
    "def fib(n):\n",
    "    # Inizializzo con i valori di Fib(0) e Fib(1)\n",
    "    fibN_1 = 0\n",
    "    fibN = 1\n",
    "    # Calcolo iterativamente Fib(n) e Fib(n+1)\n",
    "    for i in range(0, n):\n",
    "        temp = fibN\n",
    "        fibN = fibN + fibN_1\n",
    "        fibN_1 = temp\n",
    "    return fibN_1\n",
    "\n",
    "indice = int(input(\"inserisci l'indice n: \"))\n",
    "print(\"Fib({}) = {}\".format(indice, fib(indice)))"
   ]
  },
  {
   "cell_type": "markdown",
   "metadata": {},
   "source": [
    "La successione di Fibonacci da cui abbiamo estratto la formula iterativa viene però descritta \"in modo naturale\" da una formula ricorsiva:  \n",
    "\n",
    "$$\\text{Fib}(n) = \\begin{cases} 0 & \\mbox{se } n\\mbox{=0} \\\\ 1 & \\mbox{se } n\\mbox{=1} \\\\ \\text{Fib}(n-1) + \\text{Fib}(n-2) & \\mbox{se } n\\mbox{>1}  \\end{cases}$$\n",
    "\n",
    "che può essere direttamente tradotta in Python. Le doncizioni di uscita sono i casi relativi a n=0 ed n=1, mentre nei casi rimanenti si ha il passo ricorsivo, dove viene chiamata la funzione stessa.\n",
    "\n",
    "<div style=\"text-align:center\"><img width=\"550px\" src=\"images/fibonocci-recursion-tree.png\"></div>"
   ]
  },
  {
   "cell_type": "code",
   "execution_count": 125,
   "metadata": {},
   "outputs": [
    {
     "name": "stdin",
     "output_type": "stream",
     "text": [
      "inserisci l'indice n:  3\n"
     ]
    },
    {
     "name": "stdout",
     "output_type": "stream",
     "text": [
      "Fib(3) = 2\n"
     ]
    }
   ],
   "source": [
    "def fib(n):\n",
    "    if n == 1: return 1\n",
    "    if n == 0: return 0\n",
    "    return fib(n-1) + fib(n-2)\n",
    "\n",
    "indice = int(input(\"inserisci l'indice n: \"))\n",
    "print(\"Fib({}) = {}\".format(indice, fib(indice)))"
   ]
  },
  {
   "cell_type": "markdown",
   "metadata": {},
   "source": [
    "Un altro algoritmo \"classico\" della matematica che si può esprimere in modo semplice sia in forma ricorsiva che iterativa è il calcolo del fattoriale **n!**"
   ]
  },
  {
   "cell_type": "code",
   "execution_count": 126,
   "metadata": {},
   "outputs": [
    {
     "name": "stdin",
     "output_type": "stream",
     "text": [
      "inserisci in numero n:  10\n"
     ]
    },
    {
     "name": "stdout",
     "output_type": "stream",
     "text": [
      "10! = 3628800\n"
     ]
    }
   ],
   "source": [
    "# Fattoriale ricorsivo\n",
    "def fatt(n):\n",
    "    if n <= 1: return 1\n",
    "    return n * fatt(n-1)\n",
    "\n",
    "n = int(input(\"inserisci in numero n: \"))\n",
    "print(\"{}! = {}\".format(n, fatt(n)))"
   ]
  },
  {
   "cell_type": "code",
   "execution_count": 127,
   "metadata": {},
   "outputs": [
    {
     "name": "stdin",
     "output_type": "stream",
     "text": [
      "inserisci in numero n:  10\n"
     ]
    },
    {
     "name": "stdout",
     "output_type": "stream",
     "text": [
      "10! = 3628800\n"
     ]
    }
   ],
   "source": [
    "# Fattoriale iterativo\n",
    "def fatt(n):\n",
    "    if n == 0:\n",
    "        return 1\n",
    "    fattoriale = 1\n",
    "    for i in range(1, n+1):\n",
    "        fattoriale = fattoriale * i\n",
    "    return fattoriale\n",
    "\n",
    "n = int(input(\"inserisci in numero n: \"))\n",
    "print(\"{}! = {}\".format(n, fatt(n)))"
   ]
  },
  {
   "cell_type": "markdown",
   "metadata": {},
   "source": [
    "### Usare la funzione come una variabile: il linguaggio funzionale"
   ]
  },
  {
   "cell_type": "markdown",
   "metadata": {},
   "source": [
    "Python è un [linguaggio funzionale](https://it.wikipedia.org/wiki/Programmazione_funzionale) e pertanto le funzioni possono essere utilizzate come variabili (sono oggetti callable) e passate come argomento nelle funzioni. Questa cosa è molto utile come abbiamo avuto modo di vedere per le funzioni di ordinamento: alla funzione **sorted()** veniva **passato il riferimento della funzione di ordinamento**. Quando si passa una funzione per riferimento, essa deve essere realizzata compatibile con la funzione che sfrutta tale riferimento: con *sorted()* abbiamo visto che tale funzione deve avere uno ed un solo parametro, che assumerà il riferimento dell'oggetto da ordinare."
   ]
  },
  {
   "cell_type": "code",
   "execution_count": 133,
   "metadata": {},
   "outputs": [
    {
     "name": "stdout",
     "output_type": "stream",
     "text": [
      "['ciao', 'bella', 'giornata', 'io', 'noi', 'soleggiato']\n",
      "['io', 'noi', 'ciao', 'bella', 'giornata', 'soleggiato']\n"
     ]
    }
   ],
   "source": [
    "def ordina_lunghezza(elemento):\n",
    "    return len(elemento)\n",
    "    \n",
    "lista_elementi = [\"ciao\", \"bella\", \"giornata\", \"io\", \"noi\", \"soleggiato\"]\n",
    "print(lista_elementi)\n",
    "# A sorted() viene passata la funzione ordina_lunghezza, che è un oggetto callable\n",
    "# La struttura di tale funzione deve essere compatibile con le richieste di sorted()\n",
    "lista_ordinata = sorted(lista_elementi, key=ordina_lunghezza)\n",
    "print(lista_ordinata)"
   ]
  },
  {
   "cell_type": "markdown",
   "metadata": {},
   "source": [
    "Un altro caso in cui abbiamo passato una funzione come argomento è stato la creazione di un thread parallelo, nella lezione del ciclo While. Quando abbiamo creato il nuovo Thread (usando la classe Thread della libreria threading), abbiamo passato la funzione **target** da eseguire in parallelo al programma principale. In questo caso l'oggetto callable è stato passato al costruttore della classe Thread (che è un metodo)"
   ]
  },
  {
   "cell_type": "code",
   "execution_count": 134,
   "metadata": {},
   "outputs": [
    {
     "name": "stdout",
     "output_type": "stream",
     "text": [
      "Thread parallelo avviato, termina in 5 secondi\n",
      "Eseguo il ciclo While. Iterazione #1\n",
      "Eseguo il ciclo While. Iterazione #2\n",
      "Eseguo il ciclo While. Iterazione #3\n",
      "Eseguo il ciclo While. Iterazione #4\n",
      "Eseguo il ciclo While. Iterazione #5\n",
      "Eseguo il ciclo While. Iterazione #6\n",
      "Eseguo il ciclo While. Iterazione #7\n",
      "Eseguo il ciclo While. Iterazione #8\n",
      "Eseguo il ciclo While. Iterazione #9\n",
      "Eseguo il ciclo While. Iterazione #10\n",
      "Thread parallelo terminato\n",
      "Ciclo While Terminato\n"
     ]
    }
   ],
   "source": [
    "from threading import Thread\n",
    "import time\n",
    "do_while = True    # Inizializza la condizione a True\n",
    "timeout = 5        # Durata timeout 5 secondi\n",
    "\n",
    "# Funzione associata al Thread parallelo\n",
    "def generate_stop():\n",
    "    global do_while, timeout\n",
    "    print(\"Thread parallelo avviato, termina in {} secondi\".format(timeout))\n",
    "    time.sleep(timeout)\n",
    "    do_while = False\n",
    "    print(\"Thread parallelo terminato\")\n",
    "\n",
    "# Avvia il thread parallelo\n",
    "parallel_thread = Thread(target=generate_stop)\n",
    "parallel_thread.start()\n",
    "\n",
    "# Ciclo While\n",
    "iterazioni = 0\n",
    "while do_while:\n",
    "    iterazioni += 1\n",
    "    print(\"Eseguo il ciclo While. Iterazione #\" + str(iterazioni))\n",
    "    time.sleep(0.5)\n",
    "print(\"Ciclo While Terminato\")"
   ]
  },
  {
   "cell_type": "markdown",
   "metadata": {},
   "source": [
    "Il passaggio di funzioni è molto importante in Python perchè permette di definire i cosiddetti **callback**, ovvero funzioni che chiamano funzioni che sono state passate come argomento. Questa tecnica è molto usata per **rispondere ad eventi**. Si pensi ad esempio ad un programma Python che gira su un microcontrollore a cui è collegato un pulsante (attraverso un pin di I/O): possiamo attivare un servizio che chiama una nostra funzione appena il pulsante viene premuto! Questo tipo di servizio si chiama genericamente **event loop**, nel caso specifico dei pin hardware di un microcontrollore si chiama **interrupt manager** e l'operazione eseguita è una **callback alla Interrupt Service Routine (ISR)** associata all'interruzione (interrupt o evento di pressione del pulsante). La callback non è altro che l'esecuzione dell'oggetto callable passato come argomento durante la configurazione dell'interrupt manager, ovvero la nostra funzione!\n",
    "\n",
    "Possiamo realizzare anche noi delle funzioni utente che prendono come argomento un'altra funzione (che deve essere realizzata in modo compatibile) e la **esegue tramite callback**"
   ]
  },
  {
   "cell_type": "code",
   "execution_count": 137,
   "metadata": {},
   "outputs": [
    {
     "name": "stdout",
     "output_type": "stream",
     "text": [
      "Il pulsante è stato premuto\n",
      "Il pulsante è stato rilasciato\n"
     ]
    }
   ],
   "source": [
    "# La funzione da chiamare, definisce l'azione che voglio eseguire quando si verifica l'evento\n",
    "def funzione_callback_pulsante_rosso(pin):\n",
    "    if pin == True:\n",
    "        print(\"Il pulsante è stato premuto\")\n",
    "    else:\n",
    "        print(\"Il pulsante è stato rilasciato\")\n",
    "        \n",
    "        \n",
    "class Pulsante():\n",
    "    \n",
    "    def __init__(self, pressed_callback):\n",
    "        self.stato = False\n",
    "        # Salvo il riferimento alla funzione di callback come attributo\n",
    "        # Il riferimento all'oggetto callable finisce nella variabile\n",
    "        # di istanza callback_function\n",
    "        self.callback_function = pressed_callback\n",
    "        \n",
    "    def simula_pressione(self, secondi=0):\n",
    "        if self.stato != True:\n",
    "            self.stato = True\n",
    "            # Chiamo la funzione di callback\n",
    "            self.callback_function(self.stato)\n",
    "        if secondi:\n",
    "            time.sleep(secondi)\n",
    "            self.stato = False\n",
    "            # Chiamo la funzione di callback\n",
    "            self.callback_function(self.stato)\n",
    "            \n",
    "    def simula_rilascio(self):\n",
    "        if self.stato != False:\n",
    "            self.stato = False\n",
    "            # Chiamo la funzione di callback\n",
    "            self.callback_function(self.stato)\n",
    "            \n",
    "# Definisco il pulsante (istanza)\n",
    "pulsante_rosso = Pulsante(funzione_callback_pulsante_rosso)\n",
    "\n",
    "# Simulo la pressione di un pulsante ed un successivo rilascio\n",
    "pulsante_rosso.simula_pressione()\n",
    "pulsante_rosso.simula_rilascio()"
   ]
  },
  {
   "cell_type": "code",
   "execution_count": 138,
   "metadata": {},
   "outputs": [
    {
     "name": "stdout",
     "output_type": "stream",
     "text": [
      "Il pulsante è stato premuto\n",
      "Il pulsante è stato rilasciato\n",
      "Il pulsante è stato premuto\n",
      "Il pulsante è stato rilasciato\n",
      "Il pulsante è stato premuto\n",
      "Il pulsante è stato rilasciato\n",
      "Il pulsante è stato premuto\n",
      "Il pulsante è stato rilasciato\n"
     ]
    }
   ],
   "source": [
    "pulsante_rosso.simula_pressione(1)\n",
    "time.sleep(1)\n",
    "pulsante_rosso.simula_pressione(1.5)\n",
    "time.sleep(1)\n",
    "pulsante_rosso.simula_pressione(2)\n",
    "time.sleep(1)\n",
    "pulsante_rosso.simula_pressione(0.5)"
   ]
  },
  {
   "cell_type": "markdown",
   "metadata": {},
   "source": [
    "**Un altro esempio**: posso chiamare manualmente la funzione di callback da una qualsiasi funzione, ad esempio proviamo a chiamare la funzione *stampa_ciao()* definita all'inizio della lezione"
   ]
  },
  {
   "cell_type": "code",
   "execution_count": 139,
   "metadata": {},
   "outputs": [],
   "source": [
    "def chiama_il_callback(funzione):\n",
    "    # Eseguo il callback. La funzione funzione() viene chiamata senza argomenti. Deve essere una\n",
    "    # funzione compatibile, ovvero con nessun argomento o con tutti gli argomenti opzionali\n",
    "    funzione()"
   ]
  },
  {
   "cell_type": "code",
   "execution_count": 144,
   "metadata": {},
   "outputs": [
    {
     "name": "stdout",
     "output_type": "stream",
     "text": [
      "Ciao\n",
      "Ciao\n"
     ]
    }
   ],
   "source": [
    "chiama_il_callback(stampa_ciao)"
   ]
  },
  {
   "cell_type": "markdown",
   "metadata": {},
   "source": [
    "Esiste un attributo nascosto degli oggetti callable (funzioni e metodi) **`__name__`** che restituisce il nome di tali oggetti, ovvero il nome della funzione (o del metodo). Questo può essere utile quando una funzione viene passata per riferimento e quindi non necessariamente se ne conosce il nome.\n",
    "\n",
    "**NB:** essendo una funzione un oggetto, possiamo trattarla come qualsiasi variabile! Possiamo associarne il riferimento ad altre variabili. Il **nome** della funzione però sarà sempre quello di partenza, ovvero quello utilizzato nella sua definizione!\n",
    "\n",
    "> In Python le variabili ed i nomi di funnzioni (ed anche attributi e metodi) che iniziano con almeno un carattere underscore `_` sono considerati *nascosti*, ovvero gli editor di codice Python normalmente non li visualizzano tra i suggerimenti dell'autocompletamento. A questa categoria appartengono anche gli attributi ed i metodi dunder (quelli che iniziano e terminano con il doppio underscore), che hanno ruoli ben specifici nel linguaggio e rispettano determinati standard (vedi *metodi magici*)"
   ]
  },
  {
   "cell_type": "code",
   "execution_count": 145,
   "metadata": {},
   "outputs": [
    {
     "name": "stdout",
     "output_type": "stream",
     "text": [
      "stampa_ciao\n"
     ]
    }
   ],
   "source": [
    "# associo la funzione ad una variabile\n",
    "una_funzione = stampa_ciao\n",
    "# Visualizzo il nome della funzione\n",
    "print(una_funzione.__name__)"
   ]
  },
  {
   "cell_type": "markdown",
   "metadata": {},
   "source": [
    "Posso chiamare l'oggetto callable usando la nuova variabile. Esso punterà alla mia funzione di partenza, ovvero *stampa_ciao()*."
   ]
  },
  {
   "cell_type": "code",
   "execution_count": 146,
   "metadata": {},
   "outputs": [
    {
     "name": "stdout",
     "output_type": "stream",
     "text": [
      "Ciao\n",
      "Ciao\n"
     ]
    }
   ],
   "source": [
    "una_funzione()"
   ]
  },
  {
   "cell_type": "markdown",
   "metadata": {},
   "source": [
    "Abbiamo usato la stessa struttura anche con la Classe Pulsante, infatti abbiamo assegnato la funzione di callback ad una variabile di istanza, chiamata poi da uno dei metodi della classe."
   ]
  },
  {
   "cell_type": "markdown",
   "metadata": {},
   "source": [
    "#### Funzioni lambda e funzioni anonime\n",
    "Possiamo definire una funzione in-line (su una sola riga) quando abbiamo il caso semplice di dunzione che restituisce una singola operazione effettuata sui suoi parametri. Questo tipo di funzione si definisce con la parola chiave **lambda** e la sintassi è del tipo:\n",
    "\n",
    "```python\n",
    "oggetto_callable = lambda x, y, z: operazione(x,y,z)\n",
    "```\n",
    "\n",
    "La lambda può anche non avere parametri ma restituire semplicemente un oggetto, ad esempio una variabile locale, una costante oppure il risultato di una operazione ottenuta chiamando altre funzioni"
   ]
  },
  {
   "cell_type": "code",
   "execution_count": 150,
   "metadata": {},
   "outputs": [
    {
     "name": "stdout",
     "output_type": "stream",
     "text": [
      "<class 'function'>\n",
      "8\n"
     ]
    }
   ],
   "source": [
    "# funzione lambda con due parametri\n",
    "funzione1 = lambda x, y: x + y // 2\n",
    "\n",
    "print(type(funzione1))\n",
    "\n",
    "print(funzione1(6,4))"
   ]
  },
  {
   "cell_type": "code",
   "execution_count": 151,
   "metadata": {},
   "outputs": [
    {
     "name": "stdout",
     "output_type": "stream",
     "text": [
      "ciao\n"
     ]
    }
   ],
   "source": [
    "# Funzione lambda senza parametri\n",
    "funzione2 = lambda: print(\"ciao\")\n",
    "funzione2()"
   ]
  },
  {
   "cell_type": "code",
   "execution_count": 153,
   "metadata": {},
   "outputs": [
    {
     "name": "stdout",
     "output_type": "stream",
     "text": [
      "9\n"
     ]
    }
   ],
   "source": [
    "funzione3 = lambda x: funzione1(0, x) + funzione1(x, 0)\n",
    "print(funzione3(6))"
   ]
  },
  {
   "cell_type": "markdown",
   "metadata": {},
   "source": [
    "Le funzioni lambda sono anche dette **funzioni anonime** in quanto non hanno nome, vengono create ed associate ad una variabile, ma non sono identificate con un nome. Sono semplicemente una **formula che viene richiamata**. Infatti se proviamo a stampare l'attributo `__name__` otteniamo lo stesso risultato per tutte le lambda definite sopra"
   ]
  },
  {
   "cell_type": "code",
   "execution_count": 155,
   "metadata": {},
   "outputs": [
    {
     "name": "stdout",
     "output_type": "stream",
     "text": [
      "<lambda>\n",
      "<lambda>\n",
      "<lambda>\n"
     ]
    }
   ],
   "source": [
    "print(funzione1.__name__)\n",
    "print(funzione2.__name__)\n",
    "print(funzione3.__name__)"
   ]
  },
  {
   "cell_type": "markdown",
   "metadata": {},
   "source": [
    "Le funzioni lambda sono spesso usate nei **callback semplici**, ad esempio per le funzioni di ordinamento personalizzate. In questi casi non serve nemmeno assegnarle ad una variabile, **si possono definire direttamente nella chiamata a funzione**. Rivediamo l'esempio sull'ordinamento fatto poco fa, utilizzando una lambda:"
   ]
  },
  {
   "cell_type": "code",
   "execution_count": 156,
   "metadata": {},
   "outputs": [
    {
     "name": "stdout",
     "output_type": "stream",
     "text": [
      "['ciao', 'bella', 'giornata', 'io', 'noi', 'soleggiato']\n",
      "['io', 'noi', 'ciao', 'bella', 'giornata', 'soleggiato']\n"
     ]
    }
   ],
   "source": [
    "lista_elementi = [\"ciao\", \"bella\", \"giornata\", \"io\", \"noi\", \"soleggiato\"]\n",
    "print(lista_elementi)\n",
    "lista_ordinata = sorted(lista_elementi, key = lambda elemento: len(elemento))\n",
    "print(lista_ordinata)"
   ]
  },
  {
   "cell_type": "markdown",
   "metadata": {},
   "source": [
    "Possiamo anche eseguire una lambda direttamente. Ecco un esempio di due lambda annidiati:"
   ]
  },
  {
   "cell_type": "code",
   "execution_count": 167,
   "metadata": {},
   "outputs": [
    {
     "name": "stdout",
     "output_type": "stream",
     "text": [
      "108\n"
     ]
    }
   ],
   "source": [
    "# esegue l'operazione\n",
    "numero = 6\n",
    "stringa = \"abcdef\"\n",
    "risultato = (lambda x, y: x**2 + 2 * x * (lambda x: len(x))(y))(numero, stringa)\n",
    "print(risultato)"
   ]
  },
  {
   "cell_type": "markdown",
   "metadata": {},
   "source": [
    "### Funzioni generatore\n",
    "Le funzioni generatore sono dei tipi particolari di funzioni che **possono essere trasformate in un iteratori**. Queste funzioni **interrompono la loro esecuzione ritornando un valore ed alla chiamata successiva proseguono dall'istruzione successiva a quella dove erano state interrotte**. La parola chiave usata per interrompere la funzione e ritornare il valore è **yield**. Quando una funzione utilizza la **yield** al posto di **return**, automaticamente Python la considera un **generatore**.\n",
    "\n",
    "Una funzione generatore:\n",
    "- Può essere utilizzata da un ciclo For\n",
    "- Può generare un iteratore, usando la funzione **iter()**. L'iteratore poi può essere scansionato nel modo usuale utilizzando **next()**\n",
    "\n",
    "Le funzioni generatore possono essere utilizzate anche per generare degli stream infiniti (sequenze infinite), rilasciando ad ogni chiamata un elemento della sequenza (senza tenere in memoria quelli precedenti)"
   ]
  },
  {
   "cell_type": "code",
   "execution_count": 180,
   "metadata": {},
   "outputs": [
    {
     "name": "stdout",
     "output_type": "stream",
     "text": [
      "Prima riga\n",
      "1\n",
      "Seconda riga\n",
      "2\n",
      "Terza riga\n",
      "3\n"
     ]
    }
   ],
   "source": [
    "def funz_generatore():\n",
    "    print(\"Prima riga\")\n",
    "    yield 1\n",
    "    print(\"Seconda riga\")\n",
    "    yield 2\n",
    "    print(\"Terza riga\")\n",
    "    yield 3\n",
    "\n",
    "for el in funz_generatore():\n",
    "    print(el)"
   ]
  },
  {
   "cell_type": "code",
   "execution_count": 181,
   "metadata": {},
   "outputs": [
    {
     "name": "stdout",
     "output_type": "stream",
     "text": [
      "Prima riga\n",
      "1\n",
      "Seconda riga\n",
      "2\n"
     ]
    }
   ],
   "source": [
    "iteratore = iter(funz_generatore())\n",
    "print(next(iteratore))\n",
    "print(next(iteratore))"
   ]
  },
  {
   "cell_type": "markdown",
   "metadata": {},
   "source": [
    "I generatori possono essere utili in innumerevoli casi, anche per la lettura di sensori, per ciclare tra funzioni, per generare stream, ecc... Questo argomento non verrà trattato ulteriormente, si rimanda quindi alla [documentazione online](https://www.programiz.com/python-programming/generator)"
   ]
  },
  {
   "cell_type": "markdown",
   "metadata": {},
   "source": [
    "## Esercizio con le Funzioni\n",
    "**Modificare il punto 2 dell'esercizio di Fibonacci assegnato nella Lezione 3** (quello dove era richiesto di realizzare un menu per stampare il numero di Fibonacci), in modo che vengano **utilizzate le Funzioni per rendere più leggibile il codice**. In particolare:\n",
    "- Fare una funzione che prende come argomento un **dizionario** che rappresenta la memoria del sistema, il cui valore iniziale è:  \n",
    "\n",
    "    ```python\n",
    "    memory = {\n",
    "        \"fib(n-1)\": 0,\n",
    "        \"fib(n)\": 1\n",
    "    }\n",
    "    ```\n",
    "  e calcoli il numero di fibonacci successivo, ovvero **`fib_next(memory)`**\n",
    "- Fare una funzione che calcoli il numero di Fibonacci di indice `n` usando la funzione precedentemente creata (la memoria va re-inizializzata) **`fibonacci(indice)`**\n",
    "- Fare una funzione per la stampa a schermo del numero con la separazione delle migliaia con apici `'`, ad esempio **`stringa_migliaia(intero)`** che restituisce una stringa\n",
    "- Copiare il programma precedentemente realizzato e utilizzare le funzioni create per renderlo più leggibile. Scrivere prima le funzioni e poi il ciclo While che implementa il menu, tutto in un'unica cella Jupyter. \n",
    "\n",
    "**NB:** nell'eserciziario deve essere presente anche l'esercizio realizzato senza le funzioni.\n",
    "\n",
    "**Per chi deve ancora fare l'esercizio sul cifrario di Vigenère:** se volete potete impostarlo utilizzando delle funzioni per rendere il codice più leggibile (ad esempio una funzione per cifrare, una per decifrare (verificando la password). Quest'ultima ad esempio può ritornare None se la password è errata oppure la stringa contenente il testo se la password è giusta (password e testo da decifrare passati come argomento)"
   ]
  }
 ],
 "metadata": {
  "kernelspec": {
   "display_name": "Python 3",
   "language": "python",
   "name": "python3"
  },
  "language_info": {
   "codemirror_mode": {
    "name": "ipython",
    "version": 3
   },
   "file_extension": ".py",
   "mimetype": "text/x-python",
   "name": "python",
   "nbconvert_exporter": "python",
   "pygments_lexer": "ipython3",
   "version": "3.6.6"
  }
 },
 "nbformat": 4,
 "nbformat_minor": 2
}
