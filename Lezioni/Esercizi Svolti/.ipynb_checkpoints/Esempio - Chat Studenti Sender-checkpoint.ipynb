{
 "cells": [
  {
   "cell_type": "markdown",
   "metadata": {},
   "source": [
    "# Chat Studenti Sender"
   ]
  },
  {
   "cell_type": "code",
   "execution_count": 3,
   "metadata": {},
   "outputs": [
    {
     "data": {
      "text/html": [
       "\n",
       "<style>\n",
       ".jp-Stdin-input {\n",
       "    width: 80% !important;\n",
       "}\n",
       "</style>\n"
      ],
      "text/plain": [
       "<IPython.core.display.HTML object>"
      ]
     },
     "execution_count": 3,
     "metadata": {},
     "output_type": "execute_result"
    }
   ],
   "source": [
    "from IPython.display import HTML\n",
    "HTML(\"\"\"\n",
    "<style>\n",
    ".jp-Stdin-input {\n",
    "    width: 80% !important;\n",
    "}\n",
    "</style>\n",
    "\"\"\")"
   ]
  },
  {
   "cell_type": "code",
   "execution_count": 5,
   "metadata": {},
   "outputs": [
    {
     "name": "stdin",
     "output_type": "stream",
     "text": [
      "Inserisci il nickname del destinatario:  dfgdf\n",
      "inserisci il messaggio da inviare:  dfsfsfsd\n"
     ]
    },
    {
     "name": "stdout",
     "output_type": "stream",
     "text": [
      "Connesso al Broker MQTT su 127.0.0.1 - Invio messaggio a: dfgdf ..... Messaggio inviato!\n"
     ]
    }
   ],
   "source": [
    "from data.ChatStudenti import ChatStudente\n",
    "\n",
    "broker_ip = \"127.0.0.1\"\n",
    "nickname = \"ruky87\"\n",
    "\n",
    "chat = ChatStudente(broker_ip, nickname)\n",
    "\n",
    "destinatario = input(\"Inserisci il nickname del destinatario: \")\n",
    "messaggio = input(\"inserisci il messaggio da inviare: \")\n",
    "\n",
    "chat.inviaMessaggio(destinatario, messaggio)"
   ]
  }
 ],
 "metadata": {
  "kernelspec": {
   "display_name": "Python 3",
   "language": "python",
   "name": "python3"
  },
  "language_info": {
   "codemirror_mode": {
    "name": "ipython",
    "version": 3
   },
   "file_extension": ".py",
   "mimetype": "text/x-python",
   "name": "python",
   "nbconvert_exporter": "python",
   "pygments_lexer": "ipython3",
   "version": "3.6.6"
  }
 },
 "nbformat": 4,
 "nbformat_minor": 2
}
