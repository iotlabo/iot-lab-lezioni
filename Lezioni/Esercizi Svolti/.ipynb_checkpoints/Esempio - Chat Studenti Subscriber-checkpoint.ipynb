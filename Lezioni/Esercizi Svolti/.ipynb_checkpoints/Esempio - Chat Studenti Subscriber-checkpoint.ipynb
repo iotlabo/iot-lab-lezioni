{
 "cells": [
  {
   "cell_type": "code",
   "execution_count": 1,
   "metadata": {},
   "outputs": [
    {
     "name": "stdout",
     "output_type": "stream",
     "text": [
      "Connesso al Broker MQTT su 127.0.0.1\n",
      "Avvio Subscriber MQTT: Per terminare la chat premere due volte I in Jupyter (Kernel -> Interrupt Kernel) oppure CTRL+C se nel terminale\n",
      "\n",
      ">>>> [2019/03/19 21:31:20] Ricevuto messaggio da: ruky87\n",
      "ciaooooo\n",
      ">>>> [2019/03/19 21:32:28] Ricevuto messaggio da: ruky87\n",
      "Questo è il mio messaggio per te\n",
      "Esco dal Subscriber...\n"
     ]
    }
   ],
   "source": [
    "from data.ChatStudenti import ChatStudente\n",
    "\n",
    "broker_ip = \"127.0.0.1\"\n",
    "nickname = \"ruky87\"\n",
    "chat = ChatStudente(broker_ip, nickname)\n",
    "\n",
    "def gestore_messaggi(mittente, messaggio):\n",
    "    print(messaggio)\n",
    "\n",
    "try:\n",
    "    chat.avviaRicevitore(gestore_messaggi)\n",
    "except KeyboardInterrupt:\n",
    "    print(\"\\nEsco dal Subscriber...\")"
   ]
  }
 ],
 "metadata": {
  "kernelspec": {
   "display_name": "Python 3",
   "language": "python",
   "name": "python3"
  },
  "language_info": {
   "codemirror_mode": {
    "name": "ipython",
    "version": 3
   },
   "file_extension": ".py",
   "mimetype": "text/x-python",
   "name": "python",
   "nbconvert_exporter": "python",
   "pygments_lexer": "ipython3",
   "version": "3.6.6"
  }
 },
 "nbformat": 4,
 "nbformat_minor": 2
}
