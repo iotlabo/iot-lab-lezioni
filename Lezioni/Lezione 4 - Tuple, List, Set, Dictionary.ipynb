{
 "cells": [
  {
   "cell_type": "markdown",
   "metadata": {},
   "source": [
    "# Lezione 4: Tuple, List, Set, Dictionary\n",
    "\n",
    "In questa lezione vediamo le quattro **collection** (collezioni di oggetti, realizzate per mezzo di contenitori) principali che Python mette a disposizione:\n",
    "- I **Tuple** sono dei contenitori di oggetti **not mutable**, possono essere considerati degli array di oggetti costanti, ovvero i cui elementi non sono modificabili a posteriori. I Tuple sono **sequenze** (elementi dotati di indice)\n",
    "- Le **List** sono dei contenitori **mutable**, il comportamento è simile ai Tuple, sono simili a degli array di oggetti, la differenza sta nel fatto che il loro contenuto può essere modificato dinamicamente. In una lista possono essere aggiunti e tolti elementi (oggetti) a piacimento, ogni elemento è numerato (**sequence**). In Python le liste si comportano come **code (metodo pop)** e gli elementi possono essere rimossi senza dover riassemblare l'array di dati, come invece accade nel C. Liste di Liste costituiscono le liste multidimensionali e possono essere usate per rappresentare matrici\n",
    "- I **Set** sono dei contenitori **mutable iterable** (esistono anche i frozenset, che sono not mutable) con elementi non dotati di indice, quindi l'ordine degli elementi non è determinato (esiste una libreria installabile [ordered-set](https://pypi.org/project/ordered-set/) che implementa degli insiemi ordinati). Lo scopo dei Set è quello di definire degli insiemi di dati su cui poter effettuare operazioni di intersezione, unione, differenza, le classiche operazioni schematizzabili tramite diagrammi di Venn. **In un Set gli elementi sono tutti distinti**, quindi se si prova ad inserire un elemento identico ad uno già presente, tale elemento **NON comparirà due volte nell'insieme** (a differenza di liste e tuple dove uno stesso oggetto può comparire in posizioni diverse).\n",
    "- I **Dictionary** sono dei contenitori **mutable iterable** i cui elementi sono coppie **chiave-valore** non doate di indice. I dizionari per questo verso sono un caso particolare di set, ma non dispongono dei loro metodi (esistono anche gli [OrderedDict](https://docs.python.org/2/library/collections.html), i cui elementi sono ordinati). In un dictionary **le chiavi sono univoche e distinte**, non possono esistere due elementi con la stessa chiave: se si prova ad aggiungere una coppia chiave-valore in un dizionario dove tale chiave esiste già, il valore presente viene sostituito con il nuovo valore. Le chiavi possono essere qualsiasi oggetto \"hashable\" (in genere tutti i conainer not mutable contenenti elementi not mutable lo sono), mentre i valori possono essere qualsiasi oggetto, anche mutable (anche un altro dictionary)"
   ]
  },
  {
   "cell_type": "markdown",
   "metadata": {},
   "source": [
    "## I Tuples\n",
    "I tuples sono:\n",
    "- Sequences\n",
    "- Not Mutable\n",
    "Si definiscono con le parentesi tonde `()` e sono spesso utilizzati per passare argomenti multipli alle funzioni o per restituire valori di ritorno multipli. Ogni elemento può essere qualsiasi oggetto, mutable o not mutable, anche un altro Tuple: i contenitori infatti memorizzano **i riferimenti** agli oggetti (**ricordiamo che in Python tutto è un oggetto e tutto è passato per riferimento**)"
   ]
  },
  {
   "cell_type": "code",
   "execution_count": 228,
   "metadata": {},
   "outputs": [
    {
     "name": "stdout",
     "output_type": "stream",
     "text": [
      "<class 'tuple'>\n",
      "(1, 2, 3, 'ciao', 'mondo')\n"
     ]
    }
   ],
   "source": [
    "un_tuple = (1, 2, 3, \"ciao\", \"mondo\")\n",
    "print(type(un_tuple))\n",
    "print(un_tuple)"
   ]
  },
  {
   "cell_type": "markdown",
   "metadata": {},
   "source": [
    "> Per definire un tuple con un solo elemento non posso scrivere `un_tuple = (1)` perchè verrebbe considerato un intero, devo invece forzare l'interpretazione come sequenza aggiungendo una virgola `un_tuple = (1, )`. Per un tuple vuoto `un_tuple = tuple()`.  \n",
    "\n",
    "Per accedere agli elementi dei Tuple si usano, come al solito, le parentesi quadre `[]` specificando l'indice o lo slice di indici a cui si vuole accedere. Come nel caso delle stringhe si può applicare la tecnica dello slicing, tecnica valida per tutte le sequenze. Essendo oggetti iterable si può utilizzare anche il ciclo For ed il numero di elementi contenuti si può ottenere con `len()`. Possono essere applicate tutte le funzioni applicabili a sequenze ed iterable, come ad esempio la generazione di iteratori."
   ]
  },
  {
   "cell_type": "code",
   "execution_count": 229,
   "metadata": {},
   "outputs": [
    {
     "name": "stdout",
     "output_type": "stream",
     "text": [
      "Tuple[2] = 3\n",
      "Tuple[4] = mondo\n",
      "Tuple[-2] = ciao\n",
      "Tuple[3:5] = ('ciao', 'mondo')\n",
      "N# elementi = 5\n"
     ]
    }
   ],
   "source": [
    "print(\"Tuple[2] = \" + str(un_tuple[2]))\n",
    "print(\"Tuple[4] = \" + str(un_tuple[4]))\n",
    "print(\"Tuple[-2] = \" + str(un_tuple[-2]))\n",
    "print(\"Tuple[3:5] = \" + str(un_tuple[3:5]))\n",
    "print(\"N# elementi = \" + str(len(un_tuple)))"
   ]
  },
  {
   "cell_type": "code",
   "execution_count": 230,
   "metadata": {},
   "outputs": [
    {
     "name": "stdout",
     "output_type": "stream",
     "text": [
      "1\n",
      "2\n",
      "3\n",
      "ciao\n",
      "mondo\n"
     ]
    }
   ],
   "source": [
    "for elemento in un_tuple:\n",
    "    print(elemento)"
   ]
  },
  {
   "cell_type": "markdown",
   "metadata": {},
   "source": [
    "Vale anche il costrutto if...in per verificare se un elemento è contenuto nella collezione:"
   ]
  },
  {
   "cell_type": "code",
   "execution_count": 233,
   "metadata": {},
   "outputs": [
    {
     "name": "stdout",
     "output_type": "stream",
     "text": [
      "Il tuple ti saluta!\n"
     ]
    }
   ],
   "source": [
    "if \"ciao\" in un_tuple:\n",
    "    print(\"Il tuple ti saluta!\")\n",
    "else:\n",
    "    print(\"Il tuple NON ti saluta!\")"
   ]
  },
  {
   "cell_type": "markdown",
   "metadata": {},
   "source": [
    "I Tuple non sono mutable, quindi non è possibile modificare un suo elemento successivamente alla creazione del Tuple"
   ]
  },
  {
   "cell_type": "code",
   "execution_count": 234,
   "metadata": {},
   "outputs": [
    {
     "ename": "TypeError",
     "evalue": "'tuple' object does not support item assignment",
     "output_type": "error",
     "traceback": [
      "\u001b[1;31m---------------------------------------------------------------------------\u001b[0m",
      "\u001b[1;31mTypeError\u001b[0m                                 Traceback (most recent call last)",
      "\u001b[1;32m<ipython-input-234-70871afeefa4>\u001b[0m in \u001b[0;36m<module>\u001b[1;34m()\u001b[0m\n\u001b[1;32m----> 1\u001b[1;33m \u001b[0mun_tuple\u001b[0m\u001b[1;33m[\u001b[0m\u001b[1;36m0\u001b[0m\u001b[1;33m]\u001b[0m \u001b[1;33m=\u001b[0m \u001b[1;36m8\u001b[0m\u001b[1;33m\u001b[0m\u001b[0m\n\u001b[0m",
      "\u001b[1;31mTypeError\u001b[0m: 'tuple' object does not support item assignment"
     ]
    }
   ],
   "source": [
    "un_tuple[0] = 8"
   ]
  },
  {
   "cell_type": "markdown",
   "metadata": {},
   "source": [
    "Per convertire un iterable in un Tuple (che sarà not mutable) si utilizza il costruttore della classe, ovvero `tuple()`. Nel caso di conversione di un dizionario a tuple vengono convertite solo le chiavi, per convertire i valori è necessario usare un apposito metodo dei dizionari."
   ]
  },
  {
   "cell_type": "code",
   "execution_count": 235,
   "metadata": {},
   "outputs": [
    {
     "name": "stdout",
     "output_type": "stream",
     "text": [
      "('c', 'i', 'a', 'o', ' ', 'm', 'o', 'n', 'd', 'o')\n"
     ]
    }
   ],
   "source": [
    "# Converto una stringa in tuple\n",
    "stringa = \"ciao mondo\"\n",
    "nuovo_tuple = tuple(stringa)\n",
    "print(nuovo_tuple)"
   ]
  },
  {
   "cell_type": "markdown",
   "metadata": {},
   "source": [
    "Anche i Tuple possono essere concatenati, viene creata una nuova tuple contenente i dati ordinati dei tuple di partenza. Si può concatenare usando l'operatore `+` (o il `*` per la concatenazione multipla)"
   ]
  },
  {
   "cell_type": "code",
   "execution_count": 236,
   "metadata": {},
   "outputs": [
    {
     "name": "stdout",
     "output_type": "stream",
     "text": [
      "(1, 2, 3, 'ciao', 'mondo', 1, 5, 5)\n",
      "(1, 5, 5, 1, 5, 5, 1, 5, 5, 1, 5, 5, 1, 5, 5)\n"
     ]
    }
   ],
   "source": [
    "un_altro_tuple = (1, 5, 5)\n",
    "tuple_concatenati = un_tuple + un_altro_tuple\n",
    "print(tuple_concatenati)\n",
    "print(un_altro_tuple*5)"
   ]
  },
  {
   "cell_type": "markdown",
   "metadata": {},
   "source": [
    "Un tuple può contenere altri tuple, quindi è possibile definire delle **matrici n-dimensionali not mutable**. Per lavorare sulle matrici Python mette a disposizione delle librerie ad hoc per il calcolo numerico, come ad esempio **numpy**, tuple e liste non sono pensate per eseguire calcoli efficienti, ogni operazione deve essere fatta utilizzando cicli For. L'accesso alle matrici avviene partendo dall'indice relativo alla dimensione più esterna: prima le pagine, poi le righe, infine le colonne."
   ]
  },
  {
   "cell_type": "code",
   "execution_count": 237,
   "metadata": {},
   "outputs": [
    {
     "name": "stdout",
     "output_type": "stream",
     "text": [
      "((1, 2, 3), (4, 5, 6), (7, 8, 9))\n",
      "6\n"
     ]
    }
   ],
   "source": [
    "una_matrice_tuple = ((1, 2, 3),\n",
    "                     (4, 5, 6),\n",
    "                     (7, 8, 9))\n",
    "print(una_matrice_tuple)\n",
    "# Nel caso bidimensionale, quando si accede ad un elemento prima viene selezionata la riga e poi la colonna.\n",
    "# Infatti gli elementi del tuple sono tuple\n",
    "elemento_1_2 = una_matrice_tuple[1][2]\n",
    "print(elemento_1_2)"
   ]
  },
  {
   "cell_type": "code",
   "execution_count": 238,
   "metadata": {},
   "outputs": [
    {
     "name": "stdout",
     "output_type": "stream",
     "text": [
      "((1, 4, 7), (2, 5, 8), (3, 6, 9))\n"
     ]
    }
   ],
   "source": [
    "# Esempio: Uso dei cicli annidiati per creare una trasposta\n",
    "trasposta_matrice_tuple = tuple()\n",
    "for ind_colonna in range(0, len(una_matrice_tuple)):\n",
    "    colonna = tuple()\n",
    "    for riga in una_matrice_tuple:\n",
    "        colonna += (riga[ind_colonna], )\n",
    "    trasposta_matrice_tuple += (colonna, )\n",
    "print(trasposta_matrice_tuple)"
   ]
  },
  {
   "cell_type": "markdown",
   "metadata": {},
   "source": [
    "Vi sono alcune funzioni buil-in che si possono applicare ai tuple, ed in generale anche agli altri iterable, specie nel caso in cui siano composte da valori numerici:"
   ]
  },
  {
   "cell_type": "code",
   "execution_count": 239,
   "metadata": {},
   "outputs": [
    {
     "name": "stdout",
     "output_type": "stream",
     "text": [
      "34\n",
      "-6\n",
      "21\n",
      "True\n",
      "False\n"
     ]
    }
   ],
   "source": [
    "tuple_numerico = (0, 7, 3, 9, 21, -6)\n",
    "print(sum(tuple_numerico))   # somma tutti gli elementi\n",
    "print(min(tuple_numerico))   # elemento minimo tra tutti\n",
    "print(max(tuple_numerico))   # elemento massimo tra tutti\n",
    "print(any(tuple_numerico))   # ritorna True se almeno un elemento viene valutato True\n",
    "print(all(tuple_numerico))   # ritorna True se tutti gli elementi vengono valutati True"
   ]
  },
  {
   "cell_type": "code",
   "execution_count": 240,
   "metadata": {},
   "outputs": [
    {
     "name": "stdout",
     "output_type": "stream",
     "text": [
      "(-6, 21, 9, 3, 7, 0)\n",
      "(-6, 0, 3, 7, 9, 21)\n"
     ]
    }
   ],
   "source": [
    "print(tuple(reversed(tuple_numerico)))   # Rovescia la sequenza. Ritorna un iteratore che viene usato per generare un nuovo tuple\n",
    "print(tuple(sorted(tuple_numerico)))     # Ordina la sequenda (default ordine crescente). Ritorna una lista che viene convertita in tuple"
   ]
  },
  {
   "cell_type": "markdown",
   "metadata": {},
   "source": [
    "## Le List\n",
    "Le List sono:\n",
    "- Sequences\n",
    "- Mutable  \n",
    "\n",
    "Si definiscono con le parentesi quadre `[]` e sono uno dei pilastri fondamentali del Python: esse permettono infatti di memorizzare riferimenti ordinati ad altri oggetti (anche contenitori) e creare quindi un **database** in memoria RAM (Heap). Le liste possono sostituire array e code e permettono l'organizzazione dei dati in molti oggetti, si pensi ad esempio ad una Classe \"ListaStudenti\" che contiene una lista i cui elementi sono oggetti \"Studente\" (ovvero descritti dalla classe \"Studente\"). La classe può definire l'inserimento o la rimozione degli stuenti dalla lista semplicemente sfruttando le proprietà della collezione **list**.  \n",
    "Le liste sono spesso utilizzate anche per passare argomenti multipli alle funzioni o per restituire valori di ritorno multipli: in questo caso, essendo oggetti mutable, la funzione può operare sulla lista passata come parametro e modificarla. Dopo l'esecuzione della funzione **tutti i riferimenti** punteranno a questa lista modificata. Ogni elemento della lista può essere qualsiasi oggetto, mutable o not mutable, anche un'altra lista, ottenendo in questo caso **matrici mutable n-dimensionali**."
   ]
  },
  {
   "cell_type": "code",
   "execution_count": 241,
   "metadata": {},
   "outputs": [
    {
     "name": "stdout",
     "output_type": "stream",
     "text": [
      "<class 'list'>\n",
      "[1, 2, 3, 'ciao', 'mondo']\n"
     ]
    }
   ],
   "source": [
    "una_lista = [1, 2, 3, \"ciao\", \"mondo\"]\n",
    "print(type(una_lista))\n",
    "print(una_lista)"
   ]
  },
  {
   "cell_type": "markdown",
   "metadata": {},
   "source": [
    "Per accedere agli elementi delle liste si usano, come al solito, le parentesi quadre `[]` specificando l'indice o lo slice di indici a cui si vuole accedere. Come nel caso delle stringhe si può applicare la **tecnica dello slicing**, tecnica valida per tutte le sequenze. Essendo oggetti iterable si può utilizzare anche il ciclo For ed il numero di elementi contenuti si può ottenere con `len()`. Possono essere applicate tutte le funzioni applicabili a sequenze ed iterable, come ad esempio la generazione di iteratori."
   ]
  },
  {
   "cell_type": "code",
   "execution_count": 242,
   "metadata": {},
   "outputs": [
    {
     "name": "stdout",
     "output_type": "stream",
     "text": [
      "Lista[2] = 3\n",
      "Lista[4] = mondo\n",
      "Lista[-2] = ciao\n",
      "Lista[3:5] = ['ciao', 'mondo']\n",
      "Lista[::-1] = ['mondo', 'ciao', 3, 2, 1]\n",
      "N# elementi = 5\n"
     ]
    }
   ],
   "source": [
    "print(\"Lista[2] = \" + str(una_lista[2]))\n",
    "print(\"Lista[4] = \" + str(una_lista[4]))\n",
    "print(\"Lista[-2] = \" + str(una_lista[-2]))\n",
    "print(\"Lista[3:5] = \" + str(una_lista[3:5]))\n",
    "print(\"Lista[::-1] = \" + str(una_lista[::-1]))\n",
    "print(\"N# elementi = \" + str(len(una_lista)))"
   ]
  },
  {
   "cell_type": "code",
   "execution_count": 243,
   "metadata": {},
   "outputs": [
    {
     "name": "stdout",
     "output_type": "stream",
     "text": [
      "1\n",
      "2\n",
      "3\n",
      "ciao\n",
      "mondo\n"
     ]
    }
   ],
   "source": [
    "for elemento in una_lista:\n",
    "    print(elemento)"
   ]
  },
  {
   "cell_type": "markdown",
   "metadata": {},
   "source": [
    "Vale anche il costrutto if...in per verificare se un elemento è contenuto nella collezione:"
   ]
  },
  {
   "cell_type": "code",
   "execution_count": 244,
   "metadata": {},
   "outputs": [
    {
     "name": "stdout",
     "output_type": "stream",
     "text": [
      "La lista ti saluta!\n"
     ]
    }
   ],
   "source": [
    "if \"ciao\" in una_lista:\n",
    "    print(\"La lista ti saluta!\")\n",
    "else:\n",
    "    print(\"La lista NON ti saluta!\")"
   ]
  },
  {
   "cell_type": "markdown",
   "metadata": {},
   "source": [
    "Le liste a differenza dei tuple sono mutable, quindi è possibile modificare un suo elemento successivamente alla creazione della lista. Proviamo a modificare il primo elemento (indice 0)"
   ]
  },
  {
   "cell_type": "code",
   "execution_count": 245,
   "metadata": {},
   "outputs": [
    {
     "name": "stdout",
     "output_type": "stream",
     "text": [
      "[8, 2, 3, 'ciao', 'mondo']\n"
     ]
    }
   ],
   "source": [
    "una_lista[0] = 8\n",
    "print(una_lista)"
   ]
  },
  {
   "cell_type": "markdown",
   "metadata": {},
   "source": [
    "Se proviamo ad accedere ad indici non contenuti nella lista otteniamo un errore"
   ]
  },
  {
   "cell_type": "code",
   "execution_count": 246,
   "metadata": {},
   "outputs": [
    {
     "ename": "IndexError",
     "evalue": "list assignment index out of range",
     "output_type": "error",
     "traceback": [
      "\u001b[1;31m---------------------------------------------------------------------------\u001b[0m",
      "\u001b[1;31mIndexError\u001b[0m                                Traceback (most recent call last)",
      "\u001b[1;32m<ipython-input-246-4085a4ba1e92>\u001b[0m in \u001b[0;36m<module>\u001b[1;34m()\u001b[0m\n\u001b[1;32m----> 1\u001b[1;33m \u001b[0muna_lista\u001b[0m\u001b[1;33m[\u001b[0m\u001b[1;36m5\u001b[0m\u001b[1;33m]\u001b[0m \u001b[1;33m=\u001b[0m \u001b[1;36m10\u001b[0m\u001b[1;33m\u001b[0m\u001b[0m\n\u001b[0m",
      "\u001b[1;31mIndexError\u001b[0m: list assignment index out of range"
     ]
    }
   ],
   "source": [
    "una_lista[5] = 10"
   ]
  },
  {
   "cell_type": "markdown",
   "metadata": {},
   "source": [
    "Per convertire un iterable in una Lista (che sarà mutable) si utilizza il costruttore della classe, ovvero `list()`. Nel caso di conversione di un dizionario a list vengono convertite solo le chiavi, per convertire i valori è necessario usare un apposito metodo dei dizionari."
   ]
  },
  {
   "cell_type": "code",
   "execution_count": 247,
   "metadata": {},
   "outputs": [
    {
     "name": "stdout",
     "output_type": "stream",
     "text": [
      "['c', 'i', 'a', 'o', ' ', 'm', 'o', 'n', 'd', 'o']\n"
     ]
    }
   ],
   "source": [
    "# Converto una stringa in list\n",
    "stringa = \"ciao mondo\"\n",
    "nuova_lista = list(stringa)\n",
    "print(nuova_lista)"
   ]
  },
  {
   "cell_type": "markdown",
   "metadata": {},
   "source": [
    "Anche le liste possono essere concatenate: **nel caso dell concatenazione viene sempre creata una nuova lista** contenente i dati ordinati delle liste di partenza. Si può concatenare usando l'operatore `+` (o il `*` per la concatenazione multipla)"
   ]
  },
  {
   "cell_type": "code",
   "execution_count": 248,
   "metadata": {},
   "outputs": [
    {
     "name": "stdout",
     "output_type": "stream",
     "text": [
      "[8, 2, 3, 'ciao', 'mondo', 1, 5, 5]\n",
      "[1, 5, 5, 1, 5, 5, 1, 5, 5, 1, 5, 5, 1, 5, 5]\n"
     ]
    }
   ],
   "source": [
    "un_altra_lista = [1, 5, 5]\n",
    "liste_concatenate = una_lista + un_altra_lista\n",
    "print(liste_concatenate)\n",
    "print(un_altra_lista*5)"
   ]
  },
  {
   "cell_type": "markdown",
   "metadata": {},
   "source": [
    "Per convertire ad esempio una un tuple in una lista possiamo effettuare la stessa operazione. Tramite type-casting possiamo passare da un oggetto not mutable ad uno mutable (e viceversa)"
   ]
  },
  {
   "cell_type": "code",
   "execution_count": 249,
   "metadata": {},
   "outputs": [
    {
     "name": "stdout",
     "output_type": "stream",
     "text": [
      "[1, 2, 99, 45, 4]\n"
     ]
    }
   ],
   "source": [
    "tup = (1, 2, 99, 45 ,4)\n",
    "lista_cast = list(tup)\n",
    "print(lista_cast)"
   ]
  },
  {
   "cell_type": "markdown",
   "metadata": {},
   "source": [
    "Per definire delle **matrici n-dimensionali mutable** si possono usare le liste, valgono le stesse considerazioni fatte con i tuple. Nel caso delle liste Python mette a disposizione **uno strumento molto potente per eseguire operazioni (es filtraggi) con (sulle) liste, il costrutto della *list comprehension*** che spiegheremo in un sottocapitolo a parte vista la grandissima importanza nel linguaggio Python"
   ]
  },
  {
   "cell_type": "code",
   "execution_count": 250,
   "metadata": {},
   "outputs": [
    {
     "name": "stdout",
     "output_type": "stream",
     "text": [
      "[[1, 2, 3], [4, 5, 6], [7, 8, 9]]\n",
      "6\n"
     ]
    }
   ],
   "source": [
    "una_matrice_lista = [[1, 2, 3],\n",
    "                     [4, 5, 6],\n",
    "                     [7, 8, 9]]\n",
    "print(una_matrice_lista)\n",
    "# Nel caso bidimensionale, quando si accede ad un elemento prima viene selezionata la riga e poi la colonna.\n",
    "# Infatti gli elementi della lista sono liste\n",
    "elemento_1_2 = una_matrice_lista[1][2]\n",
    "print(elemento_1_2)"
   ]
  },
  {
   "cell_type": "code",
   "execution_count": 251,
   "metadata": {},
   "outputs": [
    {
     "name": "stdout",
     "output_type": "stream",
     "text": [
      "[[1, 4, 7], [2, 5, 8], [3, 6, 9]]\n"
     ]
    }
   ],
   "source": [
    "# Esempio: Uso dei cicli annidiati per creare una trasposta\n",
    "trasposta_matrice_lista = list()\n",
    "for ind_colonna in range(0, len(una_matrice_lista)):\n",
    "    colonna = list()\n",
    "    for riga in una_matrice_lista:\n",
    "        colonna += (riga[ind_colonna], )\n",
    "    trasposta_matrice_lista += (colonna, )\n",
    "print(trasposta_matrice_lista)"
   ]
  },
  {
   "cell_type": "code",
   "execution_count": 252,
   "metadata": {},
   "outputs": [
    {
     "name": "stdout",
     "output_type": "stream",
     "text": [
      "[[1, 4, 7], [2, 5, 8], [3, 6, 9]]\n"
     ]
    }
   ],
   "source": [
    "# Esempio: Uso della List Comprehension per creare la trasposta\n",
    "trasposta_matrice_lista = [[riga[ind_colonna] for riga in una_matrice_lista] for ind_colonna in range(0, len(una_matrice_lista))]\n",
    "print(trasposta_matrice_lista)"
   ]
  },
  {
   "cell_type": "markdown",
   "metadata": {},
   "source": [
    "Come nel caso dei tuple, anche per le liste si possono applicare le seguenti funzioni:"
   ]
  },
  {
   "cell_type": "code",
   "execution_count": 253,
   "metadata": {},
   "outputs": [
    {
     "name": "stdout",
     "output_type": "stream",
     "text": [
      "34\n",
      "-6\n",
      "21\n",
      "True\n",
      "False\n"
     ]
    }
   ],
   "source": [
    "lista_numerica = [0, 7, 3, 9, 21, -6]\n",
    "print(sum(lista_numerica))   # somma tutti gli elementi\n",
    "print(min(lista_numerica))   # elemento minimo tra tutti\n",
    "print(max(lista_numerica))   # elemento massimo tra tutti\n",
    "print(any(lista_numerica))   # ritorna True se almeno un elemento viene valutato True\n",
    "print(all(lista_numerica))   # ritorna True se tutti gli elementi vengono valutati True"
   ]
  },
  {
   "cell_type": "code",
   "execution_count": 254,
   "metadata": {},
   "outputs": [
    {
     "name": "stdout",
     "output_type": "stream",
     "text": [
      "[-6, 21, 9, 3, 7, 0]\n",
      "[-6, 0, 3, 7, 9, 21]\n"
     ]
    }
   ],
   "source": [
    "print(list(reversed(lista_numerica)))   # Rovescia la sequenza. Ritorna un iteratore che viene usato per generare una nuova lista\n",
    "print(sorted(lista_numerica))     # Ordina la sequenda (default ordine crescente). Ritorna una lista."
   ]
  },
  {
   "cell_type": "markdown",
   "metadata": {},
   "source": [
    "### I metodi delle liste e la loro mutabilità\n",
    "Le liste dispongono di diversi metodi che permettono di operare sulla lista stessa, permettendone anche la modifica (di quell'istanza, non di una copia). Questo rende le liste **dinamiche e mutabili**, esse possono crescere se vengono aggiunti elementi o rimpicciolire se vengono eliminati elementi. Creiamo una lista vuota:"
   ]
  },
  {
   "cell_type": "code",
   "execution_count": 255,
   "metadata": {},
   "outputs": [],
   "source": [
    "una_lista = list()   # Sto sovrascrivendo la variabile una_lista"
   ]
  },
  {
   "cell_type": "markdown",
   "metadata": {},
   "source": [
    "Possiamo aggiungere elementi alla lista tramite il metodo `append()`, che inserisce un nuovo elemento nella coda della lista (ovvero a destra):"
   ]
  },
  {
   "cell_type": "code",
   "execution_count": 256,
   "metadata": {},
   "outputs": [
    {
     "name": "stdout",
     "output_type": "stream",
     "text": [
      "['Marco']\n",
      "['Marco', 'Daniele']\n"
     ]
    }
   ],
   "source": [
    "una_lista.append(\"Marco\")\n",
    "print(una_lista)\n",
    "una_lista.append(\"Daniele\")\n",
    "print(una_lista)"
   ]
  },
  {
   "cell_type": "markdown",
   "metadata": {},
   "source": [
    "Come si può vedere viene modificata una_lista, non viene creata una lista nuova. Posso inserire un elemento anche in mezzo alla lista utilizzando il metodo `insert()`, che posiziona il nuovo elemento prima dell'indice passato come argomento\n",
    "<div style=\"text-align:center\"><img width=\"500px\" src=\"images/linkedlistinsert.png\"></div> "
   ]
  },
  {
   "cell_type": "code",
   "execution_count": 257,
   "metadata": {},
   "outputs": [
    {
     "name": "stdout",
     "output_type": "stream",
     "text": [
      "['Marco', 'Francesca', 'Daniele']\n"
     ]
    }
   ],
   "source": [
    "una_lista.insert(1, \"Francesca\")\n",
    "print(una_lista)"
   ]
  },
  {
   "cell_type": "markdown",
   "metadata": {},
   "source": [
    "Posso decidere di **concatenare** un'altra lista alla lista esistente **aggiungendo** gli elementi, **senza creare una nuova lista**. In questo modo tutti i riferimenti ad *una_lista* che ci sono nel mio programma troveranno i nuovi dati. Si usa il metodo `extend()`"
   ]
  },
  {
   "cell_type": "code",
   "execution_count": 258,
   "metadata": {},
   "outputs": [
    {
     "name": "stdout",
     "output_type": "stream",
     "text": [
      "['Marco', 'Francesca', 'Daniele', 'Luca', 'Giovanni', 'Matteo', 'Marco']\n"
     ]
    }
   ],
   "source": [
    "altri_studenti = [\"Luca\", \"Giovanni\", \"Matteo\", \"Marco\"]\n",
    "una_lista.extend(altri_studenti)\n",
    "print(una_lista)"
   ]
  },
  {
   "cell_type": "markdown",
   "metadata": {},
   "source": [
    "Metodi di ricerca delle occorrenze ed estrazione dell'indice relativo al valore corrispondente"
   ]
  },
  {
   "cell_type": "code",
   "execution_count": 259,
   "metadata": {},
   "outputs": [
    {
     "name": "stdout",
     "output_type": "stream",
     "text": [
      "Numero occorrenze 'Marco': 2\n",
      "Prima occorrenza: indice 0\n",
      "Prima occorrenza: indice 6\n"
     ]
    }
   ],
   "source": [
    "# Trovo le occorrenze di un valore in una lista\n",
    "nome_da_cercare = \"Marco\"\n",
    "print(\"Numero occorrenze '{}': {}\".format(nome_da_cercare, una_lista.count(nome_da_cercare)))\n",
    "# Trovo la posizione (indice) delle occorrenze: \n",
    "indice_start = 0\n",
    "for occ in range(0, una_lista.count(nome_da_cercare)):\n",
    "    indice_occorrenza = una_lista.index(nome_da_cercare, indice_start)\n",
    "    print(\"Prima occorrenza: indice {}\".format(indice_occorrenza))\n",
    "    indice_start = indice_occorrenza + 1"
   ]
  },
  {
   "cell_type": "markdown",
   "metadata": {},
   "source": [
    "Per rimuovere un elemento dalla lista è sufficiente conoscerne il riferimento oppure l'indice: \n",
    "- Per rimuovere l'elemento noto il valore (la prima occorrenza) si usa il metodo **`remove()`**.  \n",
    "**NB:** Nel caso in cui l'elemento sia un oggetto in cui non è definito un **metodo magico di uguaglianza**, viene utilizzato il **riferimento dell'oggetto** (indirizzo di memoria) per individuare l'elemento da rimuovere. Ad esempio due numeri interi vengono considerati uguali da *remove()* se il loro valore è uguale, anche nel caso in cui siano oggetti distinti (caso interi > 256). Mentre due oggetti *Mammifero* vengono considerati uguali se sono lo stesso oggetto (stesso *id*). Per eseguire un confronto con \"valore\" anche con oggetti realizzati da noi dobbiamo specificare un criterio che determina quando due oggetti distinti devono essere considerati uguali, implementando il metodo dunder `__eq__()` (equal)\n",
    "- Per rimuovere conoscendo il riferimento si usa la funzione built-in **`del()`**. Noto l'indice si può passare direttamente l'elemento da rimuovere, ovvero `lista[indice]`\n",
    "- Per eliminare tutti gli elementi della lista vi è il metodo **`clear()`**. "
   ]
  },
  {
   "cell_type": "code",
   "execution_count": 260,
   "metadata": {},
   "outputs": [
    {
     "name": "stdout",
     "output_type": "stream",
     "text": [
      "['Marco', 'Daniele', 'Luca', 'Giovanni', 'Matteo', 'Marco']\n"
     ]
    }
   ],
   "source": [
    "una_lista.remove(\"Francesca\")\n",
    "print(una_lista)"
   ]
  },
  {
   "cell_type": "code",
   "execution_count": 261,
   "metadata": {},
   "outputs": [
    {
     "name": "stdout",
     "output_type": "stream",
     "text": [
      "['Marco', 'Luca', 'Giovanni', 'Matteo', 'Marco']\n"
     ]
    }
   ],
   "source": [
    "del(una_lista[1])\n",
    "print(una_lista)"
   ]
  },
  {
   "cell_type": "markdown",
   "metadata": {},
   "source": [
    "Il metodo `pop()` permette di estrarre un elemento dalla lista (e rimuoverlo dalla lista in un colpo solo). Se non vengono passati parametri l'operazione avviene sull'ultimo elemento, altrimenti sull'indice passato"
   ]
  },
  {
   "cell_type": "code",
   "execution_count": 262,
   "metadata": {},
   "outputs": [
    {
     "name": "stdout",
     "output_type": "stream",
     "text": [
      "Marco\n",
      "['Marco', 'Luca', 'Giovanni', 'Matteo']\n"
     ]
    }
   ],
   "source": [
    "elemento = una_lista.pop()\n",
    "print(elemento)\n",
    "print(una_lista)"
   ]
  },
  {
   "cell_type": "markdown",
   "metadata": {},
   "source": [
    "Il metodo `reverse()` permette di rovesciare la lista, ma senza crearne una copia, come invece avviene con l'utilizzo della funzione built-in `reversed()`. Allo stesso modo il metodo `sort()` agisce sull'istanza, ordinando la lista **senza crearne una copia**, mentre la funzione built-in `sorted()` crea una nuova lista. Nel caso di lista composta da **stringhe** viene applicato l'**ordinamento alfabetico**."
   ]
  },
  {
   "cell_type": "code",
   "execution_count": 263,
   "metadata": {},
   "outputs": [
    {
     "name": "stdout",
     "output_type": "stream",
     "text": [
      "['Matteo', 'Giovanni', 'Luca', 'Marco']\n",
      "['Giovanni', 'Luca', 'Marco', 'Matteo']\n"
     ]
    }
   ],
   "source": [
    "una_lista.reverse()\n",
    "print(una_lista)\n",
    "una_lista.sort()\n",
    "print(una_lista)"
   ]
  },
  {
   "cell_type": "markdown",
   "metadata": {},
   "source": [
    "### Copia di una lista\n",
    "\n",
    "Abbiamo parlato di copie, spesso infatti abbiamo la necessità di **operare su una copia di una lista**, ovvero vogliamo una nuovo oggetto (con differente locazione di memoria) i cui elementi siano gli stessi della lista di partenza. Si pensi ad esempio ad una operazione di **\"depennamento digitale\"** all'interno di una lista, dove vengono **eliminati elementi a seconda di una specifica condizione**: l'esempio classico è quello di un gestionale di libri/film/studente... dove ogni elemento (libro, film, studente) della lista è un **oggetto o una struttura dati composta da più attributi** ed è necessario cercare, ad esempio, tutti gli studenti di una certa classe (depennando gli altri) per poi restringere ulteriormente il campo alle sole studentesse (depennando i maschi). Possiamo pensare quindi di creare una copia della lista studenti ed agire su questa copia in modo da non andare a rimuovere studenti dalla nostra lista di riferiment principale. Terminata la rimozione questa nuova lista conterrà il risultato della ricerca con depennamento.\n",
    "Il nostro **database**, interamente in memoria RAM (heap) sarà in questo caso composto da una **lista (collezione/container) di oggetti Studente** (descritti dalla classe Studente) composti da attributi (e metodi).  \n",
    "Vediamo un esempio:"
   ]
  },
  {
   "cell_type": "code",
   "execution_count": 264,
   "metadata": {},
   "outputs": [
    {
     "name": "stdout",
     "output_type": "stream",
     "text": [
      "Marco Rossi (M) - Classe: 1A\n",
      "Luca Verdi (M) - Classe: 1A\n",
      "Francesca Gialli (F) - Classe: 1A\n",
      "Andrea Viola (F) - Classe: 2C\n",
      "Andrea Neri (M) - Classe: 2C\n",
      "Matteo Indaco (M) - Classe: 2C\n"
     ]
    }
   ],
   "source": [
    "# Un esempio minimale di classe studente\n",
    "class Studente():\n",
    "    # Attributi\n",
    "    nome = \"\"\n",
    "    classe = \"\"\n",
    "    sesso = \"\"\n",
    "    \n",
    "    # Costruttore\n",
    "    def __init__(self, nome, classe, sesso):\n",
    "        self.nome = nome\n",
    "        self.classe = classe\n",
    "        self.sesso = sesso\n",
    "        \n",
    "    # Metodo magico __str__() per l'uso con print()\n",
    "    def __str__(self):\n",
    "        return \"{s.nome} ({s.sesso}) - Classe: {s.classe}\".format(s=self)\n",
    "    \n",
    "# Il mio database è una lista di studenti (sequenza iterable di riferimenti ad oggetti Studente). Creo una lista vuota:\n",
    "lista_studenti = list()\n",
    "\n",
    "# Creo ed aggiungo gli studenti\n",
    "lista_studenti.append(Studente(\"Marco Rossi\", \"1A\", \"M\"))\n",
    "lista_studenti.append(Studente(\"Luca Verdi\", \"1A\", \"M\"))\n",
    "lista_studenti.append(Studente(\"Francesca Gialli\", \"1A\", \"F\"))\n",
    "lista_studenti.append(Studente(\"Andrea Viola\", \"2C\", \"F\"))\n",
    "lista_studenti.append(Studente(\"Andrea Neri\", \"2C\", \"M\"))\n",
    "lista_studenti.append(Studente(\"Matteo Indaco\", \"2C\", \"M\"))\n",
    "\n",
    "# Possiamo stampare il nostro database, scansionando la lista e stampandone gli elementi uno per riga per chiarezza espositiva\n",
    "for studente in lista_studenti:\n",
    "    print(studente) "
   ]
  },
  {
   "cell_type": "markdown",
   "metadata": {},
   "source": [
    "**Per effettuare una copia semplice (shallow)** della lista vi sono essenzialmente cinque modi di procedere:  \n",
    "1. Utilizzare il **metodo `copy()`** sulla lista di partenza, esso restituisce una copia della lista\n",
    "2. Utilizzare il **costruttore** dell'oggetto lista, ovvero **`list()`** che può prendere un qualsiasi iterable per inizializzare una nuova lista, quindi anche una lista stessa\n",
    "3. Usare l'**operazione di concatenazione**, che crea sempre un nuovo contenitore. In questo caso si concatena una lista con una lista vuota []\n",
    "4. Usare la tecnica del **list slicing** prendendo tutti gli elementi, ovvero `[:]`\n",
    "5. Creare una lista vuota e con un **ciclo for** aggiungere gli elementi uno per uno scansionando la lista che si vuole copiare. Questo si può fare anche con una **list comprehension**.\n",
    "\n",
    "> **Il metodo `copy()` e la copia mediante costruttore sono applicabili anche a set e dictionary, entrambi contenitori mutable. In generale un qualsiasi Classe può implementare la copia definendo un opportuno metodo (non magico) arbitrario, che generalmente viene chiamato `copy()`.**"
   ]
  },
  {
   "cell_type": "code",
   "execution_count": 265,
   "metadata": {},
   "outputs": [
    {
     "name": "stdout",
     "output_type": "stream",
     "text": [
      "Marco Rossi (M) - Classe: 1A\n",
      "Luca Verdi (M) - Classe: 1A\n",
      "Francesca Gialli (F) - Classe: 1A\n",
      "Andrea Viola (F) - Classe: 2C\n",
      "Andrea Neri (M) - Classe: 2C\n",
      "Matteo Indaco (M) - Classe: 2C\n"
     ]
    }
   ],
   "source": [
    "# Copio la lista con copy()\n",
    "copia1 = lista_studenti.copy()\n",
    "\n",
    "for studente in copia1:\n",
    "    print(studente) "
   ]
  },
  {
   "cell_type": "code",
   "execution_count": 266,
   "metadata": {},
   "outputs": [
    {
     "name": "stdout",
     "output_type": "stream",
     "text": [
      "Marco Rossi (M) - Classe: 1A\n",
      "Luca Verdi (M) - Classe: 1A\n",
      "Francesca Gialli (F) - Classe: 1A\n",
      "Andrea Viola (F) - Classe: 2C\n",
      "Andrea Neri (M) - Classe: 2C\n",
      "Matteo Indaco (M) - Classe: 2C\n"
     ]
    }
   ],
   "source": [
    "# Copio la lista con list()\n",
    "copia2 = list(lista_studenti)\n",
    "\n",
    "for studente in copia2:\n",
    "    print(studente) "
   ]
  },
  {
   "cell_type": "code",
   "execution_count": 267,
   "metadata": {},
   "outputs": [
    {
     "name": "stdout",
     "output_type": "stream",
     "text": [
      "Marco Rossi (M) - Classe: 1A\n",
      "Luca Verdi (M) - Classe: 1A\n",
      "Francesca Gialli (F) - Classe: 1A\n",
      "Andrea Viola (F) - Classe: 2C\n",
      "Andrea Neri (M) - Classe: 2C\n",
      "Matteo Indaco (M) - Classe: 2C\n"
     ]
    }
   ],
   "source": [
    "# Copio la lista con list slicing\n",
    "copia3 = lista_studenti[:]\n",
    "\n",
    "for studente in copia3:\n",
    "    print(studente) "
   ]
  },
  {
   "cell_type": "markdown",
   "metadata": {},
   "source": [
    "Se noi definiamo una nuova variabile e la associamo alla precedente lista, come sappiamo viene associato solo il riferimento (in Python tutto è passato per riferimento), quindi NON stiamo copiando niente:"
   ]
  },
  {
   "cell_type": "code",
   "execution_count": 268,
   "metadata": {},
   "outputs": [
    {
     "name": "stdout",
     "output_type": "stream",
     "text": [
      "id(lista_studenti) = 2816075899272\n",
      "id(non_copia) = 2816075899272\n",
      "id(copia1) = 2816075677896\n",
      "id(copia2) = 2816075514632\n",
      "id(copia3) = 2816076055112\n"
     ]
    }
   ],
   "source": [
    "non_copia = lista_studenti\n",
    "\n",
    "# Infatti guardiamo le locazioni di memoria:\n",
    "print(\"id(lista_studenti) = %d\" % id(lista_studenti)) \n",
    "print(\"id(non_copia) = %d\" % id(non_copia)) \n",
    "print(\"id(copia1) = %d\" % id(copia1)) \n",
    "print(\"id(copia2) = %d\" % id(copia2)) \n",
    "print(\"id(copia3) = %d\" % id(copia3)) "
   ]
  },
  {
   "cell_type": "markdown",
   "metadata": {},
   "source": [
    "Se proviamo a rimuovere un elemento da *copia1* ad esempio, esso non verrà rimosso dalla lista originale"
   ]
  },
  {
   "cell_type": "code",
   "execution_count": 269,
   "metadata": {},
   "outputs": [
    {
     "name": "stdout",
     "output_type": "stream",
     "text": [
      "--- copia1 ---\n",
      "Luca Verdi (M) - Classe: 1A\n",
      "Francesca Gialli (F) - Classe: 1A\n",
      "Andrea Viola (F) - Classe: 2C\n",
      "Andrea Neri (M) - Classe: 2C\n",
      "Matteo Indaco (M) - Classe: 2C\n",
      "\n",
      "--- lista_studenti ---\n",
      "Marco Rossi (M) - Classe: 1A\n",
      "Luca Verdi (M) - Classe: 1A\n",
      "Francesca Gialli (F) - Classe: 1A\n",
      "Andrea Viola (F) - Classe: 2C\n",
      "Andrea Neri (M) - Classe: 2C\n",
      "Matteo Indaco (M) - Classe: 2C\n"
     ]
    }
   ],
   "source": [
    "del(copia1[0])   # Rimuovo il primo elemento\n",
    "\n",
    "print(\"--- copia1 ---\")\n",
    "for studente in copia1:\n",
    "    print(studente) \n",
    "print(\"\\n--- lista_studenti ---\")    \n",
    "for studente in lista_studenti:\n",
    "    print(studente) "
   ]
  },
  {
   "cell_type": "markdown",
   "metadata": {},
   "source": [
    "**Proviamo ora a completare l'esempio** depennando gli studenti come proposto, per ottenere la lista di studenti di una classe scelta e di un sesso scelto. Supponiamo di voler fare la ricerca con depennamento in due passaggi distinti, quindi con due cicli For. Non potendo scansionare una lista i cui elementi vengono rimossi dal ciclo stesso, dobbiamo operare la scansione su una **copia** (in questo caso una copia di una copia, dato che no dobbiamo depennare dalla lista studenti originale), che può essere generata **in-place** (sul posto) direttamente nellíntestazione del ciclo:"
   ]
  },
  {
   "cell_type": "code",
   "execution_count": 270,
   "metadata": {},
   "outputs": [
    {
     "name": "stdin",
     "output_type": "stream",
     "text": [
      "Inserire una classe:  2C\n"
     ]
    },
    {
     "name": "stdout",
     "output_type": "stream",
     "text": [
      "--> I risultati della ricerca sono: \n",
      "Andrea Viola (F) - Classe: 2C\n",
      "Andrea Neri (M) - Classe: 2C\n",
      "Matteo Indaco (M) - Classe: 2C\n"
     ]
    },
    {
     "name": "stdin",
     "output_type": "stream",
     "text": [
      "Si vuole cercare solo i maschi (M) o le femmine (F)? Premere semplicemente invio per terminare la ricerca. F\n"
     ]
    },
    {
     "name": "stdout",
     "output_type": "stream",
     "text": [
      "--> I risultati finali della ricerca sono: \n",
      "Andrea Viola (F) - Classe: 2C\n"
     ]
    }
   ],
   "source": [
    "# Creo la lista dei risultati, inizialmente sarà una copia della mia lista studenti\n",
    "lista_risultati_ricerca = lista_studenti.copy()\n",
    "classe = input(\"Inserire una classe: \").upper()\n",
    "for studente in lista_risultati_ricerca[:]:   # Sto creando una copia di lista_studenti_ricerca il cui scope è il solo ciclo For\n",
    "    if studente.classe != classe:   # devo depennare!\n",
    "        lista_risultati_ricerca.remove(studente)\n",
    "print(\"--> I risultati della ricerca sono: \")\n",
    "for studente in lista_risultati_ricerca:\n",
    "    print(studente) \n",
    "sesso = input(\"Si vuole cercare solo i maschi (M) o le femmine (F)? Premere semplicemente invio per terminare la ricerca.\").upper()\n",
    "if sesso != \"\":\n",
    "    for studente in lista_risultati_ricerca[:]:   # Nuova copia in-place\n",
    "        if studente.sesso != sesso:   # devo depennare!\n",
    "            lista_risultati_ricerca.remove(studente)\n",
    "print(\"--> I risultati finali della ricerca sono: \")\n",
    "for studente in lista_risultati_ricerca:\n",
    "    print(studente) "
   ]
  },
  {
   "cell_type": "markdown",
   "metadata": {},
   "source": [
    "Come possiamo vedere, la lista originaria non è stata toccata"
   ]
  },
  {
   "cell_type": "code",
   "execution_count": 271,
   "metadata": {},
   "outputs": [
    {
     "name": "stdout",
     "output_type": "stream",
     "text": [
      "--- lista_studenti ---\n",
      "Marco Rossi (M) - Classe: 1A\n",
      "Luca Verdi (M) - Classe: 1A\n",
      "Francesca Gialli (F) - Classe: 1A\n",
      "Andrea Viola (F) - Classe: 2C\n",
      "Andrea Neri (M) - Classe: 2C\n",
      "Matteo Indaco (M) - Classe: 2C\n",
      "\n",
      "--- lista_risultati_ricerca ---\n",
      "Andrea Viola (F) - Classe: 2C\n"
     ]
    }
   ],
   "source": [
    "print(\"--- lista_studenti ---\")    \n",
    "for studente in lista_studenti:\n",
    "    print(studente) \n",
    "print(\"\\n--- lista_risultati_ricerca ---\")\n",
    "for studente in lista_risultati_ricerca:\n",
    "    print(studente) "
   ]
  },
  {
   "cell_type": "markdown",
   "metadata": {},
   "source": [
    "#### Shallow Copy e Deep Copy\n",
    "Gli elementi della lista sono RIFERIMENTI ad oggetti**, quindi se copiamo semplicemente la lista, ovvero il contenitore di riferimenti, otteniamo un'altra lista con **gli stessi riferimenti**: questo vuol dire che **possiamo modificare il contenuto (es. attributi) di tali elementi** anche accedendovi utilizzando la lista copiata.  \n",
    "**Questo metodo di copia degli oggetti, che in Python è il default, prende il nome di [SHALLOW COPY](https://www.geeksforgeeks.org/copy-python-deep-copy-shallow-copy/)**\n",
    "<div style=\"text-align:center\"><img width=\"400px\" src=\"images/shallow-copy.jpg\"></div> \n"
   ]
  },
  {
   "cell_type": "code",
   "execution_count": 272,
   "metadata": {},
   "outputs": [
    {
     "name": "stdout",
     "output_type": "stream",
     "text": [
      "--- lista_studenti ---\n",
      "Marco Rossi (M) - Classe: 1A\n",
      "Luca Verdi (M) - Classe: 5B\n",
      "Francesca Gialli (F) - Classe: 1A\n",
      "Andrea Viola (F) - Classe: 2C\n",
      "Andrea Neri (M) - Classe: 2C\n",
      "Matteo Indaco (M) - Classe: 2C\n",
      "\n",
      "--- copia2 ---\n",
      "Marco Rossi (M) - Classe: 1A\n",
      "Luca Verdi (M) - Classe: 5B\n",
      "Francesca Gialli (F) - Classe: 1A\n",
      "Andrea Viola (F) - Classe: 2C\n",
      "Andrea Neri (M) - Classe: 2C\n",
      "Matteo Indaco (M) - Classe: 2C\n",
      "\n",
      "--- copia1 ---\n",
      "Luca Verdi (M) - Classe: 5B\n",
      "Francesca Gialli (F) - Classe: 1A\n",
      "Andrea Viola (F) - Classe: 2C\n",
      "Andrea Neri (M) - Classe: 2C\n",
      "Matteo Indaco (M) - Classe: 2C\n",
      "\n",
      "Riferimenti in memoria\n",
      "id(lista_studenti[1]) = 2816076594144\n",
      "id(copia2[1]) = 2816076594144\n",
      "id(copia1[0]) = 2816076594144\n"
     ]
    }
   ],
   "source": [
    "# Provo a modificare la classe del secondo studente di copia2\n",
    "copia2[1].classe = \"5B\"\n",
    "\n",
    "# Verifico che la modifica si ripercuote su tutto, in quanto le copie sono di tipo Shallow\n",
    "print(\"--- lista_studenti ---\")    \n",
    "for studente in lista_studenti:\n",
    "    print(studente) \n",
    "print(\"\\n--- copia2 ---\")\n",
    "for studente in copia2:\n",
    "    print(studente) \n",
    "print(\"\\n--- copia1 ---\")\n",
    "for studente in copia1:\n",
    "    print(studente) \n",
    "    \n",
    "# Infatti il riferimento dell'elemento è lo stesso per ogni lista\n",
    "print(\"\\nRiferimenti in memoria\")\n",
    "print(\"id(lista_studenti[1]) = %d\" % id(lista_studenti[1]))\n",
    "print(\"id(copia2[1]) = %d\" % id(copia2[1]))\n",
    "print(\"id(copia1[0]) = %d\" % id(copia1[0]))"
   ]
  },
  {
   "cell_type": "markdown",
   "metadata": {},
   "source": [
    "A volte c'è l'esigenza di creare una copia anche degli oggetti contenuti nel contenitore, in questo caso non si copia solo la lista dei riferimenti, ma si crea una nuova lista dove gli elementi sono **copie** di quelli nella lista di partenza. In questo caso si parla di **[DEEP COPY](https://www.geeksforgeeks.org/copy-python-deep-copy-shallow-copy/)**, ovvero copia profonda. Una copia profonda di solito copre tutti i sotto-livelli in modo ricorsivo, ovvero crea una copia di tutti i sotto-oggetti e dei loro sotto-oggetti e così via. Quello che si crea è un erfetto clone in memoria. \n",
    "\n",
    "<div style=\"text-align:center\"><img width=\"500px\" src=\"images/deep-copy.jpg\"></div> \n",
    "    \n",
    "Per effettuare copie **shallow** e copie **deep** su qualsiasi oggetto e containter, Python mette a disposizione una libreria ad-hoc chiamata `copy`. Possiamo usare tale libreria per creare una copia completa della nostra lista di studenti"
   ]
  },
  {
   "cell_type": "code",
   "execution_count": 273,
   "metadata": {},
   "outputs": [
    {
     "name": "stdout",
     "output_type": "stream",
     "text": [
      "--- copia_deep_lista_studenti ---\n",
      "Marco Rossi (M) - Classe: 1A\n",
      "Luca Verdi (M) - Classe: 5B\n",
      "Francesca Gialli (F) - Classe: 1A\n",
      "Andrea Viola (F) - Classe: 2C\n",
      "Andrea Neri (M) - Classe: 2C\n",
      "Matteo Indaco (M) - Classe: 2C\n"
     ]
    }
   ],
   "source": [
    "import copy\n",
    "copia_deep_lista_studenti = copy.deepcopy(lista_studenti)\n",
    "\n",
    "print(\"--- copia_deep_lista_studenti ---\")    \n",
    "for studente in copia_deep_lista_studenti:\n",
    "    print(studente) "
   ]
  },
  {
   "cell_type": "code",
   "execution_count": 274,
   "metadata": {},
   "outputs": [
    {
     "name": "stdout",
     "output_type": "stream",
     "text": [
      "\n",
      "--- copia_deep_lista_studenti ---\n",
      "Marco Rossi (M) - Classe: 1A\n",
      "Luca Verdi (M) - Classe: 3A\n",
      "Francesca Gialli (F) - Classe: 1A\n",
      "Andrea Viola (F) - Classe: 2C\n",
      "Andrea Neri (M) - Classe: 2C\n",
      "Matteo Indaco (M) - Classe: 2C\n",
      "--- lista_studenti ---\n",
      "Marco Rossi (M) - Classe: 1A\n",
      "Luca Verdi (M) - Classe: 5B\n",
      "Francesca Gialli (F) - Classe: 1A\n",
      "Andrea Viola (F) - Classe: 2C\n",
      "Andrea Neri (M) - Classe: 2C\n",
      "Matteo Indaco (M) - Classe: 2C\n",
      "\n",
      "Riferimenti in memoria\n",
      "id(lista_studenti[1]) = 2816076594144\n",
      "id(copia_deep_lista_studenti[1]) = 2816076592744\n"
     ]
    }
   ],
   "source": [
    "# Provo a modificare la classe del secondo studente di copia_deep_lista_studenti\n",
    "copia_deep_lista_studenti[1].classe = \"3A\"\n",
    "\n",
    "# Verifico che la rimozione non si è propagata e che ora le due liste contengono \n",
    "# riferimenti ad oggetti distinti\n",
    "print(\"\\n--- copia_deep_lista_studenti ---\")\n",
    "for studente in copia_deep_lista_studenti:\n",
    "    print(studente) \n",
    "print(\"--- lista_studenti ---\")    \n",
    "for studente in lista_studenti:\n",
    "    print(studente) \n",
    "    \n",
    "# Infatti il riferimento dell'elemento è lo stesso per ogni lista\n",
    "print(\"\\nRiferimenti in memoria\")\n",
    "print(\"id(lista_studenti[1]) = %d\" % id(lista_studenti[1]))\n",
    "print(\"id(copia_deep_lista_studenti[1]) = %d\" % id(copia_deep_lista_studenti[1]))"
   ]
  },
  {
   "cell_type": "markdown",
   "metadata": {},
   "source": [
    "### List Comprehension"
   ]
  },
  {
   "cell_type": "markdown",
   "metadata": {},
   "source": [
    "La **list comprehension** è una delle tecniche più importanti del Python, si applica alle liste ma ne esiste una versione anche per i set ed i dictionary (ma NON per i tuple, che non sono mutable). Questa tecnica, nel caso delle liste, permette di **creare una nuova lista a partire dagli elementi di una collezione (che può essere anche una lista), FILTRANDO gli elementi secondo una particolare condizione (che può essere opzionale)**, tutto in una sola riga di codice. La tecnica applica le seguenti operazioni:\n",
    "- Viene utilizzato, in un certo senso, un **ciclo For condizionato** per **filtrare** un iterable, ovvero per estrarre tutti gli elementi che verificano una particolare condizione. Se non è specificata una condizione vengono estratti tutti gli elementi. Questo ciclo For condizionato **può essere anche multivariabile**, gli elementi restituiti saranno quindi più d'uno. Non è invece necessario che la condizione di filtraggio coinvolga tutte le variabili, ne può considerare anche solo una\n",
    "- Agli elementi filtrati **viene applicata l'operazione che vogliamo**. Nel caso multivariabile gli elementi restituiti sono n-uple di oggetti (doppietti, triplette, ...), possiamo decidere di usarli tutti per l'operazione che vogliamo fare o **solo alcuni**\n",
    "- **Viene creata una lista** i cui elementi sono i **risultati** ottenuti, con lo **stesso ordine** con cui gli elementi filtrati vengono estratti dalla collezione iterable di partenza, se tale iterable non è una sequenza quindi non è definito un ordine particolare.  \n",
    "\n",
    "La sintassi è la seguente:   \n",
    "  \n",
    "```python\n",
    "nuova_lista = [operazione(variabili) for variabili in iterable if condizione]\n",
    "```\n",
    "\n",
    "Ad esempio la seguente list comprehension crea una lista contenente i quadrati dei soli numeri interi multipli di 3 (zero incluso) contenuti nella sequenza (oggetto range)\n",
    "\n",
    "<div style=\"text-align:center\"><img width=\"600px\" src=\"images/list_comprehension.png\"></div> "
   ]
  },
  {
   "cell_type": "code",
   "execution_count": 275,
   "metadata": {},
   "outputs": [
    {
     "name": "stdout",
     "output_type": "stream",
     "text": [
      "[0, 9, 36, 81, 144, 225, 324, 441, 576, 729, 900, 1089, 1296, 1521, 1764, 2025, 2304]\n"
     ]
    }
   ],
   "source": [
    "nuova_lista = [x**2 for x in range(0, 50) if x % 3 == 0]\n",
    "print(nuova_lista)"
   ]
  },
  {
   "cell_type": "markdown",
   "metadata": {},
   "source": [
    "Se omettiamo la condizione otteniamo il quadrato di tutti gli elementi dell'iterable, inseriti poi in una lista"
   ]
  },
  {
   "cell_type": "code",
   "execution_count": 276,
   "metadata": {},
   "outputs": [
    {
     "name": "stdout",
     "output_type": "stream",
     "text": [
      "[0, 1, 4, 9, 16, 25, 36, 49, 64, 81, 100, 121, 144, 169, 196, 225, 256, 289, 324, 361, 400, 441, 484, 529, 576, 625, 676, 729, 784, 841, 900, 961, 1024, 1089, 1156, 1225, 1296, 1369, 1444, 1521, 1600, 1681, 1764, 1849, 1936, 2025, 2116, 2209, 2304, 2401]\n"
     ]
    }
   ],
   "source": [
    "nuova_lista = [x**2 for x in range(0, 50)]\n",
    "print(nuova_lista)"
   ]
  },
  {
   "cell_type": "markdown",
   "metadata": {},
   "source": [
    "**La list comprehension può essere usata per eseguire ricerche in una lista**, infatti ne permette il filtraggio, ottenendo **una nuova lista**. Possiamo utilizzare questo metodo per filtrare la lista studenti come abbiamo fatto nel caso del \"depennamento\". In questo caso la lista dei risultati non viene creata per rimozione degli elementi non validi da una copia della lista di partenza, ma si ottiene **creando direttamente una nuova lista filtrando gli elementi della lista di partenza con la tecnica della list comprehension**"
   ]
  },
  {
   "cell_type": "code",
   "execution_count": 278,
   "metadata": {},
   "outputs": [
    {
     "name": "stdin",
     "output_type": "stream",
     "text": [
      "Inserire una classe:  2C\n"
     ]
    },
    {
     "name": "stdout",
     "output_type": "stream",
     "text": [
      "--> I risultati della ricerca sono: \n",
      "Andrea Viola (F) - Classe: 2C\n",
      "Andrea Neri (M) - Classe: 2C\n",
      "Matteo Indaco (M) - Classe: 2C\n"
     ]
    },
    {
     "name": "stdin",
     "output_type": "stream",
     "text": [
      "Si vuole cercare solo i maschi (M) o le femmine (F)? Premere semplicemente invio per terminare la ricerca. M\n"
     ]
    },
    {
     "name": "stdout",
     "output_type": "stream",
     "text": [
      "--> I risultati finali della ricerca sono: \n",
      "Andrea Neri (M) - Classe: 2C\n",
      "Matteo Indaco (M) - Classe: 2C\n"
     ]
    }
   ],
   "source": [
    "classe = input(\"Inserire una classe: \").upper()\n",
    "lista_risultati_ricerca = [studente for studente in lista_studenti if studente.classe == classe]\n",
    "\n",
    "print(\"--> I risultati della ricerca sono: \")\n",
    "print(\"\\n\".join([str(s) for s in lista_risultati_ricerca]))\n",
    "\n",
    "sesso = input(\"Si vuole cercare solo i maschi (M) o le femmine (F)? Premere semplicemente invio per terminare la ricerca.\").upper()\n",
    "if sesso != \"\":\n",
    "    # Sostituisco il riferimento, la vecchia lista verrà rimossa dal garbage collector\n",
    "    lista_risultati_ricerca = [studente for studente in lista_risultati_ricerca if studente.sesso == sesso]   \n",
    "print(\"--> I risultati finali della ricerca sono: \")\n",
    "print(\"\\n\".join([str(s) for s in lista_risultati_ricerca]))"
   ]
  },
  {
   "cell_type": "markdown",
   "metadata": {},
   "source": [
    "**Nell'esercizio su Fibonacci** richiesto nella lezione 3 era stato richiesto di stampare a schermo il numero intervallando le migliaia con un apice. Questo può essere fatto in una sola riga sfruttando list comprehension, if in-line, oggetto range e metodi delle stringhe:"
   ]
  },
  {
   "cell_type": "code",
   "execution_count": 279,
   "metadata": {},
   "outputs": [
    {
     "name": "stdout",
     "output_type": "stream",
     "text": [
      "10'002'345\n"
     ]
    }
   ],
   "source": [
    "stringa_numerica = \"10002345\"\n",
    "nuova_stringa = \"\".join([stringa_numerica[i] if i % 3 != 0 else stringa_numerica[i] + \"'\" for i in range(-1, -len(stringa_numerica)-1, -1)])[::-1]\n",
    "print(nuova_stringa)"
   ]
  },
  {
   "cell_type": "markdown",
   "metadata": {},
   "source": [
    "Un altro modo di fare la stessa cosa utilizzando una list comprehension a due variabili con l'uso di *enumerate()*"
   ]
  },
  {
   "cell_type": "code",
   "execution_count": 280,
   "metadata": {},
   "outputs": [
    {
     "name": "stdout",
     "output_type": "stream",
     "text": [
      "10'002'345\n"
     ]
    }
   ],
   "source": [
    "stringa_numerica = \"10002345\"\n",
    "nuova_stringa = \"\".join(reversed([car if i % 3 != 0 else \"'\" + car for i, car in enumerate(reversed(stringa_numerica), 1)]))\n",
    "print(nuova_stringa)"
   ]
  },
  {
   "cell_type": "markdown",
   "metadata": {},
   "source": [
    "**Un esempio** di list comprehension a tre variabili che estrae solo gli elementi di posizione 0 da una lista di triplette (tuple) di int, ma solo dalle triplette che hanno l'elemento all'indice 1 pari, ovvero multiplo di 2 (filtraggio). Nella lista generata viene inserito il carattere maiuscolo corrispondente alla lettera dell'alfabeto indicata dal numero estratto, partendo da A = 1"
   ]
  },
  {
   "cell_type": "code",
   "execution_count": 282,
   "metadata": {},
   "outputs": [
    {
     "name": "stdout",
     "output_type": "stream",
     "text": [
      "[(1, 2, 3), (4, 5, 6), (7, 8, 9)]\n",
      "['A', 'G']\n"
     ]
    }
   ],
   "source": [
    "lista = [(1,2,3),(4,5,6),(7,8,9)]\n",
    "print(lista)\n",
    "\n",
    "# Un altro modo di esprimere la condizione \"multiplo di\": \n",
    "# Un numero N è multiplo di M se M volte la DIVISIONE INTERA di N per M è pari al numero stesso (N)\n",
    "# Avevamo visto la stessa verifica usando l'operatore modulo (resto della divisione intera), ovvero\n",
    "# un numero diviso per un suo multiplo ha sempre quoziente intero e resto nullo, ovvero N % M = 0 se N è multiplo di M\n",
    "lista_risultati = [chr(ord(\"A\") - 1 + el0) for el0,el1,el2 in lista if el1 == 2*(el1 // 2)]\n",
    "print(lista_risultati)"
   ]
  },
  {
   "cell_type": "markdown",
   "metadata": {},
   "source": [
    "## I Set (insiemi)\n",
    "I set sono i classici **insiemi** rappresentabili con i diagrammi di Venn, sono dei **contenitori iterable che non assegnano nessuna numerazione o ordine agli elementi che contengono**, quindi i set sono:\n",
    "- Interable e NON sequences\n",
    "- Mutable\n",
    "Un'altra differenza importante rispetto alle liste è che i set **non possono contenere referenze multiple allo stesso oggetto oppure a oggetti aventi lo stesso valore**, questo significa che:\n",
    "- Se aggiungo ad un insieme due oggetti identici (stesso id), ne verrà inserito solo uno. Se l'oggetto è già presente nell'insieme non viene inserito niente\n",
    "- Se aggiungo due oggetti distinti dello stesso tipo ma valutati uguali da un confronto di valore (cose si farebbe con `==`), ne viene aggiunto solo uno. Se nell'insieme è già presente un elemento con lo stesso valore, non viene aggiunto niente. **NB:** è lo stesso concetto di valore usato per il metodo di rimozione *remove()* di cui abbiamo parlato nel capitolo delle liste\n",
    "- Se due insiemi vengono uniti per formare un unico insieme, tutti i doppioni vengono eliminati\n",
    "- Se un qualsiasi iterable viene convertito ad insieme (type-cast), i doppioni vengono inseriti nell'insieme una solo volta (ovviamente senza ordine definito)\n",
    "\n",
    "I set si definiscono con le parentesi graffe `{}` e vengono utilizzati ogni volta che è necessario effettuare operazioni su insiemi di dati in cui **non sia importante l'ordine**. Se si vuole operare sugli insiemi sfruttando i comodi metodi che un set mette a disposizione, ma mantenendo l'ordine bisogna usare gli ordered-set, collezioni disponibili importando una libreria esterna. Un caso particolare in cui non servono gli ordered-set per mantenere l'ordine è quando convertiamo una lista il cui ordinamento può essere ri-generato andando a valutare una **funzione d'ordinamento** sui suoi elementi. Il caso più semplice è quello di una lista numerica con valori crescenti/decrescenti o un ordinamento alfabetico, ottenibile ad esempio con il metodo `sort()`. In questo caso possiamo convertire la lista ordinata in insieme, sfruttare i metodi degli insiemi, quindi convertire l'insieme in lista applicando l'ordinamento di partenza. Al metodo *sort()* può essere passata una funzione di ordinamento personalizzata, ad esempio per definire l'ordine su classi realizzate da noi: per esempio uno Studente potrà essere ordinato in modo alfabetico sfruttando il cognome, oppure usando un numero di matricola ed applicando un ordinamento numerico, però dobbiamo definire noi come questo debba essere fatto. Chiaramente questo è possibile solo nel caso in cui gli elementi sono tutti confrontabili tra loro (dello stesso tipo o di tipi diversi ma confrontabili tra loro, come int e float)."
   ]
  },
  {
   "cell_type": "code",
   "execution_count": 367,
   "metadata": {},
   "outputs": [
    {
     "name": "stdout",
     "output_type": "stream",
     "text": [
      "<class 'set'>\n",
      "{1, 2, 3, 'ciao', 'mondo'}\n",
      "5\n"
     ]
    }
   ],
   "source": [
    "un_set = {1, 2, 3, \"ciao\", \"mondo\"}\n",
    "print(type(un_set))\n",
    "print(un_set)\n",
    "print(len(un_set))"
   ]
  },
  {
   "cell_type": "code",
   "execution_count": null,
   "metadata": {},
   "outputs": [],
   "source": [
    "# Se inserisco più elementi uguali nel set, essi vengono considerati una sola volta\n",
    "un_altro_set = {1, 1, 455, 8, 455, \"mondo\"}\n",
    "print(un_altro_set)"
   ]
  },
  {
   "cell_type": "markdown",
   "metadata": {},
   "source": [
    "Un modo per eliminare da una lista occorrenze multiple, se non ci interessa l'ordine o se possiamo riordinare nuovamente i dati, è convertirla in set. Qualsiasi iterable può essere convertito in set usando il costruttore della classe `set()`. Se non viene passato alcun argomento, si crea un insieme vuoto."
   ]
  },
  {
   "cell_type": "code",
   "execution_count": null,
   "metadata": {},
   "outputs": [],
   "source": [
    "lista_occorrenze_multiple = [1, 1, 455, 8, 455, -2]\n",
    "set_da_lista = set(lista_occorrenze_multiple)   # Perdo l'ordine\n",
    "print(lista_occorrenze_multiple)\n",
    "print(set_da_lista)\n",
    "# Se riconverto in lista non ho più l'ordine della lista di partenza\n",
    "print(list(set_da_lista))"
   ]
  },
  {
   "cell_type": "markdown",
   "metadata": {},
   "source": [
    "Possiamo però sfruttare l'eliminazione intrinseca delle occorrenze multiple mantenendo l'ordine nel caso in cui siamo interessati, ad esemio, ad un ordine crescente dei valori della lista"
   ]
  },
  {
   "cell_type": "code",
   "execution_count": null,
   "metadata": {},
   "outputs": [],
   "source": [
    "# Ordino la lista (ordinamento crescente)\n",
    "lista_occorrenze_multiple.sort()\n",
    "set_da_lista = set(lista_occorrenze_multiple)   # Perdo l'ordine momentaneamente\n",
    "print(lista_occorrenze_multiple)\n",
    "print(set_da_lista)\n",
    "# Riconverto in lista usando sorted() che restituisce già una nuova lista\n",
    "print(sorted(set_da_lista))"
   ]
  },
  {
   "cell_type": "markdown",
   "metadata": {},
   "source": [
    "**LE FUNZIONI DI ORDINAMENTO: Nel caso di studenti devo definire una funzione d'ordine**, ad esempio valutare l'ordine alfabetico sui nomi. Una funzione d'ordine **ha sempre 1 parametro**, dal quale viene estratto e ritornato l'elemento su cui operare un confronto di tipo \">=\". Questo elemento può essere ad esempio un attributo di un tipo fondamentale ordinabile (intero, float, stringa) oppure un oggetto che implementa i [metodi magici per il confronto](https://portingguide.readthedocs.io/en/latest/comparisons.html). Il metodo *sorted()* si applica a **qualsiasi collezione iterable contenente qualsiasi tipo di oggetti** a patto di aver definito il modo in cui deve avvenire l'ordinamento (se non già implicito ed integrato nell'oggetto in questione)"
   ]
  },
  {
   "cell_type": "code",
   "execution_count": null,
   "metadata": {},
   "outputs": [],
   "source": [
    "def ordina_studenti_nome(studente):\n",
    "    return studente.nome"
   ]
  },
  {
   "cell_type": "code",
   "execution_count": null,
   "metadata": {},
   "outputs": [],
   "source": [
    "# Creo una lista ordinata di studenti (nome completo)\n",
    "lista_ordinata_studenti = sorted(lista_studenti, key=ordina_studenti_nome)\n",
    "for studente in lista_ordinata_studenti:\n",
    "    print(studente)"
   ]
  },
  {
   "cell_type": "code",
   "execution_count": null,
   "metadata": {},
   "outputs": [],
   "source": [
    "# Converto la lista in insieme, cosi facendo perdo l'ordine\n",
    "insieme_studenti = set(lista_ordinata_studenti)\n",
    "for studente in insieme_studenti:\n",
    "    print(studente)"
   ]
  },
  {
   "cell_type": "code",
   "execution_count": null,
   "metadata": {},
   "outputs": [],
   "source": [
    "# Torno ad una lista recuperando l'ordine di partenza, dato dalla mia funzione specifica\n",
    "lista_ritornata = sorted(insieme_studenti, key=ordina_studenti_nome)\n",
    "for studente in lista_ritornata:\n",
    "    print(studente)"
   ]
  },
  {
   "cell_type": "markdown",
   "metadata": {},
   "source": [
    "Se proviamo a convertire una stringa in un set, tutti i caratteri ripetuti vengono tolti e ne perdiamo l'ordine"
   ]
  },
  {
   "cell_type": "code",
   "execution_count": null,
   "metadata": {},
   "outputs": [],
   "source": [
    "print(set(\"soprattutto quando ci sono doppie\"))"
   ]
  },
  {
   "cell_type": "markdown",
   "metadata": {},
   "source": [
    "Se proviamo ad accedere al set con un indice otteniamo un errore"
   ]
  },
  {
   "cell_type": "code",
   "execution_count": null,
   "metadata": {},
   "outputs": [],
   "source": [
    "print(insieme_studenti[1])"
   ]
  },
  {
   "cell_type": "markdown",
   "metadata": {},
   "source": [
    "### I metodi degli insiemi e le operazioni con i diagrammi di Venn\n",
    "Definito un insieme, possiamo aggiungere e rimuovere **elementi** (detti in questo caso **membri** o **chiavi**) con i metodi `add()`, `remove()` e `discard()`. La differenza tra questi ultimi due è che *remove()* genera una eccezione se proviamo a rimuovere un elemento che non è presente del set, mentre *discard()* non genera alcun errore. Utilizzando `clear()` rimuoviamo tutti gli elementi."
   ]
  },
  {
   "cell_type": "code",
   "execution_count": null,
   "metadata": {},
   "outputs": [],
   "source": [
    "# Creo un insieme vuoto\n",
    "un_insieme = set()"
   ]
  },
  {
   "cell_type": "code",
   "execution_count": null,
   "metadata": {},
   "outputs": [],
   "source": [
    "# Aggiungo elementi all'insieme\n",
    "un_insieme.add(4)\n",
    "print(un_insieme)\n",
    "un_insieme.add(8)\n",
    "print(un_insieme)\n",
    "un_insieme.add(12)\n",
    "print(un_insieme)\n",
    "un_insieme.add(454)\n",
    "print(un_insieme)"
   ]
  },
  {
   "cell_type": "code",
   "execution_count": null,
   "metadata": {},
   "outputs": [],
   "source": [
    "# Rimuovo elementi dall'insieme\n",
    "un_insieme.remove(454)\n",
    "print(un_insieme)\n",
    "un_insieme.remove(12)\n",
    "print(un_insieme)"
   ]
  },
  {
   "cell_type": "code",
   "execution_count": null,
   "metadata": {},
   "outputs": [],
   "source": [
    "un_insieme.discard(12)"
   ]
  },
  {
   "cell_type": "code",
   "execution_count": null,
   "metadata": {},
   "outputs": [],
   "source": [
    "un_insieme.remove(12)"
   ]
  },
  {
   "cell_type": "markdown",
   "metadata": {},
   "source": [
    "In modo analogo alle altre collezioni posso copiare un insieme (shallow di default o deep se importo la libreria *copy*). Posso utilizzare sia il metodo `copy()` dell'oggetto che intendo copiare, che il costruttore `set()`"
   ]
  },
  {
   "cell_type": "code",
   "execution_count": null,
   "metadata": {},
   "outputs": [],
   "source": [
    "insieme_copia1 = un_insieme.copy()\n",
    "print(insieme_copia1)\n",
    "insieme_copia2 = set(un_insieme)\n",
    "print(insieme_copia2)"
   ]
  },
  {
   "cell_type": "markdown",
   "metadata": {},
   "source": [
    "Il metodo `pop()` permette di estrarre e cancellare dall'insieme un elemento (a caso, senza ordine particolare)"
   ]
  },
  {
   "cell_type": "code",
   "execution_count": null,
   "metadata": {},
   "outputs": [],
   "source": [
    "print(insieme_copia1.pop())\n",
    "print(insieme_copia1)"
   ]
  },
  {
   "cell_type": "markdown",
   "metadata": {},
   "source": [
    "Le operazioni più interessanti che si effettuano con i set sono le **unioni di insiemi*, le **intersezioni di insiemi**, le **differenze di insiemi** e le **differenze simmetriche di insiemi**, ovvero le 4 operazioni base rappresentabili con i **diagrammi di Venn**:\n",
    "- **Unire due insiemi (A | B)** significa prendere tutti gli elementi del primo insieme e del secondo insieme ed eliminare le occorrenze multiple\n",
    "- **Intersecare due insiemi (A & B)** significa prendere solo gli elementi che compaiono in entrambi gli insiemi, eliminando poi le occorrenze multiple\n",
    "- **Fare la differenza tra due insiemi (A - B)** significa considerare solo gli elementi che sono presenti nel primo insieme MA NON nel secondo (sempre occorrenze singole)\n",
    "- **Fare una differenza simmetrica (A ^ B)** significa sottrarre dall'unione dei dui insiemi la loro intersezione, ovvero considerare gli elementi che sono presenti in un insieme e nell'altro MA NON IN ENTRAMBI.  \n",
    "  *NB: A ^ B = (A | B) - (A & B)*\n",
    "\n",
    "<div style=\"text-align:center\"><img width=\"400px\" src=\"images/15_union_intersection_difference_symmetric.png\"></div>\n",
    "    \n",
    "In Python le operazioni sugli insiemi possono essere effettuate in due modi:\n",
    "- **Utilizzando gli operatori &, |, - e ^**. Le operazioni tramite operatori generano sempre un nuovo insieme, che eventualmente può essere associato alla vecchia variabile usando **&=, |=, -=, ^=** (il vecchio insieme viene rimosso dal garbage collector)\n",
    "  - & (and numerica) per l'intersezione\n",
    "  - | (or numerica) per l'unione\n",
    "  - \\- (differenza numerica) per la differenza\n",
    "  - ^ (exor numerica) per la differenza simmetrica\n",
    "- **Utilizzando i metodi degli oggetti set**. Il metodo si chiama sul primo insieme e si passa il secondo insieme come argomento. Esistono due tipi di metodi disponibili:\n",
    "  - Metodi che restituiscono un nuovo oggetto, funzionano in modo identico agli operatori\n",
    "  - Metodi che aggiornano l'oggetto su cui vengono chiamati, rendendolo il risultato dell'operazione senza creare nuovi oggetti. Questo permette di rendere disponibile il risultato a tutti gli elementi del programma che stanno utilizzando il riferimento all'oggetto sorgente. **Questi metodi terminano con la parola `_update`**.  \n",
    "    \n",
    "      ```python\n",
    "      nuovo_insieme = insieme1.union(insieme2)\n",
    "      insieme1.update(insieme2)\n",
    "        \n",
    "      nuovo_insieme = insieme1.intersection(insieme2)\n",
    "      insieme1.intersection_update(insieme2)\n",
    "        \n",
    "      nuovo_insieme = insieme1.difference(insieme2)\n",
    "      insieme1.difference_update(insieme2)\n",
    "        \n",
    "      nuovo_insieme = insieme1.symmetric_difference(insieme2)\n",
    "      insieme1.symmetric_difference_update(insieme2)\n",
    "      ```\n",
    "     \n",
    "Esistono anche due metodi che permettono di **determinare se un insieme e sottoinsieme dell'altro** (tutti gli elementi del primo sono contenuti nel secondo) o **se sono due insiemi completamente disgiunti** (nessun membro in comune, ovvero insiemi distinti con intersezione vuota). Gli stessi confronti si possono fare **con gli operatori di confronto <, <=, >, >=, ==, !=**, che in questo caso applicano le definizione della teoria degli insiemi:\n",
    "- `<`, `<=` indicano \"un sottoinsieme di\" o \"un sottoinsieme di o al più uguale a\"\n",
    "- `>`, `>=` indicano \"un sovrainsieme di\" o \"un sovrainsieme di o al più uguale a\"\n",
    "- `==`, `!=` indicano \"uguale a (stesso contenuto)\" o \"non uguale a (contenuto diverso)\"\n",
    "\n",
    "```python\n",
    "esito = insieme1.issubset(insieme2)\n",
    "esito = insieme1.issuperset(insieme2)\n",
    "esito = insieme1.isdisjoint(insieme2)\n",
    "```\n",
    "\n",
    "<div style=\"text-align:center\"><img width=\"350px\" src=\"images/3e106418-dbd9-4611-a3a7-919790e282f9.png\"></div>"
   ]
  },
  {
   "cell_type": "code",
   "execution_count": null,
   "metadata": {},
   "outputs": [],
   "source": [
    "# Definisco i seguenti insiemi\n",
    "insieme_primi = {1, 2, 3, 5, 7, 11, 13}          # Numeri primi da 1 a 15\n",
    "insieme_dispari = {1, 3, 5, 7, 9, 11, 13, 15}    # Numeri dispari da 1 a 15\n",
    "insieme_pari = {2, 4, 6, 8, 10, 12, 14}          # Numeri pari da 1 a 15 "
   ]
  },
  {
   "cell_type": "code",
   "execution_count": null,
   "metadata": {},
   "outputs": [],
   "source": [
    "# Unione insiemi con generazione di un nuovo insieme\n",
    "print(insieme_pari | insieme_dispari)\n",
    "print(insieme_pari.union(insieme_dispari))\n",
    "print(\"\")\n",
    "# Intersezione insiemi con generazione di un nuovo insieme\n",
    "print(insieme_dispari & insieme_primi)\n",
    "print(insieme_dispari.intersection(insieme_primi))\n",
    "print(\"\")\n",
    "# Differenza insiemi con generazione di un nuovo insieme\n",
    "print(insieme_primi - insieme_dispari)\n",
    "print(insieme_primi.difference(insieme_dispari))\n",
    "print(\"\")\n",
    "# Differenza simmetrica insiemi con generazione di un nuovo insieme\n",
    "print(insieme_dispari ^ insieme_primi)\n",
    "print(insieme_dispari.symmetric_difference(insieme_primi))"
   ]
  },
  {
   "cell_type": "code",
   "execution_count": null,
   "metadata": {},
   "outputs": [],
   "source": [
    "# Verifico se gli insiemi sono sottoinsiemi o sovrainsiemi\n",
    "insieme_numeri = insieme_dispari | insieme_pari\n",
    "\n",
    "print(insieme_dispari < insieme_numeri)\n",
    "print(insieme_dispari.issubset(insieme_numeri))\n",
    "print(\"\")\n",
    "print(insieme_dispari > insieme_numeri)\n",
    "print(insieme_dispari.issuperset(insieme_numeri))\n",
    "print(\"\")\n",
    "print(insieme_primi < insieme_dispari)\n",
    "print(insieme_primi.issuperset(insieme_dispari))\n",
    "print(\"\")\n",
    "# L'insieme vuoto è sempre sottoinsieme o al più uguale di tutti gli insiemi (quindi anche se stesso)\n",
    "print(set() <= insieme_dispari)"
   ]
  },
  {
   "cell_type": "code",
   "execution_count": null,
   "metadata": {},
   "outputs": [],
   "source": [
    "# Verifico si gli isniemi sono uguali o diversi\n",
    "insieme_dispari2 = {1, 3, 5, 7, 9, 11, 13, 15}\n",
    "print(insieme_dispari == insieme_dispari2)\n",
    "print(insieme_dispari == insieme_pari)\n",
    "print(insieme_dispari != insieme_primi)"
   ]
  },
  {
   "cell_type": "code",
   "execution_count": null,
   "metadata": {},
   "outputs": [],
   "source": [
    "# Due insiemi disgiunti sono diversi (non sono lo stesso insieme) e la loro intersezione è nulla\n",
    "# Come ad esempio gli insiemi di sumeri dispari e quello dei numeri pari\n",
    "print(insieme_dispari.isdisjoint(insieme_pari))\n",
    "# La condizione si traduce in:\n",
    "print(insieme_dispari != insieme_pari and insieme_dispari & insieme_pari == set())"
   ]
  },
  {
   "cell_type": "markdown",
   "metadata": {},
   "source": [
    "### Set Comprehension\n",
    "Anche con i set è possibile usare la tecnica vista con le liste, ma la sintassi utilizza le parentesi graffe `{}` anzichè le quadre. Ecco un esempio:"
   ]
  },
  {
   "cell_type": "code",
   "execution_count": null,
   "metadata": {},
   "outputs": [],
   "source": [
    "nuovo_set = {numero for numero in insieme_numeri if numero % 4 == 0}\n",
    "print(nuovo_set)"
   ]
  },
  {
   "cell_type": "markdown",
   "metadata": {},
   "source": [
    "Possiamo fare lo stesso esempio relativo al filtraggio sulla lista di studenti utilizzando i set. La logica è identica, stiamo però lavorando con i set, quindi gli elementi non hanno indice o ordine. Se vogliamo possiamo stamparli dopo averli convertiti in una lista sorted usando la funzione di ordinamento (ovviamente la cosa si può fare anche con le liste, se non vogliamo utilizzare l'ordine originale di inserimento in lista):"
   ]
  },
  {
   "cell_type": "code",
   "execution_count": null,
   "metadata": {},
   "outputs": [],
   "source": [
    "classe = input(\"Inserire una classe: \").upper()\n",
    "set_risultati_ricerca = {studente for studente in insieme_studenti if studente.classe == classe}\n",
    "\n",
    "print(\"--> I risultati della ricerca, ordinati in ordine alfabetico, sono: \")\n",
    "print(\"\\n\".join([str(s) for s in sorted(set_risultati_ricerca, key=ordina_studenti_nome)]))\n",
    "\n",
    "sesso = input(\"Si vuole cercare solo i maschi (M) o le femmine (F)? Premere semplicemente invio per terminare la ricerca.\").upper()\n",
    "if sesso != \"\":\n",
    "    # Sostituisco il riferimento, il vecchio set verrà rimosso dal garbage collector\n",
    "    set_risultati_ricerca = {studente for studente in set_risultati_ricerca if studente.sesso == sesso}   \n",
    "print(\"--> I risultati finali della ricerca, ordinati in ordine alfabetico, sono: \")\n",
    "print(\"\\n\".join([str(s) for s in sorted(set_risultati_ricerca, key=ordina_studenti_nome)]))"
   ]
  },
  {
   "cell_type": "markdown",
   "metadata": {},
   "source": [
    "## I Dictionary (dizionari chiave:valore)"
   ]
  },
  {
   "cell_type": "markdown",
   "metadata": {},
   "source": [
    "I dizionari sono dei tipi particolari di insiemi dove gli elementi cono composti da **speciali COPPIE** formate da una **chiave** che è sempre unica nel dictionary (in modo analogo ai membri di un set) a cui è associato un **valore** che può essere anche associato a più di una chiave (non unico). Queste coppie sono dette **chiave-valore** ed il dictionary costituisce una forma di quello che in informatica è definito **[database chiave-valore](https://www.html.it/pag/63361/progettare-database-keyvalue/)**. Ci sono diversi database server basati sul sistema chiave:valore, tra i più usati al giorno d'oggi c'è **[redis](https://redis.io/)**.\n",
    "\n",
    "<div style=\"text-align:center\"><img width=\"450px\" src=\"images/dict.png\"></div>\n",
    "\n",
    "```python\n",
    "dizionario = {key1:value1, key2:value2, ...}\n",
    "\n",
    "#Scritto su più righe\n",
    "dizionario = {\n",
    "    key1:value1, \n",
    "    key2:value2,\n",
    "    ...\n",
    "}\n",
    "```\n",
    "\n",
    "In una coppia **chiave:valore** vengono **utilizzati i du punti `:` per separare la chiave dal valore**. La chiave è sempre l'elemento a sinistra, mentre il valore è a destra. Sia chiave che valore sono oggetti in Python, ma vi sono dei requisiti:\n",
    "- Le chiavi possono essere qualsiasi **[oggetto \"hashable](https://www.pythonforthelab.com/blog/what-are-hashable-objects/)**, cioè adatti ad essere trasformati in \"indirizzi\" attraverso una cosiddetta funzione di hashing: \n",
    "  - un oggetto di questo dipo deve avere **caratteristiche di unicità**\n",
    "  - in genere **tutti i conainer not mutable contenenti elementi not mutable lo sono**\n",
    "  - tutti i tipi fondamentali come **int, float, stringhe** lo sono\n",
    "  - un oggetto **mutable non lo è mai** perchè la sua mutabilità non lo rende univoco\n",
    "- Due chiavi sono considerate uguali (esattamente come nei set) se:\n",
    "  - Sono lo stesso oggetto (stesso id)\n",
    "  - Sono due oggetti diversi ma se confrontati con `==` il risultato è True (gli oggetti devono implementare il metodo dunder di uguaglianza)\n",
    "- I valori possono essere **qualsiasi oggetto, anche mutable** (anche un **altro dictionary**). I valori possono essere anche riferimenti a funzioni (puntatori ad una funzione), che vengono chiamati **callable object**\n",
    "  - Si pensi ad esempio ad un dizionario dove le chiavi sono le lettere dell'alfabeto (stringhe) ed i rispettivi valori sono una lista ordinata contenente le parole che iniziano con tale lettera. Questo è un esempio di un dict che implementa un semplice vocabilario\n",
    "\n",
    "Come abbiamo detto le chiavi in un dictionary si comportano come gli elementi di un set:\n",
    "- Esiste sempre una sola chiave (unicità della chiave)\n",
    "- Se viene aggiunta una coppia chiave:valore ma la chiave è già presente, il nuovo valore andrà a sostituire quello vecchio (funzione di update)\n",
    "- Se due dictionary vengono uniti tutti i valori associati a chiavi già esistenti vengono aggiornati\n",
    "\n",
    "L'**accesso agli elementi** di un dictionary avviene **sia in LETTURA che in SCRITTURA** utilizzando la notazione con parentesi quadre `[]` specificando la **chiave** dell'elemento a cui si vuole accedere:\n",
    "\n",
    "```python\n",
    "valore = dizionario[chiave]\n",
    "```\n",
    "\n",
    "Se si cerca di accedere ad una chiave non esistente viene **generata una eccezione**. Per creare una nuova coppia chiave:valore è sufficiente **scrivere**:\n",
    "\n",
    "```python\n",
    "dizionario[chiave] = valore\n",
    "```\n",
    "\n",
    "ed automaticamente **la nuova chiave `chiave` viene creata se non esiste o il relativo valore viene aggiornato se esiste**.\n",
    "\n",
    "I Dictionary come i Set non hanno un ordinamento definito, possono però essere convertiti in liste o tuple definendo o meno l'ordinamento voluto (tramite funzione di ordinamento). Lo **scansionamento di un dizionario** tramite **ciclo For restituisce solo le chiavi**, così come gli iteratori generati da un dict. Di conseguenza anche la conversione in lista, tuple o set **estrae solamente le chiavi**. Per accedere separatamente a chiavi, valori o tuple del tipo (chiave,valore) si devono **usare i metodi che gli oggetti dict forniscono**. In questo caso è possibile **scegliere se estrarre le chiavi, i valori o entrambi (in un set di tuple)**.  \n",
    "I due tipi di oggetti maggiormente usati come chiavi sono gli **interi** e le **stringhe**, si parla quindi di **chiavi numeriche** e **chiavi testuali**:\n",
    "- Un dizionario a **chiavi intere** può essere comodo per associare ai valori dei **codici identificativi**. Ad esempio si pensi al codice associato ad un utente in una chat (esempio ID di Telegram)\n",
    "- Un dizionario a **chiavi testuali** può essere usato per **creare degli \"oggetti semplificati\"** utilizzando le chiavi come se fossero i nome degli attributi, associandovi i relativi valori. Si possono anche associare riferimenti a funzioni.\n",
    "  - Un Dictionary dove le **chiavi sono tutte testuali ed i valori sono tutti testuali o interi o float o bool o liste o dictionary contenenti a loro volta solo valori ammessi, è convertibile in un oggetto [JSON](https://www.json.org/) (Java Script Object Notation)** utilizzabile nelle comunicazioni Web basate su API. JSON è una rappresentazione **puramente testuale** di una struttura dati complessa.\n",
    "\n",
    "Anche gli **oggetti \"timestamp\"**, ovvero oggetti rappresentanti istanti temporali, sono utilizzati spesso per realizzare dizionari a **chiavi temporali**: si pensi ad esempio ad un dizionario che contiene i messaggi di una chat, il timestamp (data e ora) è la chiave ed il messaggio (stringa) è il valore. Una chiave temporale costituita da un valore in secondi espresso come numero intero costituisce un caso particolare di chiave numerica."
   ]
  },
  {
   "cell_type": "markdown",
   "metadata": {},
   "source": [
    "Vediamo un esempio di dizionario dove le chiavi sono degli ID interi ed i valori nomi utente (stringhe):"
   ]
  },
  {
   "cell_type": "code",
   "execution_count": 366,
   "metadata": {},
   "outputs": [
    {
     "name": "stdout",
     "output_type": "stream",
     "text": [
      "<class 'dict'>\n",
      "{123454: 'matt88', 123455: 'pepe92', 123456: 'gio18'}\n",
      "3\n"
     ]
    }
   ],
   "source": [
    "# Esempio di un dizionario con chiavi numeriche e valori stringa\n",
    "id1 = 123454\n",
    "id2 = 123455\n",
    "id3 = 123456\n",
    "dict_utenti = {id1:\"matt88\", id2:\"pepe92\", id3:\"gio18\"}\n",
    "print(type(dict_utenti))\n",
    "print(dict_utenti)\n",
    "print(len(dict_utenti))"
   ]
  },
  {
   "cell_type": "markdown",
   "metadata": {},
   "source": [
    "Vediamo un esempio di dizionario con chiavi testuali e valori di tipo misto: possiamo ad esempio rappresentare gli attributi di uno studente utilizzando un dizionario. Spesso possiamo usare dei dizionari invece di creare una classe ad-hoc, se i dati che dobbiamo rappresentare sono attributi. Spesso anche all'interno delle classi molti attributi vengono inseriti a loro volta in un dictionary, per poter convertire velocemente l'oggetto nella sua rappresentazione testuale esatta (**operazione di flattening a stringa**)"
   ]
  },
  {
   "cell_type": "code",
   "execution_count": 318,
   "metadata": {},
   "outputs": [
    {
     "name": "stdout",
     "output_type": "stream",
     "text": [
      "<class 'dict'>\n",
      "{'nome': 'Matteo Rossi', 'classe': '1A', 'sesso': 'M', 'anno': 1992}\n"
     ]
    }
   ],
   "source": [
    "studente_dic = {\n",
    "    \"nome\": \"Matteo Rossi\",\n",
    "    \"classe\": \"1A\",\n",
    "    \"sesso\": \"M\",\n",
    "    \"anno\": 1992\n",
    "}\n",
    "print(type(studente_dic))\n",
    "print(studente_dic)"
   ]
  },
  {
   "cell_type": "markdown",
   "metadata": {},
   "source": [
    "Per accedere ad un elemento del dizionario **si utilizza la chiave**, bisogna fornire un oggetto che abbia lo **stesso valore della chiave che si vuole individuare, oppure un riferimento alla chiave stessa**."
   ]
  },
  {
   "cell_type": "code",
   "execution_count": 319,
   "metadata": {},
   "outputs": [
    {
     "name": "stdout",
     "output_type": "stream",
     "text": [
      "Matteo Rossi\n",
      "matt88\n",
      "pepe92\n"
     ]
    }
   ],
   "source": [
    "print(studente_dic[\"nome\"])\n",
    "print(dict_utenti[123454])\n",
    "print(dict_utenti[id2])"
   ]
  },
  {
   "cell_type": "markdown",
   "metadata": {},
   "source": [
    "Per vedere se una chiave esiste nel dizionario basta usare la parola chiave `in` per creare la condizione, del tipo `key in dizionario`"
   ]
  },
  {
   "cell_type": "code",
   "execution_count": 320,
   "metadata": {},
   "outputs": [
    {
     "name": "stdout",
     "output_type": "stream",
     "text": [
      "True\n",
      "False\n",
      "True\n",
      "True\n"
     ]
    }
   ],
   "source": [
    "print(\"classe\" in studente_dic)\n",
    "print(\"età\" in studente_dic)\n",
    "print(123454 in dict_utenti)\n",
    "print(id3 in dict_utenti)"
   ]
  },
  {
   "cell_type": "markdown",
   "metadata": {},
   "source": [
    "Vediamo un esempio di dizionario con oggetti temporali *struct_time* come chiavi. Per fare questo dobbiamo utilizzare la libreria time"
   ]
  },
  {
   "cell_type": "code",
   "execution_count": 321,
   "metadata": {},
   "outputs": [
    {
     "name": "stdout",
     "output_type": "stream",
     "text": [
      "{time.struct_time(tm_year=2019, tm_mon=3, tm_mday=31, tm_hour=19, tm_min=21, tm_sec=9, tm_wday=6, tm_yday=90, tm_isdst=1): 'Ciao Matteo, come stai?', time.struct_time(tm_year=2019, tm_mon=3, tm_mday=31, tm_hour=19, tm_min=21, tm_sec=10, tm_wday=6, tm_yday=90, tm_isdst=1): 'Anche io sto bene! Con la scuola tutto ok?', time.struct_time(tm_year=2019, tm_mon=3, tm_mday=31, tm_hour=19, tm_min=21, tm_sec=11, tm_wday=6, tm_yday=90, tm_isdst=1): 'Mi fa piacere! Anche io ho molte cose da raccontarti! Organizziamo una pizza?'}\n",
      "\n",
      "Sun Mar 31 19:21:09 2019 - Ciao Matteo, come stai?\n",
      "Sun Mar 31 19:21:10 2019 - Anche io sto bene! Con la scuola tutto ok?\n",
      "Sun Mar 31 19:21:11 2019 - Mi fa piacere! Anche io ho molte cose da raccontarti! Organizziamo una pizza?\n"
     ]
    }
   ],
   "source": [
    "import time\n",
    "# Creo un disct vuoto\n",
    "cronologia_messaggi = dict()\n",
    "# Faccio finta di creare 3 messaggi di chat in tre istanti differenti\n",
    "ts1 = time.localtime()\n",
    "ms1 = \"Ciao Matteo, come stai?\"\n",
    "cronologia_messaggi[ts1] = ms1    # Creo la voce nel dictionary\n",
    "time.sleep(1)\n",
    "ts2 = time.localtime()\n",
    "ms2 = \"Anche io sto bene! Con la scuola tutto ok?\"\n",
    "cronologia_messaggi[ts2] = ms2    # Creo la voce nel dictionary\n",
    "time.sleep(1)\n",
    "ts3 = time.localtime()\n",
    "ms3 = \"Mi fa piacere! Anche io ho molte cose da raccontarti! Organizziamo una pizza?\"\n",
    "cronologia_messaggi[ts3] = ms3    # Creo la voce nel dictionary\n",
    "print(cronologia_messaggi)\n",
    "\n",
    "print(\"\")\n",
    "# Accedo agli elementi scansionando con un ciclo For\n",
    "for key in cronologia_messaggi:\n",
    "    # key contiene il riferimento alla chiave corrente\n",
    "    print(time.asctime(key) + \" - \" + cronologia_messaggi[key])"
   ]
  },
  {
   "cell_type": "markdown",
   "metadata": {},
   "source": [
    "### Cicli For, conversioni in liste (ordinate) e set, conversione a dict"
   ]
  },
  {
   "cell_type": "markdown",
   "metadata": {},
   "source": [
    "Abbiamo visto nel precedente esempio che **il ciclo For applicato ai Disctionary indicizza solo le chiavi**, in generale quando utilizziamo il dictionary come un iterable o ne generiamo un iteratore, esso scansionerà solo le chiavi. Di conseguenza anche la conversione a list o a set (che prende come argomento un iterable) effettuerà la **conversione delle sole chiavi**."
   ]
  },
  {
   "cell_type": "code",
   "execution_count": 322,
   "metadata": {},
   "outputs": [
    {
     "name": "stdout",
     "output_type": "stream",
     "text": [
      "nome\n",
      "classe\n",
      "sesso\n",
      "anno\n"
     ]
    }
   ],
   "source": [
    "for key in studente_dic:\n",
    "    print(key)"
   ]
  },
  {
   "cell_type": "code",
   "execution_count": 323,
   "metadata": {},
   "outputs": [
    {
     "name": "stdout",
     "output_type": "stream",
     "text": [
      "['nome', 'classe', 'sesso', 'anno']\n"
     ]
    }
   ],
   "source": [
    "# Esempio di conversione a list, ma vale anche per conversione a set\n",
    "conversione_a_lista = list(studente_dic)\n",
    "print(conversione_a_lista)"
   ]
  },
  {
   "cell_type": "markdown",
   "metadata": {},
   "source": [
    "Se vogliamo accedere agli elementi del disctionary scansionandoli con un ciclo For avendo a disposizione solo le chiavi possiamo accedere ai valori usando tali chiavi, nello stesso modo in cui abbiamo fatto nell'esempio"
   ]
  },
  {
   "cell_type": "code",
   "execution_count": 324,
   "metadata": {},
   "outputs": [
    {
     "name": "stdout",
     "output_type": "stream",
     "text": [
      "Matteo Rossi\n",
      "1A\n",
      "M\n",
      "1992\n"
     ]
    }
   ],
   "source": [
    "for key in studente_dic:\n",
    "    val = studente_dic[key]\n",
    "    print(val)"
   ]
  },
  {
   "cell_type": "markdown",
   "metadata": {},
   "source": [
    "Per convertire i **valori** in una list o in un set possiamo ad esempio **utilizzare la list/set comprehension**. Vedremo che vi sono anche altri modi di effettuare l'operazione, **usando alcuni metodi degli oggetti dict**. Si ricorda che la conversione non ha informazioni legate all'ordine."
   ]
  },
  {
   "cell_type": "code",
   "execution_count": 325,
   "metadata": {},
   "outputs": [
    {
     "name": "stdout",
     "output_type": "stream",
     "text": [
      "['Matteo Rossi', '1A', 'M', 1992]\n",
      "{1992, 'Matteo Rossi', '1A', 'M'}\n"
     ]
    }
   ],
   "source": [
    "lista_valori = [studente_dic[key] for key in studente_dic]\n",
    "print(lista_valori)\n",
    "set_valori = {studente_dic[key] for key in studente_dic}\n",
    "print(set_valori)"
   ]
  },
  {
   "cell_type": "markdown",
   "metadata": {},
   "source": [
    "Anche nel caso in cui si voglia ottenere una lista ordinata (di chiavi o di valori) a partire da un dizionario è possibile operare in diversi modi. Uno ad esempio è quello di convertire in list quello che interessa (keys o values) e successivamente ordinare la lista con **sorted()** (ed eventuale funzione di ordinamento personalizzata) o **il metodo sort()** se si vuole ordinare in-place.  \n",
    "**Si ricorda che non è possibile IN GENERE ordinare una lista eterogenea, ad esempio contenente int e str! Vi sono alcuni casi dove si può, come ad esempio liste di int e float**"
   ]
  },
  {
   "cell_type": "code",
   "execution_count": 326,
   "metadata": {},
   "outputs": [
    {
     "ename": "TypeError",
     "evalue": "'<' not supported between instances of 'int' and 'str'",
     "output_type": "error",
     "traceback": [
      "\u001b[1;31m---------------------------------------------------------------------------\u001b[0m",
      "\u001b[1;31mTypeError\u001b[0m                                 Traceback (most recent call last)",
      "\u001b[1;32m<ipython-input-326-c766766d48ec>\u001b[0m in \u001b[0;36m<module>\u001b[1;34m()\u001b[0m\n\u001b[1;32m----> 1\u001b[1;33m \u001b[0mlista_valori_ordinata\u001b[0m \u001b[1;33m=\u001b[0m \u001b[0msorted\u001b[0m\u001b[1;33m(\u001b[0m\u001b[0mlista_valori\u001b[0m\u001b[1;33m)\u001b[0m\u001b[1;33m\u001b[0m\u001b[0m\n\u001b[0m\u001b[0;32m      2\u001b[0m \u001b[0mprint\u001b[0m\u001b[1;33m(\u001b[0m\u001b[0mlista_valori_ordinata\u001b[0m\u001b[1;33m)\u001b[0m\u001b[1;33m\u001b[0m\u001b[0m\n",
      "\u001b[1;31mTypeError\u001b[0m: '<' not supported between instances of 'int' and 'str'"
     ]
    }
   ],
   "source": [
    "lista_valori_ordinata = sorted(lista_valori)\n",
    "print(lista_valori_ordinata)"
   ]
  },
  {
   "cell_type": "code",
   "execution_count": 328,
   "metadata": {},
   "outputs": [
    {
     "name": "stdout",
     "output_type": "stream",
     "text": [
      "['anno', 'classe', 'nome', 'sesso']\n"
     ]
    }
   ],
   "source": [
    "lista_chiavi_ordinata = sorted(conversione_a_lista)\n",
    "print(lista_chiavi_ordinata)"
   ]
  },
  {
   "cell_type": "markdown",
   "metadata": {},
   "source": [
    "#### Conversione in Dict: copia shallow di un dizionario ed uso come \"oggetto semplificato\""
   ]
  },
  {
   "cell_type": "markdown",
   "metadata": {},
   "source": [
    "Per effettuare copie semplici di dizionari possiamo usare il costruttore **dict()** oppure il metodo **copy()** chiamato sul particolare oggetto da copiare. Si può usare anche la libreria copy, che supporta sia le copie shallow che deep.  \n",
    "Usando il costruttore possiamo quindi:\n",
    "- Creare un dict vuoto\n",
    "- Creare un dict a partire da un altro dict, copiandolo\n",
    "- Creare un dict a partire da una **lista di DOPPIETTI (chiave, valore)**\n",
    "\n",
    "Proviamo a copiare lo studente che abbiamo creato prima:"
   ]
  },
  {
   "cell_type": "code",
   "execution_count": 329,
   "metadata": {},
   "outputs": [
    {
     "name": "stdout",
     "output_type": "stream",
     "text": [
      "{'nome': 'Matteo Rossi', 'classe': '1A', 'sesso': 'M', 'anno': 1992}\n"
     ]
    }
   ],
   "source": [
    "studente_dict_copia = dict(studente_dic)\n",
    "print(studente_dict_copia)"
   ]
  },
  {
   "cell_type": "markdown",
   "metadata": {},
   "source": [
    "**La copia semplice effettua una copia degli elementi chiave:valore del dizionario copiando le chiavi (che sono not mutable) ed i riferimenti dei valori** La cosa può tornare utile quando si vogliono **usare i dizionari come forma semplificata di oggetto**: supponiamo di voler descrivere una entità composta soltanto da attributi a cui assegnare un nome, possiamo raggruppare questi attributi in un dizionario ed utilizzare quello anzichè creare una Classe ad-hoc. Abbiamo visto nel precedente capitolo la creazione di una classe Studente, mentre in questo abbiamo creato uno studente rappresentato da un dizionario avente una modello definito. Usare i dizionari al posto delle Classi è utile quando:\n",
    "- I dati da immagazzinare sono solo attributi a cui si accede in lettura/scrittura\n",
    "- Non è necessario applicare il concetto di ereditarietà, disponibile solo definendo delle Classi\n",
    "- Vogliamo convertire delle infromazioni in formato JSON, per cui serve necessariamente un dizionario  \n",
    "Spesso le classi vengono dotate di un metodo che permette di convertire i suoi attributi in un dictionary, in questo modo è possibile convertirevelocemente un oggetto nella sua rappresentazione JSON.  \n",
    "> NB: vedremo che anche le funzioni sono oggetti (di tipo callable) e possono essere utilizzate come valori all'interno di un dizionario. In genere NON si chiama mai una funzione attraverso un dizionario. Però a volte può essere comodo inserirla come attributo, ad esempio si pensi al caso in cui si associa al dictionary anche la relativa funzione di ordinamento personalizzata, magari con la chiave \"sorting_function\".  \n",
    "\n",
    "Per usare i dictionary \"come oggetti semplificati\" in genere si procede così:\n",
    "1. Si definisce un **modello**, come è stato fatto per lo studente, ovvero si definiscono le chiavi (in genere stringhe) ed i valori di default\n",
    "2. Si **copia** il dizionario, creando così \"un nuovo studente\"\n",
    "3. Si sostituiscono **tutti** i **valori** presenti con quelli relativi al nuovo studente. I valori vanno sostituiti tutti in quanto la copia preserva i riferimenti ai valori del vecchi oggetto!\n",
    "4. Alternativamente è possibile crare un nuovo oggetto copiando la struttura del modello (copia e incolla)\n",
    "5. Gli oggetti così creati possono essere messi ad esempio in lista"
   ]
  },
  {
   "cell_type": "code",
   "execution_count": 330,
   "metadata": {},
   "outputs": [
    {
     "name": "stdout",
     "output_type": "stream",
     "text": [
      "{'nome': 'Matteo Bianchi', 'classe': '2C', 'sesso': 'M', 'anno': 1987}\n",
      "{'nome': 'Lucia Verdi', 'classe': '3B', 'sesso': 'F', 'anno': 1986}\n",
      "{'nome': 'Franco Blu', 'classe': '2A', 'sesso': 'M', 'anno': 1989}\n"
     ]
    }
   ],
   "source": [
    "modello_studente = {\n",
    "    \"nome\": \"Nome Cognome\",\n",
    "    \"classe\": \"1A\",\n",
    "    \"sesso\": \"M\",\n",
    "    \"anno\": 1900\n",
    "}\n",
    "\n",
    "# Creo due studenti per copia.\n",
    "studente1 = dict(modello_studente)\n",
    "studente1[\"nome\"] = \"Matteo Bianchi\"\n",
    "studente1[\"classe\"] = \"2C\"\n",
    "studente1[\"sesso\"] = \"M\"\n",
    "studente1[\"anno\"] = 1987\n",
    "\n",
    "studente2 = dict(modello_studente)\n",
    "studente2[\"nome\"] = \"Lucia Verdi\"\n",
    "studente2[\"classe\"] = \"3B\"\n",
    "studente2[\"sesso\"] = \"F\"\n",
    "studente2[\"anno\"] = 1986\n",
    "\n",
    "# Creo uno studente usando direttamente il modello\n",
    "studente3 = {\n",
    "    \"nome\": \"Franco Blu\",\n",
    "    \"classe\": \"2A\",\n",
    "    \"sesso\": \"M\",\n",
    "    \"anno\": 1989\n",
    "}\n",
    "\n",
    "# Creo una lista con gli studenti\n",
    "lista_stud = [studente1, studente2, studente3]\n",
    "\n",
    "for stud in lista_stud:\n",
    "    print(stud)"
   ]
  },
  {
   "cell_type": "code",
   "execution_count": 333,
   "metadata": {},
   "outputs": [
    {
     "name": "stdout",
     "output_type": "stream",
     "text": [
      "{'nome_lista': 'Lista Studenti Scuola XYZ', 'lista': [{'nome': 'Matteo Bianchi', 'classe': '2C', 'sesso': 'M', 'anno': 1987}, {'nome': 'Lucia Verdi', 'classe': '3B', 'sesso': 'F', 'anno': 1986}, {'nome': 'Franco Blu', 'classe': '2A', 'sesso': 'M', 'anno': 1989}], 'funzione_ordinamento': <function ordina_stud_per_classi at 0x0000028FAB3F8F28>}\n",
      "\n",
      "Stampo a schermo in modo ordinato la lista: Lista Studenti Scuola XYZ\n",
      "[{'nome': 'Franco Blu', 'classe': '2A', 'sesso': 'M', 'anno': 1989}, {'nome': 'Matteo Bianchi', 'classe': '2C', 'sesso': 'M', 'anno': 1987}, {'nome': 'Lucia Verdi', 'classe': '3B', 'sesso': 'F', 'anno': 1986}]\n"
     ]
    }
   ],
   "source": [
    "def ordina_stud_per_classi(stud):\n",
    "    return stud[\"classe\"]\n",
    "\n",
    "# Creo un dictionary contenente la lista studenti ed il modo per ordinarla (callback)\n",
    "dict_lista_con_nome = {\n",
    "    \"nome_lista\": \"Lista Studenti Scuola XYZ\",\n",
    "    \"lista\": lista_stud,\n",
    "    \"funzione_ordinamento\": ordina_stud_per_classi\n",
    "}\n",
    "\n",
    "print(dict_lista_con_nome)\n",
    "print(\"\\nStampo a schermo in modo ordinato la lista: \" + dict_lista_con_nome[\"nome_lista\"])\n",
    "print(sorted(dict_lista_con_nome[\"lista\"], key=dict_lista_con_nome[\"funzione_ordinamento\"]))"
   ]
  },
  {
   "cell_type": "markdown",
   "metadata": {},
   "source": [
    "#### Conversione in Dict: conversione di due sequenze \"chiavi\" e \"valori\" in un dict\n",
    "**Per la conversione in dict** sono sempre necessarie coppie chiave e valore, quindi saranno necessarie delle sequenze contenenti tuple di due elementi, prima una chiave e poi un valore. Ad esempio supponiamo di avere due sequenze separate, una contenente le chiavi ed una contenente i valori: in questo caso bisogna assemblare le due sequenze **in un'unica lista contenente tuple di due elementi**. Un modo per farlo è usare la list comprehension. Dopodichè si crea un dizionario con **dict()**.  \n",
    "**In python è possibile ottenere una sequenza di questo tipo anche in modo molto più semplice usando la funzione built-in zip()**"
   ]
  },
  {
   "cell_type": "code",
   "execution_count": 335,
   "metadata": {},
   "outputs": [
    {
     "name": "stdout",
     "output_type": "stream",
     "text": [
      "{'chiaveA': 'ValoreA', 'chiaveB': 'ValoreB', 'chiaveC': 'ValoreC'}\n",
      "{'chiaveA': 'ValoreA', 'chiaveB': 'ValoreB', 'chiaveC': 'ValoreC'}\n"
     ]
    }
   ],
   "source": [
    "lista_chiavi = [\"chiaveA\", \"chiaveB\", \"chiaveC\"]\n",
    "lista_valori = [\"ValoreA\", \"ValoreB\", \"ValoreC\"]\n",
    "\n",
    "# Modo con list comprehension (didatticamente utile)\n",
    "list_of_tuples = [(lista_chiavi[i], lista_valori[i]) for i in range(0, len(lista_chiavi))]\n",
    "dizionario = dict(list_of_tuples)\n",
    "print(dizionario)\n",
    "\n",
    "# Utilizzando zip()\n",
    "dizionario = dict(zip(lista_chiavi, lista_valori))\n",
    "print(dizionario)"
   ]
  },
  {
   "cell_type": "markdown",
   "metadata": {},
   "source": [
    "Un caso interessante è quello in cui si vuole creare un dizionario a partire da una sola lista di oggetti da utilizzare come valori, mentre per le chiavi si vuole utilizzare un indice numerico crescente. Questo si può fare usando la funzione **enumerate()** vista con i cicli For, che restituisce proprio dei doppietti (indice, valore)"
   ]
  },
  {
   "cell_type": "code",
   "execution_count": 341,
   "metadata": {},
   "outputs": [
    {
     "name": "stdout",
     "output_type": "stream",
     "text": [
      "{100: 'ValoreA', 101: 'ValoreB', 102: 'ValoreC'}\n"
     ]
    }
   ],
   "source": [
    "# Esempio: uso di enumerate con indice che parte da 100\n",
    "dizionario = dict(enumerate(lista_valori, 100))\n",
    "print(dizionario)"
   ]
  },
  {
   "cell_type": "markdown",
   "metadata": {},
   "source": [
    "### I metodi dei Dict\n",
    "La classe Dict offre numerosi metodi utili per estrarre gli insiemi delle chiavi e dei valori **in modo separato oppure unito in un insieme di tuple** contenenti i doppietti (chiave, valore). I dizionari offrono anche un metodo di aggiornamento **in-place** **update()**, a differenza dei set **NON esiste la concatenzazione/unione con generazione implicita di una copia e, al momento (in Python 3.5), NON è possibile usare `+` per concatenare dizionari**. Per creare un nuovo dizionario dall'unione di due dizionari è necessario creare una copia del primo e quindi eseguire un update in-place.\n",
    "\n",
    "Il metodo **keys()** restituisce un **iterable dalle caratteristiche di un set** contenente le chiavi del dizionario. Tale oggetto può essere convertito in set oppure lista nei modi usuali. Essendo un iterable può essere usato direttamente con i cilci for e con la tecnica della comprehension."
   ]
  },
  {
   "cell_type": "code",
   "execution_count": 360,
   "metadata": {},
   "outputs": [
    {
     "name": "stdout",
     "output_type": "stream",
     "text": [
      "dict_keys([123454, 123455, 123456])\n",
      "[123454, 123455, 123456]\n"
     ]
    }
   ],
   "source": [
    "keys = dict_utenti.keys()\n",
    "print(keys)\n",
    "print(list(keys))"
   ]
  },
  {
   "cell_type": "markdown",
   "metadata": {},
   "source": [
    "Il metodo **values()** restituisce un **iterable dalle caratteristiche di un set** contenente i valori del dizionario"
   ]
  },
  {
   "cell_type": "code",
   "execution_count": 359,
   "metadata": {},
   "outputs": [
    {
     "name": "stdout",
     "output_type": "stream",
     "text": [
      "dict_values(['matt88', 'pepe92', 'gio18'])\n",
      "['matt88', 'pepe92', 'gio18']\n"
     ]
    }
   ],
   "source": [
    "values = dict_utenti.values()\n",
    "print(values)\n",
    "print(list(values))"
   ]
  },
  {
   "cell_type": "code",
   "execution_count": 358,
   "metadata": {},
   "outputs": [
    {
     "name": "stdout",
     "output_type": "stream",
     "text": [
      "matt88\n",
      "pepe92\n",
      "gio18\n"
     ]
    }
   ],
   "source": [
    "# Ciclo For eseguito direttamente sui valori\n",
    "for val in dict_utenti.values():\n",
    "    print(val)"
   ]
  },
  {
   "cell_type": "markdown",
   "metadata": {},
   "source": [
    "Il metodo **items()** restituisce un **iterable dalle caratteristiche di un set** contenente le **coppie (chiave, valore)** del dizionario. Questo oggetto a sua volta può essere convertito in lista"
   ]
  },
  {
   "cell_type": "code",
   "execution_count": 357,
   "metadata": {},
   "outputs": [
    {
     "name": "stdout",
     "output_type": "stream",
     "text": [
      "dict_items([(123454, 'matt88'), (123455, 'pepe92'), (123456, 'gio18')])\n",
      "[(123454, 'matt88'), (123455, 'pepe92'), (123456, 'gio18')]\n"
     ]
    }
   ],
   "source": [
    "couples = dict_utenti.items()\n",
    "print(couples)\n",
    "print(list(couples))"
   ]
  },
  {
   "cell_type": "markdown",
   "metadata": {},
   "source": [
    "Questo metodo viene spesso usato con **un ciclo For multivariabile** che permette di estrarre direttamente sia la chiave che il valore per ogni elemento del dizionario"
   ]
  },
  {
   "cell_type": "code",
   "execution_count": 356,
   "metadata": {},
   "outputs": [
    {
     "name": "stdout",
     "output_type": "stream",
     "text": [
      "Il valore associato alla chiave '123454' è matt88\n",
      "Il valore associato alla chiave '123455' è pepe92\n",
      "Il valore associato alla chiave '123456' è gio18\n"
     ]
    }
   ],
   "source": [
    "for key, val in dict_utenti.items():\n",
    "    print(\"Il valore associato alla chiave '{}' è {}\".format(key, val))"
   ]
  },
  {
   "cell_type": "markdown",
   "metadata": {},
   "source": [
    "Nel caso in cui si voglia passare ad una **lista ordinata di coppie (chiave, valore)** seguendo un particolare ordinamento, è possibile usare *sorted()* definendo la funzione di ordinamento. Ecco che è quindi **possibile scegliere di ordinare rispetto alle chiavi o rispetto ai valori**"
   ]
  },
  {
   "cell_type": "code",
   "execution_count": 361,
   "metadata": {},
   "outputs": [
    {
     "name": "stdout",
     "output_type": "stream",
     "text": [
      "[(123454, 'matt88'), (123455, 'pepe92'), (123456, 'gio18')]\n",
      "[(123456, 'gio18'), (123454, 'matt88'), (123455, 'pepe92')]\n"
     ]
    }
   ],
   "source": [
    "def ordinamento_chiavi(tup):\n",
    "    return tup[0]\n",
    "\n",
    "def ordinamento_valori(tup):\n",
    "    return tup[1]\n",
    "\n",
    "casting_list_ordine_chiavi = sorted(dict_utenti.items(), key=ordinamento_chiavi)\n",
    "print(casting_list_ordine_chiavi)\n",
    "\n",
    "casting_list_ordine_valori = sorted(dict_utenti.items(), key=ordinamento_valori)\n",
    "print(casting_list_ordine_valori)"
   ]
  },
  {
   "cell_type": "markdown",
   "metadata": {},
   "source": [
    "Quando proviamo ad **accedere in lettura** ad una chiave **non esistente** viene generata una eccezione (in scrittura inviece viene creata la chiave se non esiste). Esiste il metodo **get()** che permette di restituire il valore associato alla chiave specificata se essa esiste, altrimenti un valore di default che può essere scelto arbitrariamente (è **None** se non viene specificato)\n",
    "> **None** è una costante che indica un riferimento nullo, ovvero una variabile che non punta a niente (ricordiamo che in Python tutto è composto da oggetti e tutto è passato per riferimento). Una variabile posta uguale a *None* cancella il riferimento in essa contenuto, sognifica che quella variabile è nulla, non punta più a niente."
   ]
  },
  {
   "cell_type": "code",
   "execution_count": 371,
   "metadata": {},
   "outputs": [
    {
     "name": "stdout",
     "output_type": "stream",
     "text": [
      "None\n",
      "unknown\n",
      "matt88\n"
     ]
    }
   ],
   "source": [
    "item = dict_utenti.get(123331)\n",
    "print(item)\n",
    "item = dict_utenti.get(123331, \"unknown\")\n",
    "print(item)\n",
    "item = dict_utenti.get(123454, \"unknown\")\n",
    "print(item)"
   ]
  },
  {
   "cell_type": "markdown",
   "metadata": {},
   "source": [
    "Per cancellare una chiave (e il relativo valore) dal dizionario si usa la funzione built-in **del()** specificando la chiave da rimuovere (riferimento della chiave o valore confrontabile). Per svuotare completamente il dizionario esiste il metodo **clear()**. Proviamo a creare una copia di un dizionario e rimuoviamo una coppia chiave:valore"
   ]
  },
  {
   "cell_type": "code",
   "execution_count": 372,
   "metadata": {},
   "outputs": [
    {
     "name": "stdout",
     "output_type": "stream",
     "text": [
      "{123454: 'matt88', 123455: 'pepe92', 123456: 'gio18'}\n",
      "{123455: 'pepe92', 123456: 'gio18'}\n"
     ]
    }
   ],
   "source": [
    "# Creo una copia del dizionario dict_utenti\n",
    "dict_utenti_copia = dict_utenti.copy()\n",
    "print(dict_utenti_copia)\n",
    "\n",
    "# cancello una chiave dalla copia\n",
    "del(dict_utenti_copia[123454])\n",
    "print(dict_utenti_copia)"
   ]
  },
  {
   "cell_type": "markdown",
   "metadata": {},
   "source": [
    "Se si vuole estrarre un valore associato ad una chiave e **contestualmente rimuovere** l'elemento chiav:valore dal dizionario, si può usare il metodo **pop()** che permette di specificare anche un valore di default qualora la chiave non esista. Nel caso tale valore non venga specificato, viene generata una eccezione in caso di non esistenza della chiave."
   ]
  },
  {
   "cell_type": "code",
   "execution_count": 373,
   "metadata": {},
   "outputs": [
    {
     "name": "stdout",
     "output_type": "stream",
     "text": [
      "gio18\n",
      "default\n"
     ]
    },
    {
     "ename": "KeyError",
     "evalue": "123456",
     "output_type": "error",
     "traceback": [
      "\u001b[1;31m---------------------------------------------------------------------------\u001b[0m",
      "\u001b[1;31mKeyError\u001b[0m                                  Traceback (most recent call last)",
      "\u001b[1;32m<ipython-input-373-da0c15bbdeb2>\u001b[0m in \u001b[0;36m<module>\u001b[1;34m()\u001b[0m\n\u001b[0;32m      7\u001b[0m \u001b[1;33m\u001b[0m\u001b[0m\n\u001b[0;32m      8\u001b[0m \u001b[1;31m# Provo ad estrarlo nuovamente, ma senza valore di default\u001b[0m\u001b[1;33m\u001b[0m\u001b[1;33m\u001b[0m\u001b[0m\n\u001b[1;32m----> 9\u001b[1;33m \u001b[0mvalore_123456\u001b[0m \u001b[1;33m=\u001b[0m \u001b[0mdict_utenti\u001b[0m\u001b[1;33m.\u001b[0m\u001b[0mpop\u001b[0m\u001b[1;33m(\u001b[0m\u001b[1;36m123456\u001b[0m\u001b[1;33m)\u001b[0m\u001b[1;33m\u001b[0m\u001b[0m\n\u001b[0m\u001b[0;32m     10\u001b[0m \u001b[0mprint\u001b[0m\u001b[1;33m(\u001b[0m\u001b[0mvalore_123456\u001b[0m\u001b[1;33m)\u001b[0m\u001b[1;33m\u001b[0m\u001b[0m\n",
      "\u001b[1;31mKeyError\u001b[0m: 123456"
     ]
    }
   ],
   "source": [
    "valore_123456 = dict_utenti.pop(123456, \"\")\n",
    "print(valore_123456)\n",
    "\n",
    "# Provo ad estrarlo nuovamente (non esiste perchè già rimosso)\n",
    "valore_123456 = dict_utenti.pop(123456, \"default\")\n",
    "print(valore_123456)\n",
    "\n",
    "# Provo ad estrarlo nuovamente, ma senza valore di default\n",
    "valore_123456 = dict_utenti.pop(123456)\n",
    "print(valore_123456)"
   ]
  },
  {
   "cell_type": "markdown",
   "metadata": {},
   "source": [
    "Per poter estrarre invece un qualsiasi elemento del dizionario e rimuoverlo contestualmente dallo stesso, si usa **popitem()**. Questo metodo restituisce un **elemento (tuple) senza uno specifico ordine** (è possibile usare anche la notazione multivariabile per estrarre in un colpo solo chiave e valore dalla tuple). È da considerarsi un elemento **a caso** preso dal dizionario. Se il dizionario è vuoto restituisce una eccezione"
   ]
  },
  {
   "cell_type": "code",
   "execution_count": 374,
   "metadata": {},
   "outputs": [
    {
     "name": "stdout",
     "output_type": "stream",
     "text": [
      "chiave: 123456  -  valore: gio18\n"
     ]
    }
   ],
   "source": [
    "key, val = dict_utenti_copia.popitem()\n",
    "print(\"chiave: {}  -  valore: {}\".format(key, val))"
   ]
  },
  {
   "cell_type": "markdown",
   "metadata": {},
   "source": [
    "Il metodo **setdefault()** permette di impostare il valore di una chiave solo se essa non esiste (può anche essere creata con valore None). Il metodo ritorna il valore presente nel dizionario, se esiste, oppure quello appena creato."
   ]
  },
  {
   "cell_type": "code",
   "execution_count": 377,
   "metadata": {},
   "outputs": [
    {
     "name": "stdout",
     "output_type": "stream",
     "text": [
      "sam18\n",
      "sam18\n",
      "None\n"
     ]
    }
   ],
   "source": [
    "print(dict_utenti.setdefault(123456, \"sam18\"))\n",
    "print(dict_utenti.setdefault(123456, \"leo44\"))\n",
    "print(dict_utenti.setdefault(123459))"
   ]
  },
  {
   "cell_type": "markdown",
   "metadata": {},
   "source": [
    "Infine il metodo **update()** permette di aggiungere ad un dizionario esistente il contenuto di un altro dizionario. Le chiavi pre-esistenti verranno aggiornate ai nuovi valori, quelle non esistenti verranno create. \n",
    "> Il metodo accetta come argomento sia un altro **dict** che un **iterable composto da tuple (chiave, valore)**"
   ]
  },
  {
   "cell_type": "code",
   "execution_count": 379,
   "metadata": {},
   "outputs": [
    {
     "name": "stdout",
     "output_type": "stream",
     "text": [
      "{123454: 'matt88', 123455: 'pepe92', 123456: 'sam18', 123459: None}\n",
      "{123454: 'matt88', 123455: 'changed_user92', 123456: 'sam18', 123459: None, 123555: 'new_user55'}\n"
     ]
    }
   ],
   "source": [
    "nuovo_dict_utenti = {123455: \"changed_user92\", 123555: \"new_user55\"}\n",
    "print(dict_utenti)\n",
    "\n",
    "dict_utenti.update(nuovo_dict_utenti)\n",
    "\n",
    "print(dict_utenti)"
   ]
  },
  {
   "cell_type": "markdown",
   "metadata": {},
   "source": [
    "### Dictionary Comprehension\n",
    "Anche per i dizionari esiste la tecnica della \"Comprehension\", in questo caso servono due variabili per comporre un dizionario, una chiave ed un valore. La sintassi è simile a quella dei set, ma per ottenere l'insieme di tuple (chiave, valore) da utilizzare è necessario sfruttare il metodo **items()** del dizionario di partenza: \n",
    "\n",
    "```python\n",
    "nuovo_dict = {k:v for k,v in vecchio_dict.items() if condizione}\n",
    "```\n",
    "\n",
    "Supponiamo di voler creare un dizionario a partire da un altro dizionario copiando tutte le chiavi maggiori di un certo valore:\n",
    "- Per esempio il dizionario è una raccolta di utenti univoci (usernames) ed i valori sono il saldo in Bitcoin relativo all'utente (quindi un float)\n",
    "- Vogliamo ottenere il dizionario dei soli utenti che hanno saldo maggiore di 1 BTC"
   ]
  },
  {
   "cell_type": "code",
   "execution_count": 337,
   "metadata": {},
   "outputs": [
    {
     "name": "stdout",
     "output_type": "stream",
     "text": [
      "{'luca187': 1.564, 'bitmarco1': 12.4}\n"
     ]
    }
   ],
   "source": [
    "wallets = {\n",
    "    \"pippo98\": 0.511,\n",
    "    \"luca187\": 1.564,\n",
    "    \"marta123\": 0.87,\n",
    "    \"bitmarco1\": 12.4\n",
    "}\n",
    "\n",
    "# Uso dictionary comprehension\n",
    "wallets_more1BTC = {users:btc for users, btc in wallets.items() if btc > 1}\n",
    "print(wallets_more1BTC)"
   ]
  },
  {
   "cell_type": "markdown",
   "metadata": {},
   "source": [
    "Un dizionario può essere creato direttamente a partire da due liste contenenti chiavi e valori anche tramite dictionary comprehension (ovviamente usare zip è molto più comodo). In questo caso le due variabili chiave e valore vengono generate a partire da una singola variabile (i) usata nel for della comprehension:"
   ]
  },
  {
   "cell_type": "code",
   "execution_count": 339,
   "metadata": {},
   "outputs": [
    {
     "name": "stdout",
     "output_type": "stream",
     "text": [
      "{'chiaveA': 'ValoreA', 'chiaveB': 'ValoreB', 'chiaveC': 'ValoreC'}\n"
     ]
    }
   ],
   "source": [
    "dizionario = {lista_chiavi[i]:lista_valori[i] for i in range(0, len(lista_chiavi))}\n",
    "print(dizionario)"
   ]
  },
  {
   "cell_type": "markdown",
   "metadata": {},
   "source": [
    "### Un caso importante: liste di dictionary contenenti list o dictionary a sua volta contenenti str, int o bool"
   ]
  },
  {
   "cell_type": "markdown",
   "metadata": {},
   "source": [
    "Come abbiamo visto nei precedenti esempi spesso i dizionari vengono racchiusi in liste, ad esempio quando si immagina il dizionario come la rappresentazione semplificata di un oggetto (caso dello studente). In questo caso si procede realizzando copie di un dizionario di partenza (il nostro modello base), inserendo i valori opportuni per ogni nuovo elemento. La lista è quindi composta da **record** ed ogni record è un **oggetto dict** contenente **attrinuti nominativi o numerici unici** dotati di valore. L'accesso ai dati, la ricerca nel database così costituito e la modifica degli stessi avviene:\n",
    "- Utilizzando la tecnica della **list comprehension**, che permette di filtrare la lista. In questo caso gli elementi sono dictionary, quindi le condizioni di filtraggio potranno prendere in considerazione chiavi e valori\n",
    "- Utilizzando le **funzioni di ordinamento** per creare nuove liste o modificare la lista in-place\n",
    "- Utilizzando i metodi delle liste per la gestione dei **record**\n",
    "- Utilizzando l'accesso in lettura/scrittura dei dictionary ed i loro metodi per la **modifica dei singoli attributi** di un record, che nella lista è memorizzato come **riferimento** all'oggetto dict  \n",
    "La struttura di una lista di questo tipo è:  \n",
    "\n",
    "```python\n",
    "database_dict = [dic0, dic1, dic2, ...]\n",
    "```\n",
    "\n",
    "```python\n",
    "database_dict = [\n",
    "    {\n",
    "        attributo1:valore1,\n",
    "        attributo2:valore,\n",
    "        .......\n",
    "    },\n",
    "    {\n",
    "        attributo1:valore1,\n",
    "        attributo2:valore,\n",
    "        .......\n",
    "    },\n",
    "    {\n",
    "        attributo1:valore1,\n",
    "        attributo2:valore,\n",
    "        .......\n",
    "    },\n",
    "    .........\n",
    "   \n",
    "]\n",
    "```   \n",
    "\n",
    "Con i dizionari in genere della stessa forma, anche se vi sono casi in cui non necessariamente tutti hanno gli stessi attributi presenti. Si pensi ad esempio ad un gestionale di libri dove ogni libro è rappresentato da un dict: vi possono essere libri dove non è nota la casa edittrice o qualche informazione risulta mancante. È possibile quindi definire alcuni attributi obbligatori ed altri facoltativi per il nostro record. Questo in genere è vero anche nel caso in cui il libro è rappresentato da un oggetto Libro vero e proprio anzichè un dizionario.\n",
    "\n",
    "#### JSON\n",
    "\n",
    "Un caso ancora più interessante di database composto da **liste** e **dict** **aventi chiavi testuali** è quello in cui si hanno solo liste, dizionari e **tipi base, ovvero int, float, bool e stringhe**. Strutture dati di questo tipo infatti **possono essere convertite in una rappresentazione puramente testuale**, in particolare nelle forma **JSON (JavaScript Object Notation)**:\n",
    "- Le liste possono essere rappresentate con elementi racchiusi con parentesi quadre `[]` e separati da una virgola\n",
    "- I dizionari possono essere rappresentati con elementi racchiusi da parentesi graffe `{}`, con elementi composti da **chiavi obbligatoriamente testuali (stringhe)**, create da doppi apici `\"  ...  \"`, separate dai valori per mezzo dei due punti `:`. Ogni elemento viene separato con una virgola\n",
    "- Le stringhe vengono rappresentate racchiuse da **doppi apici**, i numeri interi e con la virgola vengono rappresentati nel modo usuale, senza doppi apici a meno che non li si intenda essere stringhe. Ovvero nella forma `12345` e `12.345`. Per i bool si usano le parole `true` e `false` (iniziale minuscola)\n",
    "- Dato che le stringhe JSON usano i doppi apici per indicare gli elementi di tipo stringa, esse dovranno essere contenute, in Python, con singoli apici\n",
    "\n",
    "Una rappresentazione di questo tipo permette sempre anche di convertire la rappresentazione testuale JSON in una rappresentazione per mezzo di oggetti di Python, infatti basta effettuare un opportuno parsing della stringa. In JSON i dictionary prendono il nome di \"oggetti\", le list prendono il nome di \"array\". Un esempio di struttura JSON è quella riportata nella seguente immagine:\n",
    "\n",
    "<div style=\"text-align:center\"><img width=\"600px\" src=\"images/json-introduction.png\"></div>\n",
    "\n",
    "Come si vede nell'esempio si parte sempre con un **contenitore** che in questo caso è un **oggetto JSON**, ma lo standard JSON **permette anche l'uso di un array JSON come contenitore più esterno**. Al suo interno vi sono altri oggetti (ad esempio i dettagli del libro) che possono contenere array di oggetti. Le chiavi sono tutte stringhe e definiscono gli attributi, i valori possono essere stringhe, numeri, booleani.\n",
    "\n",
    "**Per convertire una rappresentazione JSON (È UNA STRINGA!) in una rappresentazione composta da oggetti dict, list, int, float, bool utilizzabile con i metodi del linguaggio Python che abbiamo visto in questa lezione, E VICEVERSA** viene utilizzata la libreira built-in **`json`** e le due funzioni in essa contenute **loads()** e **dumps()**.\n",
    "\n",
    "Proviamo a creare una struttura dati simile a quella sopra e convertiamola"
   ]
  },
  {
   "cell_type": "code",
   "execution_count": 385,
   "metadata": {},
   "outputs": [
    {
     "name": "stdout",
     "output_type": "stream",
     "text": [
      "{'nome_libreria': 'La mia libreria', 'numero_libri': 2, 'libri': [{'titolo': 'Il signore degli Anelli', 'autore': 'J. R. R. Tolkien', 'genere': 'fantasy', 'dettagli': {'editore': 'Mondadori', 'lingua': 'Italiano', 'ISBN': 1234567890, 'pagine': 1256}, 'prezzi': [{'tipo': 'copertina rigida', 'prezzo': 18.25}, {'tipo': 'ebook', 'prezzo': 7.43}]}, {'titolo': 'Sahara', 'autore': 'Clive Cussler', 'genere': 'thriller', 'dettagli': {'editore': 'Mondadori', 'lingua': 'Italiano', 'ISBN': 9876543211, 'pagine': 876}, 'prezzi': [{'tipo': 'copertina rigida', 'prezzo': 15.66}, {'tipo': 'tascabile', 'prezzo': 8.92}, {'tipo': 'ebook', 'prezzo': 3.13}]}]}\n"
     ]
    }
   ],
   "source": [
    "# Creo un libro:\n",
    "book1 = dict()    # Dizionario vuoto\n",
    "book1[\"titolo\"] = \"Il signore degli Anelli\"\n",
    "book1[\"autore\"] = \"J. R. R. Tolkien\"\n",
    "book1[\"genere\"] = \"fantasy\"\n",
    "# -> Creo il sotto oggetto dettagli\n",
    "book1[\"dettagli\"] = {\n",
    "    \"editore\": \"Mondadori\",\n",
    "    \"lingua\": \"Italiano\",\n",
    "    \"ISBN\": 1234567890,\n",
    "    \"pagine\": 1256\n",
    "}\n",
    "# -> Creo la lista dei prezzi\n",
    "book1[\"prezzi\"] = list()    # Lista vuota\n",
    "book1[\"prezzi\"].append(\n",
    "    {\n",
    "        \"tipo\": \"copertina rigida\",\n",
    "        \"prezzo\": 18.25\n",
    "    })\n",
    "book1[\"prezzi\"].append(\n",
    "    {\n",
    "        \"tipo\": \"ebook\",\n",
    "        \"prezzo\": 7.43\n",
    "    })\n",
    "\n",
    "# Creo un altro libro:\n",
    "book2 = dict()    # Dizionario vuoto\n",
    "book2[\"titolo\"] = \"Sahara\"\n",
    "book2[\"autore\"] = \"Clive Cussler\"\n",
    "book2[\"genere\"] = \"thriller\"\n",
    "# -> Creo il sotto oggetto dettagli\n",
    "book2[\"dettagli\"] = {\n",
    "    \"editore\": \"Mondadori\",\n",
    "    \"lingua\": \"Italiano\",\n",
    "    \"ISBN\": 9876543211,\n",
    "    \"pagine\": 876\n",
    "}\n",
    "# -> Creo la lista dei prezzi\n",
    "book2[\"prezzi\"] = list()    # Lista vuota\n",
    "book2[\"prezzi\"].append(\n",
    "    {\n",
    "        \"tipo\": \"copertina rigida\",\n",
    "        \"prezzo\": 15.66\n",
    "    })\n",
    "book2[\"prezzi\"].append(\n",
    "    {\n",
    "        \"tipo\": \"tascabile\",\n",
    "        \"prezzo\": 8.92\n",
    "    })\n",
    "book2[\"prezzi\"].append(\n",
    "    {\n",
    "        \"tipo\": \"ebook\",\n",
    "        \"prezzo\": 3.13\n",
    "    })\n",
    "\n",
    "# Creo la lista con i libri e la inserisco nel dict principale (root), che costituisce la libreria\n",
    "lista_libri = [book1, book2]\n",
    "libreria = {\n",
    "    \"nome_libreria\": \"La mia libreria\",\n",
    "    \"numero_libri\": len(lista_libri),\n",
    "    \"libri\": lista_libri\n",
    "}\n",
    "\n",
    "# Stampo la struttura dati come oggetto Python\n",
    "print(libreria)"
   ]
  },
  {
   "cell_type": "markdown",
   "metadata": {},
   "source": [
    "La rappresentazione compatta JSON si ottiene nel seguente modo:"
   ]
  },
  {
   "cell_type": "code",
   "execution_count": 386,
   "metadata": {},
   "outputs": [],
   "source": [
    "import json"
   ]
  },
  {
   "cell_type": "code",
   "execution_count": 387,
   "metadata": {},
   "outputs": [
    {
     "name": "stdout",
     "output_type": "stream",
     "text": [
      "{\"nome_libreria\": \"La mia libreria\", \"numero_libri\": 2, \"libri\": [{\"titolo\": \"Il signore degli Anelli\", \"autore\": \"J. R. R. Tolkien\", \"genere\": \"fantasy\", \"dettagli\": {\"editore\": \"Mondadori\", \"lingua\": \"Italiano\", \"ISBN\": 1234567890, \"pagine\": 1256}, \"prezzi\": [{\"tipo\": \"copertina rigida\", \"prezzo\": 18.25}, {\"tipo\": \"ebook\", \"prezzo\": 7.43}]}, {\"titolo\": \"Sahara\", \"autore\": \"Clive Cussler\", \"genere\": \"thriller\", \"dettagli\": {\"editore\": \"Mondadori\", \"lingua\": \"Italiano\", \"ISBN\": 9876543211, \"pagine\": 876}, \"prezzi\": [{\"tipo\": \"copertina rigida\", \"prezzo\": 15.66}, {\"tipo\": \"tascabile\", \"prezzo\": 8.92}, {\"tipo\": \"ebook\", \"prezzo\": 3.13}]}]}\n"
     ]
    }
   ],
   "source": [
    "# Converto in oggetto JSON\n",
    "stringa_JSON = json.dumps(libreria)\n",
    "print(stringa_JSON)"
   ]
  },
  {
   "cell_type": "markdown",
   "metadata": {},
   "source": [
    "Per avere una rappresentazione JSON più facilmente leggibile, ad esempio per salvarla su file di testo anzichè inviarla via web (comunicazione client server), si utilizza l'argomento **indent=True**"
   ]
  },
  {
   "cell_type": "code",
   "execution_count": 388,
   "metadata": {},
   "outputs": [
    {
     "name": "stdout",
     "output_type": "stream",
     "text": [
      "{\n",
      " \"nome_libreria\": \"La mia libreria\",\n",
      " \"numero_libri\": 2,\n",
      " \"libri\": [\n",
      "  {\n",
      "   \"titolo\": \"Il signore degli Anelli\",\n",
      "   \"autore\": \"J. R. R. Tolkien\",\n",
      "   \"genere\": \"fantasy\",\n",
      "   \"dettagli\": {\n",
      "    \"editore\": \"Mondadori\",\n",
      "    \"lingua\": \"Italiano\",\n",
      "    \"ISBN\": 1234567890,\n",
      "    \"pagine\": 1256\n",
      "   },\n",
      "   \"prezzi\": [\n",
      "    {\n",
      "     \"tipo\": \"copertina rigida\",\n",
      "     \"prezzo\": 18.25\n",
      "    },\n",
      "    {\n",
      "     \"tipo\": \"ebook\",\n",
      "     \"prezzo\": 7.43\n",
      "    }\n",
      "   ]\n",
      "  },\n",
      "  {\n",
      "   \"titolo\": \"Sahara\",\n",
      "   \"autore\": \"Clive Cussler\",\n",
      "   \"genere\": \"thriller\",\n",
      "   \"dettagli\": {\n",
      "    \"editore\": \"Mondadori\",\n",
      "    \"lingua\": \"Italiano\",\n",
      "    \"ISBN\": 9876543211,\n",
      "    \"pagine\": 876\n",
      "   },\n",
      "   \"prezzi\": [\n",
      "    {\n",
      "     \"tipo\": \"copertina rigida\",\n",
      "     \"prezzo\": 15.66\n",
      "    },\n",
      "    {\n",
      "     \"tipo\": \"tascabile\",\n",
      "     \"prezzo\": 8.92\n",
      "    },\n",
      "    {\n",
      "     \"tipo\": \"ebook\",\n",
      "     \"prezzo\": 3.13\n",
      "    }\n",
      "   ]\n",
      "  }\n",
      " ]\n",
      "}\n"
     ]
    }
   ],
   "source": [
    "# Converto in oggetto JSON con rappresentazione gradevole alla vista (utile per i files)\n",
    "stringa_JSON = json.dumps(libreria, indent=True)\n",
    "print(stringa_JSON)"
   ]
  },
  {
   "cell_type": "markdown",
   "metadata": {},
   "source": [
    "Per effettuare l'operazione opposta, ovvero **convertire una stringa JSON in una struttura dati del Python** composta da dict, list e tipi di oggetti standard, si usa la funzione della libreria *json* **loads()**. Il risultato della conversione si presenta come un oggetto di tipo list se la stringa JSON iniziava con una lista, altrimenti si presenta come un dict. Generalmente sappiamo che dato aspettarci, quindi non vi è nessun problema per quanto riguarda l'accesso, ad esempio:"
   ]
  },
  {
   "cell_type": "code",
   "execution_count": 416,
   "metadata": {},
   "outputs": [
    {
     "name": "stdout",
     "output_type": "stream",
     "text": [
      "{'nome_libreria': 'La mia libreria', 'numero_libri': 2, 'libri': [{'titolo': 'Il signore degli Anelli', 'autore': 'J. R. R. Tolkien', 'genere': 'fantasy', 'dettagli': {'editore': 'Mondadori', 'lingua': 'Italiano', 'ISBN': 1234567890, 'pagine': 1256}, 'prezzi': [{'tipo': 'copertina rigida', 'prezzo': 18.25}, {'tipo': 'ebook', 'prezzo': 7.43}]}, {'titolo': 'Sahara', 'autore': 'Clive Cussler', 'genere': 'thriller', 'dettagli': {'editore': 'Mondadori', 'lingua': 'Italiano', 'ISBN': 9876543211, 'pagine': 876}, 'prezzi': [{'tipo': 'copertina rigida', 'prezzo': 15.66}, {'tipo': 'tascabile', 'prezzo': 8.92}, {'tipo': 'ebook', 'prezzo': 3.13}]}]}\n",
      "\n",
      "Esempio: estraggo l'ISBN del secondo libro\n",
      "9876543211\n"
     ]
    }
   ],
   "source": [
    "struttura_dati_python = json.loads(stringa_JSON)\n",
    "print(struttura_dati_python)\n",
    "\n",
    "print(\"\\nEsempio: estraggo l'ISBN del secondo libro\")\n",
    "print(str(struttura_dati_python[\"libri\"][1][\"dettagli\"][\"ISBN\"]))"
   ]
  },
  {
   "cell_type": "markdown",
   "metadata": {},
   "source": [
    "Nel caso in cui invece non sappiamo che oggetto JSON ci è stato mandato e **vogliamo analizzarlo in modo ricorsivo** usando cicli For, possiamo verificare la Classe di qualsiasi oggetto Python con la funzione built-in **isinstance(oggetto, classe)**: viene restituito *True* se la Classe di *oggetto* è *classe*, altrimenti *False*. Il nome della classe di un oggetto (in formato stringa) si può invece ottenere leggendo l'attributo (nascosto) **`__name__`** dell'oggetto restituito dalla funzione **type()**, ovvero `type().__name__`.  \n",
    "Il seguente esempio mostra un print ricorsivo dei dati contenuti nella struttura, utilizzando **una funzione utente *ricorsiva*** (che vedremo formalmente nella prossima lezione).\n",
    "> Se ci fate caso, una scansione ricorsiva di questo tipo è molto simile a quella utilizzata dalla funzione *json.dumps()* per convertire il database in una stringa JSON! Infatti la conversione avviene proprio grazie ad un ragionamento analogo"
   ]
  },
  {
   "cell_type": "code",
   "execution_count": 417,
   "metadata": {},
   "outputs": [
    {
     "name": "stdout",
     "output_type": "stream",
     "text": [
      "Tipo di contenitore struttura dati: dict\n",
      "Il contenitore è un dizionario? True\n",
      "Il contenitore è una lista? False\n",
      "\n",
      "--> Apro struttura: dict\n",
      "Chiave: \"nome_libreria\"  -  Tipo base: str  -  Valore: La mia libreria\n",
      "Chiave: \"numero_libri\"  -  Tipo base: int  -  Valore: 2\n",
      "--> Apro chiave \"libri\": list\n",
      "   --> Apro elemento [0]: dict\n",
      "      Chiave: \"titolo\"  -  Tipo base: str  -  Valore: Il signore degli Anelli\n",
      "      Chiave: \"autore\"  -  Tipo base: str  -  Valore: J. R. R. Tolkien\n",
      "      Chiave: \"genere\"  -  Tipo base: str  -  Valore: fantasy\n",
      "      --> Apro chiave \"dettagli\": dict\n",
      "         Chiave: \"editore\"  -  Tipo base: str  -  Valore: Mondadori\n",
      "         Chiave: \"lingua\"  -  Tipo base: str  -  Valore: Italiano\n",
      "         Chiave: \"ISBN\"  -  Tipo base: int  -  Valore: 1234567890\n",
      "         Chiave: \"pagine\"  -  Tipo base: int  -  Valore: 1256\n",
      "      --> Apro chiave \"prezzi\": list\n",
      "         --> Apro elemento [0]: dict\n",
      "            Chiave: \"tipo\"  -  Tipo base: str  -  Valore: copertina rigida\n",
      "            Chiave: \"prezzo\"  -  Tipo base: float  -  Valore: 18.25\n",
      "         --> Apro elemento [1]: dict\n",
      "            Chiave: \"tipo\"  -  Tipo base: str  -  Valore: ebook\n",
      "            Chiave: \"prezzo\"  -  Tipo base: float  -  Valore: 7.43\n",
      "   --> Apro elemento [1]: dict\n",
      "      Chiave: \"titolo\"  -  Tipo base: str  -  Valore: Sahara\n",
      "      Chiave: \"autore\"  -  Tipo base: str  -  Valore: Clive Cussler\n",
      "      Chiave: \"genere\"  -  Tipo base: str  -  Valore: thriller\n",
      "      --> Apro chiave \"dettagli\": dict\n",
      "         Chiave: \"editore\"  -  Tipo base: str  -  Valore: Mondadori\n",
      "         Chiave: \"lingua\"  -  Tipo base: str  -  Valore: Italiano\n",
      "         Chiave: \"ISBN\"  -  Tipo base: int  -  Valore: 9876543211\n",
      "         Chiave: \"pagine\"  -  Tipo base: int  -  Valore: 876\n",
      "      --> Apro chiave \"prezzi\": list\n",
      "         --> Apro elemento [0]: dict\n",
      "            Chiave: \"tipo\"  -  Tipo base: str  -  Valore: copertina rigida\n",
      "            Chiave: \"prezzo\"  -  Tipo base: float  -  Valore: 15.66\n",
      "         --> Apro elemento [1]: dict\n",
      "            Chiave: \"tipo\"  -  Tipo base: str  -  Valore: tascabile\n",
      "            Chiave: \"prezzo\"  -  Tipo base: float  -  Valore: 8.92\n",
      "         --> Apro elemento [2]: dict\n",
      "            Chiave: \"tipo\"  -  Tipo base: str  -  Valore: ebook\n",
      "            Chiave: \"prezzo\"  -  Tipo base: float  -  Valore: 3.13\n"
     ]
    }
   ],
   "source": [
    "# Accedo alla struttura dati in modo ricorsivo. \n",
    "# Mi aspetto che la struttura dati sia un dizionario\n",
    "# Posso però verificarlo con isinstance()\n",
    "print(\"Tipo di contenitore struttura dati: {}\".format(type(struttura_dati_python).__name__))\n",
    "print(\"Il contenitore è un dizionario? {}\".format(isinstance(struttura_dati_python, dict)))\n",
    "print(\"Il contenitore è una lista? {}\".format(isinstance(struttura_dati_python, list)))\n",
    "print(\"\")\n",
    "\n",
    "def scan_data(struttura, n_tab=0):\n",
    "    space = n_tab * \"   \"\n",
    "    for index, element in enumerate(struttura):\n",
    "        if isinstance(struttura, dict):\n",
    "            if isinstance(struttura[element], dict) or isinstance(struttura[element], list):\n",
    "                print('{}--> Apro chiave \"{}\": {}'.format(space, element, type(struttura[element]).__name__))\n",
    "                scan_data(struttura[element], n_tab + 1)\n",
    "            else:\n",
    "                print('{}Chiave: \"{}\"  -  Tipo base: {}  -  Valore: {}'.format(space, element, type(struttura[element]).__name__, struttura[element]))\n",
    "        elif isinstance(struttura, list):\n",
    "            if isinstance(element, dict) or isinstance(element, list):\n",
    "                print(\"{}--> Apro elemento [{}]: {}\".format(space, index, type(element).__name__))\n",
    "                scan_data(element, n_tab + 1)\n",
    "            else:\n",
    "                print(\"{}Elemento [{}]  -  Tipo base: {}  -  Valore: {}\".format(space, index, type(element).__name__, element))\n",
    "    \n",
    "print(\"--> Apro struttura: {}\".format(type(struttura_dati_python).__name__))\n",
    "scan_data(struttura_dati_python)"
   ]
  },
  {
   "cell_type": "markdown",
   "metadata": {},
   "source": [
    "Le funzioni di conversione JSON supportano anche altri parametri ed è possibile effettuare anche la conversione in JSON di oggetti realizzati da noi, se essi implementano i giusti **dunder methods**. Ad esempio `__dict__()` può essere implementato per restituire la rappresentazione in forma di dizionario del nostro oggetto, che è quindi **serializzabile** in JSON. Per la ricostruzione si dovrà prevedere un **metodo di classe** opportuno, oppure direttamente il costruttore, in grado di accettare un dict e generare l'oggetto."
   ]
  },
  {
   "cell_type": "markdown",
   "metadata": {},
   "source": [
    "> **FOCUS:** I messaggi in formato JSON sono quindi delle stringhe contenenti informazioni strutturate secondo una ben precisa gerarchia. Queste informazioni, a seguito di una conversione, sono accessibili mediante cicli For. L'uso principale si ha nella realizzazione di **Webserver** che devono comunicare con un Client tipicamente realizzato con linguaggio Javascript. Il client di solito **è il nostro browser (ad esempio Chrome o Firefox)** che esegue una pagina contenente **HTML, Javascript e CSS**. Python in questo gira sul **Server** e si occupa di gestire le richieste che provengono dalla pagina. Una applicazione web siffatta è quindi composta da due parti: un **backend** che gira sul server ed un **frontend** che viene eseguito dal browser. Quando inseriamo dei dati in una pagina web essi possono essere inviati al backend sotto forma di stringa JSON, il backend elabora la richiesta e risponde con un risultato anch'esso espresso in stringa JSON, in grado di essere velocemente interpretata dal codice Javascript della pagina.\n",
    "\n",
    "<div style=\"text-align:center\"><img width=\"550px\" src=\"images/json-rest3.png\"></div>"
   ]
  },
  {
   "cell_type": "markdown",
   "metadata": {},
   "source": [
    "## Esercizio per Casa: completa i pezzi mancanti\n",
    "\n",
    "Sia data una **lista** contenente delgi **autobus** rappresentati per mezzo di **dictionary**. Il seguente codice crea una lista di autobus partendo da un dizionario usato come modella per la struttura dati. Per l'esercizio fate riferimento a questo modello. Il codice permette di generare un numero arbitrario di autobus (in questo caso 20) generando alcuni valori in modo casuale, in questo modo si ha un dataset sufficientemente elevato per il nostro esercizio"
   ]
  },
  {
   "cell_type": "code",
   "execution_count": 419,
   "metadata": {},
   "outputs": [
    {
     "name": "stdout",
     "output_type": "stream",
     "text": [
      "--> Lista autobus disponibili:\n",
      "{'id': 1210, 'posti': 15, 'costo_noleggio_gg': 35, 'costo_km': 1.72, 'lunga_distanza': False}\n",
      "{'id': 1211, 'posti': 30, 'costo_noleggio_gg': 20, 'costo_km': 1.43, 'lunga_distanza': False}\n",
      "{'id': 1212, 'posti': 45, 'costo_noleggio_gg': 30, 'costo_km': 1.91, 'lunga_distanza': False}\n",
      "{'id': 1213, 'posti': 15, 'costo_noleggio_gg': 15, 'costo_km': 1.75, 'lunga_distanza': False}\n",
      "{'id': 1214, 'posti': 15, 'costo_noleggio_gg': 35, 'costo_km': 1.88, 'lunga_distanza': False}\n",
      "{'id': 1215, 'posti': 30, 'costo_noleggio_gg': 20, 'costo_km': 1.82, 'lunga_distanza': False}\n",
      "{'id': 1216, 'posti': 45, 'costo_noleggio_gg': 25, 'costo_km': 1.43, 'lunga_distanza': False}\n",
      "{'id': 1217, 'posti': 15, 'costo_noleggio_gg': 15, 'costo_km': 1.0, 'lunga_distanza': False}\n",
      "{'id': 1218, 'posti': 45, 'costo_noleggio_gg': 15, 'costo_km': 1.95, 'lunga_distanza': False}\n",
      "{'id': 1219, 'posti': 45, 'costo_noleggio_gg': 35, 'costo_km': 1.33, 'lunga_distanza': True}\n",
      "{'id': 1220, 'posti': 30, 'costo_noleggio_gg': 25, 'costo_km': 1.4, 'lunga_distanza': False}\n",
      "{'id': 1221, 'posti': 30, 'costo_noleggio_gg': 25, 'costo_km': 1.62, 'lunga_distanza': False}\n",
      "{'id': 1222, 'posti': 15, 'costo_noleggio_gg': 35, 'costo_km': 1.21, 'lunga_distanza': True}\n",
      "{'id': 1223, 'posti': 45, 'costo_noleggio_gg': 20, 'costo_km': 1.29, 'lunga_distanza': False}\n",
      "{'id': 1224, 'posti': 30, 'costo_noleggio_gg': 15, 'costo_km': 1.55, 'lunga_distanza': False}\n",
      "{'id': 1225, 'posti': 30, 'costo_noleggio_gg': 20, 'costo_km': 1.63, 'lunga_distanza': False}\n",
      "{'id': 1226, 'posti': 15, 'costo_noleggio_gg': 30, 'costo_km': 1.01, 'lunga_distanza': False}\n",
      "{'id': 1227, 'posti': 15, 'costo_noleggio_gg': 35, 'costo_km': 1.83, 'lunga_distanza': True}\n",
      "{'id': 1228, 'posti': 45, 'costo_noleggio_gg': 20, 'costo_km': 1.38, 'lunga_distanza': False}\n",
      "{'id': 1229, 'posti': 45, 'costo_noleggio_gg': 15, 'costo_km': 1.69, 'lunga_distanza': False}\n"
     ]
    }
   ],
   "source": [
    "import random\n",
    "\n",
    "autobus_model = {\n",
    "    \"id\": 12345,\n",
    "    \"posti\": 30,\n",
    "    \"costo_noleggio_gg\": 30,\n",
    "    \"costo_km\": 1.25,\n",
    "    \"lunga_distanza\": True\n",
    "}\n",
    "\n",
    "list_of_autobus_dict = []\n",
    "\n",
    "for i in range(0, 20):\n",
    "    new_autobus_dict = dict(autobus_model)\n",
    "    new_autobus_dict[\"id\"] = 1210 + i\n",
    "    new_autobus_dict[\"posti\"] = random.choice([15, 30, 45])\n",
    "    new_autobus_dict[\"costo_noleggio_gg\"] = random.choice([15, 20, 25, 30, 35, 40])\n",
    "    new_autobus_dict[\"costo_km\"] = round(1 + 1 * random.random(), 2)\n",
    "    if new_autobus_dict[\"costo_noleggio_gg\"] > 30:\n",
    "        new_autobus_dict[\"lunga_distanza\"] = random.choice([True, False])\n",
    "    else:\n",
    "        new_autobus_dict[\"lunga_distanza\"] = False\n",
    "    list_of_autobus_dict.append(new_autobus_dict)\n",
    "    \n",
    "print(\"--> Lista autobus disponibili:\")\n",
    "for autobus_dict in list_of_autobus_dict:\n",
    "    print(autobus_dict)\n",
    "      "
   ]
  },
  {
   "cell_type": "markdown",
   "metadata": {},
   "source": [
    "**Completate il seguente codice scrivendo le operazioni richieste nei commenti**. Per le variabili **usate i nomi indicati nei commenti**. In sintesi si tratta di realizzare un codice che, dati alcuni parametri scelti dall'utente: \n",
    "- Crea una copia deep limitata al secondo livello della lista di partenza (ovvero la nuova lista contiene copie semplici degli elementi della lista di partenza)\n",
    "- Filtra la lista per ottenerne un sottoinsieme che rispetta una determinata condizione. Questo viene fatto in 3 passaggi. Le operazioni da eseguire sono: \n",
    "  - Ottenere la lista degli autobus con capienza passeggeri sufficiente a contenere un numero specificato di studenti (ignorare docente, accompagnatori o altro)\n",
    "  - Ottenere una la lista ordinata con gli autobus ordinati per costo totale crescente, in base alla durata della gita (in giorni) ed al totale numero di chilometri di viaggio (incluse tappe e giri in città) stimato per l'autobus\n",
    "  - Ottenere la lista contenente solo gli autobus voluti, a scelta del cliente, tra \"lunga percorrenza\" (più grandi e con posti confortevoli) e \"breve percorrenza\" (più piccoli e meno confortevoli, ma più economici)\n",
    "- Esprime il risultato finale, ovvero l'autobus più economico, in forma di stringa JSON"
   ]
  },
  {
   "cell_type": "code",
   "execution_count": null,
   "metadata": {},
   "outputs": [],
   "source": [
    "import json \n",
    "\n",
    "# Variabili che è possibile cambiare\n",
    "n_studenti = 23\n",
    "km_percorrere = 1247\n",
    "giorni_gita = 10\n",
    "lunga_percorrenza = True\n",
    "\n",
    "\n",
    "# Crea una nuova lista contenente SOLO gli autobus di giusta capienza. Usa la list comprehension, facendo in\n",
    "# modo che gli autobus (DICT) della nuova lista siano COPIE shallow di quelli della lista di partenza che si \n",
    "# sta filtrando. Usa tale copia per tutto il resto del programma\n",
    "# lista_autobus_giusta_capienza = [ ............... ]\n",
    "# SCRIVI qui sotto il tuo codice:\n",
    "\n",
    "\n",
    "print(\"--> Lista autobus con la giusta capienza:\")\n",
    "\n",
    "# STAMPA gli autobus della lista con un ciclo For\n",
    "# SCRIVI qui sotto il tuo codice:\n",
    "\n",
    "\n",
    "# MODIFICA la seguente funzione di ordinamento personalizzato (scrivi il tuo\n",
    "# codice al posto di pass) affinchè l'ordinamento avvenga secondo il costo totale\n",
    "def sort_costo_tot(autobus):\n",
    "    # SCRIVI il tuo codice al posto di pass\n",
    "    pass   \n",
    "    autobus[\"costo_tot\"] = costo_tot   # Uso la funzione di ricerca stessa per introdurre una nuova chiave\n",
    "    return costo_tot\n",
    "\n",
    "# Crea una NUOVA lista di autobus ORDINATA per COSTO TOTALE a partire dalla precedente lista\n",
    "# SCRIVI qui sotto il tuo codice:\n",
    "\n",
    "\n",
    "print(\"\\n--> Lista autobus ordinata per costo totale crescente:\")\n",
    "\n",
    "# STAMPA gli autobus della lista appena creata con un ciclo For\n",
    "# SCRIVI qui sotto il tuo codice:\n",
    "\n",
    "\n",
    "# DETERMINA l'autobus più economico filtrando la precedente lista in base alla preferenza sulla lunga distanza\n",
    "# impostata all'inizio del programma. Usa la list comprehension per filtrare la lista precedente\n",
    "# lista_autobus_validi = [ ................. ]\n",
    "# autobus_economico = ..........\n",
    "# SCRIVI qui sotto il tuo codice:\n",
    "\n",
    "\n",
    "print(\"\\n--> Autobus più economico con i parametri inseriti:\")\n",
    "\n",
    "# OTTIENI la STRINGA JSON corrispondente all'autobus selezionato nel punto precedente:\n",
    "# stringa_json_autobus_economico = ....................\n",
    "# SCRIVI qui sotto il tuo codice:\n",
    "\n",
    "\n",
    "print(stringa_json_autobus_economico)\n",
    "print(\"\\nL'autobus scelto è: ID={}  -  Costo totale per la gita: {} €\".format(autobus_economico['id'], autobus_economico['costo_tot']))"
   ]
  }
 ],
 "metadata": {
  "kernelspec": {
   "display_name": "Python 3",
   "language": "python",
   "name": "python3"
  },
  "language_info": {
   "codemirror_mode": {
    "name": "ipython",
    "version": 3
   },
   "file_extension": ".py",
   "mimetype": "text/x-python",
   "name": "python",
   "nbconvert_exporter": "python",
   "pygments_lexer": "ipython3",
   "version": "3.6.6"
  }
 },
 "nbformat": 4,
 "nbformat_minor": 2
}
